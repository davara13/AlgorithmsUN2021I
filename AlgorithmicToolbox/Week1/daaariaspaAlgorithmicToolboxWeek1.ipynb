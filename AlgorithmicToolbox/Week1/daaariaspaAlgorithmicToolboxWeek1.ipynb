{
  "nbformat": 4,
  "nbformat_minor": 0,
  "metadata": {
    "colab": {
      "name": "daaariaspaAlgorithmicToolboxWeek1.ipynb",
      "provenance": [],
      "collapsed_sections": []
    },
    "kernelspec": {
      "display_name": "Python 3",
      "language": "python",
      "name": "python3"
    },
    "language_info": {
      "codemirror_mode": {
        "name": "ipython",
        "version": 3
      },
      "file_extension": ".py",
      "mimetype": "text/x-python",
      "name": "python",
      "nbconvert_exporter": "python",
      "pygments_lexer": "ipython3",
      "version": "3.9.2"
    }
  },
  "cells": [
    {
      "cell_type": "markdown",
      "metadata": {
        "id": "N1ok_-56OjB1"
      },
      "source": [
        "# I Solving the Sum of Two Digits Programming Challenge"
      ]
    },
    {
      "cell_type": "code",
      "metadata": {
        "colab": {
          "base_uri": "https://localhost:8080/"
        },
        "id": "2pGGf9BkPNIk",
        "outputId": "e57973e2-30d7-4e87-d6f3-08a659b2c0d7"
      },
      "source": [
        "%%writefile sum.cpp\n",
        "#include <iostream>\n",
        "\n",
        "int sum_of_two_digits(int first_digit, int second_digit) {\n",
        "    return first_digit + second_digit;\n",
        "}\n",
        "\n",
        "int main() {\n",
        "    int a = 0;\n",
        "    int b = 0;\n",
        "    std::cin >> a;\n",
        "    std::cin >> b;\n",
        "    std::cout << sum_of_two_digits(a, b);\n",
        "    return 0;\n",
        "}"
      ],
      "execution_count": null,
      "outputs": [
        {
          "output_type": "stream",
          "text": [
            "Overwriting sum.cpp\n"
          ],
          "name": "stdout"
        }
      ]
    },
    {
      "cell_type": "code",
      "metadata": {
        "id": "0G3ZKOYAPXSU"
      },
      "source": [
        "!g++ sum.cpp -o sum"
      ],
      "execution_count": null,
      "outputs": []
    },
    {
      "cell_type": "markdown",
      "metadata": {
        "id": "iNkG2HqfTl9c"
      },
      "source": [
        "### Test input output files"
      ]
    },
    {
      "cell_type": "code",
      "metadata": {
        "colab": {
          "base_uri": "https://localhost:8080/"
        },
        "id": "aTzU2efzMxly",
        "outputId": "a2cd5656-e200-4901-c0c5-e3e77ee697b7"
      },
      "source": [
        "%%writefile input1.txt\n",
        "4 8"
      ],
      "execution_count": null,
      "outputs": [
        {
          "output_type": "stream",
          "text": [
            "Overwriting input1.txt\n"
          ],
          "name": "stdout"
        }
      ]
    },
    {
      "cell_type": "markdown",
      "metadata": {
        "id": "pdkfsvs-T0Wr"
      },
      "source": [
        ""
      ]
    },
    {
      "cell_type": "code",
      "metadata": {
        "colab": {
          "base_uri": "https://localhost:8080/"
        },
        "id": "zBJ0Gc0NQRet",
        "outputId": "6557254e-b5a7-4c48-9e52-8879ffec0208"
      },
      "source": [
        "%%writefile output1.txt\n",
        "12"
      ],
      "execution_count": null,
      "outputs": [
        {
          "output_type": "stream",
          "text": [
            "Overwriting output1.txt\n"
          ],
          "name": "stdout"
        }
      ]
    },
    {
      "cell_type": "code",
      "metadata": {
        "colab": {
          "base_uri": "https://localhost:8080/"
        },
        "id": "IjEcIx63PJAN",
        "outputId": "04d8f5bc-93e1-4a83-920b-6e5d32d5244f"
      },
      "source": [
        "%%writefile input2.txt\n",
        "-5 9"
      ],
      "execution_count": null,
      "outputs": [
        {
          "output_type": "stream",
          "text": [
            "Overwriting input2.txt\n"
          ],
          "name": "stdout"
        }
      ]
    },
    {
      "cell_type": "code",
      "metadata": {
        "colab": {
          "base_uri": "https://localhost:8080/"
        },
        "id": "Up9gOrxURTmd",
        "outputId": "3665e120-3561-43af-be8b-a55c502cfc08"
      },
      "source": [
        "%%writefile output2.txt\n",
        "4"
      ],
      "execution_count": null,
      "outputs": [
        {
          "output_type": "stream",
          "text": [
            "Overwriting output2.txt\n"
          ],
          "name": "stdout"
        }
      ]
    },
    {
      "cell_type": "code",
      "metadata": {
        "colab": {
          "base_uri": "https://localhost:8080/"
        },
        "id": "PST6G-s-Pwgc",
        "outputId": "81291a80-98fd-438a-c6e1-34e2ceed77b5"
      },
      "source": [
        "!./sum < input1.txt"
      ],
      "execution_count": null,
      "outputs": [
        {
          "output_type": "stream",
          "text": [
            "12"
          ],
          "name": "stdout"
        }
      ]
    },
    {
      "cell_type": "code",
      "metadata": {
        "colab": {
          "base_uri": "https://localhost:8080/"
        },
        "id": "cKxZOjSlRfIN",
        "outputId": "fddb092e-1028-41d2-9e46-d55bf26ffc9b"
      },
      "source": [
        "!./sum < input2.txt"
      ],
      "execution_count": null,
      "outputs": [
        {
          "output_type": "stream",
          "text": [
            "4"
          ],
          "name": "stdout"
        }
      ]
    },
    {
      "cell_type": "markdown",
      "metadata": {
        "id": "Qw2TQWCCUwqk"
      },
      "source": [
        "### Comparing files with grep\n",
        "\n",
        "https://askubuntu.com/questions/546796/comparing-two-text-files"
      ]
    },
    {
      "cell_type": "code",
      "metadata": {
        "id": "WVIaAmMKU4QM"
      },
      "source": [
        "!grep -xvFf output1.txt output1.txt "
      ],
      "execution_count": null,
      "outputs": []
    },
    {
      "cell_type": "code",
      "metadata": {
        "colab": {
          "base_uri": "https://localhost:8080/"
        },
        "id": "MQU8gPPjQuYO",
        "outputId": "c1ac452e-caf7-46de-b159-bc00aedbb2ee"
      },
      "source": [
        "!grep -xvFf output1.txt output2.txt "
      ],
      "execution_count": null,
      "outputs": [
        {
          "output_type": "stream",
          "text": [
            "4\n"
          ],
          "name": "stdout"
        }
      ]
    },
    {
      "cell_type": "code",
      "metadata": {
        "colab": {
          "base_uri": "https://localhost:8080/"
        },
        "id": "jYL9OuYBTD_l",
        "outputId": "7490a9be-1303-45d8-f430-e3ded32ac7be"
      },
      "source": [
        "!grep -xvFf output2.txt output1.txt "
      ],
      "execution_count": null,
      "outputs": [
        {
          "output_type": "stream",
          "text": [
            "12\n"
          ],
          "name": "stdout"
        }
      ]
    },
    {
      "cell_type": "code",
      "metadata": {
        "id": "Jlja0Xm4TX9M"
      },
      "source": [
        "!./sum < input1.txt> ctest1.txt\n",
        "!grep -xvFf output1.txt ctest1.txt"
      ],
      "execution_count": null,
      "outputs": []
    },
    {
      "cell_type": "code",
      "metadata": {
        "id": "g9OIUZA_QLCQ"
      },
      "source": [
        "!./sum < input2.txt > ctest2.txt\n",
        "!grep -xvFf output2.txt ctest2.txt"
      ],
      "execution_count": null,
      "outputs": []
    },
    {
      "cell_type": "markdown",
      "metadata": {
        "id": "3BgOaDjUVJk6"
      },
      "source": [
        "## Python"
      ]
    },
    {
      "cell_type": "code",
      "metadata": {
        "colab": {
          "base_uri": "https://localhost:8080/"
        },
        "id": "DBvl-T0CTN_8",
        "outputId": "626919c7-6b93-4a38-ee12-5a92870874e0"
      },
      "source": [
        "%%writefile sum.py\n",
        "# python3\n",
        "\n",
        "\n",
        "def sum_of_two_digits(first_digit, second_digit):\n",
        "    return first_digit + second_digit\n",
        "\n",
        "if __name__ == '__main__':\n",
        "    a, b = map(int, input().split())\n",
        "    print(sum_of_two_digits(a, b))"
      ],
      "execution_count": null,
      "outputs": [
        {
          "output_type": "stream",
          "text": [
            "Overwriting sum.py\n"
          ],
          "name": "stdout"
        }
      ]
    },
    {
      "cell_type": "code",
      "metadata": {
        "id": "cocFbPRTWrqt"
      },
      "source": [
        "!python3 sum.py  < input1.txt> ptest1.txt\n",
        "!grep -xvFf output1.txt ptest1.txt"
      ],
      "execution_count": null,
      "outputs": []
    },
    {
      "cell_type": "code",
      "metadata": {
        "id": "MorKTa-XXASN"
      },
      "source": [
        "!python3 sum.py  < input2.txt> ptest2.txt\n",
        "!grep -xvFf output2.txt ptest2.txt"
      ],
      "execution_count": null,
      "outputs": []
    },
    {
      "cell_type": "markdown",
      "metadata": {
        "id": "uvP-mOubW_5F"
      },
      "source": [
        "# II Solving The Maximum Pairwise Product Programming Challenge in C++"
      ]
    },
    {
      "cell_type": "markdown",
      "metadata": {
        "id": "C12yoFR6Xonl"
      },
      "source": [
        "## C++"
      ]
    },
    {
      "cell_type": "code",
      "metadata": {
        "colab": {
          "base_uri": "https://localhost:8080/"
        },
        "id": "YL4qJX3tXxdd",
        "outputId": "e47b945a-f023-484a-96d6-68f217503097"
      },
      "source": [
        "%%writefile max_pairwise_product1.cpp\n",
        "#include <iostream>\n",
        "#include <vector>\n",
        "#include <algorithm>\n",
        "\n",
        "int MaxPairwiseProduct(const std::vector<int>& numbers) {\n",
        "    int max_product = 0;\n",
        "    int n = numbers.size();\n",
        "\n",
        "    for (int first = 0; first < n; ++first) {\n",
        "        for (int second = first + 1; second < n; ++second) {\n",
        "            max_product = std::max(max_product,\n",
        "                numbers[first] * numbers[second]);\n",
        "        }\n",
        "    }\n",
        "\n",
        "    return max_product;\n",
        "}\n",
        "\n",
        "int main() {\n",
        "    int n;\n",
        "    std::cin >> n;\n",
        "    std::vector<int> numbers(n);\n",
        "    for (int i = 0; i < n; ++i) {\n",
        "        std::cin >> numbers[i];\n",
        "    }\n",
        "\n",
        "    std::cout << MaxPairwiseProduct(numbers) << \"\\n\";\n",
        "    return 0;\n",
        "}\n"
      ],
      "execution_count": null,
      "outputs": [
        {
          "output_type": "stream",
          "text": [
            "Overwriting max_pairwise_product1.cpp\n"
          ],
          "name": "stdout"
        }
      ]
    },
    {
      "cell_type": "code",
      "metadata": {
        "id": "KGxaEjvWX__O"
      },
      "source": [
        "!g++ max_pairwise_product1.cpp -o max_pairwise_product1"
      ],
      "execution_count": null,
      "outputs": []
    },
    {
      "cell_type": "markdown",
      "metadata": {
        "id": "IeZ3kTjpYmR9"
      },
      "source": [
        "### Test 1: lagest input numbers 200000 200000 in the input"
      ]
    },
    {
      "cell_type": "code",
      "metadata": {
        "id": "LQNlZqaqYt7U",
        "outputId": "0b0bef15-eb5a-431d-edd0-c9133bbfd380"
      },
      "source": [
        "%%writefile input1.txt\n",
        "5\n",
        "1 3 200000 9 200000 23"
      ],
      "execution_count": null,
      "outputs": [
        {
          "output_type": "stream",
          "text": [
            "Overwriting input1.txt\n"
          ],
          "name": "stdout"
        }
      ]
    },
    {
      "cell_type": "code",
      "metadata": {
        "id": "2Wad2VZUZDxR",
        "outputId": "38106c0c-fe28-4e9e-9cce-10e956815b0d"
      },
      "source": [
        "!./max_pairwise_product1 < input1.txt"
      ],
      "execution_count": null,
      "outputs": [
        {
          "output_type": "stream",
          "text": [
            "1345294336\n"
          ],
          "name": "stdout"
        }
      ]
    },
    {
      "cell_type": "code",
      "metadata": {
        "id": "MPcmsxiQZSfE",
        "outputId": "7f988406-3e5c-49bd-d419-d18d9c92bf5c"
      },
      "source": [
        "%%writefile max_pairwise_product2.cpp\n",
        "#include <iostream>\n",
        "#include <vector>\n",
        "#include <algorithm>\n",
        "\n",
        "long long MaxPairwiseProduct(const std::vector<int>& numbers) {\n",
        "    long long max_product = 0LL;\n",
        "\tlong long aux_product = 0LL;\n",
        "    int n = numbers.size();\n",
        "\n",
        "    for (int first = 0; first < n; ++first) {\n",
        "        for (int second = first + 1; second < n; ++second) {\n",
        "\t\t\t       aux_product =  (long long) numbers[first] * numbers[second];\n",
        "            if ( max_product < aux_product)  {\n",
        "\t\t\t\t        max_product = aux_product;\n",
        "             }\n",
        "        }\n",
        "    }\n",
        "\n",
        "    return max_product;\n",
        "}\n",
        "\n",
        "int main() {\n",
        "    int n;\n",
        "    std::cin >> n;\n",
        "    std::vector<int> numbers(n);\n",
        "    for (int i = 0; i < n; ++i) {\n",
        "        std::cin >> numbers[i];\n",
        "    }\n",
        "\n",
        "    std::cout << MaxPairwiseProduct(numbers) << \"\\n\";\n",
        "    return 0;\n",
        "}\n"
      ],
      "execution_count": null,
      "outputs": [
        {
          "output_type": "stream",
          "text": [
            "Overwriting max_pairwise_product2.cpp\n"
          ],
          "name": "stdout"
        }
      ]
    },
    {
      "cell_type": "code",
      "metadata": {
        "id": "I5pCeOG1Zm7s",
        "outputId": "63098e37-6cf0-41ce-c0ab-56d2d97b7ee3"
      },
      "source": [
        "!g++ max_pairwise_product2.cpp -o max_pairwise_product2\n",
        "!./max_pairwise_product2 < input1.txt"
      ],
      "execution_count": null,
      "outputs": [
        {
          "output_type": "stream",
          "text": [
            "40000000000\n"
          ],
          "name": "stdout"
        }
      ]
    },
    {
      "cell_type": "markdown",
      "metadata": {
        "id": "9z9yr5QkeyJF"
      },
      "source": [
        "### Test 2  generate a tests file with the maximun n 200000 numbres and measure time"
      ]
    },
    {
      "cell_type": "code",
      "metadata": {
        "id": "oLiMjbAIfPlX"
      },
      "source": [
        "import random\n",
        "from os import remove\n",
        "\n",
        "try:\n",
        "\tremove(\"input3.txt\")\n",
        "except OSError:\n",
        "\tpass\n",
        "\n",
        "n = 200000\n",
        "f = open(\"input3.txt\", \"a\")\n",
        "f.write(str(n+2)+\"\\n\")\n",
        "f.write(\"200000\\n\")\n",
        "for i in range(n):\n",
        "\tr1 = random.randint(0, 200000)\n",
        "\tf.write(str(r1)+\"\\n\")\n",
        "f.write(\"200000\")\n",
        "f.close()"
      ],
      "execution_count": null,
      "outputs": []
    },
    {
      "cell_type": "code",
      "metadata": {
        "id": "RtUh9JawHq55"
      },
      "source": [
        "import random\n",
        "from os import remove\n",
        "\n",
        "try:\n",
        "\tremove(\"input4.txt\")\n",
        "except OSError:\n",
        "\tpass\n",
        "\n",
        "n = 200\n",
        "f = open(\"input4.txt\", \"a\")\n",
        "f.write(str(n+2)+\"\\n\")\n",
        "f.write(\"200000\\n\")\n",
        "for i in range(n):\n",
        "\tr1 = random.randint(0, 200000)\n",
        "\tf.write(str(r1)+\"\\n\")\n",
        "f.write(\"200000\")\n",
        "f.close()"
      ],
      "execution_count": null,
      "outputs": []
    },
    {
      "cell_type": "markdown",
      "metadata": {
        "id": "sc9nOLQrfTm0"
      },
      "source": [
        "### Efficient solution "
      ]
    },
    {
      "cell_type": "markdown",
      "metadata": {
        "id": "bhqiKQG6fjKM"
      },
      "source": [
        "Stress tests "
      ]
    },
    {
      "cell_type": "code",
      "metadata": {
        "id": "R6BmpMz4Hq57",
        "outputId": "543bbebd-6e52-442a-9016-19ef63af8de9"
      },
      "source": [
        "%%writefile main.cpp\n",
        "#include <iostream>\n",
        "#include <vector>\n",
        "#include <algorithm>\n",
        "#include <chrono>\n",
        "#include <ctime>\n",
        "#include <bits/stdc++.h>\n",
        "\n",
        "using namespace std;\n",
        "\n",
        "long long maxPairwiseProduct(const vector<unsigned long long int>& numbers) {\n",
        "  long long max_product = 0LL;\n",
        "  long long aux_product = 0LL;\n",
        "  int n = numbers.size();\n",
        "\n",
        "  for (int first = 0; first < n; ++first) {\n",
        "    for (int second = first + 1; second < n; ++second) {\n",
        "      aux_product =  (long long) numbers[first] * numbers[second];\n",
        "      if ( max_product < aux_product)  {\n",
        "        max_product = aux_product;\n",
        "      }\n",
        "    }\n",
        "  }\n",
        "  return max_product;\n",
        "}\n",
        "\n",
        "long long maxPairwiseProductList(vector<unsigned long long int>& numbers){\n",
        "  sort(numbers.begin(), numbers.end());\n",
        "  return numbers[numbers.size()-1]*numbers[numbers.size()-2];\n",
        "}\n",
        "\n",
        "long long maxPairwiseProductFast(vector<unsigned long long int>& numbers){  \n",
        "  long long n = numbers.size();\n",
        "  int index1 = 0;\n",
        "  int index2 = 0;\n",
        "    \n",
        "  for(int i= 1; i < n; i++){\n",
        "    if(numbers[i] > numbers[index1]){\n",
        "      index1 = i;\n",
        "    }\n",
        "  }\n",
        "    \n",
        "  for(int i= 1; i < n; i++){\n",
        "    if(i!=index1 && numbers[i]>numbers[index2]){\n",
        "      index2 = i;\n",
        "    }\n",
        "  } \n",
        "    \n",
        "  return numbers[index1]*numbers[index2];\n",
        "}\n",
        "\n",
        "int main() {\n",
        "  int n;\n",
        "  cin >> n;\n",
        "  unsigned long long int maxNumber = 0LL;\n",
        "  unsigned long long int maxSecondNumber = 0LL;\n",
        "  unsigned long long int aux = 0LL;\n",
        "  vector <unsigned long long int> numbers (n);\n",
        "\n",
        "  auto start = chrono::high_resolution_clock::now();\n",
        "\n",
        "  for (int i = 0; i < n; ++i) {\n",
        "    cin >> numbers[i];;\n",
        "    if(maxNumber < numbers[i]){\n",
        "      maxSecondNumber = maxNumber;\n",
        "      maxNumber = numbers[i];\n",
        "    } else if(maxSecondNumber < numbers[i]){\n",
        "      maxSecondNumber = numbers[i];\n",
        "    }\n",
        "  }\n",
        "\n",
        "  unsigned long long int maxProductUltraFast = maxNumber * maxSecondNumber;\n",
        "  \n",
        "  auto stop = chrono::high_resolution_clock::now();\n",
        "\n",
        "  auto ms_int = chrono::duration_cast<chrono::milliseconds>(stop - start);\n",
        "  auto reading_time = ms_int.count();\n",
        "\n",
        "  cout << \"Result using Ultra Fast method: \" << maxProductUltraFast << endl;\n",
        "  cout << \"Execution time: \" << ms_int.count() << \" ms\" << endl;\n",
        "\n",
        "  cout << endl;\n",
        "\n",
        "  start = chrono::high_resolution_clock::now();\n",
        "  cout << \"Result using Fast method: \" << maxPairwiseProductFast(numbers) << endl;\n",
        "  stop = chrono::high_resolution_clock::now();\n",
        "  ms_int = chrono::duration_cast<chrono::milliseconds>(stop - start);\n",
        "  cout << \"Execution time: \" << reading_time + ms_int.count() << \" ms\" << endl;\n",
        "\n",
        "  cout << endl;\n",
        "  \n",
        "  start = chrono::high_resolution_clock::now();\n",
        "  cout << \"Result using List method: \" << maxPairwiseProductList(numbers) << endl;\n",
        "  stop = chrono::high_resolution_clock::now();\n",
        "  ms_int = chrono::duration_cast<chrono::milliseconds>(stop - start);\n",
        "  cout << \"Execution time: \" << reading_time + ms_int.count() << \" ms\" << endl;\n",
        "\n",
        "  cout << endl;\n",
        "\n",
        "  start = chrono::high_resolution_clock::now();\n",
        "  cout << \"Result using naive method: \" << maxPairwiseProduct(numbers) << endl;\n",
        "  stop = chrono::high_resolution_clock::now();\n",
        "  ms_int = chrono::duration_cast<chrono::milliseconds>(stop - start);\n",
        "  cout << \"Execution time: \" << reading_time + ms_int.count() << \" ms\" << endl;\n",
        "  return 0;\n",
        "}"
      ],
      "execution_count": null,
      "outputs": [
        {
          "output_type": "stream",
          "text": [
            "Overwriting main.cpp\n"
          ],
          "name": "stdout"
        }
      ]
    },
    {
      "cell_type": "code",
      "metadata": {
        "id": "6zyl05tgHq59",
        "outputId": "d779ffa9-ef71-4d16-ac77-48a9c85f0ecf"
      },
      "source": [
        "!g++ main.cpp -o main\n",
        "!./main < input1.txt"
      ],
      "execution_count": null,
      "outputs": [
        {
          "output_type": "stream",
          "text": [
            "Result using Ultra Fast method: 40000000000\r\n",
            "Execution time: 0 ms\r\n",
            "\r\n",
            "Result using Fast method: 40000000000\r\n",
            "Execution time: 0 ms\r\n",
            "\r\n",
            "Result using List method: 40000000000\r\n",
            "Execution time: 0 ms\r\n",
            "\r\n",
            "Result using naive method: 40000000000\r\n",
            "Execution time: 0 ms\r\n"
          ],
          "name": "stdout"
        }
      ]
    },
    {
      "cell_type": "markdown",
      "metadata": {
        "id": "yBYnp6KjpxU0"
      },
      "source": [
        "Measure with test file of the maximun n 200000 numbres "
      ]
    },
    {
      "cell_type": "code",
      "metadata": {
        "id": "gPNmiC7wHq6D",
        "outputId": "92e87746-2f8c-43ae-c4e8-50ff0f2504f2"
      },
      "source": [
        "!timeout 1m ./main < input3.txt"
      ],
      "execution_count": null,
      "outputs": [
        {
          "output_type": "stream",
          "text": [
            "Result using Ultra Fast method: 40000000000\n",
            "Execution time: 34 ms\n",
            "\n",
            "Result using Fast method: 40000000000\n",
            "Execution time: 35 ms\n",
            "\n",
            "Result using List method: 40000000000\n",
            "Execution time: 82 ms\n",
            "\n"
          ],
          "name": "stdout"
        }
      ]
    },
    {
      "cell_type": "markdown",
      "metadata": {
        "id": "rydCU4bFfrhG"
      },
      "source": [
        "## Python"
      ]
    },
    {
      "cell_type": "code",
      "metadata": {
        "id": "p83rFzedHq6F",
        "outputId": "fb0c2984-5269-4398-ffc5-25da5f2084ca"
      },
      "source": [
        "%%writefile main.py\n",
        "import time\n",
        "\n",
        "def maxPairwiseProduct(numbers):\n",
        "    max_product = 0\n",
        "    aux_product = 0\n",
        "    n = len(numbers)\n",
        "    for first in range(n):\n",
        "        for second in range(1,n):\n",
        "            aux_product = numbers[first] * numbers[second]\n",
        "            if(max_product < aux_product):\n",
        "                max_product = aux_product\n",
        "    return max_product\n",
        "\n",
        "def maxPairwiseProductList(numbers):\n",
        "\tnumbers.sort()\n",
        "\treturn numbers[-1]*numbers[-2]\n",
        "\n",
        "def maxPairwiseProductFast(numbers):\n",
        "    n = len(numbers)\n",
        "    index1 = 0\n",
        "    for i in range(n):\n",
        "        if(numbers[i] > numbers[index1]):\n",
        "            index1 = i\n",
        "    \n",
        "    index2 = 0\n",
        "    for i in range(n):\n",
        "        if(numbers[i] != numbers[index1] and numbers[i] > numbers[index2]):\n",
        "            index2 = i\n",
        "    return numbers[index1]*numbers[index2]\n",
        "\n",
        "n = input()\n",
        "maxNumber = 0\n",
        "maxSecondNumber = 0\n",
        "aux = 0\n",
        "numbers = []\n",
        "\n",
        "start = time.time()\n",
        "\n",
        "for i in range(int(n)):\n",
        "    numbers.append(int(input()))\n",
        "    if(maxNumber < int(numbers[i])):\n",
        "        maxSecondNumber = maxNumber\n",
        "        maxNumber = numbers[i]\n",
        "    elif(maxSecondNumber < numbers[i]):\n",
        "        maxSecondNumber = numbers[i]\n",
        "\n",
        "maxProductUltraFast = maxNumber * maxSecondNumber\n",
        "\n",
        "stop = time.time()\n",
        "\n",
        "ms_int = stop-start\n",
        "\n",
        "reading_time = ms_int\n",
        "\n",
        "print(\"Result using Ultra Fast method:\",maxProductUltraFast)\n",
        "print(\"Execution time:\",str(ms_int),\"s\")\n",
        "print()\n",
        "\n",
        "start = time.time()\n",
        "print(\"Result using Product Fast method:\",maxPairwiseProductFast(numbers))\n",
        "stop = time.time()\n",
        "ms_int = stop-start\n",
        "print(\"Execution time:\",str(float(reading_time + ms_int)),\"s\")\n",
        "print()\n",
        "\n",
        "start = time.time()\n",
        "print(\"Result using List method:\",maxPairwiseProductList(numbers))\n",
        "stop = time.time()\n",
        "ms_int = stop-start\n",
        "print(\"Execution time:\",str(float(reading_time + ms_int)),\"s\")\n",
        "print()\n",
        "\n",
        "start = time.time()\n",
        "print(\"Result using naive method:\",maxPairwiseProduct(numbers))\n",
        "stop = time.time()\n",
        "ms_int = stop-start\n",
        "print(\"Execution time:\",str(float(reading_time + ms_int)),\"s\")"
      ],
      "execution_count": null,
      "outputs": [
        {
          "output_type": "stream",
          "text": [
            "Overwriting main.py\n"
          ],
          "name": "stdout"
        }
      ]
    },
    {
      "cell_type": "code",
      "metadata": {
        "id": "AflouRxVHq6H",
        "outputId": "6175b106-741c-450b-a1e9-638848742f57"
      },
      "source": [
        "!timeout 1m python3 main.py < input4.txt"
      ],
      "execution_count": null,
      "outputs": [
        {
          "output_type": "stream",
          "text": [
            "Result using Ultra Fast method: 40000000000\r\n",
            "Execution time: 0.00018906593322753906 s\r\n",
            "\r\n",
            "Result using Product Fast method: 40000000000\r\n",
            "Execution time: 0.00021338462829589844 s\r\n",
            "\r\n",
            "Result using List method: 40000000000\r\n",
            "Execution time: 0.00020241737365722656 s\r\n",
            "\r\n",
            "Result using naive method: 40000000000\r\n",
            "Execution time: 0.002454996109008789 s\r\n"
          ],
          "name": "stdout"
        }
      ]
    },
    {
      "cell_type": "code",
      "metadata": {
        "id": "BpZwZxB8Hq6J",
        "outputId": "f5e30c5c-c808-4a84-d3c4-bf0a68a67285"
      },
      "source": [
        "!timeout 1m python3 main.py < input3.txt"
      ],
      "execution_count": null,
      "outputs": [
        {
          "output_type": "stream",
          "text": [
            "Result using Ultra Fast method: 40000000000\n",
            "Execution time: 0.18005704879760742 s\n",
            "\n",
            "Result using Product Fast method: 40000000000\n",
            "Execution time: 0.2024526596069336 s\n",
            "\n",
            "Result using List method: 40000000000\n",
            "Execution time: 0.20957255363464355 s\n",
            "\n"
          ],
          "name": "stdout"
        }
      ]
    },
    {
      "cell_type": "markdown",
      "metadata": {
        "id": "VxXmH_AtH__k"
      },
      "source": [
        "#**Mi ejecucion en coursera**\n"
      ]
    },
    {
      "cell_type": "markdown",
      "metadata": {
        "id": "U4kLUtiDFMss"
      },
      "source": [
        "###**Sum Of Two Digits**"
      ]
    },
    {
      "cell_type": "markdown",
      "metadata": {
        "id": "YfxJUtUIFUoA"
      },
      "source": [
        "![sum.png](data:image/png;base64,iVBORw0KGgoAAAANSUhEUgAABUYAAAKBCAYAAACbC3HjAAAAAXNSR0IArs4c6QAAAARnQU1BAACxjwv8YQUAAAAJcEhZcwAADsMAAA7DAcdvqGQAAPL/SURBVHhe7N0LXFRl3gfwn1dUWrw1liWJhWuJWaJsSlmitKK2Ybi9JBVqZVqaVOtlzUuuaa7GtuKlVCqVSiNXEzcTNxWLGi0DzUQzUdFBUcYbU17G27zPc+YMnBlmhhkuCs3v2+c05355znMOM3+fSy2LACIiIiIiIiIiIiIfUlv9JCIiIiIiIiIiIvIZtX7JzWOJUSIiIiIiIiIiIvIprEpPREREREREREREPodV6YmIiIiIiIiIiMjnMDBKREREREREREREPoeBUSIiIiIiIiIiIvI5DIwSERERERERERGRz2FglIiIiIiIiIiIiHwOA6NERERERERERETkcxgYJSIiIiIiIiIiIp/DwCgRERERERERERH5HAZGiYiIiIiIiIiIyOcwMEpEREREREREREQ+h4FRIiIiIiIiIiIi8jkMjBIREREREREREZHPqWUR1HEiIiIiIiIiIqpkhw8fVj5vu+025bO6+fHkeWw/cR57z5hx+LeLOHHhMs5dvqosa1S3Nm5sUBe33VAf7Zr4odONDXFP84bKMqKajoFRIiIiIiIiIqIqVB0Do/lnL+G/eUX4X/6vMJ6/rM71jK5hXfy51R/wl6DGaOVfT51LVPMwMEpEREREREREVIWqU2D0lPkKFv98Ep8dLFLnVMxjbRpjyJ3N0cyvjjqHqOZgYJSIiIiIiIiIqApVl8Do54dMmLvLiLOXrNXkK4t/vdp4qYMOj7QOUOcQ1QzsfImIiIiIiIiI6HfuXz8W4p/bj1d6UFSS+5T7lscgqkkYGCXyEgtZExERERERUU0y/ruCSqs67448hjwWUU3BwCjVCJs2bVKG60kGRK9evYpatWop01euXFE+iYiIiIiIiKorGajMLPhNnap68lgMjlJNwcAokRsyGHrl6hVcFYMMiNauXRunTp5WltWpU8caLLWI5ZbKr4pAREREREREVBGyavu1DIrayGOyWj3VBAyMErkgg54yGFqndh3UFkP+0Xzs3P4Tvt+yDTv2/Ijvd31vDZbWEstr1WYVeyIiIiIiIqo2ZEdL5a0+3+nGhnjmzmbKcK8YLw95bHkORNUZe6WnGsFWjb5nz57KZ1WzBUXPnT+LWaueQFToMziw41fs2r4PRWeLULdxbaCOBc8+PQiZP76P9m0fQMS9A5XSozJQ6kvOnj2L8+fPw2w2FzcvULduXdSvXx8NGzaEv7+/Mo+IiIiIiMhXXete6U+Zr2DghjyvO1pq2ageXgu9SQmMam0/cR5vZh9HwblL6hzPyN7ql0cGoZmfb/1OpprjmgZGd+RdwNKvTovP88gzXsKZc1dwb+sGCGpRHwl9bsS9QQ3UNd1L+8GE1dtMyCu8iB2HLij7aOJfBz3a+2PQQ02VcWeWbD6NQydKHuLWN9bD4B5N1Sl7ecaL4lzPqFNWgx5qgiBdffzjP/bFwR8Sx5XHluckr09+vv7XFpjy+E3qGtZzlseXaSD3Ld0b1FC55v5hAYjuEqDMc8d2TptzrMXgZRoG6eop+5HX7Sr9Nu8+i6/EoCXPT+4v6YuTyvmePnsFZxa3V5eW0Ka17XjyfsnjyWuWHNND7ruyXevA6JUrl1GnTl1l/F/Lh8F4+ihuuvggLoh02nVwH269+Ua0bNwEf2h6BYfrZGNgzwm4q3VnXLp8EXXr1Ctuh/T3TAZEz5w5owRAGzVqBD8/PyUgKl2+fFkJlJ47dw6XLl1C48aNGSAlIiIiIiKfda0Do7Iau7elRW+oVxuLI25TgqPO7Csy46Vv8vGbl8HWx9o0xt/uqfw4AVFluCaBURmAG/JOvhKgc0cG+D4bfZsSfHRGBuheWVqg7M8VGRR9ue+NToNzPf5xwC5AKAOam1+/XZ2yJ881QqyvlSHWlcHAWrE/qXOs5LFkwFUGPm1s6545ewWPJR4q89rluotfbOX02uU+XkkpsNu/M672MWXF8VLBS3l+8rzkviXHtJAB3CHv5itBbFdkUFkGSB3TyZJ6tzpWea5lYPTy5UuoW7ce9h3egZOmY8jMXYtTp87jhlNBKMg/Cd0tLWH67QwumE4j5J5bsf/SZjzS9XngogURXWKVfVjEf7XEf7aSp7bHzNW4JMdlG6bu1pWfsgMoud71dPr0aSXw2bRpUyUg6o5cT64v15PrExERERER+ZprGRjNP3sJT3yZp0557v/uaIJRd+vUKefm/GTEp/vtC5F54pOHg9DK33nAleh6qvLoigywdRqXW2ZgUJJBOLmuswCgDIjKQJ67oKgkA30yECj3Ywv6VbWkdSdLnbMsxSp5EhSV5DrOzlmmX8TUg2UGRSXbPuQ2ZdEGRSVb6U9J7idi6gG3QVFJnpMMeP+eyE6WZFD05wNZWP1VIj7bnIhfcnaguUWHJjf4o8kf/oDIB3vg3g4dERDQUEzr8Nup2lj71TJkbP8Q/9mahF/Nv9oFRSX56W5cDrZgp7Pl2n3Z1rMFTa81GeSUJUJvvvnmMoOiklxHriu3kdsSERERERFR1flvXvnaFX2w5Q3qmGuerONMec+JqKpVaWDUGtQ74FWAUq4rS0dqg3sy0Dn7ixPqlGdkUE8G/64Fx+trraunlFyVJVydBUUbN3Je1V/uZ4qmZKecLqvUpiO5jSdp7rhcltaVZLo7Bk3dKStQXZPIQKPsZElW/f4m+wuYz59C24BQ9AqMQsemt6Olf1M8EPYnfL91K65cMKPrvV1x5bcruK/1AHRo2RenTpixZccaHDDsVvcIXLx0EZcuX4LZfFFpf/OqOMbFixeVNjmlCxcuFJe+LCoqUtaRn3K5LBladKZImZZBUbmddOzYMWU9W8D0WpLV5+W56nTu/xXRGbmN3Fbug4iIiIiIiKrG//J/Vceqj+p4TkRSlQZGX1l61GmATVa/XvxCK/x7UEtl3DFQKNv+lO2PSjJQ51gNXJLBR1mF/bPRrZVPWRXckQxKyqBqZXN2LEmeh6yinjfvTmXaWUBz+8y2Sluesrq5XFdehyQ/ZZrMFmliI4PBjvuQaWU7jhzk9Tuej0zzl5cWqFOu3dO6gbKPg/PaKe2cSu7umbxfru7Z74EtyLj3cA7yjvyCmxt1QuH+Y9ixbAmOfLsdh77WI/uzz1HvghlHftmHb9atw4Hd+6HfkIVPP/0P2t/aE7oGLbFnf4ayHxm4zNiRgZx9u/H9tm34YPESfPfd99i+fQe2iemNGzdix44dyMzMVIKdCxcuxMGDB/FVxmalmsV3330n1s3GN5nfYN++fViyRJzHkSPQ6/XKNteDDNJWpDq83Fa2S0pERERERESV78eT52E8f1md8k72ibILZXmyjjPynOS5EVU3VRYYlUFJx9KSMhAng3BLXmyltE8p2wKV4ztmBSvLZLBNBt52zGpbXLXbWWBTBuZk8FF2biQDevJTto8pA4uOZDV3T0s/VoQ8tjwPbZV02VmRoyb+JUku1109OkjZVl6PtiMoec7y3LVkGuWJ9LMdRw7y+uW1yzTRkp1AuSvNKYOptnS2tUnqrISrPKYM5sr7JO+X7Z7J85DLfk9kFXVZSrPDHffiqUdexenj+/Dbof0IqdUEd+4vRJfDv+GmnYdwMftnHPr6OxQezMOFol9xk39TXD39Kw7mfYcGIg8/0fvvSrVxqTECcHi/ATc2b45bWt4CY6ERfn71ceutrXDixEm0adNGWVceV1Y3b9CgAQKaNMaxggJl/PLlK2gipk+cOKF0YGQwGODvf4MYb6LsX5Lb2oK62vHKJkt61qtXz6Pq867IbWVnTSw1SkREREREVPlk7/HldcyDHudlB0zl5e25nVyTgC5zdqpTVWPnnC5IWGMfeyHfUmWBUWdtYq4e09pp50JyngzuyWCbDLzZyOCg7BVdS/beLgNzzsjAogysasl9OKvOXplkgNBZ7/bOeomXbYDKErC2pgLkOs62lefsGNCV6eeyx32RJo6lOGWg0xVtOts4W3/Ji4FOr0Oeh7xnv7eSo1fFf9LZ80Vo0ugibm4ahCbmOmj4qwV+5y+i0ZUruPhrES6L/zqG34/ouKfRKvAOtLq1DZrpAlBU29rmap061kera1g3RDzUA3fddSf69euDv/ylH+6+uyPuuON2/N//PY4WLVrgz3/+sxIgjY+PV4KjXbt2xQMPPIBOnToh8uFI3C/G77vvPsTGxirLuna9Tyy7V9m/tfp/7eJq9drxyiar98ve5x19/sV6daw0Z8vkPmxNCRAREREREVHl2XumagOXuRUIjFbk3MpLBj67jEpDVYc+r9VxqPJVWWD0x0P2HQDJEo3OgqI2MtDmGPTb4bAPSZaWdEcG/GzV0228aaOzPFxdlyzN6Rg4lMFOa+dQ+9Bm5F6lDVFngVvHc5ZpIzs6kj3AuxpqWfvmKbY5x3VAWFuy1UbbY78k75mzoKiNPCdnQd2arLaaiLfd0ha3tLgD9a5eQlCLVmh8Q2PUbX4DbujYGkU6P1y4tTG+LziIb/bvQ9q33+OX40bceHMb/PHm3sr2sld6yWg0okEDawnLgmPHlKClDJrm5uYq8+S0DBTKqvE//fSTEtj89ddfUaduXaU9zm+++UZZV84/efKkUpVdlhyVVe9l6VA5/8CBA0r7o3Jfx48fV7aT45VNHsOxtGj29h/xxpuzlMHR1OkzlfmOwVG5D3mOREREREREVLkO/1b+fkAKzl3CsXOuq+HLoKhcp7wqcm7l1XHUD/hhTjSaq9NV5VodhypflQVGHQN77gJsrjgLaHqyH8dAZVWXGHV1TvI8tG2GOpJV3WXJWhnUdOxN3rEavq3kq7vBsYSprZ1WZxyD0JJj1XtnwVNHtrZJfw+uXL2C2rXq4Me875C6bi7QoA2a3nE7tp40YpPxML4qKsCeepfQ9M5b0DhQh8b16qHguywEFJzEPS1uQd2rATCLLPv+l0sAizUw+el/lmP8a68pJTiXLPlQmXfo0CGMHft3HD16VJlOSkpSgqEy0CnbFl2yeLEyf97cuUrv9h+8/z5+3rMHOTk5GDZsmLJs+bJPcPHiJSVYOXHiRGRnZyvzP/jgA2UfktxfZZJV/uvWratOWYV2ugeTXhurBD+1wVEZFF277n/o1+fPeKSvNVhsI/chO48iIiIiIiKiynXiQvnaF7VJ+smojpX2/s+n1LHyKfvcdmJ2ly7oogwJ+DBPnW2zY7a6zLo8TemOxrrN7B3KGlaFaUhQl5eqjq8ss+1jNjaps51RSoHa1tWWBpXnIfZpWy6PXeo4Ts9VOom0Ubb5ZVfjLyg45raWpo1cR65L3quywGhlaPI7qKYtS1TKNjpdddhkI4PAshSpNjh6vTkLnvoC2Yv8obM/48j539D4zvuQ2agu1vuZse0PdXDxjlZo070r2rVuhbaXLWiWtRORp39F3za3I0h3KzbvXYuCY6eVkpxSq5sCcUNDf6SmfoqbWlibL/j++23o3LkztolPWdpTllLt27cv7rnnHmV5s2bNsXPnTjRo2BD3P3A/YgYMwFdffy3mN1Oq3C9btgyN/BsqJVG/+uor5WW6detWZVvZfqdsm/RakoFPbXBUDrag6OQJ49S1iIiIiIiIqKqdu1yxAjKZBb/hAycBUDlPLqsI9+cmA4bP4KP4D/DDDz+IYTLa5H6rLhNkQPPrnuqyH/BB/Ld44xMZiOyIpyffj4++1gQljx7Et/HPIrqFOl1sJ2b3fQOYvF7dT08gRV3kQAY6Nz1oPdYPP3yAp/Rv4ENt8DXlmeLlL1tbuivh8lyFHR/iDUzCenXZs3kfirNyrWXLm5G9fYfb4KhcJteR65L3qiww6tgxT3kCfkEtSldR92Q/jtX4PSn56Mix9GVFyBKlsj1O2fGUbANVtpPqymOJh5TPIIfmAGTpU1tP9J4Oswfdom7tGW/aKLXxZJ2aok7tOrhquYIuwQ8gLmIsco8fwXv/TYGhziUEhPwRF5sFIN94CqZ9x9HozFUEXqmP+D91xwN/aAzTfz/Hxo2fouOtD2Di068Ul9Y8fdqIp55+Uultfs+en5Uq5FlZWbjzznbY9kOWEkA9erRA6VTpt99+U0pSyl7bW7ZsqVShv3TpkthuDzp06ICCggIlgCoDnzIgKn399ddo3bq1su7p06eVKvQy2CqPYwvOVpY6deoUdyrlSBsclYO7oKizkqdERERERERUPXzw80kMyTiMN7OPK8Pj/8tT5lWpwm+wSf8UPhjVUZ3RHA9E3q+OCy2ikVS8DOj44FNA7kGlFGfzrj1xf8qm4gDjzq8/wlMPlqxbbMcmfBQ+CZMftVV474ie8eqog+aPJmkCntb1Dh7WpIHYz9OOAVEbN+d68vBBQH8QR6yL0HHUy2Lv7snf1jJe8O+k+eqcErK2plzGQknlV2WB0R4hN6hjVrKXdHdBTbnMMch2r5Nez19Zaq1+7MrsL06UCmreG9RQHbNXdM71v1bIqumVSZ6TDG7KNlBlJ0qnP2iv9EbvGIyU1dnluo7nLOfLErQyyOvp4G3zBXIbrbLumTxPuc7viay6Lq37/iM0CLiAe/4Yggaoj64d70PPLt1gyNyGk19m4aI+Fyfzf8X5ps3RKKglCuvXwr2hD+KXoi3INfxYHJQMDmmHJs2aYujQoYjs1VPpXX7AgAFiiEGvnhH4wx/+gCefehKrVq5E1g9ZaN68OTqFdoJOp0N0dDTee+893HTTTbj//vtxyy23KJ0zPfbYY8o+ZPulsuMmOf7MM8/g1KlTynqyyv327duV41dmdfqy2ga1BUfLKikq9yFLthIREREREVHlalS3csI8svf5Lw6blKEi7YpquT03WcozvA1uVSed01RDf+4jdZ7Q4gH0DP8Im5QSnTuxKeUp9HQStFSCksFtPG8HVFPt/hkXJUtdc36uMuD6wxdt8L66X7smANx44v8GoG3bYCUQaiPHQzvdqyyj8quywKizticjph5wGnCUwTe5TJaWlO1t2oJxsiq37ABIS24vOyxyVqIz6YsTeGVpgTplJQOPtnNxbHtUVl93VuJRBiErK+Anz1deU5uX9tqds63joimPlyrbrXQ65azjJpk+zq5bkucsjyPbLC0vZ/dMHtNZcFQ53tSDLs+nJpLtgNaqVVsppXnpylnc9IfmaNjoKszmc9i+IwcH9ufh5oBmqHfkNOruP4aml2uhcdMbsPHQd/C79zacNZ/FDXUaIb/wJ2V/ly5dxANdH8KNzW/EjTc2R++o3rj11lsRFtZFOVbPXj2VQGjHjh2R8PLLeKjHQ2jSpAl69uypbN+jRw+88MILSvBTCgkJES/CtkqpUBkMlcHT7t27K+cbGhqKO+64Q+m9/sUXX1R6r7f1Ul9ZGjZsiHPnzqlTzsngaFn/UiX3IfdFRERERERElevGBtW3dl6Z56YpSVmKEqScCkxUq7e/95S6QLKWLlWq08tSofE9XZfCVEtulkVpM3QaMLm4Ory6wBNuz1WQJUqV/X4APKdtf9Q9+XtbBkJlQNQWFJXzqGKqLDAqSx86VhmXQTQZvJPBtn/8p1AZrB0P7SsOsMlAopyWJT8lZ4FDGfyTgUYZBLXtR3Ze9LJDUFTSdn7kWCJSsp2L7JFdDjK4KvdV0YCf7VrlIK9JTstzlgFXGVSUZMBx6VdnlHEtW9uqjh03ye1s1532g0k5X/kpp2UP97agsWNw2FMyUOvYBII8prwf2nsmx+XxnHWOVZPJgONVy1XUq1cPUfc+jb0FGThnOYK//OUxfLv9B3ybvR2nzedxqX4t1Lp8DgGGg/hu5Qc4dkct6HqF4eC5/6FFnVsQdle0sr969epj78+7kfn110o1+M0Zm5XSkufPnxcvwCylB/nt23fgxx0/Fld/P5SXh28yv8GRI0eUKvQ///wz8sS8jRs3KtXt5Tbyc+/evcoxZLV0eb6yCr4MhMoSonJcflZ2z/T+/v5KZ0/uSo2WRW4rA7lyX0RERERERFS5bruh4rXzbqhXG/c0b4jH2jRWBjku51WU23O7tyeewkd4v7gzop34cGpJG6Mnt27StBt6EmkfaEqMCs0ffRZPpWzCbFfV6AWlyr22rdDCNLzvtCToSXyz4Vs89Yzay7zL9Zxzd64n18x2CIR+i4PuK0bbkYFQWUJUDgyKVo5aFhlNqSIyGHjvuH045NDDellkSckds4KLS3jKQKgM+HlLljZd8mIrdcqqyZDdKHLTW7s7st1OpZr6Pw4oQUmb1//aAlMev0mdsirvtbfW1UPevDvVKaD/W4eU4Ke3PhvdurgE6JQVx5WAppYl9W51zJ4M1srrK28aSa72XRGbNln7irOVpqwqV2XP9LXrIK9gNxI/GoZ7/9gbAQ1vQe4vR/Dz7v04s/sAujRsgcYnT6Be/Yvwu7sVmva8BxebXEXesf2oW/cGjB44TyktKgOjmzduwHnzRdQS+zx27BgGDx6kBEJlqcmWt9yCX375BQ0b+MFoPIHQzqHK9B9u+ANOnz6F/CNHlACnbF/0u+++w913361UvZe92ste7GX1fPn4VnYA1J2zZ88qx5ZV+stDpoG8BgZGiYiIiIjIlxw+fFj5vO2225TPqrJk7ym8t8eTMpFWtwfUF4Nf8ecd4rNlI/s+T2xklfr9pos4YDKLoeTTU8/d1RyD2zVTp5yQJS37vgFrOPQpfPAe8IzsxEhpr1P2Pv8MrCHG+zHpvZ7Y9AEweY4avBRkL/HPpIjtfihpt1OW/Oyd96y6D0H2Fm+r2h4+CR9EbsL7mIyk4nZHVe7Wk8s+aIP1mmPbH8fVuT6AIzu+wabn3lCXiaWT15c+Nl1TVRoYlWSgbfA7hlIdIrkig6KyoyLH9jG9DY7K0qoyKOrYs7qsOi9LPJZFnodjcNCbwKgkS3DKwKY3QUbbMWxkgHXwO/leBUcdA8LeBEYlmday9K0n5+0snWpyYNTm8pWL2LJ9I/bl5+Dgr9/hxKnjaOPXHX9q1wN7vs3GLW1a4Te/C8g8tA433lobDa80Q5sbQ/HAPQ/jtpvbKAFNWY39YN4hJQjaJqi10vanDHLKEp7Z2dlK1XcZ5JQdLV00m2E2X0S9+vWUhpNlh0qyPVK5D1ntXJY4lcFIWdpSdlwkS17KNkevR1udspMnWVJVVuX3hmwTVZ5706b2zWMQERERERH93l2rwOiPJ89jRGbZsZM+twVgWPvmFa56f+LCZSzcfRLrDpcds5jfvZVS+pSoOqnywKgkg3sy0FZWu50yoCerjzsGM21koPHlJUfdBllloE7uQ1YLd6WsIKusTi4DnY4BVG8Do5KngWFZUlT2Iu+snU9JBjdnf3HSbbDS1T68DYxK8rxfXnrU7jodJfS9UUkPx3Sq6YFRWynMCxcu4IedP6BR/UY4bjqA87+aYTHXx+WzF+HX1B+169fGL2d/Qfe23XHJdAk33XwT2t7eVt1LyX5+j2RwVAZnZZBTdsrkjlxPri/XY1CUiIiIiIh80bUKjEqPrT8I4/nL6lRp/ds0xuh7SjdbWBH/3H4cnx9yHRzVNayLz3q3UaeIqo9rEhi1ke1VyhKbm3PO4owa4FN6Wg/xV4J5jp0juSIDpHI/2jYu5bZyHzJQ5yqwqiXPRQYa5T5k8E8GQ237kEFVuVwGULXkfLmOnC+X28ge+LWlPJ2RgcbV24qUc9eSvc/LbV0FRLVkgFlJP7EP7fHL2odcf3POb+qUlatAriNnaS2P93Lf5kpayHOytQdr4+m+vXE9AqPrv0xHQcFR+NWthbPnzLjjj+3w229FwJXauFDHjMZ/aIyDBw+iUaNGOGf6FX5+jfBwj4eVDpZsJUblp3jMxP6sPcTXqWPNm3JcHsN2LO1jaAum2ua5Wq8yO1YqD1mtvqioSCkBK9NABj5liVBJliiVAVFZWla2Syo7lWL1eSIiIiIi8lXXMjD6bs4JfLzPdcG0DX+5Aw3qVO7vyVPmK3h03QF1qrQn2zbFCyE3qlNE1cc1DYwSldf1CIzKjo927fwJtwfdjpatWiptgp44bVSqx/vf0Ah3Bd+Fi5cu4qDhIH7+aa8SFPzznx9Wqrfb9uELZIBUdiglA6AyICrJALAMlMpmABgQJSIiIiIiX3ctA6P5Zy/hiS/z1Cl7sur86qiqKbnZZ+1+/HpJFg4q7ZOHg9DK33nbpUTXEwOjVCNc6zZGnfGlYCcRERERERFVnmsZGJX+9WMhPjtYpE6V6Ni8Id7pbt9JdWUZ+pUBe06XbkZQ9mz/t0quuk9UWa5vXVyiasz2bwby01b13Vo1vvQy2zgRERERERHR9Tbkzubwr1c65HOLix7nK0OgkxKh8hzkuRBVVywxSjVCdSgxSkRERERERFQe17rEqCQ7Q5KdImk9U8VByg9+PqmOWf290014pHXZfaoQXS8MjBIRERERERERVaHrERiVXFWpvxZYhZ5qAlalJyIiIiIiIiL6HZKBye4tb1Cnrh15TAZFqSZgYJSIiIiIiIiI6Hdqxn0tr2lwVB5LHpOoJmBglIiIiIiIiIjod0wGKmXV9qomj8GgKNUkDIwSEREREREREf3OyartsjMkZ73VV5Tcp9w3q89TTcPOl4iIiIiIiIiIqtD16nzJmVPmK1j888lK65RJlhIdcmdzNPOro84hqjkYGCUiIiIiIiIiqkLVKTBqk3/2Ev6bV4T/5f8K4/nL6lzP6BrWxZ9b/QF/CWqMVv711LlENQ8Do0REREREREREVag6Bka1fjx5HttPnMfeM2Yc/u0iTly4jHOXryrLGtWtjRsb1MVtN9RHuyZ+6HRjQ9zTvKGyjKimY2CUiIiIiIiIiIiIfA47XyIiIiIiIiIiIiKfw8AoERERERERERER+RwGRomIiIiIiIiIiMjnMDBKREREREREREREPoeBUSIiIiIiIiIiIvI5DIwSERERERERERGRz2FglIiIiIiIiIiIiHwOA6NERERERERERETkcxgYJSIiIiIiIiIiIp/DwCgRERERERERERH5nFp5eXkWdZyIiIiIiIiIiIjIJ9SyCOo4ERERERERERERkU9gVXoiIiIiIiIiIiLyOQyMEhERERERERERkc9hYJSIiIiIiIiIiIh8DgOjRERERERERERE5HMYGCUiIiIiIiIiIiKfw8AoERERERERERER+RwGRomIiIiIiIiIiMjnMDBKREREREREREREPoeBUSIiIiIiIiIiIvI5DIwSERERERERERGRz2FglIiIiIiIiIiIiHwOA6NERERERERERETkcxgYJSIiIiIiIiIiIp/DwCgRERERERERERH5HAZGiYiIiIiIiIiIyOcwMEpERERERERERFRNTZkyRR2jysbAKBERERERERERkRNntm/ET2fUid+zsweRqc/HJXWywk5mY+OP1T/hqkFg9Dcsm3gEA/77mzptdey/BaXmVbXrcUzb9dd6tvRQ0XPZ8u4RTM8uPV5tZR+3T4OJJ3BMXVSTyLSu9W7VPvwn145F1/u7lwx/+xwn1WXkOSUdmXYlds4X+Wk+flIny6SsX33yYclzob2GXZijPUfNMGenukqlOYU1f3M8jhfpSUREREREJQ6vxAsDpmBjuX5e52PlyPcq4bv4GWxZmYz0XWfV6Zrt7P51mP1KPJ4YMAADBjyB+BemYKnt2g5uxPwlX4uUqxxnfvgPktf/hEpLuQtbMXv8OhSqk5Xl+gdGCy5g5a11EfrdhWsSBJNBq2sR/PT8ODcgbtqtsLwvhml+iGnphwI5LoaVf7lBXafm+fTTT3Hu3Dl1ygMFJzBgPqBXr92aHjfiZnVxTSHve/iR2ohRpz3hdVqpwl9Lw9ZvM5Uh+faZ6Dd/l7rk90YGtsZiTWW//XAK325qjbjbv8a3Fdj3T/O749W1p9SpGkwGOV84hPCu6nRZCj/Hqy8AyWoeVIZ/PYLm6uJrbxc+frO1ej4jcLc6F+iAUbbze/cJIO7d4vMd1VFdpVJ1w2ufqcdTjgkM1eZfmW4eBEt/N/mKiIiIiKic9m5KQ/3bTmPNV+UI1Z38CT8VqOMV0gR9pn2CMQ/4q9M1mCkT70z4D254cg4+/HQlVn76IRLHPoquLdRr6/AcPlkUhzbWqQpr0vtNfDK2Oyot5XJ3oSrK+133wOixHy4h9L6b0PPWS9hUKZnWvW4vaAKOBScwvYqCpHbH8UGPPPIIPv/8c3XKAwVXsKplnUp7AK8LkZ8SxSNvGVFPneEZr9PKibsfH4fwZV/9TkumycDWLDzaQp2sLIV6bL79IYzq3hqbt5U/AHX3iEy83a+ZOlWNFX6OOS4DbaewZqkMcv4dPdQ5ZTp2CPqurXGLOnndFeYhrzqdj03HEVj7GvDmCvUfLlo8grftArfO2eUrt/eOiIiIiOh36MJWrEtvh78+2wtYvRF71dlWhVg3fjTW7N+LZa8/ay39+OSzmPLJXmvpxP1r8Nrry/EzNmD2yBfwwsi3sFGt2qaUmBz1BAaIbZ4Y8hqWbi8pjlr4xWt47YtCFH41GwlPin0qpRPlsQbgvR/VlQS7UpdPJmD2Fwc1pSLl+q9h3bFCZP47QVlH7rNaOLgXW9v8FY92aYJ6dcR0nXpo0SYU7Wy/tX98T71mK2taPYtnRRrGP2EtYSrHl+0RCx3WVRSuw2sDSkrpyvQcsEgTpTh7EOvUNBnwRDxeW5KNM1fUZXJ/87ORL9N+iLw/TyD+ldnIVEtQnvnuHYz+9waxi+V4Xbmny4rzxJntS/Gaso24p6NmY91+78qoXufA6Bm8v7o2eoYC3e6rjZU/uApSOqtuXoBlSiDVYZmm+rWsGj8927bcun5xlXJZQnGiGRNXFynbFZfuzD+LAcXH0FY/P4PpYt9bxD5ty+Q28hi2aW316eLjKBzO0dtq1g5VzO2qxMvr0CxzW0r1O+1+jmOLOluS5+tsmTLf4bo8Of9GjRqhW7duSmlIj4T6YVqBGSNcnb9dGpScn/Uei3tjt0w7bcsnkna+GOyuS6z3X+0xPNvOTssbsfKFJtYgrzrLE16nlStqUEhWJ56z01al11ZSzaGKr7bKs1KCTbNMs/yn+XJ7W1Vkayk3+2r8DiXh5u9SSrrZlsuqytrpkhJwYp/iGD9p9iWX2e27uASsPH5JCTvlnNZqq3A7lsazzVcHF9W7f1oxE0HdOwAdH0LQJr1mHYeq17btHaqN265FXl9xlWzHquVykNehpM3n9vdAU8JXuaadmnOXx7S7Fm0JQ/t76ZimazTpXXzucl+PzcSyN6MdtrFphkf/JYN1R5G3VZ1lo5yHkxKOIt3its7E9FL7suYRu2PIfRTfB2/uvSMX+Vimu7g+vTiffur+PCK3s7sP9sfW3lttPva2enzzsAdL/uHCLi0crkcZrPm5+NjO7p2LvEhERERE9HtxRp+OreG90LVDKHo12YitMhhn5yCWJW5E4Ij38cnKlVj57gi0WD8d//lFLLrjUbw5eSBuRyRenvcu3p03Br1k1bYzmZg9ORO3j/sEK8U2n8zsg9Nz/oalchtV/qZZmLX3QfwjRexzRh+UKp+j7iNw5LvW4y4Zg9v14zH9v9oQYT42Js7C3u7/UNZ5s29ll/IppzbtEPpLJjZ4FDjci/9MS0eLhPfxvkjDlI8TMeC2+nhw1LuIu0tdxStnkDl7PDKDx1jTTeyvz+nZ+NvHmpB35iy8VxiNN9+T9+cTvNmjELPfz1SCzk3uexGJoyLFNQzEP5R7God2cptfluJv717CX5Os9/T9hBbInDAbmd6E3SzXU9YxC945rU6ctkx75phFr04VrDlqiVnzq3XCbj2LRf/OUcvHR23j+SXrCXLatq7cB54pWVeSy6dlqRNiv9ptreuXnINy3AlGS4EyIc9Peyxn0/bnZTuO4zm6dNRoiSk+nkrO056TMm07jv0xbeekPa52XJuG2mtTrluzTJnWnIdtP47reeLw4cOW1NRUdapsynmKa7A7jmO6aKYd75nTaafn/Kvl4wn290t7zZ5u55RDfvWUN2l14vMxllc+P6lOWSw75z1guW/eT8q4XHZf+BhL2nFlUiGXu1pfjif9qIwKP1mSXv2v5YQ6pawXPs+yU50u5cd5xfuxHP+v5ZVwzb6cTtv2JY4jlpWck7Np2zXI8ZJzUM5Jc47K9XpwLfZK79O2ndxfyT5sTlrSXnWeDiXbynU06S6v11Xa2F1f6WtyNm1LG+25SiXTcp/aNJTno1lX3CttHnDOPl0UdvetNOVcxXGL84HgmD+VfRRfj+N5Opu2z7822nSQlGNr09jl/VZp86vkeF7iHsvBeq0l91ybxyRl2umxHPJAMU26ao/pcD4759nnCef3znVeJCIiIiL6fTht2fCPWMu/t160Tm183RKbtMVinZKOW774e4xl/Fr7L947F2rmHf/CMj4m2e578/G14y3DPzWoU1Y734stnieXx4z42HLgsjKpsh4reYd1yrB6lCV2ocO38UP/sQwfvMTyszJhXX/48gPKVGV5/fXX1bGKOf3tfMvw2FjL0xPmW77YcdxyUXutO5ItMX//QlyB4CT97NJXu66NwzZKetrSSi4b8R+LXer/lGyJtc2T+4sV22rPx/EcnBxz50KRT74tyRky73wxIcZhnnvXtcTolu8uAz+cVUvincVEXMYmjxoMuIqDSmm+M9j0Q12M1lRZ79bfDzFHLheXGo3p/wfEtVQnPBDT3x/d1HGlFKM6aqU9Vl20aVkbA7pop9VRO6XP0RuyqQFoz6nljRjdRb3+bDMmdmmoub4meLZ/bWQfcV7qctp9TdQxQSmheQUH8Rs2fQd83L9k2c1/aagus+r2QmO0WXUELb+rhwJZIrIKySYIZPuiBa3OF5f+lWmwqsCMlrYSmxPNYrrk/LT37OZbRZbu4mc/XUxb8rMITxaXCLWaFlPSpunNXepp2gl1v931oldLkMlhKN7F1hEd1CWy/dG/a6qe70LGsicwRFPdW6l6fyBPLbXmYOshHFVHpbh37av92pXse+ETda6q6zg8aWu3sUUQgvAEIuymtbTndAuCunZDjzDttDrqRNygkrYsldJ46ngpDtdSbOdXWIZPMNSWfsuAZZnWkoJyf3kviPnFpfqkZri/5yFlfa9K52nTWJs26ICIOHVUpb2mW4K6IbxnuN20lbyX4lzl+WnOPc9gOydtmspzLn5zlF8ZVb9llW/ZlubaoBSHNHOnPPfey3zsiRbh6AG1jVmRJ/J6DsST4j5nKCU19dgMWQpbtkULvPZ4yfPVvF884lzlLWdkNX911L0tyCuzse1y5kUiIiIiopriyNdYszsSvcTvcqlJaHfc+VU6vnYoBXj7rd6VxDyevxeFnyQoVa5tw5QvLqHw9Gl1DaHj3Wgjq5m7cPp4Pm5vdZM6pbrtj+hs2osDmkKjne+qng0FNgl/Ee9+vAD/iGqC7PdH4emRbxVXV7fT/Ha0C/gJvxxWp6/k45c9TdChuN69lwqOYG/BMiRo0n7A6+twqeA0ilO/za24yU3al1aI/IOXkPkvazV66/As3tsjlpzR3NMyXMfA6BlsOlLS0ZAyjKiLid85Ke8a6o+Pj9gCqEcQDn9MCFWX0TVw2RqI1QQjPWEwGLBlyxb83//9nzrHc47B2Zj+jUvyiTLcVBIs9ohszuAsMMK2fWN87FHAvLzbeac8aaXtfEkbFPWWDC4pgUAl0PYC4BAItbNzPvptehBrizuWeUJdUD14ei0/ZR6y7yDn23cRZ6vqrAQCxbxxwHS5HzXY17zfLGXdCfinsv/SQalmeHRQa7z5mHr8x75Gj3FV0RnRE/YdHomhOrRx6nWwsFqQQUYobczKPCGDs0pgPHMXTm77GtAEpytC7ksf91DpvNhxIF478IKaX63/wOFJh1Bl50UiIiIioppr75f/Qf6ldZjyf2qw69l3xG+1n7BRr62uXj7tnn1XqXJtNzzv8hfw71OdJmjzQBwmzHkf/+iWj/mfbsUldVGxOu3w17/djQ2vWNsVle20GvrPQNwd6nJnrl7CRXXUqT8+h3cd037lc67jDx7qM9lxn941X3DdAqPH/nse2fc1sO91XJZi/MFs1/al1WUchCaIWlxqsQl6drmMxP+WlJDcstqMVbfW9bg381X5l9WxqlL6HL0hSy5i9dmSNJEd/PxQ21o6VUmv83ZtYb6/+ipCb3VeOnXiKm37q+cxUens6Ab0vA94cnVJQLpkmaQJDI4AwjVtuLoje1nfsWNHuYKiClkaVj0Haxr8qrnO8pDBXTXdpIILWOnR/sq7necqnFZlkqUTP8FiTfBEtq+pvz3IGvQ5dgjQBFndBWZOGsS6tu2EnzIdSoxeb55cS+HnWHzgQdxv9560ppFSUtBGCZCm4TXYB/uUoNRn44C80iFAmT5x79oCllXQYZR6nkNdtsHpnt7JOZfJVRujjmQpXE3nR9pjKYFBdbz8ysjH5SQDochbjgxbnpClSA98hY/zoJZitQZPiztPEk6uTbG7VndkCet+b9qXOC1xFHkYV/IPDW7+gcPZvXOXF4mIiIiIaiSl06WmGDTHPtAlezc/8OVWlKN/+mJNb2qFvXsPlA4CeuGmVu1wIP+4OqU6/Auy6t2OVpX++6+q+aPdPXfbl9rUyP9hA9qN/VBpY/Tdd5Pw8kPuL/DSgQOuC9Pd2AKtftmLAxfU6UrRFE1b1kPWLxXJFdcxMCqrb5dUQ7dxFUQU82/VVKUWg62TIVnNe8B31g6UlNKkshSqp9W9lcCitSSq206LKsjxHL3qfEl26CMDkrZtJ5oROqKlWn2+CSZMq4eVxR07nUV2/8YuStPWxsf3XSlOw5ara0M/zVp1/Oa/tIQeJSVyS5bJoGgRVt6n7jP0JhTcdwktPTh/2ct6r1691CkPOHQwVWs+is/Pmga18WRFOrCSaaXdh9j/gC7qIrfKu53nvE6rcrh7RBp6bNJUvT8wDmttQRjZ+ZCmWr5dZ0YOmvf7u10Jt4ygca6rsV8PHlyLq5KAd3d/AsuWfo5cbVMB90djc8+BuNuxkxxZGtRJoKu4Gn7x9t510uMJeS+198Dd/bIjO0taZt2uUkoYOnY09QKQ/C9rCVml9Kh6LDlMx4NwaDmgXNzm4/KSTTws+wR5xXnCWlV9mSZ4LgOQySi5nn5vti6+1tK2lJQatq3rMkjeARG3WzuMsq3v9N7Y3bv9HuVFIiIiIqKa6NKPW7G1/aN48FZ1hqpelz7oc+Y/2FiqEyYXGtwAfxzAQU3JrlYP/RWh3yVj/jeFuKT2hn6p8CDyvQgvtAjvg7s3Lcey/WoHRpfysWbRCtQfEFXhko9V7ewvW/HTkbPF144ze7FyxQa06np36U6mhJtuvRuZszTV1GUP/F+pPz5b3op2BzOx9Yh1EqaDWPHFVlgbP3Di1gfx19CtSF6UiUJbZPpCIQ4e8SLxG9aD/zFxv9SkF7kCXaP64OLKd7DyF3U/Vy7h7JF8FHoRgK0lGxpVx6spa3DuYMytmoCfbPPRjJ5eV6cmIjtKj9eHMETbhqQMeGU+VKHq+dfF9b4WeaylrbFWEzCTpQWn4+/Voqo7VTcy2B6NvEHaks27MOf+rxDhpk1XIiIiIqLfrzPYOHU4fur9IV6+r3SILT8tAaMPDcSHo27HhvEv4MgTK/HcPepC4adFA7C81btqNepLyP/vLLz2cTbOim/XL86fYu2Z/kgm3nk3GV/vOSvWqAf/2+7GoFcmoNdt4iflF6/hhfyBDlXrC7HO8VhHNmJ24lJsPSz20aAVQge8iJdj2sFfWehk/UowZcoUZaiIs7uW4q35G/Fzobx2oF6TNug6YASG9m4Df9m254/vYcAnt+LdGX3g/91svLDpbiSO7YUWtnY/ZY/8w9eh3fw30UekZeFXszF9yVbkmyDSsSuGjuyMrLF70UutHl8qPa/kIzP5HSRv3ouz4gTqBbTC3XFjMOHhVnbHLg7SFq7Day8cwcDi6vZnsHXB65j9Zb5I90fx5seDlJ7pz+5aidmLViD7iHJVaNKhD17+2yDcHaBsVKYaEhj9FSguJSkUnMCA+cB8W4lCIiofGUycCUz4PQTzrve1OAnC/jS/OzK6u2+egHyVDIz+ExinKU3qJA8TERERERFVRmDUGzLInBm2Ei92UmcoCrFm9GzUG/sm+jitEVcz1YDAqCCrWc/XtgVaF3qWFiWqFDJ4J3s2LxZn38N9TXJ9r8VaAvDNreqkIDvIYmlRckkG01/QttMrO9ZiaVEiIiIiIrJ3rQOjBz95FtNMIzDn2VBraVKh8JvZGJ/SFGPfHYR2XvUeX73VjMAoERERERERERERVb0rhdiaPBvvZObDv2k9nD4NtOryV4x4tg/aeFhFvaZgYJSIiIiIiIiIiIh8znXrlZ6IiIiIiIiIiIjoemFglIiIiIiIiIiIiHwOA6NERERERERERETkcxgYJSIiIiIiIiIiIp/DwCgRERERERERERH5HAZGiYiIiIiIiIiIyOcwMEpEREREREREREQ+h4FRIiIiIiIiIiIi8jkMjBIREREREREREZHPYWCUiIiIiIiIiIiIfE5xYNRisahj1UN1Ox8iIiIiIiIiIiL6/ah19epViy0IKT9r1aqljF9P2vOQn3KoLudGRERERERERERENV+ty5cvW65evaoEHuVndVG7dm0lEKr9JCIiIiIiIiIiIqoMtfbv32+xBUXlp2T7vB5spUIdg6K2+UREREREREREREQVVev8+fPVrjHP48ePo27duvDz80PDhg1Rv3591KlTh6VGiYiIiIiIiIiIqNxMJpM6Vk17pT9//rwymM1mXLp0qVqUZCUiIiIiIiIiIqLfj2oZGL148SIuX76sDLKKv62aP6vTExERERERERERUWWoloFRWzBUi0FRIiIiIiIiIiIiqizVMjAqS4fKQdshFBEREREREREREVFlYW9GRERERERERERE5HMYGCUiIiIiIiIiIiKfw8AoERERERERERER+RwGRomIiIiIiIiIiMjnMDBKREREREREREREPoeBUSIiIiIiIiIiIvI5DIwSERERERERERGRz2FglIiIiIiIiIiIiHwOA6NERERERERERETkcxgYJSIiIiIiIiIiIp/DwCgRERERERERERH5HAZGiYiIiIiIiIiIyOcwMEpEREREREREREQ+h4FRIiIiIiIiIiIi8jllBka///579O/fHz179sRnn32mziUiIiIiIiIiIiKquWqdP3/eoo47JYOiKSkpxeObNm1SxteuXat8eqJfv37qmGf27NmD+vXro1GjRggICIC/v78yXbs2C7gSERERERERERFR+ZhMJnXMgxKjtpVlgFIOtunDhw97PBARERERERERERFVJ2WWGJXV5+fOnYvGjRujV69eGDlypLqk6rDEKBEREREREREREVU2bYnRMgOjNnIjGaS8FhgYJSIiIiIiIiIiosrmVVV6m2sVFCUiIiIiIiIiIiKqamUGRo8cOYLx48crVehlSU4iIiIiIiIiIiKimq7MqvRPP/00XnrpJWX873//e3Gv9N50qnTbbbepY55hVXoiIiIiIiIiIiKqbF61MdqzZ8/iYKgMks6fP18JVspSpEVFRcp8d2RQVAZUvcHAKBEREREREREREVU2rwKjb775Jo4ePYpbb70Vu3fvxocffqguqToMjBIREREREREREVFl87pX+u+//17ZKDIyUp1TtRgYJSIiIiIiIiIiosrmdWD0WmNglIiIiIiIiIiIiCqbNjDqUaTxs88+Q0pKit2GRERERERERERERDVVmYFR2XHSkSNHlKBofHy8OpeIiIiIiIiIiIio5qpQr/SHDx9W5rtz9913s1d6IiIiIiIiIiIiuu68amNUBkMffvhhpVf6uXPnYvXq1cr8oqIi5dMTjRs3Vsc8w8AoERFRBZzVY3qPOCQbQzD6s1UY2clPXUBEREREROTbvGpjVJYQlRt89913yriNDHZ6OhAR+R4j0kYEIShoONIK1FlEFZGvR8qSdOSeVafdyPkkEclGIPTVNzCUQVGqcmbkrEpG6ja2Re8tQ2YKUtbnihQkomJGPZLHxCEyTH6PCkL3x+Iweb34o0Zeq9R3jBffQ4iIahL2Sk/kS7bPQ9BjieqEh15dhbxRoeoEeU4GRsOQsDYKSVsWILqlOpuoXEzImNgRQz4CouZsw4JHdep8J/JSMaTHOBS9uAxLxoYjQJ193bl6/+iCEf6ncET07o/+fUOhq6vOp5pjdzL69Z2OHIzGqryRqAl/MUwbJqPjcykIGb8Wa4eFqHOvMVMGJnccghTw70T1Y0buiskYMiYVhir5HmRC7vpUpKxZh4y12TAo8wIR2j0EHTpFICK6DyLuqDZv72urIB0Jjw5HmjEQEU9FIzwQMGzTo8UIWftBXaeY7buWOumRGvK8FaRheLcEpKuTdoJCER7Swfp3s7f4u+nq3z8r9R3jxfcQIqIawKsSo0T0O1InAOHdw0sNwcp3Gx2Cu5VeFh7A0mZE118AOnSLhk4Xjs5B7n4s5yLllXEoGrwYSdUpKKolf9Bp3zHBwL61KZg+KgZhkeOQnq+uRzXHHeHo0wkIfDwYgeqs6s0E/foUZSznvXXQX6/imgEdEB6jg65bZwQ3U+dRheW83w9Bc7LVqXK4bED6lIGIlEFRdValOpuD5Od6IXLYdKSsNcDP9t2rmx8MmelImTMOQ6asq5pj1wA5X8xFmhGInb8Ki6eNxtBhozH1PWdBUauAmzV/T2xDJ/VN5Pj3RhkCEVCT/gFO/uOh4zU0NUJv+7v5QBymr3FRIrRS3zHuv4dU+LkjIrqOWGKUyOexZGPVYLoS2bGVGHVW+spsQPqMBAxfIn5UdZqAtZ8NxXUqw0e+QC1V7RcTjaxVaei5cCdm9vbR0nm/OzlI7tsP06PKWcrzlB6JIxIwb0sDxI6NRtGseUiv1BKjZmTPiUHM2zkIHbwASeOjEGj3789mmPbrkVHYAdHdfLFEXiV9d3L396amsJUY7ZeEbfOjUSo3mI3IXrMIibOSoTfqED52IRa/GIrrU5yhgs8dEdF1wBKjREREVH34BSJqShJm9hDj2xchY7t1NlFVyFmfggyEI+K5WMTqgNTlvls673dnbxYydqvj3pIB895xmJfbFiM/XIuZj7VVF1SmXOg/zBGf8XhpjGNQVPJDwB0RPhoU1eqAQP6Dsnt+OoQ+PgHLPktCtM4I/axJSN5+nYq/V+S5IyKqBhgYJSIvmGDYkobkicMR1ztMaRA/KKg7YkZMRsoW543iZ8+R68yDUrnmsvjitnAcYnpYG9MPe9uxyo1sc2sexg2MRJiy7zBEDhyHeetzxRIXTAbo1yRj8oiSRvqDesRg+MQU6F2102/UI8XuGqwN+4+bkYqMPO86DzHtTMO8MTHoXryfMs5Xw7Q3XWxbct5h4gfZuDnpyPXmFGSJArFt3HL5s15Nv8e6q9fl/t4Y1wwX69g6hxLbrpkufhSqaTIsrVSgwJSXoaSb7f4FhUUibsw8pG131yGC4z11PgxfY9tHNubJebbqWEoHDLb0DUPiNutsK2/zo7rvGXqlyplxSwomP2c7L3U7TecxyvIRJce25UWXPzvKkxcl8Vxkr7FPI5kXhk9MFvlRXUewPktBmOciaOj1/XHIO4bN2vRQ8/KaHLGkNNPmyUq6dB+TDneX5p1AhPcOF59G7DKU7NXbfApjNtLmjCudJzYbnF6Ljf39djEUVxOsynxqu9fTrVW8lffVEE0nJMMxeUl2ybWo77Pi96rtPeKkcwxrWsYhVeYrUy7SRTq53E5dXnzOal7OPqUu11LzUtCINIf84PDMbbd/X4b1HiKuJQMGlx15ePv+8IBZj3Xv5QDdoxHevjPCH9cBm9Oh1zxrpann8bQmf8jnS9zD5DXZMF5WV7Px+G+Mmj62v5GOHO6t86FkW/t8Y30OtO+DIeL+ZeQ7e4NV8btR8OrvXXneTeYcpIrnpHvvydDL6bdjrNetDq7em3aCwtE/MhZJny3D6O6eliDOQcpAcZ/D4pC8010K2Ih1lOzaAo39lRmesT1jbqoqW5/v0s9DlT33ZVLvnea9aj1eGrIdH1ml9KP4+/ncQExT2gtNRIy6jRw8un/ekO0iy31PzLDPRypbWgY97bw5BXPmdGV5v/dlkFvLi2uuLK2i8caMeOhEXkxMWu1wvlXxjtHcD2+eO4/fi0RE1x4Do0TkMdP66eg+MAHTvylEQFgsJoyfgJFPBcP0vfgSOLAvhq9w9vVR2gVDvgFpY/sibsYmmFpa20jq0EJbVMKA9DH9EDksEZtOBaLPqAmYMKoPAk9tQuKwSPQbk+7ky6kJ6W90R9yo6cg4GoDwgWKb8SMRH2xC1keTEdd3uPWHgIZ5+zzEiB8wk8WPOHTsr1zDhGGxCBR7T104DonrXV1DaYY1Cej1aAISVxihe3yosq+oYANWT4xEr1c34UIrdUUnDGvHoV/v4UjcXIjA3iOV8+4TWIhNbw9H5KPet7OoL8hW0y8V+26JwEiZDv10MK613pu4d7Jd/GgV6XpMVu0bjMhRycht1NbaflVQABqra0jK+fYYgskfiR8BIfHW/f+pBQo3JyLhMVf7F/f8VdmO2lIYgmIxcckyLFu+ADOHRantEIZi5Bwx77MNmNXboXTMXoPIM2lI6BuH6ZtNCFTa1eqAFpofkuXOj7tzkbFiCPoOTMYuv3DEymuJ9BPXKLZ7vB8St4gfaO/EieVzoT/VFlFiv0MfD4R5S6qSFweW+iEkeZ8XFbLa5uNhiBmViNSCALRV2w9ri31I/ygLJg/rxJXv/ljp83KgF/e/+2CRHubO6K+kYwT88sX1juon8nLp4GfuzhTleTSsWIesSvyx18DfVTDCs3wqn++4vjFIeHsTCpv1xFD13iFH3NvB3V28R6xVW8MGTkYGOmPkQplPFyNpfCzC1WwZO0XOW4vMZx2qCFZlPhU/cnM3p2KI2Hdyjp+Sp6z3JR0pU2LQb5YeRuV64zB3mwlte6vvMrMeqfI98lSy2IMzeuRmZ2D6oEhMWmsotd3AV1ORK44x7tFIDF+1z3rOo+IR4Sfe0SIvx4gfwBneBknEM6cX78u+j03D6vwWiJDvd+WYGeJaxI/qp+Yhp1QGrcD7ww3z9xmYJ/JsxKPhYj8iXR95HiHizqesd55aJeeRCP1v6rnbni9xD6ePSkWW5jd9Zf2NKd7PN0DnEQvEtS/D4jkTEGsrSfj4VGXe2m+GOnR2JfLNFpknYzBN3N8WD8i/L0MR28qMDHH/hjwwEPNcBfCq5N2ovp/K8ffOq3eTWVxTYDjixXJFj3hr2qtDSFPrbPcCET1jJqLd/O0upUDkbfkPHEY9Fn0j7nmZdNDJkvEQ785rWsLuWj/31u903QdPRor8s/SUuO9if52byfuegBjx3pqnLd1oNmBfgbgDYVEIby9nRCDe6/vnhfad0Uc+SuLvbOm7ZoR+vdrlUWaa0380yf1ptfi/Dn1CtY2+eHnNlSggsj8GyevZnIFs5R8Ry1b+d4yGh89dZX73JiKqErKN0eo2ZGdnW3bt2mU5cOCA5cSJE8q8K1euWIioKhRaVr/Y2tK69TDL6qPqLFcuHLZkZRdaLqiTxQyrLaO6iH10ecvyrcPCrCS574GWUa88ZunyxFuWTYXqAjsXLLvmPybW62IZtWyfw/6LxD7kstaWwcsOq/NKXDiYZck6WuqMLIfTRlm6iG26zPxWs79Cy7pX1Gs1qLO0Tu6zHD6pjpclZ5HlMbH/1l1Gld5XUZZlbn95HPVYDul64ce5yrZdXvnEsu83daaq6HvrstaDPrGUvlonjq62DFOOI4b+cy1ZRep8G9u9ad3XMjfbPp0K04Yp2w17RaTVQ2Mtn/zsuLGV7Xxb93dy/4r2WT55pYvYj7h3n9svLMqYpNyDvv/KKpVnLnw9zbpswS51jo1IO3msp0ZZRvXvYhn4r02WwkvqIkde50d13y6upUj/lqWvXNali6WLuK+l0qM4LSdZNjlJKu/yoiTzo5p2It+X2uVv9mtbn6XW4j6qM1TlvT/2ecfJtr/Z8nGXUscs/Fy9pudXe5ZPpey51mMlZakzSsv6l/V8pn1dcu2e5lPL0XXqfXdy7y4VWjbNtL5HHpu/y/4+/LzUmn4vOrmWg59YBstlo9c53J+qzKcl97p168csb2U4ZtRvLW/1kctkPnWWdw5bViv3vLVl0pf2S2xp6TTPXTps+UT5WyDuq9jvYzMdr+lC8bu473sOz60tL4k0tD9bzTPn7L5oznVYmv2W5Xt/lKXIsm60PJ+xlnXF7/pdlkUyPZ3cB4V4vlydh0yTwoPae+vt3xhb+oh3tzrHap9lqfLsOduPuE+DHK/BqiTfOH+n2N5Fbu9TJb8by/X3rgLvJk/eMx6znYe7fV3YpZ7LA5a3vneWgUor+tKat1vL91mO411ywYNzKX5XOjxLVfbcu2T7Tifet6X2J67/50+K39XrSn3vtH0ndXwmvFRmPrhg+fZNeZy+lkU56iybk+ssY8W2w16fZBkoPgd/6viXQaTZU3LbaZp3RkWu2QWX71VnbNdj//ezqt4x3j13lfjdm4ioEhUVFRUPLDFKRJ7zC0RoJ13pht1bRSE2Rnwac2F0WqJAj7TMDpg1fzQinBXsOZWBlFnZwONv4I2BwQ77D0DosNEYKsYy3k4rVRXILygUoS1LF6sL7B2L/uLTeMioqSZVCMPP4qN9ZwQ7KxHSLBiBHvXaaYb+80XKucROe6N06ZKAUIycPsFF5zEmZHyYKLaNxRsTYxHsUJUuIGwoRg8TI5sTkeZV1bEQTJg+EqGOBe5aRWPW20OtVaxW6jVpUSJ9lQHPvzMTse2cldYzIn2hPF+5fyf3LyAYsRPfEFdjRNr81XYl1GSpQqPYrn9U6c4A/P4UodyfnJ0iz1hn2ZOlNEJmYcGrEdC56j223PlR3Lfhz5e6loBusYjvLkaMRrRNeKl0eoi0HDRQjqxDjpMSJN7lRWF7KiatElev5vtSqe9fel+llf/+lHCxrX8o4kfEixEj9D/bl+bQ9UvCNzt34puF0WrpvUqQn4aly8WnLh7h95S+dvf5FMheMcnak7F4JkutU1eHiLFvYEJ7sd6sFLuST8a9euVZjn8sovS1BIUjSuaJFblOShUJVZxP8fjzeL6HY0YNR+zT1iYHjHe+hJdK5Z1ARA+MVcbW/eKiFE57sV/H7eoGov8T8k0r9mzsg5dGOF6TH0JjBiFKjOXkGJw/t244vS/yXJ+TJTbF/c3ZZ1equULvD1fy1iF1hfh8PALhxe/6EEQNiRAXPQ/pmaXfkKbCQuUYnTs6/m2S/KAL0t7bSvobU5ADvXz/PxWLiFL7sTU5kYrcQ9Y5pbh4pwQ+Ku67LI23dhf2uSi4Vrnvxor+vfP+3XTN+YVg5Iq92JmTidFhpXOIMwGRE7Bkkni+8lIxrm9HpYSh0iRD1RQmLHGtnvuCdMyV3+naT8AbY0u/GwPaifwwTbyjjGmYu8b5X6Wq54cOYTIP5SDLIQ+ZtmWIpysEnf9PPH/iecnYLO6NukxRkI2MTPH5VDg62G75db9mPzRQny/DaWff9BxU9B3jlcr67k1EVHUYGCWiSmD7QiaruyozSgl5Tnz5cvHFx5StF1+/gKjunUsHhyS/tujQT3wad8HgYRUh+DWwVrFda0DJV95ghMggw+5FSHxHX7pdOI/lInuF/Jo8FNE9nJ6x8gWwjzpqx5QFvfxh3i8cnZ2mhx/ahsifIPbtLJatDzor1c9KswURnFcZEx5/HrEutoVpF7Jke1/d4xHlap1m4Yh6SnzuXg19qaqBjRHQSB3VEvfH/U/IEDwfF+E8P5SprPwYhfCOzvbcAA2U2SGICA1W5jjSBVnvDa5Ypz3iNC+Kn2PZ65QfW0MfLe91ChW+P1KEy7wT0LyF8qk3ls6LfgEBZdxDz5hNBuSsT8bwpxKQZtQhetJQRDhLEHf5VP64TS/jmRT3NXyADMGlQp9d+oejn5/zq2ngLP8Wq8p86vqdaGtyIKSH+KGpjDlo2VYJZBgvu4i0RHUWZ16a3w1qwwRPiTzhEMRStAq0Hk9Wn/SKeOZCXKRS0xbWgHS+wz8cKMr7/nDO2umSDiNj7O+ZrL4rK4KmrC/9j0cBweJ9ID5T5icibW9ZAYfK+huj8vdzfp1+7nNcVLcQF3myBVq0kZ8GF8H4Sn43VvjvXfneTddcXT8EOHteXPJDyLOLsXHzYkx4NBgXNssmGWIQ1q47hsxIrbq2KK/Rc2/KyRJvNSD86Sinx5MCukVBCUum6V38g13VCwjprLwn07O17cKbkJUpv5GGI+QO8TzLfxBYq0eW5nmxXV+UeBZsT0t1uGZdK3k1XirnO8Y7lfxeJCKqAgyMEpFXTPszkPr2ZAx/Og5xxZ38BCHmbXUFFyLs2mGyZziUpXymjyppkN1+CEOC0hi/AYWnlVVLXDYp7fAlygbdxTmVNCAfg0R1lRJ+CB+xBBMigYxZcQjrFomEOWnQ7y/rx64DowH75A+X7sFOepS1CUSgDOY6ys+FcrVrE1x2JhI2ytq2lcFYqHx6pJ84njpail8gOvSWI7lOA8uuf0QLeTlYJz/bB4qf1K4EIDhEli7Iwa6DJb/ogtvJUmt6pG8pXaLHvG0TMsRnSMdgOBYGsnL9g1irfPmxrN5uxbW6aM+sgatSgZJXedEIQ478aRSOYNeZqGwVuD/F+rV1nXeqgkPnDO06dke/YdORfjYcQxeuQtKjzs/GbT4Vz+QuGfR1+0yKPPlHmQ72JSl1wdZgwepvskq3w5qfjXXrxefjwdbAQClVmU9FTg10/nTYBOpc3PU66qcLUUFl3PEWjV2mdQP10zvimXNWUsiNir0/nLB1uqSLRXioQyYJ6oPYx8XnilSscywNHhSLqe/FI3R7ChJ6W0v3yfZInZfuq6S/MS2DrflqVQaySnVMZUD2Rvk3IhbBra1zHHVoU94nupLfjRX9e3et303XWEBQBIbO2YBte7dh1ZzRiG53ARmyg8q+cUh0Unq5oq7Vc2/4RfmrhJBWrv8qydoMStBx9y5x762zrjnbc/aRHrtsz7MpCxkfiU+lNKitVKn9P6bl7pbXF4LOd5akZ3W4ZmO+9VnySAXfMd6ppPciEVEVYmCUiDxzNhepY7qjY68hGLdmFxq3j0DUEGvD7HKYqlSjc81dQMl81vpv5xFPlTTY7nzoj2BN6SHz/lSMi+yIyMHjkJbTGCEPRGGQ0kmKHKaKr3RO+Idg6HvbsO2zmRh6j/jZ/XYC4np1RNjAcS57iC7lstkaQAlo4H2QwGy2lhRwaKDe2dC/dWX9i704S3cBvbpuruKKDOEJ/u5LaNlKsJk1pYUCeo9EUowOGeNjEDc+Belb9NCLIX3JOAx5cR5yOo3GG0+5CpiXkbIVzI+VrTx50Vr4JgANKhAXrcj9uW6CQq0dJ3WPQrzSkc1MLPhsA3ZuWYYJvd38cHeXTz18Jm0lo+xKUraPxxuvhsK4MA6RI+YhbbM1n2asmaeUYk3XRSMpIcpFwKBm5dOapGLvj9LMsmaCfFiM8xDXzjFA1xHDZclGF50wBUZOxaqdmVg8Pha6vBRMHtZPKd033Fmv6pXxNwYhiJ8+GqHGZMT1G455azKUa9dvTsO8EXFIWKtD9JyRiKru1U+vy9+7GshPh9BHRX5fvxEb5sSL+67HvFcTve/krJowX7bm88Y3uP2rpJZCFu/u61aCMASdo+Q/reiRs986x/yjHiniM76HtbR+wJ8ilFKeKZuz1FKlau0EnX0tnet/zSYUqf+2ENzSk38uusbvmEp5LxIRVR0GRonIA2bo5w/EuBUGhL66Cjs3r8LM8UMR/2gEwruFK0MHt6VM3POra/0SF9gjFkOHDXU7RAQpq4pT0mPuE+OQmheK0St2IlN82ZowLB7RPaznE96tg9uSJrpOsZjw3gZsy94gfuxGo3FuqtJDdMKa0qWTSqmrVj0yXcAFZYYX6ohjy89WEYh1cn12Q6S7K3AgvmS7PhexpLxfwv38lNJ0OHvBGnhy4cJZ608GP7uSaoGInvUFkh43Qr98MoYPjEOcGKanFSF4xDJsWzESoV5VP7Sp2vzotXLmRWvNbRMuuEvYslTo/lwnMROx7MNlYliAqa/KvB6LqE7BCHAXvC+Lf4C1xGwZz6T5tyLlUyee4RJ+CB21BKteDYVhbSISBlvz6dj5ejSOWYANG5O866W6WDXLpzVOZb4/TMhYNQ9Gsc9QJSjvbAhVntOc99ZB7+xhCghExLCZWLV5r/XHfQ8gXfaqPmgeskuVuKrg3xjBr9NILFkxGqF56UgcNUS59rgxc6FvFIsF6ze6LFldrVTV37vfrQAEPzoBo18UqWZMQYaTJj9qAj9/6z9YFP3m9q8SLiiXJ75PVeTdX0EhnZTWipHxo3wuzcj6Jll8xiPiT2qgPqAzwmVpclupUlkKWtZOiAm1/u1VXfdrNu+CXpZ0FefeuZ0yp0zX4x1T0fciEVFVYWCUiDyQg+x35L/oyo4SQp2UnCr5l+ryaNFard6622kLmM7tzsY8eUqyY6aw0mcEUxE8OqVmweLHbhI2fJaEaJ0RaaNSnP8o1tIFoq38tZeZC4PLdQtReFAd1WoZDOVq1+c4b++zvNbvs5YcdMZswC5ZHbjMapJOtApGZ/m52+AmPc0w5OnFZwg6tLEGuW2M66dh2oooTN24F3l5ecqQ+dkCTB0cXqpzAs9VbX70Wrnyog6BwTKt9Mh1nYnKVsH787sR0AKBsvSO22dSPJX51tKAff5o/4PPvDMF0942Y+iSncX5dNv6ZZg5KgrBTm6pZ6pZPq2BKu39Yet0qcdIJClBeWfDcsxUAlKy2qy7Z9LP+uN+yQYlmI7tiUh096O+PH9jJHMOUt5MhHnYYuxUrz1v2wYse2skolx0QFbtVNXfu981P7S9U3mro/Cck4zi5h85C43VI7gU2Np6/jn5bl5w4ntJruzAqL34XnId/yz53ROulAjV58h2RsU7e5WYeDwcnYsfsQB07i7b7kxGxvdmmH62tiUaH9ZB3KkS1/uaDauSxRkKdudehuv5jinve5GIqIowMEpEXmjsvNrvKT3SlX+pLh9dtz5KVWPjh+ugd1Lyxi0XVYhNW9KV6lAeK+5V11WnFFrBCJW9SWO18kXZqbxdzju60YWjjyx9YFyKdZmV+S0ww1qKwQlTZro4U+GpEBftJLphKy2RmYJ0F/vHqQykLRSf7fsjXFO1TAaGVs9Pg3FYPGLvcHaXKqpq8mO5eZkXgzvFKqWpktdkiB9k5VSh+1MxZpPJbSnVaysE4dGyxE4y0ja7Ss0cpH8oA8SyjUntjz4T9J8mIrt7POJddtxUEdUsn9YYlff+sHa6JO78wD5OS29b+SH8EdlDvhHzVnnyTJb01u1RB0Be/Y2R7+1UJG4PR/zACnTOdr1V2d87N2ylVK9l9ezLZpi8/e7iRmGBNcAZ2NTJnd++T+QgZwzYlVm6GYjrISA0XPlOp/8wXTzFzpk2pymBvJDocLuSl9dcQAd0lu3By84pd2dhnXiUYyPD7Z45XVgf5Tlf/VMOcnfKv+ZR6OzQmdz1vGbTtnlIGC/fcKGYMMRVsy+lVeo7przPnZfvRSKiqsLAKBF5QAddD/m5Dpu2Ofy4MeUiddokpVf5cmsWgfixoeLHUzISEpKR7ezL0VkDsndrfnw21Sk9BSN9U6lqjKa9qZg00cszMumxaYP41HlSqlL8gI6eIL6CGpH89lzoHc9XpsmcROWHeGkBiHh6tHXbV4cjebuTn9/iR5Zhe47rEqBO5WD6hHkoVfMuPw2TxqeIfYVi9P/Zf9n3TACihshrlftPLH2tsg1F5f7rED2if6kv+2Z5EZn2PbpWXBXnR2+VMy/6dYvFaHkdKyZh0nJtr7gqkXhl/1Co2P0pL+PaBDzQsSMeGJbm4kf6tRfy+GjEi19mqRPF9e53DMKYoJ81CdN3i5+OY+MRYddumhnmc+IjMwP6vMoM3lSzfFoDVc77IxsZSqdLIxFdVuC7fRTilWfSSSdMThi2rLP2Tl1WpzaSV39jxLWbZbMPemRsM1Sjf4DwVlX9vXPDVkp1Q+n3cZUw52De4+3QMaQ7Eh2fc2f2piNlcy6MTs9NpMX6yZg0Q+TX9qPR50+afxCwdZaTmYLULY7paELu8kQkblYnr7dm4jmaJL7T7Z6OSbP0pf62mferfxd10Xjp0esaFhV0CH1A5phsrP40S/wljUJ4R4f3RMtQRHQXf/d+XI3V28V09wiEOj7D1+GazadykbFwOPo9nijOXrYJmoShXvzjZ6W+Y8r73Hn5XiQiqioMjBKRBwLRZ3C8+L/8ARCJIRMTkbwwGYkThyCyVyQSTc9j8Yxodd3y8EPIi0lYPFj8fNowHTGhYYiUbR3JHpzl0DsMQeJHR8wGTQgmqA/iB4sfo7vnIabfEEx+O1mcUyImPxeJXr0TYRq+GDOVUp1aRqSNiRH7HK6ubx2mj4kT1xGHebsDETstVvyI84DssGVSBHTb5yEuVJzbmOmafYk0wUQkjVLXdeDXcSSSZC/HxgxMf6wjwnprrnVgJMKC26H7YxneBZyemoqpbZYipqP2XGLQ/YEEpBl1iJj0BoZ2LGepq/ZDkTQ/FoEO16rc/x6RGLcKCB+7ELP6OdYNC0H0FLGduEdxoY6dnch7PA7z1jsJCJapqvOjl8qVFyWZ3xYjvpPIl+Mj0bGHzJtqPpA9l7cLQ+ohdVV3yn1/ys+wP00JZBjXb0JOpUU0KqhZBCYsGi1+nKVhXK8HEPncZCSKdEieMQ4xPToi7p1sBD6+AEkvhjiU7BXPx9NiO106xvVo55BPg8SzKN4XS/Qwel0CrZrl0xqnct4f5i2bsFTk0ZDn+iC8zFeguGcDZbkvTSdM4rlS/h6pz5UyvD0Zw8Uz2n1MOnTdJuCl3rZnq/L+xuh6DMLobjqkj+mOdnbXLgbxrhg+MQX66vLsuVElf+/c0YWj/1Pifijv4+GYrt6vxA1VlFincrFLBsvEFaRu86DBgHO5mDxYXHeI9T4Wp4UYIsNEWgxLQXZQLGbOHYpQu/wagtix6vtkYC+791tcbzH9NjBxzmjxNqseQp5NwoLHA5H9Tpzyt23cDPksWP8uPtBrnHhLh2P0olmIqgbBsMCQcJFueqQsSQf6ifdEqXMKRHjfcGB9ClIyxbX16CDmlFZl1/z9XCRo8okcYnoEoV2o+LsyIx2GoChMWOF9m6CV+o5x+9xV4ndvIqIqwsAoEXkkoMdUrF0xFfGRftj10TxMnzEdaTl+CB+xDF8sGIqIezpUsDRaICKmrMK2z5Iw+vG2QK4e+kw57ENhs86IH5+EVQO1X5sCxPprsWpKPCL8diFlznRxTmnY5ReOl5Z/gcXPRqBDiOMZBSC0dx8EB5igXy7Xtw6rdwLBvadi8ea1mFn8A7csfuJL8GJ8sVykST8djCvElzyxr/TcQPSftBYb345GeLCsfOWc0svxtlVIejUWbbFPvVY99p1qgc5PTUDSZ15+STzdGH3e3ogNC8X+ctOVc0leYYSuXzymKunhGAzyTmC/mcjctgxTZS/Q26zXOm+9AS16jBbn+gWWvRhaev9GPdLXZ+GCLthJRyeBMG9JReKwSAyek+11aYWqz4/eKE9eVLWKwNQV27BMbBvV1FiSD86JHwqvJiGitbpeGcp1fyogOGwkwsWjEvh4H3SuLr/EBdmZxLKNG7Dg1Z5oYViHeSIdpi/Ui1+s4jlYkom1b0WV/kFrykV6ehYMRucd8/jlpyNlShz6jvW+dGz1yqc1TKW8P2ydLkUgvrdnKR3QIxojRZ7OSdNDCY22DsfQjiLXqO9VZZiTgcIbwjF6zip88eFQhBQ/XJX1N8aE3I3rkFVgRGAnx2sXg58B6R9NRlzfBKTlq5tUY5X+984t+T4W77zxcp/pSBbpv2h9rtJpYpVoGYKIfiJ/6MLx/AMeNFZzdyxWzZkgvjdY76MtLfSZBgTcGavkqW0bZjptPkJ5n6xfYP2O9GOK9f22fp94/79h7SQuLNDa5nS1EIiotzKxTX5HEo+efqF8FuZhnaEFeoq/bau+WIaRnaronnirXShkF0xSRI9Qp8HlwHsi1He1Dn1CXb1LquiajbmafGIdjE3DEfXUSMxcsgE7Nyxw3r65W5X9jnH33FXmd28ioqpR6/z58xZ1vNrYs2cP6tevj0aNGiEgIAD+/v7KdO3ajOMSEdkpSMPwbglI75eEbfOjq01pERSkI+HR4dB3Fz8GZkUj0FlHKZdzkfJcJCZvjsaCbUmI4vdiutZkNdgn+iERo7Fq6UjYNT1azISMGb0wZCEwes02jOyozqaq49PvDzNy3hmIfrNEfluxBCNdBDxMm6ej1+BkYOxabHvRs6AvERHfMUREViZTSb0jRhqJiKjS5XwxF2nGEDz/nIughlQ3GB2UYkJpyK0BpZ7o98fa+QQQPyLeRVBUCkCHEFkOy4hdeTWg7vLvgE+/P0x6pM7KBp56CfFuSoEFtOuglA405uQqzVoQEXmE7xgiolIYGCUiokpnPisroQaiRVPrtHNmXFAa6Y9C4M3KDKJrynyuUPls0dz1j0Ppwln5L8o6dAhkseZrwaffHyKvKbmyRWO4zZXmC0r7qrp2gdWnpgARVX98xxARlcLAKBERVTpdS9lPezrWfeO6VUbD+ulIXCjWjenvpLMDoqoXoAtWfvCtyyjdi7CNaWcyJr+tBzoNQoQXPf5S+fn0+6OZDsEyU6Zvgt5lpsxB8rRE6BGKQT1YxZWIvMB3DBFRKWxjlIioJquubYyaxZfqwYMxfYsRgT3iEd0tBB1kByb5OTAYDNCvX4eMvUbouo3GwvdGItRf3Y7omjIifUwMhq8wQNcuGv1jOqNDu2AEmHKRW2BAbno6UrcbgKBYLPhoJqJaqZtR1fLx94dx/TjEDEuFQReM6JhYdA4JVjouyd1bCEPuOqSvyIYBgYidvwwzZcc/RERe4DuGiAh2bYwyMEpEVJNV18CodNmI7C9WY7UMYqyVX7KtZA+oISER6DOgP6I66Sq1t3Qi75lg2LwOKWvTkLFZj1y1MTVdu3C07RiC6H6x6PNAMAJctXVJVcPH3x+mvAysW56OtM2boN9ry5TBCL+zM0IejUJsrwgEN7POJiLyFt8xROTrGBglIiIiIiIiIiIin8Ne6YmIiIiIiIiIiMinMTBKREREREREREREPoeBUSIiIiIiIiIiIvI5DIwSERERERERERGRz2FglIiIiIiIiIiIiHwOA6NERERERERERETkcxgYJSIiIiIiIiIiIp/DwCgRERERERERERH5HAZGiYiIiIiIiIiIyOfUOn/+vEUdrzb27NmD+vXro1GjRggICIC/v78yXbs247hEVeU/BzOx8eh27Dx1AMfPn1bm3dSwKTo2ux29bumEv7bprswjIiIiIiIiIqqpTCaTOsbAKJHPkwHRf+9aiaPnTqpznLulUXO80mEAA6REREREREREVGNpA6OMNBL5sCnZKRjz/aIyg6KSXEeuK7chIiIiIiIiIqrpGBgl8lEywLl035fqlOfkNgyOEhEREREREVFNx8AokQ+S1ec9D4rqEB8+Ez/GzMS7wTpljtxW7oOIiIiIiIiIqKZiYJTIB8k2RT0jg6Lj8VrgLQiodwui7h2P2W2sSzzfR3VgRNqIIMzbrk5Wlu3zEDQiTeydiIiIiIiIiGoaBkaJfIws6elJm6IlQVEd/NQ5qKNDiC5YGZX7KF+pUTP0M4LQb2GOOk3umPenYlwPd0FdGfTth+Td6qR0NhepY7ojaE62OuP6MmdOx/A1DB8TERERERFR9cLAKJGP2XhUE2G7oS/efXga3r3TWkW+hA7R9422D4oKxmPL8cz3ueqUw748dSoDabsj0GL5OujN6jxyypSZiCETc+AXos5wJm8TVh/sj/D26vQpPRKfm4wcf3cbXVu5P+nVMSIiIiIiIqLqg4FRIh+z89QB68gNffFx5EBENWuNqHum4ePi4Kg1KDoz6JZSQdEBX30BgzotFe/LC4aNqdjV4yUM7ZuK9EyTOtfKuGY4hq/KRc6SBESGBSEoLBIJC7NRspYsHTkcafkGZMwYgu5BQSUlEc/mIk3MU7YL6o4hM9KQe9a6yObC0Wwkj4pEmNgurHcCkrfZH9+0MwWTn7MuL31s6/KE3mFi/2GIHJWM7CI/2IcfTcheOA4xPeQ5qOucUhd5y5yD1C8aY8LCqejfTp3nhGFLGjAkSj0PM3JWpKHx+AWYGt1BmeOOZ+ldurRq9hxNusvmBN7Ww7BhOobY0ua56cjIlwtN0L89HJM+zUHW/ATEPR2HuCW2ksJlpNXZHKSMiVHusXWfk5Gu7JOIiIiIiIio4nbs2MHAKJGvOX7+tPIZenckwosjn40QrgRHW3scFJVs+/JcDtIXA/G9QtG5eyzWrdfbBR6l9FfHIqPdG9iwLQ95Wxaj595hGPy+ttq9AaunTEdOjyRk5uVhwaMyoGtSAqWbgiZgldwubwOmttuEgWPT7M553nt6hEzZgG1iu20f9Ufh64PtqqD76cIRP8u6PG/LAnTeMgwptqBgQRrGPpuFnu9vE/vfhg3TOkO/cBEK1cVSzvuDMa0oCgs3yHPYhlUDzZj2VCKyHQK0HvELwdAZQxESoE47JdLzQz9EhQWq034IGTYTQzu63chO2entgeXjMM8Yi6T11rRZ3NuAIQsyxF0JQPirCzAxBug8IgnLPlyGZYOtIVz3aWWGfv5g6P9kvcdy+dopLyG8lbIpERERERERUaVgYJTIR2X/9B+kmS6pU5I1ODrbw6BouezWY3WLKIQHAX7d+uD5nFSsy1OX2fQbhNhuamCvbiCiR41Gg5V6lITqcmDuMRojbetIeeuQsj4WgwYGwzrXD4ExozHatAjpmsBn1JBYhDdTJ3QRiH+6AVZvKdmzX8tgBNuW1w1Gh1AjdhmsJSMNm1OR9fQgRNuCcwGhiH+2T0nHS2Y91i1ogUFPR0BX1zoroNtQjO4+TxzDMfxrZVg1HGGPpaCkcQIvyfQMiUUfkZ7lVmZ6eyIWscVpDwQ+0AdRH+W4vi5P0uqKfZukfq10xfsnIiIiIiIiqgwMjBL5mJsaNrWO/KbHy5nvOQRH7ZUVFC3el0fM0H++CIExPWEt3xiC8OhCpKx3CMG1C4Rdi6ctAxGyexfU+KQiPMTaAVSx00Zk/ClQ3a9NINqG5SArt2TDDoH2bam2aBWCnBxDcXDTtDcd88bEIeaxGKXa97RV6gLBaNSjc5D9EQKat1DHhFNG5Bo7ILClOq3wQ9uQKKTsdh4ibNxMnGNICzRWp71jTc8OkeEVCxh6kN5lKpX2ZSgzrfwQPmwZOqyNQ/fBk5GyORemy9a1iIiIiIiIiCoLA6NEPqZjs9vVMcFNcNSTkqJ2+yqL7HTpHSPSR8l2KGW7kUHoNyMHOe9l4Lr2nd7Iz1pCdncyBr+ShZBXF2PVZ6uUat+yCnhVCugxAcumRdkHJj1lzoJ+RX9E97gO5SivRZCyWThGLsnE2kkRwPrJ6PX4ZGQUqMuIiIiIiIiIKgEDo0Q+ptctndQxlZPgqKfV50vtyw3Z6dKmF5dhr9JmpG3IxMyQpdi0RdM9fY7B/rj7c6Bv3wEOhT3t3RyIqO8dthNT+7bp0CGoZMNdB+3XKMzPQUibFkqJS2NuFrKj+iCipa0hAROKNA2I6nThyMqz3978W5E6JrQMRAfdLhjsgndm7MtJR/QdXpWn9IgpMx2pj0egs7bdg/LwOr1Fujp0xuQ1L9Iq4I4IxM9YhiVRWUjd5k0xViIiIiIiIiL3GBgl8jF/bdMdtzRqrk6p1OBoyqkiGI56FhSV+5D78owB+rWFeP6RcGvpzGKB6DOwJ+atkh31qNYvRZqtncnLBqS9twh+A8Iden930DICsb2XYtFHuep+zDCsSkRindGI7qjMEHTIWpEGva3n8/w0JL7th/he1j0HNA0EsnchVy0Nady8CMnrS6KDgd2i0eFDcW62ntFNuUj9bLWmtGcoIoYXYtGSDBjVfZi2JCNx1VDE9nAX1S0PE/Trs5ykZzm4TW8dAtvpsCmzpKd644ZUpP6sTnjIzz8EhlyDuCs2XqbVZSMMBhNaBFT4aomIiIiIiIiKMTBK5INe6TBAHdP4TY/XvxyJBzM962jJ6T5c2Z2OFMQjqr06rRHQIxojN2s6YRr1PMJ3TkJkWBCCug3BpnYLseRZt2FRIQARU1ahv2E6YuR2QZGYnB2OJfNjNW1f9sEb08KRMyUSYUFBCHt2Ezq8k4RYteMiv+7xWNwuA0OCxfZhkZi2tyemTutjXSgFxSLpnQ7Y9KxsCiAMka+mI/i5iQhXF0shzy7BrJbpGBYpzyEMMcuB0Z9NQLi/ukJlKcjA6pz+CHeSnl4rI71DxTX1N0xDP9n8QY8YJOaLdHxVe9VlC3lsAvrsTEA7sY/uC61tyrpPKxMyZsVZz0keN3IYMoIXYPT1aDaAiIiIiIiIfrdqnT9/3qKOVxt79uxB/fr10ahRIwQEBMDf31+Zrl2bcVyiyjIlOwVL932pTnlnUNuHMSU0Xp2qPMY1wxGW9zzyRoWqc6gqMb2JiIiIiIjI15hM1jqRO3bsYIlRIl8lA5sywOmtqgqKEhERERERERFdSwyMEvkwGeB860/Pl25z1Am5jlyXQVEiIiIiIiIi+j1gVXoiUvznYCY2Ht2OnacO4Pj508q8mxo2Rcdmtyu9z3ve0RIRERERERERUfWkrUrPwCgRERERERERERH5BLYxSkRERERERERERD6NgVEiIiIiIiIiIiLyOQyMEhERERERERERkc9hYJSIiIiIiIiIiIh8DgOjRERERERERERE5HMYGCUiIiIiIiIiIiKfw8AoERERERERERER+RwGRomIiIiIiIiIiMjn1Dp//rxFHa829uzZg/r166NRo0YICAiAv7+/Ml27NuO4RBUVMjpLHSMiIiIiIvJtOYmd1TEi8hUmk0n53LFjBwOjRL5GBkZ/mME//kRERERE5Nu6jM9iYJTIB2kDo4w0EhERERERERERkc9hYJSIiIiIiIiIiIh8DgOjRERERERERERE5HMYGCUiIiIiIiIiIiKfw8AoERERERERERER+RwGRomIiIiIiIiIiMjnMDBKREREREREREREPoeBUSIiIiIiIiIiIvI5DIwSERERERERERGRz2FglIiIiIiIiIiIiHwOA6NERERERERERETkcxgYJSIiIiIiIiIiIp/DwCgReW3n4bOYsfowYv6Vg/smZCuDHJfz5DIiIiIiIqJyOXsQ+s0/oeiKOl0WYzY27zijThAReYeBUSLyigx+vrb8AG5pWh9vPXU7vp3aCd++0UkZl/PkMrkOERERERGRt4r0yXhnwRS8NjsTxrKCo0fX4B+vTsd7//oPdquziIi8wcAoEXnspcX7cOWqBavHdMCgh27GHTc1RN06tVC3di1lXM6Ty+Q6cl2iauN0Nr7cYVInqMJ2zMNdo9JwQp2kymP6IR07TqsTWkfSMCo8AZ8fUaevtx3H0WjKCRxXJ33K0RMY+GIBUo9eVmd44wJ+/uYU8szqpEcu4MflBQh98QgavXgUSw6qs6u7k6eQtoO1SIjIe417jkVC9yYo2jYbU9wFR2VQdNxS7EMb9J0wEO3V2URE3mBglIg8IkuB3tS4PibGtFYCoa7IZXIdua7LkqMyqNI2qHjo3i8Ok+anY/85dTlVHrMes6pJACs/NQ4LdqgT19iJrUsx9b9ZqO6h0euZRlQdGPFd6iT8d6djTjVg5Uw9/rwiCY/cqs6qSsZTWJioBuKGH0GbhAK8svwUiq6qyz10QX8cA7/4TZ36nbj6G1KXXkL/8Tci9pa66kxvXEDasgtYb1AnPbHHhOE762BZ0q04N68FBrdR51dzx7eZ8XKGGUXqNBGRx+o0Qdjwf7kPjtoFRf+BuDv91QVERN5hYJSIyiTbDf12bxH+3v82dY5NPmaP34E0ozqpIdeV27hsc7RPEjL35WGPGDI/moD7Ti3C4JkZ1T5wVeP8ko2t6uj1ZcSe7Xp1/Nq7Uea3SREIUKerp+ubRlQd6PDwW9sw6SHHnBqIAXNmXpOg6IWdx9F36gXktW+IjH/fhHMLbsKeyQ3R9dgF3DvjBPI8Do5ewt695SlRWc3VvgGx41siNrCeOsNbTTDunVswLFid9MDxg1fw4+31cac8ZO3yBGOvj5uiWuLgK83QWJ0mIvKKu+Aog6JEVIkYGCWiMq3NPonHu+qclBRthZdn3ItonTqpIdeV28hty9Q0BI88MwidluXggDLDhD3LJmNYvzC1RGkCFv9QEjI98flwjPrcgPxN0zEsMkhTpdeEHe8l4JFwWRK1O4bNSnMohSqXj8NAuY3Y78OPJ2Krutx8IA2znuvu9HilXDHgy1lD8LAs8Ro5BLM+z8WOxf00Jf2ysaDtcHx+TJ1UGPH5qCC70oCmH5IxRr3Gh5+bjs8PuKlbeS4Xn9uOGR6JMe9llwSRz+Vg2d9jrMvahuGRYZPx5RGx/28TMWpqKvb8MBdjBsdhyOAU7JHri/P/er4mHarg2PZysXJUApK+BlZOl+cRh1mbZDTds3QqIZeJ9X8Rx3wlEt3FMUvdK1kaeX42zHtS1LSdB7krmWfkfCt53On48gfbOmoa/GLEnhRbusj8k458bbK4Swdln+JYMj3Uc7Neg/u8XMJVGok9/JSCN4ZZ91nquC6uV3Kbv7zMA/IcrPsS9/iVZOwo8sNd6jIbz/OzNa22HkkvfuYc13f/jNvOWz0Xu2rn1nfAwMdFGj5ue57F+JsZYns1/xwR167ex1Gfe5jGIi/sSHF4txzT5H35HlhnQMkVlH3fZXpNUs/xrsgYJH0rty6d/5V3k+3c1PdNyXE0z0TxucRgUkqOZh1v/IpPUi+jcZ8AzOjbBI39ZBCuLho0b4LYhBvw+jkzZmVo/7HrKnZ8cRyPvWQtWfrYvBP4WXmnnsXmBSfwsnjktq43oe/4o+i7XO0U4+pZfJdSUhq1ZBvpN6ROKUDq3jNYOOMo2ovljV46ihfFthfUNaQLuScwfnxJadakbSXndPyLAqWUal6Gel5Oq/ufwczhx5G2rRBDEqz7aT/+uDjub0qV9QjN9WirvBftNOKVCeKY8rzE+Q9J0ZSiPac5ZzGETihAmtNSofLY4hrV955yvv8tsjtuxIxC/KikyTlsfr8AfT4XB8k6qyxrlKym47kipM5zlY6u0kGm71Es/OakQ/qJ9TaK9dS0CJ16HN9pnyvDKczUXJvjsRzPJXSKET+L2fIcis9XUu+97TqV45wsCZ67Twsi8klOgqNHDQyKElElO3/+vKW6DdnZ2ZZdu3ZZDhw4YDlx4oQy78qVKxYiqrj2f/vBcu6ixashasYuy0+Gc06WGSxv/m23ZWup+dZBbiO3LbXs+7mW1sNXWw5r5+37xBLbZa4lS5m+YDm8a5/l2Hl12c9LLU+LZXp13cOrhlmihgy2PPfvb0vWEUPWwscs0f/OshxTpossPy0ZZuk8fpM6bV3eOWG15ZdfrdOnjxRZTstlxzdZxj84yvLpQev8c0c2WaZEPWaZ/6M6bTdcsOj/3VdzHIvll0/HWu7v0try9ve2dbIsb7ceZvn0sG1aDoWWT4dr1vlxkSU6WlzTCev0sV1LLc91mWRJP25bXzsUWdLHP2AZIXaoTJ8vtKRPE+ewUKbtBcumGV0szy1Xl4nh9MHC4nNzmtYybX4stF67GI59Oc3SudQ6tqECx7YbHK5fGTxIJ7vBuqy1SLdNtnQ6uNoyoovmXsnrjRd549WS+ywHmWdai3tmnZbHbW3NC2r++WW5WN6li2XEEpHv5DrnD1s+TRDXtqpQ3cZdOtj2Odjy9PCxlk/3XVDnycF9XrYfnF/76cP7LD/Zrvf8Pst78V1K1nFxvWXnLy/ywOHVYlvN83FCXGtsF/v1vcrPmvRXz/mYfq4lWrO+22d8xibLYXXesa/FdlFvWfRn1On0SZbO00qeeeW6it8BMn37Wp4eMszy9tdFynLbUGYatxZ5o/jeH7Z8KO5TZ5Em7+1S96PkQ21eLuO+y/SSaWrLK2fEc6Ncg0MeUN9NH9qO86uaL23noq7fOfYtS/oRdZsT31pmRPV18f4qYzhitMQ+c8zyhTYvaYaDq49a8OYJS4Gc/v6YBc/kW2JXFllOXRDTF85asj88arnJtlwMGfPzLdGrf9Xs45JlywdHLPfNP2kpcLrNr5bFr+Vbbnr5mOWzIxet25w4aRk3Mt8yw3Y9x09Yhg07alm8X11+5KQlYeQRsfySMi3P8Z6/H7VEy2OcVbcpNZy2vC7O/abXjZbdyjoXLbs/Fdf2nLieD89Yz+2sybL4dfvzP5V3xpJ9XD3u2TOWf4/Jt7z+vTzuBcsXs8W6n5rUdS9aTu3/1bofdduSQR5bnL+aV5Q0fe6IZdym36zLRZp8MSffcs8HZ4q3UdaZf7p4+tzF3yyfvSnO9WP1XC9csOxeKdLxNXE96jGdp4M1fTHqmCXjhDzvS5aCzGOWe8R13/f2SctBuZ44fsb8I5abtMc7XmTZkqfmVbH8s7e16WI9F+WeKttfsBSIEbnM/rzVez9bPY5II3ns+0aKc1GfX0/SggMHDj46nD9t+erfz1hiYmKsQ+zfLO/tVN8VFRzkbyMi8j1FRUXK8NVXX1lYYpSIynTklBmtdQ3UKc+1vrGBsm1ZzKdzsHJeIi7ER+B2ZY4fbvxjMALqKBPA7R3QybgL+ZqShXvMEUgYEV6yDrLxVXJnJDwXqlaXDsAdD/dH12V67JanYNbjf8ktMO5v0Wjlp6wAP12AOBJw4ttUHBg6uqSaqi4Cf+lrwNc7nRT3MWfhf7MD8eQA23GAVv3jEXejOuGhHZsWodPLQ3GvupOAP/bBX+5PwVblZB0cy8B/Do1EQv9A63QdHR7s0wf5X4k0kdNX7Nsy8LtVV0aVcZE2d+mUa1em2on0XWew7stRpR+74h4eFIuuTdWJW6ORkNAA/92ao84QvgrEXyeX3GfndHjySbGOmn9ade2Dh439MWCAyHdyRp1AdH2oM748pOaBstJBkYFWA6bikdbaA5edl8vid3Mw7rBdb51gtO9kxO58Tbo7ud6y85fneSD/q1Rsf3JQyfMREIq4IX3s2q31Kj8r1PRXTyCgy1CRtin4antJqcpSz7j6DD/5ZARuVOcFdBXbPTBP3H/rdgf2pKBT+w7FeVC5ruKS6FIOLj40GsO72ufSMtNYNwhPFt/7QNzXMwon+sdiwB/V/dwajoe6pGvuq7v7bsbWLxZB99rEkrzSSDw3jayjWvmbUvC/xwaVHMcvEI+MHI1fP0i3lv5WdYodhAdtJfcDxLn0zsH2/fbPpkeOXEGq+GbYVJuFNW66RSz8zVJSerN2XQzvF4AG8ttk7Ua4s78fnsi9CPV2lHb1N6Tr6+D1+GZobNumZz30yL2M7Zqs0rWHP3rr1KrqAc0QdRew9aC1rdLjWy5i74P+JVXZdc3wxN0WrN9VUqzwx0viGM+KY5RR2314vyYIUtaph6A/1UP01boY1L+x9dzq/QE9OtVG2pGSEo0NbmmMO5uqO63XGPcGibx/VE0NuyYG6qFB4A3W/XiiRX0Mf0At8STSpEfXuvgx95Lrjq0M57DggEj7Aeq51vZD0F/88brZjLS91lUkV+kQ3dMf9wVYSwM3DquHqKu1MKhfM9wk1xPHvy+sDo6L6y4+ftMA3HOLminE8ntv16SLei7/tB1HnEvj5k4ys9mE1fpaGB6jHkekUeP7muD12y/jk+80RUK9TQsi8g11miCkTy+I166i0V298HBblhQlosrh6Vc2IvJ1FvXTG677aALWJVirhorhkedTYHx4ORYOD1EDNSbs/988TBocY60SO3gaVirzNcI64A51VHHMgN3GZAzpYN2nMoQPx+cw4ISsEnjaiP3GDmh1s3V1rfxD6dg6Ua3Sqg4x/zJi6wkngQWxn3w47qcFdLZvah4R+9hrxOLB7TTHDMOo1eJcTjuJKIhr+/LbcdZqsrYhJhEnvjXihEixrkOXof26ODz83GQs+yoXJlc9d9pcEdeWMhmjnhbp+7RI3zFzsV1dVEplH7sStG9l33aDrlUI9uwW91mdRp/OaO/kd7m9zvb3UAlgNUYDFwEh9+lgE4VO7Rx34EFeLoPpl3Qs+Huc2D5GqWI/8zN1gU2p6/Ugf3mRB06c0KNTazUoqApo1kIdk7zMzwqH9Bd5qVXrcPzvF80/Rjg+406fYT8Et4/Csj25ytTtbWOxffe+4mrk5v27sCc+RP0HF6v72pdu3LHMNO4SiFbqqNRAxpT8G6jvK2fc3XcTThwylsrHzpw4llEq7dG6Le7bk4X9muC6J/uqEi3qIEj7TdKvLto1vYodeeq0o8LL2HH1MvqqVbaVYZIZqbiK45qq2/fecoM6VlrekavYvPHXku3F0O07YPMZTWRStsdZ5jfc2gi6WdNep7p+Q5c39TKK9p5UqpRHjD6qNA/w953qIpETegxsiHu/M6H9+AIs/MaEokvqIk/cWhc3qaMeOXkV6x3THgG4S2R0WwBZ4SId7NK3dm00EH+sGzZUp51RO+Pqq173kPWatHZ6Lk6cvoqfr8o0V6cVfuKca2Nh7kV1WvA2LYjIJ5w7sBJvvb4SefXa4N6QJji38z33vdUTEXmhzK+NRES3NvPDoRPaFt48c8h4QdnWKU3nS1+umInhf1ZL6gl7Fg/GmB0hSFi4CstXLMPiJRMxQF3m3mgsV/dZMizAI3Y/xJx7+N/bHLYTw4hQdWllEOnn8OUtYYXD8cQw5xEXAQ5NepUMI3GvXNY0HMPfy8TK1yKALyej3xOT8bXLEokmfD21L5bVjcW0JSJ9PxTp+9ZL6KQudarSju2J0ulUbbhLBxfKn5dVe5IxbHQW2r+8WGy/Smy/DOMeU5eVwXX+Kkce8IBX+bmKBPx5JCafmoxI2a7o03EY/t9AzPlbGZ1uVSCNXanwfb9ebq2D2KvAaRcFfY8fFQtvqIWy6g80cCihaK8uMhbcinN2Q0vEevCetol+tLHD9mIY2kRdWkX2nEL/hZdx76DmyEi8BV/MuAX/7Kguk5o3w7gZLbDlefE379vfcO/4Aqyv0Luwmjh9Eq+8LjJEvwB8oV734t78+UBE1441KLqsuE3R0a/NweiH3fRWT0TkJX6zIaIyhd3xB3zzc5E65Tm5jdzWO0bs356NP/85AjfaYqqmIjG3DE11uEOnx/5D6rQjsbwVnFdhvvHmCHypKWXmltP9FMLoqoSUjdmA3f9TxxGAG1vr8N1epz1zlCaO+eC6Xcgt4wQDbo9A3LRlWNQ7C//5wVWK5WL3ss74c8+Qkmq+pwudV6OXKvXYHrBLJ+d259mn24E9etzVPhBetmbgHQ/TwV4587LGif1Z2NG7Dx68uXgHMBWqoy6Vlb+8ywM33hiO7bYmBVTms9r3gZf5WZGO/XYHNCk98v/5jw6lI7VuDkR7neOzZ0bu7nQ8cru6nTEHX/86FMvXLsNiGfD9ZzzuKqP0cPnS2J2y7rtIr1YiH2ur6rvQqnVUqbTHoX34TtcBd3gRSPSYzg8PNb+MT7/RdrCkuvobNn9/FcM6NyjpZfzYFfte6s2Xsfd0bdzpqvf8pmJZ7SvYc1CdLoebmtdC2oGLdp0xXQuyZ/jv7vJDb1uVcpzDmVJ/FuuhcZtmGDauBVZ3vIol2ZrSm5Xp5jqILnRIe/kMHQDubeW6tG25HLqMhS3qof9dJVVWj53SHLhxbfQodS5OtKiLe2tfRZ7D87vnwNUK9PBPRL93jkFRpaOlOv64dzCDo0RUeRgYJaIy9QttjhVbjbh81fP69HJduY3c1jvWoMH23daqsbLK79fJyfhfWQXP/MLx56EXMHteKvbYqmSaTcg/ZLQGPP064y9/K8QH75b0NG4+bYRJjLfqGY+41YlY8JW6rlxmzEW+XW/XKrGfP79swMcrS3qtPrFpHf6nbXARgWjVJwtfbbUFNEzYvzIV/y2+Bj907fs8LiQlYuUe217MMB0x4ISzwFvrPngybjWS5mWULD9nxP4jTqopi/TKN5ig+4P6493PD3fl7UN+cRNuOujuz8Luveq2plysXJriOlhXkWPb8UNAU8egZlnp5NyXH6dhq+3eHEnDBx/44S9dQ9QZVcSbdCjmbV4unUZ/aBoodrAL+9Uv/Ce+WoTFX5b5MJSRv7zLA626RqP9x0vx+RF1hlx/9WpNINrL/Kz6T2pa8bNo+iEFH3wdj4c6uSvbGYqHhopnOEXcAzU9TFuTkbR6KAY8pKZJQCBuP6Vt8kD2XJ+CPW56tS5fGrtT1n33Q6c+o2FcNBdfHlITQLyrTjgppnnj/bH488eLsOwXNV3NBnw+LxH1E6Jxl3VO2fakYNSoZOxxcy9K/AGDn6qHvNVF+MdGW3Xwy7hw8gxSk0z4ez0/JDykadOt9mUsXWvCBRkUu3oO36VcwCcd/PCQehsbNATyDmuCmH4B6B8O/GOZET+eVuuam88j79BvHgc6gyL8MGz3Bcz8RmyjBOMu4YLRhDxn7+tK1LiJ+MqcdxE/K6d9Cce/+RVJJY3X2rtkRl4hcLN/FX3NvrkhBt9+GbNXFFl7xb8qjvffs/hH7fqI7WBdpdKogc8dJtmmqGxOwIiF31kXKdo0xLBbL+OfH51R84u4H4azKBUzrn0DosItmP2fUziurlf03Rn8Y3ddDHqQ7QQSUWlOg6I2DI4SUSViYJSIytTxNn/c364x/rn6sDrHphVennEXtLUJbeS6chu5rXf80PXJxbhj0xAlsNH90WnY/9BUTH5YXezGXUOWYFHXHMx+XA2K9BuMhZsMarDTD3cNX4LJgRkY08+6/JHnl2KHXNg0ApNWvAS/1QMRqQZTBkxMQXGMx44f7h2ShCfPzsUAuW7kEHxwLhx/vV9drNDhkXGzoFs3RGlHtXu/BKy8+SVM768ulu4aioULw7H7X/2s59o2EsPmlgRt7QXgwcmr8EKD1RgcYT337o+PxbKd8qenCV//Kw6PhFvn39V7GL6+YwESbJGJu2IxtncOxtwjzzUZexAozu0lGGf1UtZ/+NVU+D2fhGdcRlkqcGw7AbjvmSQ0To4R64Zh0v9kGM6DdHJi+DPh2DM10rrN85vQfs4SDPE4SlRe7tLBFW/zcuk08rs/Hgv/mIHhd4pjhkdi5r6emDilj7q+G27zl5d5oHUs3prTAV89H6ac1yNj0nH7MxPRVV2s8Co/S1F44RFg2Qhr274DFhThyY8m4EFbB0guyGd8+s3peKm3PEYY4lJlFf4J6KqUCjVg5atzgdd2aqrzf4OksAw8n6LpnMtBudPYpbLvu9/dI7FwciC+Hh1pTS/xrvp4p5PEUt5N/ZH/rxhrm8z9JmN71yWYE+umZK0D89lC7PnBAKPLe+Hgrhb4YnID3Lz9LCKUtkCP466p57H15gbYMf5Gu7Yk7wlviFF1zmOgXO/F0/inuT7WPdOsuKr9Pf0aov+h82g2/Ajap5wRc+rinrgmWH3XZUyZXGhtI3T0aczKvFz8j1Jlatoc/x7fAA02FeGuF+X5FSJ89ln86PR9XXkadPXHZy0vI+Ylea2F+PuBenh7gC0xzmH9O0cRqpyPGF4twvpb/TGle5mNHZeTP3onBOAJ4zlEjJTncwKv7K2L1RN0Zbf16a02f8CM7lcx/u/Hlbww+MtaGBVfD/eoi4EbEP3KDXjCdF7NL+J+LDiHAnVpCeu9X9DcjCdeta4XsR54fWJz9KiqZCKimuvYOtdBURvH4Og7W0v/owwRkQdqnT9/vjxdqlSpPXv2oH79+mjUqBECAgLg7++vTNeuzTguUUWFjM7CDzM6q1PeeWnxPtzUuD7+3v821K3tvGclWVJUBkWPF13E3CFt1bm/d0Z8PioM+c/kYbi7BiepgpjOvw/ZWNB2EVpletb+r8eOpWHUG8DY+dF2HSXhh0Tc9V3PSm4zmIiIiKrKpax38PzsA3jYVVBU68pZ7FgyCkk7+uL1uQOKe673VJfxWchJLN9vIyKquUwm67+q79ixgyVGichzMtBZp3Yt9H9rF5Z+dQz7j59XAqGXr1iUcTlPLpPr+E5QlIiqhUYB0O3dhB22Kv+SrPafmoa4u0r3RE9ERETVU73OL2Lxh4llB0UlWXL02fexuBxBUSIiiYFRIvLK+P634c2Bt+Po6YsY89EB3D9pO+6fvF0Zl/PkMrkOEdE1FRCBsXPDsf317nj48TgM6dcdj4xIhmnAKkzq6bZfeiIiIiIi8lGsSk/kYypSlZ6IiIiIiOj3glXpiXwTq9ITERERERERERGRT2NglIiIiIiIiIiIiHwOA6NERERERERERETkcxgYJSIiIiIiIiIiIp/DwCgRERERERERERH5HAZGiYiIiIiIiIiIyOcwMEpEREREREREREQ+h4FRIiIiIiIiIiIi8jkMjBIREREREREREZHPYWCUiIiIiIiIiIiIfA4Do0RERERERERERORzap0/f96ijlcbe/bsQf369dGoUSMEBATA399fma5dm3FcoooKGZ2ljhEREREREfm2nMTO6hgR+QqTyaR87tixg4FRIiIiIiIiIiIi8g3awCgjjURERERERERERORzGBglIiIiIiIiIiIin8PAKBEREREREREREfkcBkaJiIiIiIiIiIjI5zAwSkRERERERERERD6HgVEiIiIiIiIiIiLyOQyMEhERERERERERkc9hYJSIiIiIiIiIiIh8DgOjRERERERERERE5HMYGCUiIiIiIiIiIiKfw8AoERERERERERER+RwGRomIiIiIiIiIiMjnMDBKREREREREREREPoeBUSIiIiIiIiIiIvI5DIwSERERERERERGRz2FglIiIiIiIiIiIiHwOA6NERERERERERETkcxgYJSIiIiIiIiIiIp/DwCgRERERERERERH5HAZGiYiIiIiIiIiIyOcwMEpEREREREREREQ+h4FRIiIiIiIiIiIi8jkMjBIREREREREREZHPYWCUiIiIiIiIiIiIfA4Do0RERERERERERORzGBglIiIiIiIiIiIin8PAKBEREREREREREfkcBkaJiIiIiIiIiIjI5zAwSkRERERERERERD6HgVEiIiIiIiIiIiLyOQyMEhERERERERERkc9hYJSIiIiIiIiIiIh8DgOjRERERERERERE5HMYGCUiIiIiIiIiIiKfw8AoERERERERERER+RwGRomIiIiIiIiIiMjnMDBKREREREREREREPoeBUSIiIiIiIiIiIvI5DIwSERERERERERGRz2FglIiIiIiIiIiIiHwOA6NERERERERERETkcxgYJSIiIiIiIiIiIp/DwCgRERERERERERH5HAZGiYiIiIiIiIiIyOcwMEpEREREREREREQ+h4FRIiIiIiIiIiIi8jkMjBIREREREREREZHPYWCUiIiIiIiIiIiIfA4Do0RERERERERERORzGBglokqUjXlBQQgKmifGrqGz4riPieOGDUHyTpM601sGpA0LQ1CPycg4pc6iGs+4ZjiC5niaG0UeGBGGhDUGdbo85DMwHGkF6mRl2z4PQSPSYFQniYiIiIiIqPwYGCXyNQVpGK4EL+2H4Wuqb6gle471HOdtV2fYMSBt0jCk3jIVazcuxtCOAer8cjpbBLNZHRdyNyQjeUNFAmWVQLlnlRRsNusxnYE1pwzLp0PfexWSHg1U51Q+8/40TH8uEmHyuQuLxJAZacg9qy70FZeN0C8ch5ge1ue6++DJSN2teegcOXtn2eVhE3KW2PbXHTFjkpHt5T9uGDZMx5DeYWL7MESOcti+zOMTEREREVFNxcAoka/SBSO8e3jxENhInV/jBCL67W3InB+PkArFRMV+Fm5D3rYkRLVUZ5n1WD1+Oqbv/h2FQPZmQ6+Okr3AgQswswqDojI/zX1iNVqMWoVteXkir63CS/5LMfD9a1q++rozb0lFRst4LNkg0kCkw9pXA5E+aDoyXBX2NhqQFbPAmma2YX40dOpiw4oEjM2NQJKyv0ws7FeEac8mI0ddXqbdyUiY3xhDl4vnP28blsc4bF/G8YmIiIiIqOZiYJTIV/3pJSR9uAzL1GFCZMnPfOOWZIx7rLtSMiqs9xBMX5MLbczCtFdT6s1WQssuqHHBWgJLKcElS2ClIKe4VJxZLJuHcQNt24vlz01H2n43JcbcKl19X6k+HTQZ6fuzkTzKehx5HfMyTTDtTkGCUjJMllSbjox8dSMYkTZC7ketBn1KbPvqOMyTMdG3Y5T1taXEykqja8m0MwWTNaUQExZmOz0XU2Yihr+eipzv5yLh6TjEPS3ui1xw2YCMOdoSfNr7IdNFpEm+WGfGEHQXy4tLF5/NRZo6r/RxTcj5aLJaCk+mUQKSt7lJobwMzBsTY92XyFOlSlKqx4oMk8tFnhmRilw53+25qy4XInthgnVbZ+ljt28nx3bk9rrdMJthMoagc3Gp5gCEdguHsbDI5fby3lrzq1qSscgPIeoyK1PJtZV17rIa/ox0ZC9xWL8gBym2tO8h8vJag3hKbcq4j3Kfc7JhLn6uyi7Z7Nd9JCY8GoKAutbpgI790f9PIi/ut06btyQiLGxySaD0isiFQS1cBCIN0K8xI/65KASq+9P1eAmj/7QIGU5LmJeWvWER2g6PR3gz67SuxyAMukWzvdvjExERERFRTcbAKBHZMWdOR9+B07GpQTimzknCoOBcJbiYsEKtTr47GYNlcGSDGYGPxyO+nw5GYwB02tKaulRMG5+BgN5DERVkRO6ayRg8X68GW/zQ+IoBer9wxI6fgAnPdkDRhmQkvKQG6SpNCob3GoZURKB/v0AY92Yg8ele6DUoGaawPohup4Nhc7ISGHJaHtRUBDQNto73iMcEea49AsXZe5BG15ifLhzxszZYS7RtWYDOW4YhxUlQKKD7aCyYHKsJisdbg2x1GyMwcjSWb7aWhls7GJj2dromXQxYPWU6cnokIVMsX/CoDBGZlEDppnZTlXl5W5aj/6lJGPy+7S76oUVYPJLWylJ4edj2TmfoX0xxHTQLCETEq8ut+8pbi3hMQ+JG2xnIYw3EUv+hWLVFLv8Gq97oA+XulHnuwpxF0Hd8Axu2OTtP9TqCJmCVXJ63AVPbbcLAsWniqp0p67rdCAhH/1f1mDYlDTmnzDDlpSPx7RxMjQuH08LOBWkY+2wWer5vLcm4YZpIw4WLUKgulnLeH4xp5kHqua/FhMB1GDgjQ5ylCwsnYWnAaGta5C5DVH4CBj66CHhuifV6PuqPQnGv04vbSPXgPmbPRcLixhi9Rq4zEqHqbM8VovBgBHRNrVN+jVug858C0UI+bILppPaKHZnE8gA0UIOiVn4IDGqLXQanT7YDAww5LRAcaPcCQ2A7Y/H27o9PREREREQ1GQOjRL5qbYJaYlMOts5ijEj/JFn8PxyjZ8xE/KPRGPn2TAwVSzLW6JVAkSxdJYMiETOWYdVbUzF1/ipkLomFXQVkYws8v3QDksZPwIL3p4q9iVkrsq0l/ISA3jPFNlMxethQDJ00FRN7i5m7s5Bb2R3WPP4GVs2ZgAnzF2BCeznDiA5jl2HxtKlIen8iouSstQbnAbCgCAwd0Nk6HtofQ+W5Ph6KAA/S6FrzaxmMYLW0G+oGo0NoSVDHMwEIbq9Tgr7KVLsO6GyXLjkw9xiNkd00waOCDKQeGonRMeqdr6tDRL8+MGzepW7nB1274OJSgbhD7NMolrm6x82CEdKy+AzQIaQz0vPUM8hbh5T1gzBxVLi6Pz8ENCspden+3IV+gxBrO3d5ngPj0WCl3hqIV/Ydi0EDxbkqK/ghMGY0RpsWIX23MsNemdftjh9CRy3B6IBU9Atth449UtFiygLEt7edvT3D5lRkPT0I0a3UGQGhiH+2j8h7NtnIWNBZPEcyX0oiLXr3R/hHeuxyVQBbNwiDis89EOG9omCMiUVsOzV9WoWj55/SYThmnfToPm4OROyUaAQ6v4wyGdcuQkpoPPoEqTPax2PB/KEIUfdnNhdBt8r2vpIlzCcjtbiTNZFvemRh6aqSUrvmvDQkvu1pgxFGGNYHooUalLUJDIoqzn/uj09ERERERDUZA6NEvsqujdFANfBhgGGt/NRjnFo1OahdHJLlrEwj5H+GvdawTOc73bXFGIHOSiBSaNTYGrQRmxVXzt6Sgskj4oqr8yasVxdUsqhuIWrAqAVatFFG0DlYPe9WgehgHfNSWWl07Zn2pmPemDjEPBaDuKfjMG2VusBTsjOcJZMxfGAMYgbGIe7VuchSF9mEh6ilZ22OGZCeOU6t+q4OjybCWJwGJuSun4dxT4t9Piar7U9DqjLfBaMeKROHI069hoT5mjM4bUTGnwLtg+82Hpw72gXaV4NuGYiQ3bugxI6d7jsQbcNykJXr5G6Wed3uiG3HxCC5wUhsy83Dts8ikDNsICZvdr6lUaRJ5yD7Mwto3kIdEwoM2GVMRlw7zbmEDYcs62p01fmQw7UqJS39GxQHlkvz4D7264wO/uq4l8zb5yHho7ZIGh+hPqul6fol4Zv1mWobn9uw6tUQ6J9NQGqeXOqH8BHLMejsXPRTrj8SY9cHos/TlVfx3f3xiYiIiIioJmNglMhX2bUxOgERdnGEKExYIuYv1w5R1qrLHmmgfpYm2w/sO3AyUo4GY+icDdi2cwNmyhKjVaGu6/OouIqmUSWRTRu8koWQVxdj1WerlPs5MUZd5hETMqb0RUrdWMz6cBVWyet4+yWoZWXd65dk3yGNMlirUssq3gnZIRj9ntjnZ2KfH05ErHWr0k5lYHLfFCBuFpap15A0wpMzqMC5ozH8ylnC0d11u7U9DZMwGkkvhkNXF9B1isfMJbEwjEkts11O10ZjValzWYBoWwdiFeTVffSSWeTd4bMKMfQtkXZlBFa19yqgvSzhm4GMnWpA2T8Y0eMXW5sC2LYBScOC4VdoRHDL0sHR7DmaILLSZnAgAvsZUHhaXUFlyEtHVKuS7d0en4iIiIiIaiwGRolIQwYJ5KcBRf6dEd4tXDPIqsYB0KnVerN+1lQcNruqt1uayZirlKwLHRCPWLFPXYAZprLrIF9fZy9oOqMpK42uLWNuFrKj+iCiuBq6CUVeNYmYi5yPOqNPr5LOcHC6UFxdGZrqELF2F/Y5vfVG5GZno09UBHTFp1Vk1zamnUM5SPlTH/RpX5J6hUbNGYhjhX/vrMkDD889x2HbAgNy2geihTzczYGIKrVvA/Zt06FDkJNSh26v2z3j0X0wBrawzyNBbRFiLESRk5rZOl04smzNCajMvxWpY0IzHYJ1euyrspKLXt5HLyhB0TeKMHT+VETYmgrwmBkXRPr71VEnHZ3SI339SIR3VKc1QkdpAshKz/KyPdFC5Bq0N0CWjBf3v43TMspCGccnIiIiIqIag4FRItLQIeq50QhFDua9OATj3k5G8sJkTJcdCyk9kfuhcz+5HMgYH4eYMZOtVeIfSPa4xJtfI2tV4OyVyUiU+x6RgEUeFrxKnSqr8pYM0zdUcYktGQSTnwvHIWFGorhW2UFUWWl0bQU0DRSJuQu5l63Txs2LkLzeTTViPz+EHNwHQ3HP5Troumdh1141MGTKRerilLKDX0F9EP/UaiQmZcBoCxKeNSI3X+7HGkDPylFblb1sRMaCZKxzdVpK4HMXdtlOYW8qUj7UnEFQT8R3X4q5svd39TrN+UaYPDx3XXYq0rao61w2IG1OIvyejrJ2PNUyArG9l2LRR7lif5IZhlWJSKwzGtFOAmvur9s9XUg4Ij5cirR8dYZyLDEdE44OTiLqgd2i0UG7vry+z1aLq1b5haPP8AtInJOKHFvVebMJhjyjJpBfEV7ex2Kyg6o4TF7v/HmwBkXNeGnh6OKe4O3sTsHwEcnIUS7ChJzMbE1+NYs8PheJq+LRv1vpEzEX6DFv7HRcmBSLcE0pT3dCI5/HvgUp0KtpaNy8FEuPPo+ITnLKu+MTEREREVHNwsAoEdnx6zQSS1ZMRfw9hdg0Zzqmz1iEDGNndFB7VvHrKJdPQGwnIHtFClK+L0RgTIhdu4XuBEQOxeJhEQjcnop576WiMCwJG9+WXReVzbBdD31myWA4py6oKkH9MXpKNIJ1BqQvTIXe7Ke0xVhWGlWNRMTYqgCrw/A1Rvh1j8fidhkYEizmhUVi2t6emDqtj7qNE+3/v717gY+iPNQ//oBIMClLoSaVSgpiPCKhF0KRkxxQECoRKmBEOSimyk0oKCqpKIioXEQbVDBUuYgKqAUVISoGCxIvTY5SE/42AawRoYuCWQuyFMMqmP/cNtkNmwsQMTi/r59pZt657NxC3zz7vjNDNCW1WBMSjeV7LlKxceUG3XmTSu/vbW2zx80r1GzMXI0OPiO2Wh71umeVbmq2WkO72/vTNe12Lf1/ZovGKKVc96QS1t9gl/efoZJe92l6dY9MMM7zlHGlmtnb3E4PTVjVTKP+NNoOLi2xSp1uvv39UaUlm8t0Vf973pBx59Vp3y+bcZ9SPphqP9M22Xyj/ALNHRq8Y+3jGOSdqTTrmbd9dHdBip6aX+WFYhVqOu5atBuiuU+k6P17+tgv8unaX3cb1+vJ6amVYWcoc/k/d9IbI7pax9znthwljLzLeplZUOKIp/RUcrEy0+x9adf3emVt8NZTMHqM17HCfvl3fKSi3ZHOiU8582dqY75xP//S2efgYHVtlwIHS1X8nlel1kEYv1N7VuvuNPMcGMsY52zCqy2UsfY+9QqGqr4cTbC2YdwXU3PkGbFKcwfU9V8kQ8dRempylFYMtc/z0OUB3fToKOf+q8PnAwAAADhlNSorKyt3xhuMrVu3qmnTpoqOjpbH41FMTIw13bgxOS4AAAAAAACA4+P32z3+Nm/eTItRAAAAAAAAAO5DMAoAAAAAAADAdQhGAQAAAAAAALgOwSgAAAAAAAAA1yEYBQAAAAAAAOA6BKMAAAAAAAAAXIdgFAAAAAAAAIDrEIwCAAAAAAAAcB2CUQBoyAqz1K5duwhDlgqcReps9xqNGbdGPmfyeBTMMz573jF/8nfMpzXjxmjNbmfyVFAP1wINVAO+ttbvr/nvRz3tny97jMZkn8Qj5fcGAAAA9YxgFAAass7jtWPHDmtYdZuU8ZI9vmPHeCU5i5w0hVlK0yrtuPmkfzKAE7V7jRZ+OFebzH8/5g+Ud167eg01zZC04X1pAgAAANSMYBQAUDdmSEso+sNTmKWsQmf8WBzvet87n9bMc2Grwz1e5Zwfr1hnMunmHXp8QHDqxMUOeJx/HwAAAHDKIRgFgFOa2Y082L2+ahfZ8Hljnvc65baKbrXW4HTNN7vuV2n1ZS5nBmDh3WYLlFWxrjFU01KsYN4YrckOfRxA5SMAjuqGW7WbrDldsV54V3mrdVpw3rgVCjuyaterss/VdMmNeF6s8uqPxfpM4xwE9yt4XNVty+bVitDrU/VcVKwXMq+azwkT9viFkM8MK3fWNcuuyFTmFXaZHXTW4doe43rWudsdnB/cpyr3Z8ix1HzeKtX9WgXvA/Mzu2rCQxPU1SwP3gMndM/U/HtW7fWoIvyeXqM11jkz55j7EL5e8HcyKOw8RLhe1raN66WH0qxlgr/PwW1Y49nh91y126/mGMxtVHsNK85b9dc8TLXXowZVfmes/TfLwq6Z+fkh59WcF7w+1nkL37+wY63y+xN6fgAAAHAKKysrK29oQ0FBQXlRUVH59u3by7/44gur7MiRI+UA4Gbvz21b/miBM+Ewy25cU+pM2dNt575vjZeuubFi3GRN/2F1eeXSlcx59nZKy1f/4cby1Z/Z5eWfrS6/0VmncpmqqqwTInR/TKH7cNT2Qj7LWLP80baPGv8bFDJtLhc6z5oOfn7165mfV/X81SZ0H2s6Fnsfwq+FNb/G5UPPmXkOj76+tqrHHv45Ycz5FefQUDFtbj/0vFSq+bxUf22PZT3r3IVdF7ssdP2q00Hm51R7vCFCl7M+L+Q8WOe+4loY5zP0HIWeX8ux3TPh23amQ69zxOtRhXVdQ/bBmq7unraPL7hfocdtqjpdoeDRo/YzdBth18dcNtJ+GkK3X9N46GcF1e2aV389qj1/1jIR7tOjlg+9L811wn+nzeOOeO5qvD4AAAA41ezfv98a3nzzzXJajALAKatAeQ9laHRId9ikq+Yq9UOvfMZ/eeukuVdVdm2N7XqZUp1xU2iLrq435zilsUrpK722yWnftek1qW9KRffbSqEt6bpqwqtOcQQZPUL2YcBoZbzqDW/hGUlhnjKN/9IqPiPNmCqSd7ezT/OGVD5jtXWKLuvvjNewnnn8RWYLx4it/ipFPi+2Go+l/1xNr7gWEc7/UctfppTWzrh13lNV5HX2LKz1m3kMIcI+J5x5bnJedVpDmkPyBGPa/Exz+0XWeam2lV6Ful/bcDWvl/FS6HNxzXtXFS1OzSHNmA4ef03XIFSN12rkwIr7tuq9H+aE7pmaf8+qvx7haryna2R+fo5ybu4adh5ydtT6G3aU1NDP75yiDGfUVNfrYTv6nNhqvuYVarge1TLXuW20Blb8PtVVhlaFdv83jruTdS7DW8UefX0GavRtOfLucaYBAABwyiIYBQAXMru9Wi9Scl7stGleZWxkBnid1uXJDlc7hQWvNrO7aZpU8SKoTZpbpxDnGN1WuX/28Hjdgo/q1ms9UI+b03dJU83AJULYVdN5OXkKlJX8mi7LD+7/qrCQqjap8zZV7L892IGk9QxIY3q6plqBU+SA9Hiv7fGsl6FVFftoD+YzL+t6Der1Wp3APVOb6q5H/UnV3Ip7xRnq8Vmf9fs7EfmaH+V4f/dPWJLGW5+XojwrlK3+0QcAAAD4YSAYBYBTVpJSbsvUwtDn+j0/wXnBit3yc8LzlX/WW63XnHHvjhyltot3puxWZ5WM7Z4/QSvmrdCE81MihDheeV9NVfxZzuTuPL1WQ6vCzMWVYZIve6Ey+8cr+MmhLdtC989qsfZQWsTn+Jkt8nTzisrAIvTza1ivghV2bdJc8zicoqCaz0vNxxIuwvmvuvyrxjmu2M8Crbg5R53iY43j8apInRQfDIKsFnR1Y5+bqTU+k9EKSPPnSiHnvrLV3rFd2+NdL3jvpkV4HmZt1yCorstFFNpq84TumZp/z+pyPUw13tOW0BaTdstLm/P5M449sK2rYz/PR58TW/XXPExdrkdV1joLI5/n0Gtd630ZZAekq26rbDkcfn3WaOFDwfvdbCldx+egAgAAoMEhGAWAU1jSzZt02brKbrRpH87VJqe1WOyA6Zr7of2yFXOYqssqWh4m3bzK6TJqzpsq9Q1vk5jUI0OZD2WGdR2vlKTxL3XShGR7u+1mSJfd5syKION8b0VX4q43d9Kq+XYXZ6trufMymKr7Z31G/ly7G7Mzv6K1XuuBmj7P7hZulYd9fvXrmS3fKsraddVrfUO6xjpqOy/VHUskZgC5SpXHd9Tyt81V/OLg/qSpaN4mje9slFc9vrfj694i1wzwQq+NOUR6qYzZItXp6myHPvYxZxXW/doe73pB5r0ben8GX7JT2zUIqutyR3MCOnM96944sXumpt+z6q9HFUfd0151qrjmSRoyTyHbyFN8WAtv4z47P6S7vjHU54uBjuc8V733g+ezumserobf/WqZ61ym10LOs3UOjPM6OnitzaG2+7LKC5bS5HTPt66jKreTPEGdXjpZrVgBAADwXWpkvtjIGW8wtm7dqqZNmyo6Oloej0cxMTHWdOPG5LgAcCoxn02Y12OHHfid4n5Ix4KGzgyyp0p3Eb4BAAAA9c3v91s/N2/eTItRAAAAAAAAAO5DMAoAAAAAAADAdehKDwAAAAAAAMAV6EoPAAAAAAAAwNUIRgEAAAAAAAC4DsEoAAAAAAAAANchGAUAAAAAAADgOgSjAAAAAAAAAFyHYBQAAAAAAACA6xCMAgAAAAAAAHAdglEAAAAAAAAArkMwCgAAAAAAAMB1CEYBAAAAAAAAuA7BKAAAAAAAAADXIRgFAAAAAAAA4DoEowAAAAAAAABch2AUAAAAAAAAgOsQjAIAAAAAAABwHYJRAAAAAAAAAK5DMAoAAAAAAADAdQhGAQAAAAAAALgOwSgAAAAAAAAA1yEYBQAAAAAAAOA6BKMAAAAAAAAAXIdgFAAAAAAAAIDrEIwCAAAAAAAAcB2CUQAAAAAAAACuQzAKAAAAAAAAwHUIRgEAAAAAAAC4DsEoAAAAAAAAANchGAUAAAAAAADgOgSjAAAAAAAAAFyHYBQAAAAAAACA6xCMAgAAAAAAAHAdglEAAAAAAAAArkMwCgAAAAAAAMB1CEYBAAAAAAAAuA7BKAAAAAAAAADXIRgFcGrbV6B1hX5nAscj8Pc5urh9Nw17utgp+b54lT2xm9q3H6xpr3udMgAAANS777sOTR0eQANBMAq4zZ5sjW0/XwXO5Iny/mWY5hc6E98DX/5S3Z1dIKpVDuv6tld7c5i07qjzUrzkcnueMYx92eeUmnw69JUUcKZOvoAKHr1VM/cM1GNvvaB7L413ygEAAFBXBY869cDg0Guwxt69TPmh1T7D912Hpg4PoKEgGAVwAnzaUpjnjH8/Yvs9onen9ZTHmUaI5/NUEFbbLFb+qqNbhUb9ZqLe3L5dL4xNVJRTdvJFKemmF/TuM5PVt41TBAAAgGPWd+672m7U7azh1Yc16pclmvO7W5S9y1nA8H3XoanDA2goCEYBtyucr/YP58u7YZaGp5rdmLvp0lGzlBtScaqcZ3/rfMfTxQqoRCvH36o5udLKGcM0LH2YZm3w2dt7tECBLct0i7WO3TrV9/JYqzyMuez4bFV+ge1XwcI7NLiX/Q33xVfOUf5X9pzAx9maNepSdTP3odulGvtCiVV+1Ha/KlH27OG6tJu5jYs1fHa2SpxtmMzlx75UouKng59zsQZPWqbikGWC27jY+axbFoZ+mx0IWbe9uqUOb5Ddvvv266tYLVPeByFtQLfka80WKaV7ilPgMK+DeaxVr08I/z9Dzr95DyzMl++IM9O4wvON8suXFKjkZeNesc6NcR/dYpxX68T5tW6SXRbWutj4XGt7VstWn7LHm8uMVfYeZ77B//fFuuPKi+39sz6XlgUAAAB1Fh2vpMH36uE7Arrl7pUK1lrD69A1128j18PtulvVnmNmi9XKXknVb/fovw1C/w4w65GLVbDPmWWoUx3e2sYt1fwdcGrU4QGcfASjAKS/3KH5vqv1SI757fK7eqKvV8MX5toB1M6VmvZwlEatdL55zlmicf0SFKUEXZ31sMZ3la6+a7mWL12uyb1jrc2pMEu3PN1CE9eY64xTkl1aq+IlwzX2wxQ9nGN/w/3646OUFG3M2JerWdcsVYvhL+hdcx/eekEPXJpgrxTGr9zZI/RGu8l64V1zG6/r3vPf0LW3Z1dUAk3rZt+jnLYT9cJGc5mXNfGslbrjL8GWlM42zr/XakW5Pe8ZDdo7TcOX2PMD+VkavilJD6+39/HdVfca56Dhdfve9csuSjcux+J3CoxqoK34/9aoWCM1oF9zp6SOjHvgltRbtLjkXKXPfUT3JjfTxtnX6ncP5Vds21Q8Y7AunZErT9+R6tvWp5Js47w9bN5HHiX3vtpYwqelxv4EFbyz1ArFr+6dHLG1QOCdWfrt1bO0cleUel51tXpGebVy9mBd/qfwzwUAAEDN4vula2TuRhWGNH4IqrF+W+d6+NGOpd5s/h0wa3+qHrOWfVcvDAlo1nVzVBASfNZch3e2EUh3/g54WZPjX9O1s+2/aU6VOjyAk49gFIDhal39vwkV4VR898vUd3mx7DaZ0tfOT0uUR/GxtXS4zo3XkGkDFH8s/bID+cpZEKspf6xcLyrWY3Xt9m5YqpxhkzUu2dlDYx88kZK0nTlauu5qpVccS5Tir5ioif5FWrfFKrB1NZbp6YS4ZmjXM1XFBR/bLVf35GrFjnGaeIVTUTotVj37p8qbW2yHq0cC9nJB0fGKbemMNyDFgUQlXWGMvJSnAitFdLrRj+6l5Bhzuu4Ksuco1/g5cvojGnf5AF03635N7C75HtvobDsoUZOffF2P3DFZjz01W2a7VN9a+7x5/jtV15nTy/Od59sWKH+5eSZHauDFkS6mT+v+stj431iNe+RlLXlgtpaseUwTOxr3w2NLtS6kVSkAAABqYdSf4zqukzesIuuooX5b53p4JHWtNzt/B6Rf11Oxp9lFnuSRRn1zvtbkh/QVqqkOb9QtcxckaeLoJOfvAI8SLh2k5OV5Rr3YmDxF6vAATj6CUQBGJSNe1X5f2nag7rnep2kDL9Utj2arYE8d2ur166JEs6XnsdjnU4mvk9qc5UyH8O3OVVK7Onyju9en3KOOJV4JXYv1/schVaHz2yhYpTrKbq/WvXOH3Y0+OAycI987PqsyFdV9vJ45P0fD+gzXtKdzVRLSxadhiVJS95HGyVupAjMUdrrRj+yepGb2AnXk064P7XO3OP0C55xcrDveMUu88oUdf08ldXRGo5rJapdqrGrdMZ5kpY41zrovx9mfAuUY82LH9lJSxADdK+9a82eSzjsnmJQb1/J8c8So1O+2SgAAAHCCaqrf1rkeHkGd680R/w6IUkJiXy3bEmyqYaipDr9nl4p8i3XtBSF1+G5jZfYbM+urp04dHsDJRjAKoBZGpWTwbL2e84zS23m1aOhFGm49Y7QeHDnkjDQw5sPgza5CYUPwkQAeJd+0RG+umqxeytE9qYM1LTckdG1Aon6Zoutkd18v+SDX6kbfq+uxNOMNlaCRDz6jZ54JHcYrOeyb9poiVzOovdqozBZrzf8VO936Y3V19yRjDgAAAL5Tfp+8WwYoIeJLLuuxfnvY+Wk52fXmiXrhqDr8YxpgBa6nTh0ewMlFMAqgbqJilXT5OD226j7F3WuGbCfOWxLytPaWsYpXkXZF6CIdG5uigh11eDh663j13eS1u7xX8KpkU6w6tav2++VwrWLVc22RSmpLflsmqOfvZ2v5k6kqeCE/vGtOQ+FJUq9hkm/dIs1Zm2d1o4/cOrMmsWpzvnnuSuQ9rY2Sk5NDhkTV9lSFUFHJvaznnhZvylHOJuMO6jhKqcnVbSBe8f3MnwX66BPnYgSMa/mhOdJTsa2sEgAAANSBd+1SLbvqMiXXVCWOUL+tcz3cYtTVqryMyVJbvfmsNuoUW/XvgIBKitdpwLl1bK1q/C2REJuvkp3OdHVOhTo8gJOKYBTAMfHv8qq0s0fBZ3h6WklFdagsxbbppNjcfBUEHxPky9XK5z9yJgxRSRr4R58W/XmdvMEcbJ9PfmM8vud1Sl6epcWFzspHAvL6Qp43FHRWTw3pu1SLnimxXxxlVKi8L83RnCYTNeAXVkHt2qYqfdgazZmXK18wHP3Kp5JdET7P4DOO3e88C7Xh8Sixa19pyzqte8fuRn88+5l0xRQNMCrR6yYO09jZi7V44WLNuXu4Lq7hLfaRJanniERjQ/M1f52UOCBZxlQ1YtV3xERjDZ/m33K5bpk9S7cMHKs5W4w5w9KV2tZZDAAAANUK7CtR7sKxGvawR4/c1Nepw9cstH5bfT3c/vJ84zsFTr3bWG/DSq20vsSOrPp6s1FHvNH4O+Apo/59xC7x5xv1zZdGakjFM0VrEZWs1BsPGXX4lSoOdpMP+OXd6YvY061h1+EBnEwEowBq9s+VGnvlxc6zerpp8LxSDZl7nex3UXqUPOIRtVgw2Jp3x+s1fOfaeaSWDPBq1kD7GZWDM71KvWei9YIeW5QSxy7RvW026tZU+7lAl45car/c56y+euDZQSr982B1M/cj5XJN21BqrxbGo57TXtAg7ywN7mZu41JNK0zRkqyrq3+G6lHsbYxvtlrXXmTvR7e0SVr2wX5rrj93joaldrPKzeMY+2aC/nxrzzpVMr8PsV0vU19r7Dql/PI4q35tBhjn/zFNvCpWWxbO0qzZs5RdHKWe59axohoisftAJwxN0XV9q49FTVGdx2nJysm6uk1A2QsXKzsQr6vveEF/va/hnm8AAIDv27oJwbpqe1009B7lBAbpib8+ogERu9HXUr+toR6eNGKJBu6apcvN8l6DNWdXqu69tbJ2fyz15sThSzS7dY7G9jGXNf7mWCFNfHGyko/hvQXmNpYkF2tOmrkNY0gdrvkbvFYweqrV4QGcPI3KysrKnfEGY+vWrWratKmio6Pl8XgUExNjTTduTI4LAAAAAAAA4Pj4/XZb982bN9NiFAAAAAAAAID7EIwCAAAAAAAAcB2CUQAAAAAAAACuQzAKAAAAAAAAwHUIRgEAAAAAAAC4DsEoAAAAAAAAANchGAUAAAAAAADgOgSjAAAAAAAAAFyHYBQAAAAAAACA6zQqKysrd8YbjK1bt6pp06aKjo6Wx+NRTEyMNd24MTkuAFQncW2GM+YOxf0ynTEAAAAAAOrG7/dbPzdv3kyLUQAAAAAAAADuQzAKAAAAAAAAwHXoSg+4zP79+50xAAAAAHC3Fi1aOGMA3CK0Kz3BKAAAAAAAAABX4BmjAAAAAAAAAFyNYBQAAAAAAACA6xCMAgAAAAAAAHAdglEAAAAAAAAArkMwCgAAAAAAAMB1CEYBAAAAAAAAuA7BKAAAAAAAAADXIRgFAAAAAAAA4DoEowAAAAAAAABch2AUAAAAAAAAgOsQjAIAAAAAAABwHYJRAAAAAAAAAK5DMAoAAAAAAADAdQhGAQAAAAAAALgOwSgAAAAAAAAA1yEYBQAAAAAAAOA6BKMAAAAAAAAAXIdgFAAAAAAAAIDrEIwCAAAAAAAAcJ1GZWVl5c54g7F161Y1bdpU0dHR8ng8iomJsaYbNybHBU7UORnFzhhQ6ZPMRGcMAAAAAIAfLr/fb/3cvHkzLUYBAAAAAAAAuA/BKAAAAAAAAADXIRgFAAAAAAAA4DoEowAAAAAAAABch2AUAAAAAAAAgOsQjAIAAAAAAABwHYJRAAAAAAAAAK5DMAoAAAAAAADAdQhGAQAAAAAAALgOwSgAAAAAAAAA1yEYBVCPmirlVy00sEsL9Yp3igAAAAAAABogglEA9ehM3XtdGz0y1Bj6/8QpAwAAAAAAaHgIRgE0ED/TXzMT9UnI8P/GEK4CAAAAAIDvBsEogAbADEVbKq5kj87JKK4YfvX4v535AAAAAAAA9YtgFMAJGXjdedo2s6Mz/FgJTrmn/U8ry6e21SinPJLZt9uh6CkbhA5J0F+HOOMAAAAAAOCU0KisrKzcGW8wtm7dqqZNmyo6Oloej0cxMTHWdOPG5LjAiTJbYtanUWM6aHLCac5UdQJakVGiO5ypcD/RM9Njpb9u07VvOUWhLmqn//ffXyvL77E+xx8MUIck6JOuUc5CIds3lx8QI49VrsrlzVap05tqZVETTTbXK92ncx78zF4oKGzdI8rLdvbJ2gepqHmMUs6wZlauH7YfUsmmYq1s2UFX7/OptNNZxvLB7ZjHaU7by1XulxkMJ2pInDVawdzOb1fYLWmDYXPEfa4n5qMLAAAAAAD4ofP7/dbPzZs302IUwIkp/iwgf6BcAWeo8G1lmX/PVyp0io8Wpbhg2FiduJYaL19l93ozqOx0WLOC3e6zD+uy6e3sVqlv7dCvguUZ+1Sa0FKzrY0YzojR5LZf2fOOChh/pr8OaKLXKtb1K25AQuW6cTGKK6rcbkmcR89cZJSvKNGskiNWkGnO++0Ke/GErmbYa5bZ4ers288KWb9Yr3nOsluZGsdyWfODFccS3Ja9nc/0W6f8nIw9ymvufCYAAAAAADhhBKMATkhe9if61ZQt6mANX6rEKfdv/9wp26JfZX4mJy+MIKDSMme0OmUHlRXSzX5Ux2bymCFn8EVNZivPM5roXHOmGZoGy0NbW1oCWlFdi8sh0cayURoStm4TxQeDSGMfVlYcxGd6v9QZrYa/xBfSAvZn6hJnhqXBbdstRONaRn65VGV56AupKlubAgAAAACAE0cwCuB79m95D5ymTh2P7Q30Zlf0YOtLezC70putPpupKDtYtq8iqK0Ts6t62Dar6d5/XMzu/qHbdlq/vrVDrx2oDHknn33ICYHNrvctJaclqtVitLYAGQAAAAAA1BnBKIDvxrd1f3zxHf93UEpwupbXwaIth4zlY4/uVn5RU8XpsLzBMNNqBVpHK75SSVzL436JUnWtP21mC9MoDbn9Z850qJ8ovnlIaDp1hxZZ5eYjBo6odLc1YRxbc3WixSgAAAAAAPWGYBRAPfpMtyzZpVue82rsqr1OWR2YzwXNPqi4kK7mn2R2qP55mubymw4rZUDI8mboaJRnlTSp7A7f9vAxtLL8TL+tug/B55bWwg5qz7LWqS5YveNB8xmhLSu3XXF8/1bupyH7bA5WgGrsT+gx/lYqqqX7PgAAAAAAqDveSg+4jNkqEQ2H+Ub6y/yVb6iv9S393xEzfAUAAAAA4IeOt9IDQANSuq/yxVJ2F/qQxwEAAAAAAIDvBMEoAHyPzOerhj9CwKPSbPNFUgAAAAAA4LtEV3rAZehKj0joSg8AAAAAcAO60gMAAAAAAABwNYJRAAAAAAAAAK5DMAoAAAAAAADAdQhGAQAAAAAAALgOwSgAAAAAAAAA1yEYBQAAAAAAAOA6BKMAAAAAAAAAXIdgFAAAAAAAAIDrEIwCAAAAAAAAcB2CUQAAAAAAAACu06isrKzcGW8wtm7dqqZNmyo6Oloej0cxMTHWdOPG5LgAAAAAAAAAjo/f77d+bt68mRajAAAAAAAAANyHYBQAAAAAAACA6xCMAgAAAAAAAHAdglEAAAAAAAAArkMwCgAAAAAAAMB1CEYBAAAAAAAAuA7BKAAAAAAAAADXIRgFAAAAAAAA4DoEowAAAAAAAABch2AUAAAAAAAAgOsQjAIAAAAAAABwHYJRAAAAAAAAAK5DMAoADl/2GLVr105dH8xTwCkDAAAAAAA/TASjAGAKFGjF4zlS5wwtGJeiKKcYAAAAAAD8MDUqKysrd8YbjK1bt6pp06aKjo6Wx+NRTEyMNd24MTkucEIKs9Tuikxnonap8zbp8QGxzlR98WnNuK6a8KozGVGGVu0YryRn6mTwPneDejzk0dyX5mpgG6cQAAAAAAD8oPj9fuvn5s2bCUYBV9mxUYvWlTgTDm+eZi7fqMS08Rp0fgun0Oa5cIiGdPY4U/UlGIz2UvqdKYp3SsMlKPXGXtXM+w7sXqMxyU+r00vPaXxn2ooCAAAAAPBDRTAKoJLTivS7aR0aSTAYPfmtQgEAAAAAgLuFBqMkjQAAAAAAAABch2AUQO3MVqXt2imr0Jmuypk/JtvnFNQjs5u7se271/slf4ly5k1SWs921ue165mmMfevUPFeZ1lLsRb1M+b1W2SMVWPLIvU31u+/wFmixv33q2RdliYN7aOu5me266o+Qycpa12JMSeCwz7lPXW3xlzRw95HY+hxxTWaZOznxl286x4AAAAAgIaCYBTAKaHk49eU9fs+mlkQpZShUzTlzikan9xM7y+YpP4jslRw0FlQiUoZmChtWa28LU5RFcVvr1axsdygHsZyNTlYohW39VafG5/W+7G9NNr4zCl3jlavVnnKvLGP+v8xR15nUZtXa27vp2vu2ShdmG7tozkMTIzS+6smKaeYYBQAAAAAgIaCYBTAKSHv/kkquuZtvf3Ufcq4cZRGGUPG/c9q1UOpUmGmFm6obO2Z2DddKSrW6rcjtRktVt4ao7xHulI7OkURBVT89O2atEoaOG+V1s+bYn2mOUyZb+zHQwN16PkxmvBEyGd8sEYzVvk0ZMGrevxOe1lrP2c8qfWbduiBvvX9IisAAAAAAHC8CEYBfE8yleZ0Na86ROzSHpuh0Vcd/Z76+B6DNND4mbMjpO1muxQN7CkVr8k7ujv9ljyt3iL1GlDdG/Edgfe1+sEC6arpmj4gwuemZSjD+IyCx19THg1BAQAAAAA45RCMAvie9FK609W86tArPspZJkTfRCU4o2Fi43SeM1opXpekpUpbFmpjleeiFqxfqGKlalD3GmNR6cMCrTZ+pCYnKnI7z3il9E2RfCtU8KFTdH4v/b6ztOLG/hqzYKNKwp59CgAAAAAAGhKCUQDfky4a5HQ1rzoM6RwhioxrUU1AGVls90EaIp+e/mueKhp0BvL0xjKfdNUg9WrtlFXDX1pqrG18rKeFXRBBsxhzj4yljtjTikrU+KfXa+6IeL1//w3qk9RVfW7O0prCCC1gAQAAAADA94pgFMAPU6sUpQ6TfM/n6X0nGQ0U5GmFT0rvm3JMIesx8SRo4NRntalgvZ685zLFf5CpCVd0VdeRi1Rc8YIoAAAAAADwfSMYBXDC/P8udcYaEo9S+o9XrC9LG98zk9GA3s/Nki92vFJ71B6LeuLiFGv8LPXvtwsiOHTQb/yvsdRp9nSYVgnqdf19ejL3A62fl6749TN1/Z82ylwDAAAAAAB8/whGAdTZR59F7hJesuU1Z6xhiUpK0ZBYadE77ysQeF8bF0ixV6WoS4RHmB7l/CRr3ZzsPIW81imEV3nr8owNDlHS+U5RRB4lDMjQTWbr1aeKVeKUAgAAAACA7xfBKIDanRWvVOPHmrURQsJdK7TwoQb6DM2oFF02MlFasFEbczdqkRI1+ncpqksuaq07JknKzVRm9tHRqHeVUZ4rJY25TCm1brBU3p3Gjx6xVitUAAAAAADw/SMYBVC71qkafVuS9OoEpQ2dpMwFi7TIGDLvukE9umcp7vbxSnEWrbv3tdrZztHDxmpaaR67xB6DlKjVmnn/aqnjIKV0dGbUQeKIuXr8qmZac3Oa+tw8s2L/Zt7cR2m3rZHS5mruiERnaUPhIqVdN0kzjWWWZm9UXn6OViyYqQl9h+rut5OUcdsg1fIufAAAAAAAcJIQjAKogygl3fyUVt2Tri6H8pR1/0zNvH+p8gJdNGXdq7pvWBclOEvW3UYttbYTaSi23ghfLzqmKr2HT94dPqVcl6qQGLMO4pX6p1e1fsHv1cW3UQutfVuojb4u+v2C9drw0MDwoLNtFw1qu1/FOUt198036JqhYzTpufcV6Dpaj697SuM716mtKgAAAAAAOAkalZWVlTvjDcbWrVvVtGlTRUdHy+PxKCYmxppu3JgcFwAAAAAAAMDx8fvt1yJv3ryZFqMAAAAAAAAA3IdgFAAAAAAAAIDrEIwCAAAAAAAAcB2CUQAAAAAAAACuQzAKAAAAAAAAwHUIRgEAAAAAAAC4DsEoAAAAAAAAANchGAUAAAAAAADgOgSjAAAAAAAAAFyHYBQAAAAAAACA6xCMAgAAAAAAAHAdglEAAAAAAAAArkMwCgAAAAAAAMB1CEYBAAAAAAAAuA7BKAAAAAAAAADXIRgFAAAAAAAA4DoEowAAAAAAAABch2AUAAAAAAAAgOsQjAIAAAAAAABwHYJRAAAAAAAAAK5DMAoAAAAAAADAdQhGAQAAAAAAALgOwSgAAAAAAAAA1yEYBQAAAAAAAOA6BKMAAAAAAAAAXIdgFAAAAAAAAIDrEIwCAAAAAAAAcB2CUQD1qEBZ7dqpXbssYwwAAABwBAqU2bOdug5dqmKnqFJABfPSjDpkV13zUJ78TilOgsIs47wb9fd51N4BuBPBKOA2u9dojBVehg9jsn3OAgAAADhpjqqbdVWfoZO0KP87qpvtLdCKBStU8D2lj75DxgcHnAmHN/t23bgqTlOe36Bnb0uRxyl3i+IF/Z1r31+LtjiFPyTHcc/5Ctco64/XqE9X+/eixxXG78QmInMA9Y9gFHCr2ASl9EipGOKjnXIAAACcfMG6WXIL7c9foZlD+ykzv0qCWA+8Gx7VpPs3ynvQKThZopKUkbtDO14ar8Qop8wRP2CuNuU+rlFd3RaJmoqVt6bYuP6xijXGF67/4bXcPJ57rvS9hcrMLVXchekaNayXonYZvxNXTdCKHc4CAFBPCEYBt7rwJs1d9qyedYYpfWKdGZIvf5EmXdHD+na2a98bNDO7JKxLk//DNZo5so+6Wt9s91DaHxdV+Qb4kLzrZ+qGnk6rh5uXqriiIhQw5mVp0tDg+sb8kTO15uP6r/gDAACcMoJ1s+fW67kZKUaBT1mb7E7nBfPsVnOhPXyOKrO6RPfXok0lWnP/Deph1rO69tGEp4qdepxRB3t1piY9uNEYz9GEZHv9rEJjsqLVasjjkCKU+QuX6u5xafa2jSFSK77q64mRHrnkV8GCSUqz6owRtlfrMZ0q/Np4j1G37nqNln7oFAUVbtTCLVLimLuU0cO46sveUF5otdjp6j4zt0Qbg+egp1E/X+91FjAEz9OWgIqfmmC1sqy4Lw7a585ueVlDvftwqfLmVbP9vQVaeteYiuvUrmeaJi0oCLkG4dfRmj9vo7yHa7jnTP7QfbPvlTxntxNHrNKH+ev17Pz7NGXGk3rwOrO0SL5T68IDOAUQjAIIE3h7pvoNnak3mqXovnlz9fuEEi262aiAPu9UjrYs0vV9J2jR+oDir0pXev9Y+XwexYZ+wR+7QjPu3ChP31FKbedTSfbdun5+ntNrKkotjniVF5WiIXdO0ZQRnbR//SJNuCnS86YAAADcK7ZJlaaVtSrWzKv6aEauR6k3pireV6I191yvzFwzTQrI91WU2TDRkKiBfzDqYUZdLLGlOV03nqiAikrilWrW4W4eothCsxXfTOXsdRaoSz2xQkB59/dW2v0r5I3qpSFXBVsF9q/SUramYzpVeFXynlGX9n2k0r2hx2acg78+LZ9xPQYlD1SnnonGMiuUV3B0cLn6j0N194fGuR/WS/E7NmrRSOM8h3W7L9Zr02/Q9fesUUlFfu7VinFGPX7BRgXaDDHOcbwCZr37fyO0vJw3RpMKQrd/d+UyraIUKC5RfF/znhmvIS0LtOL+NM1cZ18D//pM+zomjLLuqfHdWyjPG1CLJjXdc8a+mX9jLChRwnVzNfeeFDXLnalr+mXawbBx70c1MZczTklupjKXGb8PaXdp4C/tMgCoN2VlZeUNbSgoKCgvKioq3759e/kXX3xhlR05cqQcQD34bHX5jW3blrcNG24sX/2ZObO0fPUfzOmh5X/5xFq6vPzQ38pnmMsM+0v5v4zJ9+f+xlrn+mfNqareL3/U2l6/8oXFTlHJ0+VDzbLfPFpe5BSF+1f56tGh+wAAAOAiwbrZb3qXDx02tHzooO5WXatt2ysq6lPvzzWn25bfuKbULjAcVVbwqL3eZQsr6lz/enaoVfab+cGSYF2vSr2ron74qFGbc0Qqq+L9OfY+PFrgTNepnuhsr+K4/1T+t0PWAuWHjGPoZ5b9YbWxp4Y6HdMpYv+/yotK9jsTDqOe/affmOfAOSfFC+3jn/W3cueUVJ6DYU+Xf+QUFT3ezyrrt9g5B8FlfnNz+V+2hXyGUf4bs/z3dj3eVLrmRvv8zXWual22X9V7f7LXcbZRsc1b/1L+UZVDrPaeC+5byLEGr+2Mt4Ilh4x76gqjrHv57Ss/Kj9q0wBwnPbv328Nb775ZjktRgG3CnvGaLw81jeyXnlfNX/maVKwK8z512iRWfS2T+Z/3g/tr6C7dIi3fkbWS106OqPRLewH6BurBb/79uWb3bCCD1PvoQnrnBkAAABu5StR3tt5yiuUkvqP0tx1T2lUsD51LPp0UaIz2izGbqrpO3x0C8Tj4f8wx3ohTrDLdNo8Z4alrvVExx6vcsyfF56n85yGsVFtEpRgjrxq1EmtEsd3eEwnS8FTPdS/9+1as9spMATe26gs45TFXpVkH1/HLrrMbF25IEd5VRvEdu1knxtDYlIv62fxwSrnIG2IBp1f2TzX5y0yq+DGDXWeglcktl0nmR/h+9Brzwuqafv+EuXMm6RrnEdttbsqyy53xHYdpCHtjG2umqQ+v+yhG+5fo5JaGvRW7NuCa3S+uU1j6HFnnjXPu89Z2Z+n1Q8VSDc+oPuuSnDdS7kAnBwEo4BbhT1jdIp6VT5i1JCqKU+Zz7gKHVIrKku1a+b8PFogP1P9ht6tpZ8laNS89dr0wXo90NeZCQAA4Fb952rTjh3aseNtrZo/RQNDAq6IDjs/q3K6H5+wI87PoB0rNKHvGGXmRumSO1/V2x98oCf/4Mz7rtXXMX1fDhYoz3zMpuLkibFKDH7lrbOaH8j352A4mKZMKy1cqpz843hUQEwzHevDFyIJHAoNXO0u72MeekNRv52iV9/5QB88Nd6Z52idqgfWbdKz96SrVzuvNi6YoD6/z1JxHbLrhBEPVPmb41ndFHwJl6eX7jN/J+5MqZfjAoBICEYBhIhXfH/zp1f7Y7ooJdl8M2pwML+l9Si2jbWg3t8W8j1+oO7f2Pt9Jda3w0lXpmuIsc1YT0D+sCYBAAAACBXVxP4G2+/fb/00nyf5/npn9Lj4FZZ9mc9ztEZKtd95Yaa/OM9u0Rm0zycr2+ufrlF9ExXvMaqAYU0Oj7GeeFa8Us2f732kj5xFArtKVGKO9DTf0P4D4S9Q1sgblWm2BL59iFKCefde4/wuN0filVTRi8sYOtttO1eszwt5uZFhU5F9bgzFBdaVUGJMzXFhbLzdOlQFH1W0wPXtsFtqxraNDW+BWbH9gIoL7Zab9vZ98uWaU5cp/fepSmxz1IW3RcUq5fr79OT69bqvhzFdaGwv+OxZS/g9F9y3kj3NFB/2N0eKEltXHpf/4+Iq2wGA+kUwCiBErFJHZijJqGxn/eEGTXpokRYtWKSZ5oPRrTdbRqlLf3O+tPHOa5T2x7vtLvHdF4W8XbRmUdFx1s+CFxcp09z2uAlaGKFuBQAAAFtC5yFWiJR31w0ac3+m7r5+jGaGvXinrjxWIGY+NinzzknKvH+SZq43KmKxiUrpac5fqttHmuUTlHbXCrOgUlSU3d371aVWHS7zTmMfckPjy2OsJ7ZO1ejbjKV9WZowYIJmGp/Zf3SmUQuNVfqwyyq6fp/afFpzZ5oy86VeU1/Vc39IrGj56N+0UdYZHnafnqroxWUMT9+ndLP8+dXaGNLtXm/frRuumKRJf0wz7gHzlaW9lN47+ICBanQeqLvSjGuUO0nXXH+3Zhr3T9rNZtydpNG/q9IKM7j9m/vrxodCtx+lKOuRDq9pqfm3wUOTjM9/ww5cHb7sCeoz8m7rvlg0b5FythmFscHWsdXcc8F9e3WCrhk30/qbY9FDxj70zKq8X7Ys0tDe/dWnb5ZxXwDAd4NgFECYqM7j9dTzRoXsV6V6Y95Mo5K6UBt9XdQp3q46Rf3SnD9FQzpLBc8v1dL3ShWflljnyqunzyg9eWMvxReuUNbiFSrtOlcbHhrlzAUAAEBVUck36al7Bioh1qucBWvkPT9D65dlhIVTdROllGse1Kie8fLlG3WxdR8pynrzfbyGzHiyonxFrjTkz69qbpq9lqVjuh4090Ebtej+pSr2jNKzf8lQijPbdGz1xCgl3fyUVt05RPGBNVpkHJf55vQpz2/QfX3C2jKeunbn6TXz+f09M3TfiMpQ1AxMN2bbwXN6zy7hLTc9XdRrmDmSo9c2VbYeiL15rqZcWKq85wt06PyBxnmaaz3Xs2bxGjj9Oc016t5RxUu1aHmRooy6+NwNz1V5fm2sxj+13t5+dol87XopY1lw+4lKz7xPA8+XNj4xU0s/8GjU8ueUYbYKdUTFnqeEf29U1v3G3w7z3lDpr9L1wNNT1Ms6sOrvOXPfHr9tiGKLFxl/cxjrZhv71z2h8r4+K0FdjH2ITYoPP0cAUI8amW98d8YbjK1bt6pp06aKjo6Wx+NRTEyMNd24MTkuAAAAAOAUsHuNxiRPUM5Vj+uDP6Xa4d5hv/xfeYy/c60laleYpXZXZEq3rdKOm832uACAE+X32w8r2bx5My1GAQAAAACod60T1KWz8fP5qUq72Xm0QPIv1fvBjeHPDwUAfG8IRgEAAAAAqHeJGvXEKk25Kl6B7KVa+qpXngvTdVOfhJBu9QCA7xNd6QEAAAAAAAC4Al3pAQAAAAAAALgawSgAAAAAAAAA1yEYBQAAAAAAAOA6BKMAAAAAAAAAXIdgFAAAAAAAAIDrEIwCAAAAAAAAcB2CUQAAAAAAAACuQzAKAAAAAAAAwHUIRgEAAAAAAAC4DsEoAAAAAAAAANchGAUAAAAAAADgOo3KysrKnfEGY+vWrWratKmio6Pl8XgUExNjTTduTI4LnKjt27c7YwAAAADgbu3bt3fGALiF3++3fm7evJlgFAAAAAAAAIA7hAajJI0AAAAAAAAAXIdgFAAAAAAAAIDrEIwCAAAAAAAAcB2CUQAAAAAAAACuQzAKAAAAAAAAwHUIRgEAAAAAAAC4DsEoAAAAAAAAANchGAUAAAAAAADgOgSjAAAAAAAAAFyHYBQAAAAAAACA6xCMAgAAAAAAAHAdglEAAAAAAAAArkMwCgAAAAAAAMB1CEYBAAAAAAAAuA7BKIBTju/lsWr/aIEz5VKF89V+fLZ8ziQAAABQP7xac1sPTcj2OtMA8MNFMAqgfh3xKX/hHRrcq73at2+vi4dP08otAWemKaCSl2dpeGo3a3631OGa9XKJUYqTptZrZFylLct0x5UXO/NnKfvjkPl1WN8U+Hil7jCWmV/oFFRnX4EWTxqsi41ttW9/sQZPWqyCfc68WvjW3qJu7ecrNCYveNTer9Ch1n0I41Xu7OG6tJuxbrdLdcvCAvmdOSYrmK+y/bEvE1EDAOB/O1PXdB2jNbudgqMUKKvrJOXsdSYNgY9XaFLPdso6pv+vxokx6uPZM3VD365q166d2nXto2v+uEgFToXHm52lvOQn9eCAeLsAAH7ACEYBF/K+PE3TXq75G+C6LBNJIH+lNra+TkvWb9f27dv18q3xyrlhlnKdilYgP0vXvhSniSvftea/u3K8Wjx1rRZTGT5partG2perWePeV8pDr9vz70jQGyON+U5YWev6Bv87czTi7mJFJToF1fJq5cSx8l78mN40trV9+5t6+L+LNHZqHVrD7srWzJf9Cv8In3w7YjVxjb1vwWFcZ2d2HRQvuVVZMaP0Qp6xbt4zGrR/loYvKXbmSqW7CjQgy75/g8Njl8c6cwEAcKOASp6fpLSn/Uro4BRFEMh/Q0/3TVVKK3vaDFJvuKsu9QXUJ3/uTA19soVGPfeOduzYoR25z+m+tBTFe+z58QMe0ANXJSjKngSAHzSCUcBlvC/fosETlmnZhMG65aXIwaf3pZBljjEcjeo+TpMvT5TnNHva84uBGtR1mYo/tqcDX/nl+0WSEp2KlzxJSu7uU+ne0DZ54byvz9Jwq3XixRo+O1vew3HOHMdXJcqePdxucRihhV8os7XfsGdyrRaBocv7dq7TrFGXqptR1i31Fi0uDNnCEa9yHw1tIRnagtKn7PFjlb3LbmVobtNqPfiPZRqWPqxyMFvIhnT/9/99cUWLTOvz/l798Zv8xvZusVrZdtOltyxWwf6oKoGgXwULb7FbOTrnqeQrZ1YVtV0j3zsrVDB0lAa0tavDnv+6WulpOVrxjh1V1ra+AsVaubaF7nzsXg083ymrll/+0iR1+WVlsBjf9RIl7ShVqTXl1crh7TX46RJrqpJX2Q+v1Hl/GKUuTklQIJCk+OPOKQuUuyBBo4Yl28d3Wqx6Xpeu2AW5Fa1SA4d9Oq81QSgAABV2b9SKbb305OM3qUuwjneUgN7PXaEh/VNkLWLUF1YY9YUpC+7ToFrrC6hPJR8sVZcbhiillRN9xsQqITlRdu3GpzXjaMELwD0IRgG3Oa2ZmlkjPmVPPDoctULRicHWesayTvh1/EpVuqOnYp2WAZ7kgZr4zixNe7lY/oBf3tfn6KEt9+rq7pFr0YHC+frDghYab7UAfFNLhkkr5+U4c01+5c4eoTfOv9ducWi28Ns7LayFX1V5U7NU3OcRe/m/3qv47LH63W3vK2XW63rXKPvrjPOUM2ZZZffs01qoTe+Jemaj3Trw5XRp5sPrnHNk2qXV985S8cX2Nq3Wg7+4TsuXLneG+zXgZ3EaZ1Q4LVsWa/j9+5X6+JvW9t59bogC91+rOX+v5oECe7I1aeT7umSx2UrxXb1+X5LyFy1ygkNb8ZLhmhVI1wvvmvv4sibHv6ZrZ+dWGxCHC79G3pJ1Sjo3vOtUfLskrdtRXUgevr7Z7GPkrJGV4XeNEtX3xijNuXe+8vcEFPAVaNnDKxWXMdAJflso7r9SlNi6hTUV5H15jlYm3KmRv6jalsHcF2f0eOzapaLYBLVp6UybzmqjTr4i7dpjTvjlr7UpKwAALtM6VVOmpiq+iTMdyd6NWrNqiFKSnP/vNuoLo+4fVcf6AupTQsd05ax7TSUHnQIAcDGCUcBl4vvN1vKsq2XHXuHhaHgoGq+rs5Zrdr8Te7aQb+0iLUtKV2pbpyA6SeMWT5TnL5fr1xf8Whc/H6d7sq5TYsS+OgEVrJujNtdfraRgpbnNAF13XUiL0T25WrFjnCZe4eyn2cKvf6q8ucWqtq1rv3Rd/Rtng55k9ert03lXXaeeTiNAz2+MsoogzOQxKpCxFd2JPB06KWmtN2T7xfq650SNS45cs/f+ZZrm/Ndkjf+NuYWA8l9dpNjr0ys+Ty2TNfLWZM3Pzo8YZHpzV6pgWLoGtHEKPEm6bnhqSDBrtnJM0sTRSXYLDHN/Lx2k5OV5Kq4maw0Vfo182vWxFNcq/Fhi23SSPtwV8pmVjrrGxyj+8gf0RN+PNC3lAl3Q7Q55L/+z7q04OR71vGO57r00OG3Yla05f+mkO8cmRuziFfBt0Zyhduve9r0G645Hc+U94sysjc+rde3iFN4mOd74vVknr/W8tIACB2O18jb7Gblmi+Phd69Ucd0SaAAAXMu/aaOKRl6mlIh1PpxMnj4ZevbcHA3t2UcT5q1Rwe46VBgB4AeKYBRwoUjh6PDxw+s9FDVbe976zHl6+I6eTmBn2LVOdwxdpGbj39X2j97VC92LNeKaacqtCCFD+eXbJXVqExKKGeJigwmhYbdX6965w3lxjzMMnCPfO76IIZ7l/DZOVyFHE6l5jN2ONiLzZUNPT9PYawdr8LXDNGxiVmVrUkdyxwRnrIpd2Zr1cIIeuTnZCfGMY9rpO+qYohI6qe/yYlXtMG7y+fKU1C78WnhahYbDu1TkW6xrLwg5B93GKlte+Wp5iVHEa3QMTnR9M2gseGyE7im+RH/evF2bN05U1KLLNfzpYmNOJF5lz16qTlNGVnmUQFCixr31ut50Wvduz3lMqYeyNPih/Gq2d6xi1ffBt/T6RucZo3kvaGLHPA2/ZWX1QTwAAK7n1WvPFWlQDx4m2jB4lHLbs9q07nEN8ryvR4d21zXTN1KXAeBKBKOAS1UNR3PX5tZvKLplscZmlmrkA+OUFO0UGgpeulu67RGNS461Wncm/d7Yj6u8mvR81ajxGPR7xOoCbwVVFYPxuc7sE+NX7r2/09ImV+uBpS/ohWeWa/mc8XXcthnizVT8nIlKDjkH342JeuGoc/CYBpzlzI4g8jWKVZvzddQzX327iqRzwwPl6q7xMdmzTote7ak7pw1Qgseoprftq4mLZivhz1laFyEs9740S0uT7tXIjk5BJFEhTVGiYtVzaLqSHivQ0Q9XKND8kEDdejZs63j1rXi+aZBX3rV9K59belpUZUvV0zxK/N90XZ27UYURw30AAKAdeco5kq7Umv7/GydfqwT1uv4+PfnqU+r18e1akU/LUQDuQzAKuFh4OGqqx1B05n6NyrpXPUMad5oBrG+HT/Gx4W0L4xMS5fP5I3Qj98hsHFq0K7zt56GDB5wxQ6tY9VxbpJLvrB5XouLlSbqsd+XLhrS3VLuc0ZqYId7MVg9ofPfQPmNm8Bh71DEFSoq07oqEkGtRKTY2RQVVnu8ZOLjfGTO0jFVCbL5KdjrTdVD9NTKuR7u+Kvg4/PO8OwrUN6Fy72pa/5j4vCqo2nU9uo06Je1S6V5nuoJPhRvWqWDG5ZUtY9sP1hzjv8HBYDOSI4d0IFYRut0naVxIkGw9G9Z6nmiJdoW2tDVb5MZ2UpvqjjMQUMDYetQJP48XAIAfpuINS6UBKRHrOWgAYhLVJcmnEqM+DgBuQzAKuFxlOFqfoWhA4x+bqOTQF9hYYtUxuaeWLs+ufOZjwKvs57I14L8TI3TFjlLSxeNU8NRKFQTrab5crXz+I2fC0DZV6cPWaM68XPmC4ehXRsVuV31V7GIV271ARduc7flLtPLpZVVaFEZgPgdzXpweuPXoLuZJvUfJt2CRcoM53r58LX54jUZe0TOsRWZQfPIAJS5fquxgGmvuw0trKpeNSlbqjYeMz1up4mCgZ77YaqcvYvfxmq+RccTdhyjpuUXK3mmv7f/nSi1dlaoh3e1PrG39Y/JfSbp601KtDHkrvz8/W0tLU5V8rjWl3NnDNO1182TFakBWaItYc3hBE53WslawubNAuR/7K497X7FWzpujQzf2rKbrfVVJ6nljiRYtz5ffvEeP+JS7bKl8xvpWK2F/sfILvQpU3L/GfGP7a4YNktkIGgAAVFWsvBc7aUhvYtGGwa/itwvk9VfWEv1bVujpZb3U65dUZgC4D8EoACscfb3o9RMORc0Wfev+PEu5+XM0+NeVXZStYbz9/NL4wY9oSfL7mtbffnlNt4HTVNTzCT3QL3JFLCp5vJ65fr+yBprbuViDHy3VwFvTQwJEj3pOe0Hjm63WtRfZn9UtbZKWfRDSovKExGvgHeNVOvu31rYvvmWlmo1+WKNq6QpW/PJMZRt/CCyeMEzD0p1hhvO4go4jteT+eOWMudje36ErpFtf0OSwlqUh2l6tR+Z30hsjzXPWTZdOXKeEEVOU7Mw2JQ5fYpzXYs1Jc8536nDN3+CNEIzWfo3UsqcmL75ERfdeapVffmeBusyfrJ5WCFqH9Y9FVLImvjheen6485zYizV8dZTx+eOcF3Ltl3/nRyreXcfrGRVQ8cLhutTZp4tHZqmk5zNaMrzuzzQzz+XkqBUanGJsI+VaLT0yXg8H1zf2yfvSNF1uzjO2323grcppMVGvTDveZ6wCAPADV7hRCxN7KaWVM43vXeCfKzTpqu5q166dMfTQ9fNLdMnyuRrSzlkAAFykUVlZWbkz3mBs3bpVTZs2VXR0tDwej2JiYqzpxo3JcQEAAAAAAAAcH7/f7rG4efNmWowCAAAAAAAAcB+CUQAAAAAAAACuQzAKAAAAAAAAwHUIRgEAAAAAAAC4DsEoAAAAAAAAANchGAUAAAAAAADgOgSjAAAAAAAAAFyHYBQAAAAAAACAq/z6178mGAUAAAAAAADgPgSjAAAAAAAAAFyHYBQAAAAAAACA6xCMAgAAAAAAAHAdglEAAAAAAAAArkMwCgAAAAAAAMB1GpWVlZU74w3G1q1b1bRpU0VHR8vj8SgmJsaabtyYHBf4vm3fvt0ZAwAAAIBTW/v27Z0xAG7h9/udMYJRAAAAAAAAAC4RGoySNAIAAAAAAABwHYJRAAAAAAAAAK5DMAoAAAAAAADAdQhGAQAAAAAAALgOwSgAAAAAAAAA1yEYBQAAAAAAAOA6BKMAAAAAAAAAXIdgFAAAAAAAAIDrEIwCAAAAAAAAcB2CUQAAAAAAAACuQzAKAAAAAAAAwHUIRgEAAAAAAAC4DsEoAAAAAAAAANchGAUAAAAAAADgOgSjAHAyfVuqvCXTNfn223X75CV676BTfgrZu/ktFe13Jmqzr1BvFR1wJgAAAOAu/9Gzd32qmQXOZD3Z8/JuNXrsS2eqPnypmSN269ndzmQt6v/zTVXO1Vf7tfYdvw45kzLGCpfvVsfRn6rR6M/0xEcHlf/6Xn35rTO7Xh3b+QBOZQSjAL5TZTte0dzJt2tpkVNQm2/36r2l03V75gaVOkV1U6ad65do9tTbdbsZOt4xWdPnvaBtDSyTO5D/vFZ/01t3zn5QD84YrgtjnBmG0vWZ9r5HHJaqrqfweBUtr/KZk6cp88+rVfjvw84Spr0qzH1FeVvqdmLNEPWVv/1DwaV3vjy97vcCAAA4pezdtFTT78jUhuoqcd8Waekdc/VWyBesx1xX/K7t/kJXjvhUjab/WxFjr+D8u77QHqfohAT2KqO+tnVK8OuJjM+V70yhBh8d0ojnD+kTZ1Jb/Bqx+TS9OP9slT8epxFxAT2zKqA3vnDmAzguBKMAvjNm5Thz2Wc6o5VTUJuynXolK1NvlLVSc6eorg7kL9P8vzVR39tm6cEHH9SsaRlKv+jXanWsG/qO7fxkp+LOTVBz81/fKv8Cx/XJsPbdGtI7GQV9lRGcfjBdRsl3Lu7Syn2YNXW0UtuWavWf5mtDRW29lXrf8qBGJ9ftxLbqNUEP3phiX89v96rkE1qPAgDww1Omna/OVebGQzXWvQ5vfk9FP++qzi3s6WOuK54scY01ojSgF//lTIf45J2vdejMRs5UPdj2jd5wRl2h9Gvl73PGUbNf/VS758bpAmdyz8dHVHhuU11wujHRuInUopWyHm+ttDh7PoDjQzAK4Lvx9Ta98W60rrpltFLOcspqUfp/6/RZ53HKuKKDznDKKn2qV+6/XdNe2ulMh9v5cYni/idVnVsalQRDE6OG3fbXCbLrCaXakHl0SwSzhWTm+mCThiItvX2J3tq8WplOq9PJM5dow8el2vbSXE2bbJZN1vQlG7Tza2eVCPZufkFz751st7icmqkXNu915nyqdfOm6dkPjL153W4ZWvnZdXFY7y25XfP/FhIsfviCpt0+Xa+EVNrNFpnTXiyxJ8p2asOS2Zp8R8i+l9mz6qLJGWerU//RGnfJN1r35CvGEZiqnMtv96rw+UxNu3e6plcctzG+KE/mkVutYJebC5do3UPzteEzo/7/ojF/5nQt/Ju5RFnI+TXXna2Fb9ufBAAAThGleVr3WWeNu22QOkQ5ZUc5rILN29Thvy+0vzA9jrriSVPaWMndpWfz/U6B49svteqtRhrR+zSnIOiwvnz3c42c8KkajfhUrf+wW3PeDXle0ldfav70z9TebGlqDB0n7dYqo/725Tuf68olh1VYGtC1GZ+pd0apCo3FzW7aV778H32y4XP1HxPSOvVfezUzZDv9H/lCW78yZ5jMrs+fK9/8rLuNfTDmH9193eyqvVvPfvofrX3E3o75OZav9utZp6zR6E917ZOhXbTtLtwp5r4Y883jG/+6XSeN2KW84PPILWq3+XTlgwG9apyvidbxfq61VnX4KxWu2K3+f6jcftj50zf65HXnXBjzzeP+5IgzK8jaf6ebubNM5bmJYH/lebI/71s1i3bmOQ599IUyMqrbp5pZ606yt2+ezytXOffSNwe09rHKc9neOAfPflTZWT5MxXn8Sm8s3K1LXjYuyN8PWuvZ57xqd/fw+7DRmM901ztO5b/Ge8dQ6/mo5R6v0/0HNEwEowC+G007aPD4wepwDC0243qN1ugeZ8uONqvyqNVPmyuu1dGRqantOW1VujnvmIK/o23TK7lnaOg0s8XkLI3rslfrFmVqXeP+yphhlM0apwv96/T8W9UEmh+9oLlr/Eoef5/d4jKjt75aM1dLN5s7dbb63nyvrvllZavMjD7H8vVuE11wflsrAA4qKfqHzmh5urb9M7g/pSr58IDOPT/BGD+gvCcXqCh2sO6cZez77Ps0vE2R5s9fp9JjfA5RXM+L1GFfkYoi9PE6kP+cnjtwkTKmTtXUabM09coOUuveumVUisIbfySob8aN6n2m1OFKY9kpUzX6f1rpcMFzWvJxB42+z2mlOvk6Dep0trMOAAA4JcT11uhRF+nsyJU42/485f+zgzp3chY6jrriydQx+XQ1e+eQCkPrTcVf65lzo9TPqM+E2bJX/Z6V0qbEqfyJs7V7ZpQOPful7nrXDLwCemPxQb2R2FzbjXnlT8SpYFxzXdJG+nH3n+rF3xvnIy5Kz2T+TBsy49TZ3qI+yTugjH+ermceNdaZcaas7Lh5E/Ub/hN7O4taapyx7bs2OMGm5YhmzCpTy+FnarexzJQkpzjMt3om64AKu7WwtvPi5T8yyg5q7bz/6NV2zj7O/7Gu3V+mfsvsZx4cyt+vftua2PtizN+d+SPdlRS5Tl6jDrF6cWKUUox67RzreH+qflZ1+DS1/lWMnpnrbP/W0/TGE/9RvnPuDxXs1ZWvSnc98FNr/qtp0hM5oRfG2f/W0cp73Dw3Zyqr3Te6ZNYX+iRivfc/evZPB5WX5LHO0+6sFkopOKTMgDPbtO/fypjzjZJudq7pPVHavXy/5mwJfcRUNcx1//S1Wg76sbX98kd/rCd6Oynj6Y11zsXN9cafzWP9qQoGSBOf/k8tj1KI1iWjW+uNyxtLv4mx9qd87I+deSHM+/CJb3XJrWfayzzUQhnB61TjvVOH81HjPR5Ul/sPaHgIRgGcIporZfhUjbs4cpjYPHmoBsf9Q/PvnazM5RtUtKcOlZYIOvXp61Tqm+jsX/9Crb7toOTLnK7vTc42KvNxKt0TKRg9rMK/vafm//M7XfgTu8LfpEVnXdOvrYryCiuesXkimse3VfOPP5Ydje7Utm2t1LVngg78s8Te/tc7tLO0gzr8lzH+2Zt6618d1Lt/sNu+cTyXDtJFgTy99bG58DFo2kqeM/bq8wjPL7IeDfDzdvZnGJqf01ZxO0qMvaujKt/2m61U41o6EwAA4AfjwAeF2tslRZ2bOgUN3c+jNSLuG734bjAdCuiNjd+oX7cYNXNKbEb5+m/Uuk+M+sWZfZwNLVtp4lVNNHPjQfs5pWHh3Olq9vMf6ce1/CVe+M1pmnFjK/3Y2aSlpUedz3aa5DaOVtK5jbVqV2idt1znXNpS17Srttmu5dAvojUlOeRB97vL9MQXTTVjkJNSn24cS68m+uQfX9vPtzTqa2HBXXRznXVmTSn4sYrSWR08lcd6XlOlHPlWn3xuTgSU99ZhnWOc3+QWzmf+/EyNS7ZHLf/6SvO3N9H4q1rY57VxlM4ZFKMZhwJatc1eJMx243hLjeUHOMdrnMvka6J0ZUi9dM87X2trrxhd83Nnp+Ja6dpflWvtP2pqhmr7ZH1AL3YOOcdRMfpxcN8Vows6/kjNrOvfRD8+7zSl7D5S+RzR4+bch5c3r7z+0cbnBlt91nTv1Ho+6nCPW+p2/wENTS3/HAPAKaJxK12YPlWz7rxRF8Vs00vzJlvduY+tdWSczg7NXRs3MaorTRRdpwr8Xu39wtjCWeHBbZO2xxgU1uTnHXSBSvSxWTP91z9U2PhcdejWQef+q1D/MJPRko+1La6t2pn7u9fYnzPPNh+RFcKY17ZMO3YeSxf+mrVte7ZK/7VDwYa6ZTt3au+5CcYn1U2TLoM0+Kz3NP/u6Zr/0nvauf/4Am0AANCQfao339mrX/yygzN9KojRJSmN9cSmg/Zbwff/R6s+Ol1Xdqsa+nwj8zvzpLPNlpeVmp17mtI+OqytitIlw85QUp5f7TN2a/5bfn35jbNQTcxnSVb9a710r+bP3q3eE8xu6J/p2teqVnQbK+W88Ng2kks6OA95Ddp9RKv2fV3Rzdoa5h3Wnn3fWoFos5QfacPZ36j3TZ9p/PK92rqvLgdwDL79Sltf/1wjjWNKsY7tKz3hzLLOr1HHrnp+W7cKOTlffKu1cafpnLDz5VHHc6W8j0Nb1Dq+/FZvVF2+xWlq7YyaPtllLPP6gcrzYQxJ+dIbe2v/42LPF+VKaVNNcPzNQb2xfLeuvM04VmPo/aeA8pxZJybyfVihpnun1vNR2z0eVLf7D2hoqv5TCwAngfk8T+eZksZwbM/arFmTFm114RXjNHXqaF3wxWq9srn6oO2bYwpNG4IEnXvuXpV8fECl/9wmdfqFzm5sthA1W48etrrZNz8/+FzVenSgVJ+Xna2zQ2uLjub/M1R9/7Na08znik6frsz8VkpPd162VBdmoD1squ6blK6u2qSl90/Xwvz6ux8AAEAD8Fmhir7tqq7nO9OniB93j9KIooDW7pO+fPdr5f0mSp2P5y/oM1tpSmacCv4QJb39H12QsVtrK54LWUf7/q3xdwWkAR5tmGt2Q/+ZnrmsHv+cbx1ld/sOG34qq2Fm4xhdMvZn2n7/j9RPAY2f5NP4jRECx6Bjyk0Pq3DZl7p2y+maMTNOedaxRWuEM/f7lDaoRZXzYQyRurDX2UGtnfOl5jc+Q0888DPlPWQc6x/NRwt8x77rewc4xfHbAOB70EnpD9rPlDz2Z23W0RkJ6hBvNpwMvvyoqp361OuM1os4/fQsHdXN/vDOnSr92dn6mTN9ohLObaud3n+o5J8HdEEHs12m/ezRbR++Z5QfdsoMcWcr7otPq7SY3akdO6Wzf3Zs53tn7lva2aazLvyJUxBq3zYVHUrRhHunaqr5nNGbB6nDcTxyqiLQvuEX+vRv/xDRKAAAPxwl+ZukX3euc4+SBiPKo/6dv9Uz7+zVixvKNa5XlZaWlmY652yp4NPwoPDQx0e06uen6Rxn2uxC/+P2rTRuSpzW/vpbPfH3GoLFSD45rPlxp+vKjpVd4HfXofVinZzZWP12H9GW0GdKRtLSo37DWmvDTU2Ut+FQtc/F/GRHSJ/0Wh3S1o/KdeVFrXRWlNPKcv8RVebGp+usM48+v2VflTtjhtanKa30SJXnifq15WMp6ecRWlD+uLEuqbp84FuFviz/rDMbadXHX9uthY/RWa0aKS/sEQdB36jwo8a6stePKx8bsO/beuhGb4p8niy13Tu1no+63uPAqYlgFMAp4oDylkzX/DcjRWYHVLKpSJ8eKJNdBTmsAx+9og1FrdShoxkC2qHlx5sLdcD6P/zD2vu3DdpUHw/+DNGp24U68PYryvu3sxf7C/Xs2m3q8D9VX0R0/Jqf10Fx/3pLb33+C/36PKfsl8YfGjs36M0dbfXz4F8ccRcq5edFynm5xD7mbw/r09dX663GFymljr3YDu/bqfeez9SCv52hvldfFLkVaPM4xZW9pbnWm+/tYfJDq7Ut4kuwztAZ0VLpZ9XFnsZ12fO5vmluLOeUAACAU9y327T5g1ZK6X4qvlyxiZK7n65PXi7TXT+K0pU/d4rDGMtcfLp2v35Qa0udppL79mrO84c1sfeP7JcmhfomYD07s/WPnD/FmzVS5/1H9Eltj650wqsC67FDh/XlNp/m59uzTtjPozXuvMO6a8Fe7Qk4gd5XB7X1X5Hewv6N9nx6RF+2aGw9a/WssxvrrG0B5Qcfh1S6V0/khYSWVUU3Umt9q08+dZZ3Ar28bfaLnsyu5mufDujFihf/RymlWxPlrT9Y/We0PkMj2h9W5l/2m73CjXvOOMerD+qu05rqml/Yi4Rp30zXtDysrGznjwGzK/+LAT1T8ZnSOX2iNG7LIc146z86ZP398I0Olfr1SWh6Wo1zLmqqSwq/0pwC5/x9c0iflJrjxrlq+a0KPnIu9v79euLFb0JC4BNhnKdeTYz78IBW7XAS7sBB7fnCGK/t3qn1fBzjPQ6cYghGAZwi/DrwxQGjHhT5tfOH/7VBSx6cpslWOHe3MteUqtOocfqd01Sz05XD1Xnvat1vBniTp2tZaYqG/k+dO3zXzXmDlTGklTZl3W0HhJkbpNQMDe9ajzGf+QzRg3u197wOMt89b2meoA5RB3SgXQddUPE81OZKGT1BF/77Bd0/2TjmO+7WkpJzNfyW36ltDf/yl76eGRJwLlV+4EINnzJBvSPVeL7dqVceWa3Tr5pa0fr3wdmzNPzcbVqyJtKT7pvrwt/11hlv258x9829OvDuEk2fan+eed3m/r+zlX7NMXTFBwAADduW9/TeTzqrc6TGlqeCX5yhcS2lK1POULWdqDu20tqRjbRqZqn1LMrWUwLGCi2U2d2MDr/S2nmfqeNo51mVN+3X2jYxmnGx81acjjHK7HhE195kzBvzuQrt0qO1b67Mi75Vxh8/N7bzua7NaaSJN5xe8Rb7ExOjfhM9uuv0gC65ydy+cQwZfs3fYjch/PKtz9X7D8FnbZYqbdNpenG0xz4fSS20tuu3mjjJXi9lwWFdObypLrHWjKDFjzTxcmnGvcbyo3drVWmULrmqmS4o+I/9uRP82totRvPbO8sbmiW30Bt9jHWCn7HEOF9XNQkJ5Oz9v7b0K6WMMfZx1Bcav62J1k6LrfLc0aDmGvHHM5RU4Fdr8zPH79eqn5+hOaHZfcufKOuuZjpj/X6dM8o+7qQ5B1Xo5Lc1an2mnvhjU+1e8aW1/Ubj/q3xb5qhpLGPvz9du/+yzzqO9tMP6Yz/PUMZwRcknaBmv/qJ1g5rrLUPf2Ftv9GE/cracqQO904dzkeN9zhwamtUVlZWw9c534+tW7eqadOmio6OlsfjUUxMjDXduDE5LgA0GKUblPnUYaXf3jf8uaabl+r2oiQ9OKyTUwAAAAAAQMPg9/udMVqMAgCO1xlnyPPlNhV+FuwKZThQoldyt6ntOafcU8QAAAAAAC5Di1EAwHEr+/AVLXkhT58ePkNnHC5TWdOfKqn/dRqU1ErO4/MBAAAAAGgwQluMEowCAAAAAAAAcAW60gMAAAAAAABwNYJRAAAAAAAAAK5DMAoAAAAAAADAdQhGAQAAAAAAALgOwSgAAAAAAAAA1yEYBQAAAAAAAOA6BKMAAAAAAAAAXIdgFAAAAAAAAIDrEIwCAAAAAAAAcB2CUQAAAAAAAACuQzAKAAAAAAAAwHUalZWVlTvjDcbWrVvVtGlTRUdHy+PxKCYmxppu3JgcFzhR27dvd8YAAAAAwN3at2/vjAFwC7/f74wRjAIAAAAAAABwidBglKQRAAAAAAAAgOsQjAIAAAAAAABwHYJRAAAAAAAAAK5DMAoAAAAAAADAdQhGAQAAAAAAALgOwSgAAAAAAAAA1yEYBQAAAAAAAOA6BKMAAAAAAAAAXIdgFAAAAAAAAIDrEIwCAAAAAAAAcB2CUQAAAAAAAACuQzAKAAAAAAAAwHUIRgEAAAAAAAC4DsEoAAAAAAAAANchGAUAAAAAAADgOgSjAAAAAAAAAFxG+v/26GbxQziGqQAAAABJRU5ErkJggg==)"
      ]
    },
    {
      "cell_type": "markdown",
      "metadata": {
        "id": "vpk7GUNkE-PB"
      },
      "source": [
        "### **Maximum Pairwise Products**"
      ]
    },
    {
      "cell_type": "markdown",
      "metadata": {
        "id": "VCHMWhMDIF92"
      },
      "source": [
        "![resultado.png](data:image/png;base64,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)"
      ]
    }
  ]
}