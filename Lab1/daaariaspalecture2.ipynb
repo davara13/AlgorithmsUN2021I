{
  "nbformat": 4,
  "nbformat_minor": 0,
  "metadata": {
    "colab": {
      "name": "daaariaspalecture2.ipynb",
      "provenance": [],
      "collapsed_sections": [
        "ZO7Y7s_T9i1B",
        "Szgrz2psE8RN"
      ],
      "toc_visible": true
    },
    "kernelspec": {
      "name": "python3",
      "display_name": "Python 3"
    }
  },
  "cells": [
    {
      "cell_type": "markdown",
      "metadata": {
        "id": "n1DpgViW8-GY"
      },
      "source": [
        "\r\n",
        "#**Introduction to Python**\r\n",
        "by Maxwell Margenot\r\n",
        "\r\n",
        "Part of the Quantopian Lecture Series:\r\n",
        "\r\n",
        "+ www.quantopian.com/lectures\r\n",
        "+ www.github.com/quantopian/research_public\r\n",
        "\r\n",
        "All of the coding that you will do on the Quantopian platform will be in Python. It is also just a good, jack-of-all-trades language to know! Here we will provide you with the basics so that you can feel confident going through our other lectures and understanding what is happening.\r\n",
        "\r\n",
        "##**Code Comments**\r\n",
        "\r\n",
        "A comment is a note made by a programmer in the source code of a program. Its purpose is to clarify the source code and make it easier for people to follow along with what is happening. Anything in a comment is generally ignored when the code is actually run, making comments useful for including explanations and reasoning as well as removing specific lines of code that you may be unsure about. Comments in Python are created by using the pound symbol (# Insert Text Here). Including a # in a line of code will comment out anything that follows it."
      ]
    },
    {
      "cell_type": "code",
      "metadata": {
        "id": "gotv9aDM9YQ_"
      },
      "source": [
        "# This is a comment\r\n",
        "# These lines of code will not change any values\r\n",
        "# Anything following the first # is not run as code\r\n",
        "\r\n",
        "# ejemplo de uso de comentario"
      ],
      "execution_count": 105,
      "outputs": []
    },
    {
      "cell_type": "markdown",
      "metadata": {
        "id": "KbXhtk5Q9cDt"
      },
      "source": [
        "You may hear text enclosed in triple quotes (\"\"\" Insert Text Here \"\"\") referred to as multi-line comments, but this is not entirely accurate. This is a special type of string (a data type we will cover), called a docstring, used to explain the purpose of a function."
      ]
    },
    {
      "cell_type": "code",
      "metadata": {
        "colab": {
          "base_uri": "https://localhost:8080/",
          "height": 35
        },
        "id": "TebRWH3T9eXj",
        "outputId": "444ca8a4-330d-47f7-bdd6-f76356698a62"
      },
      "source": [
        "\"\"\" This is a special string \"\"\""
      ],
      "execution_count": 106,
      "outputs": [
        {
          "output_type": "execute_result",
          "data": {
            "application/vnd.google.colaboratory.intrinsic+json": {
              "type": "string"
            },
            "text/plain": [
              "' This is a special string '"
            ]
          },
          "metadata": {
            "tags": []
          },
          "execution_count": 106
        }
      ]
    },
    {
      "cell_type": "code",
      "metadata": {
        "colab": {
          "base_uri": "https://localhost:8080/",
          "height": 35
        },
        "id": "dfvqcJ7_-MUn",
        "outputId": "cf00e43a-c96a-409b-f664-5c97ef629477"
      },
      "source": [
        "#mi ejemplo\r\n",
        "\"\"\" Se creó para explicar una función este comentario \"\"\""
      ],
      "execution_count": 107,
      "outputs": [
        {
          "output_type": "execute_result",
          "data": {
            "application/vnd.google.colaboratory.intrinsic+json": {
              "type": "string"
            },
            "text/plain": [
              "' Se creó para explicar una función este comentario '"
            ]
          },
          "metadata": {
            "tags": []
          },
          "execution_count": 107
        }
      ]
    },
    {
      "cell_type": "markdown",
      "metadata": {
        "id": "i9ERP0wG9gv4"
      },
      "source": [
        "Make sure you read the comments within each code cell (if they are there). They will provide more real-time explanations of what is going on as you look at each line of code."
      ]
    },
    {
      "cell_type": "markdown",
      "metadata": {
        "id": "ZO7Y7s_T9i1B"
      },
      "source": [
        "##**Variables**\r\n",
        "\r\n",
        "Variables provide names for values in programming. If you want to save a value for later or repeated use, you give the value a name, storing the contents in a variable. Variables in programming work in a fundamentally similar way to variables in algebra, but in Python they can take on various different data types.\r\n",
        "\r\n",
        "The basic variable types that we will cover in this section are integers, floating point numbers, booleans, and strings.\r\n",
        "\r\n",
        "An integer in programming is the same as in mathematics, a round number with no values after the decimal point. We use the built-in print function here to display the values of our variables as well as their types!"
      ]
    },
    {
      "cell_type": "code",
      "metadata": {
        "colab": {
          "base_uri": "https://localhost:8080/"
        },
        "id": "RHCUGjYa-ZF1",
        "outputId": "18953a18-a8b2-4cbd-d30f-8bc32862ddb3"
      },
      "source": [
        "my_integer = 50\r\n",
        "print(my_integer, type(my_integer))\r\n",
        "#mi ejemplo\r\n",
        "my_integer2 = 60\r\n",
        "print(my_integer2, type(my_integer2))"
      ],
      "execution_count": 108,
      "outputs": [
        {
          "output_type": "stream",
          "text": [
            "50 <class 'int'>\n",
            "60 <class 'int'>\n"
          ],
          "name": "stdout"
        }
      ]
    },
    {
      "cell_type": "markdown",
      "metadata": {
        "id": "4Oh_SCpc-pSa"
      },
      "source": [
        "\r\n",
        "Variables, regardless of type, are assigned by using a single equals sign (=). Variables are case-sensitive so any changes in variation in the capitals of a variable name will reference a different variable entirely."
      ]
    },
    {
      "cell_type": "code",
      "metadata": {
        "colab": {
          "base_uri": "https://localhost:8080/",
          "height": 197
        },
        "id": "wYwr-Txu-qBC",
        "outputId": "4cbdbf92-d1d7-40f6-e4fe-88089b34ed2e"
      },
      "source": [
        "#se pone el ejemplo de como manda error, debido a que es sensible a mayusculas y minusculas\r\n",
        "one = 1\r\n",
        "print(One)"
      ],
      "execution_count": 109,
      "outputs": [
        {
          "output_type": "error",
          "ename": "NameError",
          "evalue": "ignored",
          "traceback": [
            "\u001b[0;31m---------------------------------------------------------------------------\u001b[0m",
            "\u001b[0;31mNameError\u001b[0m                                 Traceback (most recent call last)",
            "\u001b[0;32m<ipython-input-109-408deea75383>\u001b[0m in \u001b[0;36m<module>\u001b[0;34m()\u001b[0m\n\u001b[1;32m      1\u001b[0m \u001b[0;31m#se pone el ejemplo de como manda error, debido a que es sensible a mayusculas y minusculas\u001b[0m\u001b[0;34m\u001b[0m\u001b[0;34m\u001b[0m\u001b[0;34m\u001b[0m\u001b[0m\n\u001b[1;32m      2\u001b[0m \u001b[0mone\u001b[0m \u001b[0;34m=\u001b[0m \u001b[0;36m1\u001b[0m\u001b[0;34m\u001b[0m\u001b[0;34m\u001b[0m\u001b[0m\n\u001b[0;32m----> 3\u001b[0;31m \u001b[0mprint\u001b[0m\u001b[0;34m(\u001b[0m\u001b[0mOne\u001b[0m\u001b[0;34m)\u001b[0m\u001b[0;34m\u001b[0m\u001b[0;34m\u001b[0m\u001b[0m\n\u001b[0m",
            "\u001b[0;31mNameError\u001b[0m: name 'One' is not defined"
          ]
        }
      ]
    },
    {
      "cell_type": "markdown",
      "metadata": {
        "id": "HakWEzqf_HCD"
      },
      "source": [
        "A floating point number, or a float is a fancy name for a real number (again as in mathematics). To define a float, we need to either include a decimal point or specify that the value is a float."
      ]
    },
    {
      "cell_type": "code",
      "metadata": {
        "colab": {
          "base_uri": "https://localhost:8080/"
        },
        "id": "grMo7MeW_H7l",
        "outputId": "ca130e87-bc0b-496c-acee-be90a7f842be"
      },
      "source": [
        "my_float = 1.0\r\n",
        "print(my_float, type(my_float))\r\n",
        "my_float = float(1)\r\n",
        "print(my_float, type(my_float))"
      ],
      "execution_count": 110,
      "outputs": [
        {
          "output_type": "stream",
          "text": [
            "1.0 <class 'float'>\n",
            "1.0 <class 'float'>\n"
          ],
          "name": "stdout"
        }
      ]
    },
    {
      "cell_type": "code",
      "metadata": {
        "colab": {
          "base_uri": "https://localhost:8080/"
        },
        "id": "0tRP6fbaAD0M",
        "outputId": "445fcde6-b5c8-43fe-823f-c6cbdabfb0d6"
      },
      "source": [
        "#mi ejemplo\r\n",
        "my_float = 4.0\r\n",
        "print(my_float, type(my_float))\r\n",
        "my_float = float(4)\r\n",
        "print(my_float, type(my_float))"
      ],
      "execution_count": 111,
      "outputs": [
        {
          "output_type": "stream",
          "text": [
            "4.0 <class 'float'>\n",
            "4.0 <class 'float'>\n"
          ],
          "name": "stdout"
        }
      ]
    },
    {
      "cell_type": "markdown",
      "metadata": {
        "id": "LrFwl54n_zO-"
      },
      "source": [
        "A variable of type float will not round the number that you store in it, while a variable of type integer will. This makes floats more suitable for mathematical calculations where you want more than just integers.\r\n",
        "\r\n",
        "Note that as we used the float() function to force an number to be considered a float, we can use the int() function to force a number to be considered an int."
      ]
    },
    {
      "cell_type": "code",
      "metadata": {
        "colab": {
          "base_uri": "https://localhost:8080/"
        },
        "id": "V1td1-6X_0Uh",
        "outputId": "389736aa-ec07-4249-bba1-4a6f47496ed9"
      },
      "source": [
        "my_int = int(3.14159)\r\n",
        "print(my_int, type(my_int))"
      ],
      "execution_count": 112,
      "outputs": [
        {
          "output_type": "stream",
          "text": [
            "3 <class 'int'>\n"
          ],
          "name": "stdout"
        }
      ]
    },
    {
      "cell_type": "code",
      "metadata": {
        "colab": {
          "base_uri": "https://localhost:8080/"
        },
        "id": "GFuvFbniAgV1",
        "outputId": "6f710208-7785-4166-f0a0-e471ecefb6c3"
      },
      "source": [
        "#mi ejemplo\r\n",
        "my_int = int(5.6548745)\r\n",
        "print(my_int, type(my_int))"
      ],
      "execution_count": 113,
      "outputs": [
        {
          "output_type": "stream",
          "text": [
            "5 <class 'int'>\n"
          ],
          "name": "stdout"
        }
      ]
    },
    {
      "cell_type": "markdown",
      "metadata": {
        "id": "AvbHlHWBDQes"
      },
      "source": [
        "\r\n",
        "The int() function will also truncate any digits that a number may have after the decimal point!\r\n",
        "\r\n",
        "Strings allow you to include text as a variable to operate on. They are defined using either single quotes ('') or double quotes (\"\")."
      ]
    },
    {
      "cell_type": "code",
      "metadata": {
        "colab": {
          "base_uri": "https://localhost:8080/"
        },
        "id": "TzobTtLpDR7l",
        "outputId": "e014e226-e486-42c5-d19f-158de7a88709"
      },
      "source": [
        "my_string = 'This is a string with single quotes'\r\n",
        "print(my_string)\r\n",
        "my_string = \"This is a string with double quotes\"\r\n",
        "print(my_string)"
      ],
      "execution_count": 114,
      "outputs": [
        {
          "output_type": "stream",
          "text": [
            "This is a string with single quotes\n",
            "This is a string with double quotes\n"
          ],
          "name": "stdout"
        }
      ]
    },
    {
      "cell_type": "code",
      "metadata": {
        "colab": {
          "base_uri": "https://localhost:8080/"
        },
        "id": "_WpTuruIDooz",
        "outputId": "ebad9baa-5c1e-4be5-c489-6c4e02b44989"
      },
      "source": [
        "#mi ejemplo\r\n",
        "my_string = 'cadena creada con comillas simples'\r\n",
        "print(my_string)\r\n",
        "my_string = \"cadena creada con comillas dobles\"\r\n",
        "print(my_string)"
      ],
      "execution_count": 115,
      "outputs": [
        {
          "output_type": "stream",
          "text": [
            "cadena creada con comillas simples\n",
            "cadena creada con comillas dobles\n"
          ],
          "name": "stdout"
        }
      ]
    },
    {
      "cell_type": "markdown",
      "metadata": {
        "id": "pA4Ein_KDynW"
      },
      "source": [
        "Both are allowed so that we can include apostrophes or quotation marks in a string if we so choose."
      ]
    },
    {
      "cell_type": "code",
      "metadata": {
        "colab": {
          "base_uri": "https://localhost:8080/"
        },
        "id": "xfJOJJfJDzi-",
        "outputId": "e97827c4-4f81-4455-b4f7-bf90fc41b193"
      },
      "source": [
        "my_string = '\"Jabberwocky\", by Lewis Carroll'\r\n",
        "print(my_string)\r\n",
        "my_string = \"'Twas brillig, and the slithy toves / Did gyre and gimble in the wabe;\"\r\n",
        "print(my_string)"
      ],
      "execution_count": 116,
      "outputs": [
        {
          "output_type": "stream",
          "text": [
            "\"Jabberwocky\", by Lewis Carroll\n",
            "'Twas brillig, and the slithy toves / Did gyre and gimble in the wabe;\n"
          ],
          "name": "stdout"
        }
      ]
    },
    {
      "cell_type": "code",
      "metadata": {
        "colab": {
          "base_uri": "https://localhost:8080/"
        },
        "id": "ezj0RqcED87g",
        "outputId": "52428571-a4ee-4324-f85b-7b9e56e07c84"
      },
      "source": [
        "#mi ejemplo\r\n",
        "my_string = '\"comillas\", dentro de una string'\r\n",
        "print(my_string)\r\n",
        "my_string = \"'comilla' dentro de una cadena\"\r\n",
        "print(my_string)"
      ],
      "execution_count": 117,
      "outputs": [
        {
          "output_type": "stream",
          "text": [
            "\"comillas\", dentro de una string\n",
            "'comilla' dentro de una cadena\n"
          ],
          "name": "stdout"
        }
      ]
    },
    {
      "cell_type": "markdown",
      "metadata": {
        "id": "yQBlKeBwEZ8T"
      },
      "source": [
        "Booleans, or bools are binary variable types. A bool can only take on one of two values, these being True or False. There is much more to this idea of truth values when it comes to programming, which we cover later in the Logical Operators of this notebook."
      ]
    },
    {
      "cell_type": "code",
      "metadata": {
        "colab": {
          "base_uri": "https://localhost:8080/"
        },
        "id": "JpCXbP1dEghv",
        "outputId": "d278bde2-9d78-4914-9f77-b98d1378364e"
      },
      "source": [
        "my_bool = True\r\n",
        "print(my_bool, type(my_bool))"
      ],
      "execution_count": 118,
      "outputs": [
        {
          "output_type": "stream",
          "text": [
            "True <class 'bool'>\n"
          ],
          "name": "stdout"
        }
      ]
    },
    {
      "cell_type": "code",
      "metadata": {
        "colab": {
          "base_uri": "https://localhost:8080/"
        },
        "id": "8Zg7R9k7Ek3J",
        "outputId": "73640483-2827-4949-87ce-88b594d49e66"
      },
      "source": [
        "#mi ejemplo\r\n",
        "my_bool = False\r\n",
        "print(my_bool, type(my_bool))"
      ],
      "execution_count": 119,
      "outputs": [
        {
          "output_type": "stream",
          "text": [
            "False <class 'bool'>\n"
          ],
          "name": "stdout"
        }
      ]
    },
    {
      "cell_type": "markdown",
      "metadata": {
        "id": "KBdisCx-Et9o"
      },
      "source": [
        "\r\n",
        "There are many more data types that you can assign as variables in Python, but these are the basic ones! We will cover a few more later as we move through this tutorial."
      ]
    },
    {
      "cell_type": "markdown",
      "metadata": {
        "id": "Szgrz2psE8RN"
      },
      "source": [
        "##**Basic Math**\r\n",
        "Python has a number of built-in math functions. These can be extended even further by importing the math package or by including any number of other calculation-based packages.\r\n",
        "\r\n",
        "All of the basic arithmetic operations are supported: +, -, /, and *. You can create exponents by using ** and modular arithmetic is introduced with the mod operator, %."
      ]
    },
    {
      "cell_type": "code",
      "metadata": {
        "colab": {
          "base_uri": "https://localhost:8080/"
        },
        "id": "V2VeXTR8FBdJ",
        "outputId": "64983743-d0e9-4b8b-d518-d1afb1ae3acd"
      },
      "source": [
        "print('Addition: ', 2 + 2)\r\n",
        "print('Subtraction: ', 7 - 4)\r\n",
        "print('Multiplication: ', 2 * 5)\r\n",
        "print('Division: ', 10 / 2)\r\n",
        "print('Exponentiation: ', 3**2)"
      ],
      "execution_count": 120,
      "outputs": [
        {
          "output_type": "stream",
          "text": [
            "Addition:  4\n",
            "Subtraction:  3\n",
            "Multiplication:  10\n",
            "Division:  5.0\n",
            "Exponentiation:  9\n"
          ],
          "name": "stdout"
        }
      ]
    },
    {
      "cell_type": "code",
      "metadata": {
        "colab": {
          "base_uri": "https://localhost:8080/"
        },
        "id": "BHGm8QViFSzF",
        "outputId": "712fa7c0-35e0-4c84-e73e-bd391448927d"
      },
      "source": [
        "#mi ejemplo\r\n",
        "print('Addition: ', 4 + 2)\r\n",
        "print('Subtraction: ', 9 - 5)\r\n",
        "print('Multiplication: ', 3 * 4)\r\n",
        "print('Division: ', 9 / 3)\r\n",
        "print('Exponentiation: ', 2**4)"
      ],
      "execution_count": 121,
      "outputs": [
        {
          "output_type": "stream",
          "text": [
            "Addition:  6\n",
            "Subtraction:  4\n",
            "Multiplication:  12\n",
            "Division:  3.0\n",
            "Exponentiation:  16\n"
          ],
          "name": "stdout"
        }
      ]
    },
    {
      "cell_type": "markdown",
      "metadata": {
        "id": "yubcldy_Fl7K"
      },
      "source": [
        "If you are not familiar with the the mod operator, it operates like a remainder function. If we type $15 \\ \\% \\ 4$, it will return the remainder after dividing $15$ by $4$."
      ]
    },
    {
      "cell_type": "code",
      "metadata": {
        "colab": {
          "base_uri": "https://localhost:8080/"
        },
        "id": "SAjraRujFptJ",
        "outputId": "4099da91-13ff-4a7d-d09b-f7ebd0c461e6"
      },
      "source": [
        "print('Modulo: ', 15 % 4)"
      ],
      "execution_count": 122,
      "outputs": [
        {
          "output_type": "stream",
          "text": [
            "Modulo:  3\n"
          ],
          "name": "stdout"
        }
      ]
    },
    {
      "cell_type": "code",
      "metadata": {
        "colab": {
          "base_uri": "https://localhost:8080/"
        },
        "id": "JTdSKuOuFuZ0",
        "outputId": "6ef8b3c6-0b9c-4a41-8113-daad9bd206de"
      },
      "source": [
        "#mi ejemplo\r\n",
        "print('Modulo: ', 9 % 2)"
      ],
      "execution_count": 123,
      "outputs": [
        {
          "output_type": "stream",
          "text": [
            "Modulo:  1\n"
          ],
          "name": "stdout"
        }
      ]
    },
    {
      "cell_type": "markdown",
      "metadata": {
        "id": "qa87Sl5oF29H"
      },
      "source": [
        "\r\n",
        "Mathematical functions also work on variables!"
      ]
    },
    {
      "cell_type": "code",
      "metadata": {
        "colab": {
          "base_uri": "https://localhost:8080/"
        },
        "id": "CQT-9nj3F3i_",
        "outputId": "a802c053-3656-469e-8cc1-bbc527c7fdad"
      },
      "source": [
        "first_integer = 4\r\n",
        "second_integer = 5\r\n",
        "print(first_integer * second_integer)"
      ],
      "execution_count": 124,
      "outputs": [
        {
          "output_type": "stream",
          "text": [
            "20\n"
          ],
          "name": "stdout"
        }
      ]
    },
    {
      "cell_type": "code",
      "metadata": {
        "colab": {
          "base_uri": "https://localhost:8080/"
        },
        "id": "A4zVzU3vF_z3",
        "outputId": "6c819458-a5aa-412b-ea8e-59e06447b042"
      },
      "source": [
        "#mi ejemplo\r\n",
        "first_integer = 3\r\n",
        "second_integer = 8\r\n",
        "print(first_integer * second_integer)"
      ],
      "execution_count": 125,
      "outputs": [
        {
          "output_type": "stream",
          "text": [
            "24\n"
          ],
          "name": "stdout"
        }
      ]
    },
    {
      "cell_type": "markdown",
      "metadata": {
        "id": "-OV3BVq2GJr3"
      },
      "source": [
        "Make sure that your variables are floats if you want to have decimal points in your answer. If you perform math exclusively with integers, you get an integer. Including any float in the calculation will make the result a float."
      ]
    },
    {
      "cell_type": "code",
      "metadata": {
        "colab": {
          "base_uri": "https://localhost:8080/"
        },
        "id": "S_M2Yd2FGKby",
        "outputId": "0b5cbebd-ce67-4bc2-e6ec-ae18ac76a642"
      },
      "source": [
        "first_integer = 11\r\n",
        "second_integer = 3\r\n",
        "print(first_integer / second_integer) #con la division no se cumple lo que se mencionó en el texto anterior"
      ],
      "execution_count": 126,
      "outputs": [
        {
          "output_type": "stream",
          "text": [
            "3.6666666666666665\n"
          ],
          "name": "stdout"
        }
      ]
    },
    {
      "cell_type": "code",
      "metadata": {
        "colab": {
          "base_uri": "https://localhost:8080/"
        },
        "id": "PbPDgP9cGVeW",
        "outputId": "644eea88-9924-4905-869d-5865a9277418"
      },
      "source": [
        "first_integer = 11.0\r\n",
        "second_integer = 3.0\r\n",
        "print(first_integer / second_integer)"
      ],
      "execution_count": 127,
      "outputs": [
        {
          "output_type": "stream",
          "text": [
            "3.6666666666666665\n"
          ],
          "name": "stdout"
        }
      ]
    },
    {
      "cell_type": "markdown",
      "metadata": {
        "id": "n6aMErP9Gt_H"
      },
      "source": [
        "Python has a few built-in math functions. The most notable of these are:\r\n",
        "+ abs()\r\n",
        "+ round()\r\n",
        "+ max()\r\n",
        "+ min()\r\n",
        "+ sum()\r\n",
        "\r\n",
        "These functions all act as you would expect, given their names. Calling abs() on a number will return its absolute value. The round() function will round a number to a specified number of the decimal points (the default is $0$). Calling max() or min() on a collection of numbers will return, respectively, the maximum or minimum value in the collection. Calling sum() on a collection of numbers will add them all up. If you're not familiar with how collections of values in Python work, don't worry! We will cover collections in-depth in the next section."
      ]
    },
    {
      "cell_type": "code",
      "metadata": {
        "colab": {
          "base_uri": "https://localhost:8080/"
        },
        "id": "pO-gaK7kHH92",
        "outputId": "ca9a786b-0ec9-441d-8956-2fe691589f95"
      },
      "source": [
        "print(abs(+5))\r\n",
        "print(round(3.2145,2)) #redondea a dos digitos\r\n",
        "print(max(1,3,4,8,10))\r\n",
        "print(min(1,3,4,8,10))\r\n",
        "print(sum((1,3,4,8,10)))\r\n",
        "print(\"verificacion de la suma anterior:\" , 1+3+4+8+10)"
      ],
      "execution_count": 128,
      "outputs": [
        {
          "output_type": "stream",
          "text": [
            "5\n",
            "3.21\n",
            "10\n",
            "1\n",
            "26\n",
            "verificacion de la suma anterior: 26\n"
          ],
          "name": "stdout"
        }
      ]
    },
    {
      "cell_type": "markdown",
      "metadata": {
        "id": "hCLd9oopIUcu"
      },
      "source": [
        "Additional math functionality can be added in with the math package."
      ]
    },
    {
      "cell_type": "code",
      "metadata": {
        "id": "qudpidNIIWrQ"
      },
      "source": [
        "import math"
      ],
      "execution_count": 129,
      "outputs": []
    },
    {
      "cell_type": "markdown",
      "metadata": {
        "id": "SSGl7dSQIaTL"
      },
      "source": [
        "The math library adds a long list of new mathematical functions to Python. Feel free to check out the documentation for the full list and details. It concludes some mathematical constants"
      ]
    },
    {
      "cell_type": "code",
      "metadata": {
        "colab": {
          "base_uri": "https://localhost:8080/"
        },
        "id": "SMhqO1mTIbIf",
        "outputId": "2700fed7-7cca-4e4b-ce0b-62878116215f"
      },
      "source": [
        "print('Pi: ', math.pi)\r\n",
        "print(\"Euler's Constant: \", math.e)"
      ],
      "execution_count": 130,
      "outputs": [
        {
          "output_type": "stream",
          "text": [
            "Pi:  3.141592653589793\n",
            "Euler's Constant:  2.718281828459045\n"
          ],
          "name": "stdout"
        }
      ]
    },
    {
      "cell_type": "markdown",
      "metadata": {
        "id": "BU93qvtSI0AW"
      },
      "source": [
        "As well as some commonly used math functions"
      ]
    },
    {
      "cell_type": "code",
      "metadata": {
        "colab": {
          "base_uri": "https://localhost:8080/"
        },
        "id": "6YJsWElsI0nJ",
        "outputId": "7ee462c4-ebf9-41f0-f314-7484162bda53"
      },
      "source": [
        "print('Cosine of pi: ', math.cos(math.pi))"
      ],
      "execution_count": 131,
      "outputs": [
        {
          "output_type": "stream",
          "text": [
            "Cosine of pi:  -1.0\n"
          ],
          "name": "stdout"
        }
      ]
    },
    {
      "cell_type": "code",
      "metadata": {
        "colab": {
          "base_uri": "https://localhost:8080/"
        },
        "id": "dghEYMeMI7Sq",
        "outputId": "33db8e8a-b75b-4e5a-ecd7-81c6a267494f"
      },
      "source": [
        "# mi ejemplo\r\n",
        "print('Seno of pi: ', math.sin(math.pi))"
      ],
      "execution_count": 132,
      "outputs": [
        {
          "output_type": "stream",
          "text": [
            "Seno of pi:  1.2246467991473532e-16\n"
          ],
          "name": "stdout"
        }
      ]
    },
    {
      "cell_type": "markdown",
      "metadata": {
        "id": "oCKQTICHJFJ-"
      },
      "source": [
        "##**Collections**\r\n",
        "###**Lists**\r\n",
        "A list in Python is an ordered collection of objects that can contain any data type. We define a list using brackets ([])."
      ]
    },
    {
      "cell_type": "code",
      "metadata": {
        "colab": {
          "base_uri": "https://localhost:8080/"
        },
        "id": "7gg5VXRyJMww",
        "outputId": "4a5af794-d43e-4818-9971-fb600fa29b2e"
      },
      "source": [
        "my_list = [1, 2, 3]\r\n",
        "print(my_list)"
      ],
      "execution_count": null,
      "outputs": [
        {
          "output_type": "stream",
          "text": [
            "[1, 2, 3]\n"
          ],
          "name": "stdout"
        }
      ]
    },
    {
      "cell_type": "code",
      "metadata": {
        "colab": {
          "base_uri": "https://localhost:8080/"
        },
        "id": "O3Jdgk0HJQqV",
        "outputId": "86dbda47-2e59-4a87-9b26-417e367dd35c"
      },
      "source": [
        "#mi ejemplo\r\n",
        "my_list2 = [4, 5, 6, 7]\r\n",
        "print(my_list2)"
      ],
      "execution_count": null,
      "outputs": [
        {
          "output_type": "stream",
          "text": [
            "[4, 5, 6, 7]\n"
          ],
          "name": "stdout"
        }
      ]
    },
    {
      "cell_type": "markdown",
      "metadata": {
        "id": "qPIpMExDJX71"
      },
      "source": [
        "We can access and index the list by using brackets as well. In order to select an individual element, simply type the list name followed by the index of the item you are looking for in braces."
      ]
    },
    {
      "cell_type": "code",
      "metadata": {
        "colab": {
          "base_uri": "https://localhost:8080/"
        },
        "id": "SyiYZnb_JYpK",
        "outputId": "1174c4c1-86bc-483c-91df-71a46609c90b"
      },
      "source": [
        "print(my_list[0])\r\n",
        "print(my_list[2])"
      ],
      "execution_count": null,
      "outputs": [
        {
          "output_type": "stream",
          "text": [
            "1\n",
            "3\n"
          ],
          "name": "stdout"
        }
      ]
    },
    {
      "cell_type": "code",
      "metadata": {
        "colab": {
          "base_uri": "https://localhost:8080/"
        },
        "id": "2C9kLc1zJfm_",
        "outputId": "8e338a3d-cf2a-4c45-f283-c4dff460ef62"
      },
      "source": [
        "print(my_list2[0])\r\n",
        "print(my_list2[3])"
      ],
      "execution_count": null,
      "outputs": [
        {
          "output_type": "stream",
          "text": [
            "4\n",
            "7\n"
          ],
          "name": "stdout"
        }
      ]
    },
    {
      "cell_type": "markdown",
      "metadata": {
        "id": "fgSFfRbAJkyn"
      },
      "source": [
        "Indexing in Python starts from $0$. If you have a list of length $n$, the first element of the list is at index $0$, the second element is at index $1$, and so on and so forth. The final element of the list will be at index $n-1$. Be careful! Trying to access a non-existent index will cause an error."
      ]
    },
    {
      "cell_type": "code",
      "metadata": {
        "colab": {
          "base_uri": "https://localhost:8080/",
          "height": 197
        },
        "id": "Myue7bjlJmff",
        "outputId": "023f465c-556a-4513-9c26-5df15ed62e01"
      },
      "source": [
        "print('The first, second, and third list elements: ', my_list[0], my_list[1], my_list[2])\r\n",
        "print('Accessing outside the list bounds causes an error: ', my_list[3])"
      ],
      "execution_count": null,
      "outputs": [
        {
          "output_type": "stream",
          "text": [
            "The first, second, and third list elements:  1 2 3\n"
          ],
          "name": "stdout"
        },
        {
          "output_type": "error",
          "ename": "IndexError",
          "evalue": "ignored",
          "traceback": [
            "\u001b[0;31m---------------------------------------------------------------------------\u001b[0m",
            "\u001b[0;31mIndexError\u001b[0m                                Traceback (most recent call last)",
            "\u001b[0;32m<ipython-input-48-a098d5dd42c3>\u001b[0m in \u001b[0;36m<module>\u001b[0;34m()\u001b[0m\n\u001b[1;32m      1\u001b[0m \u001b[0mprint\u001b[0m\u001b[0;34m(\u001b[0m\u001b[0;34m'The first, second, and third list elements: '\u001b[0m\u001b[0;34m,\u001b[0m \u001b[0mmy_list\u001b[0m\u001b[0;34m[\u001b[0m\u001b[0;36m0\u001b[0m\u001b[0;34m]\u001b[0m\u001b[0;34m,\u001b[0m \u001b[0mmy_list\u001b[0m\u001b[0;34m[\u001b[0m\u001b[0;36m1\u001b[0m\u001b[0;34m]\u001b[0m\u001b[0;34m,\u001b[0m \u001b[0mmy_list\u001b[0m\u001b[0;34m[\u001b[0m\u001b[0;36m2\u001b[0m\u001b[0;34m]\u001b[0m\u001b[0;34m)\u001b[0m\u001b[0;34m\u001b[0m\u001b[0;34m\u001b[0m\u001b[0m\n\u001b[0;32m----> 2\u001b[0;31m \u001b[0mprint\u001b[0m\u001b[0;34m(\u001b[0m\u001b[0;34m'Accessing outside the list bounds causes an error: '\u001b[0m\u001b[0;34m,\u001b[0m \u001b[0mmy_list\u001b[0m\u001b[0;34m[\u001b[0m\u001b[0;36m3\u001b[0m\u001b[0;34m]\u001b[0m\u001b[0;34m)\u001b[0m\u001b[0;34m\u001b[0m\u001b[0;34m\u001b[0m\u001b[0m\n\u001b[0m",
            "\u001b[0;31mIndexError\u001b[0m: list index out of range"
          ]
        }
      ]
    },
    {
      "cell_type": "code",
      "metadata": {
        "colab": {
          "base_uri": "https://localhost:8080/",
          "height": 214
        },
        "id": "QO7KzMPNJvZV",
        "outputId": "19545e15-9b4d-4b20-8bb6-ca88c762727f"
      },
      "source": [
        "#mi ejemplo\r\n",
        "print('The first, second, and third list elements: ', my_list2[0], my_list2[1], my_list2[2])\r\n",
        "print('Accessing outside the list bounds causes an error: ', my_list2[4])"
      ],
      "execution_count": null,
      "outputs": [
        {
          "output_type": "stream",
          "text": [
            "The first, second, and third list elements:  4 5 6\n"
          ],
          "name": "stdout"
        },
        {
          "output_type": "error",
          "ename": "IndexError",
          "evalue": "ignored",
          "traceback": [
            "\u001b[0;31m---------------------------------------------------------------------------\u001b[0m",
            "\u001b[0;31mIndexError\u001b[0m                                Traceback (most recent call last)",
            "\u001b[0;32m<ipython-input-54-7f334722f8e0>\u001b[0m in \u001b[0;36m<module>\u001b[0;34m()\u001b[0m\n\u001b[1;32m      1\u001b[0m \u001b[0;31m#mi ejemplo\u001b[0m\u001b[0;34m\u001b[0m\u001b[0;34m\u001b[0m\u001b[0;34m\u001b[0m\u001b[0m\n\u001b[1;32m      2\u001b[0m \u001b[0mprint\u001b[0m\u001b[0;34m(\u001b[0m\u001b[0;34m'The first, second, and third list elements: '\u001b[0m\u001b[0;34m,\u001b[0m \u001b[0mmy_list2\u001b[0m\u001b[0;34m[\u001b[0m\u001b[0;36m0\u001b[0m\u001b[0;34m]\u001b[0m\u001b[0;34m,\u001b[0m \u001b[0mmy_list2\u001b[0m\u001b[0;34m[\u001b[0m\u001b[0;36m1\u001b[0m\u001b[0;34m]\u001b[0m\u001b[0;34m,\u001b[0m \u001b[0mmy_list2\u001b[0m\u001b[0;34m[\u001b[0m\u001b[0;36m2\u001b[0m\u001b[0;34m]\u001b[0m\u001b[0;34m)\u001b[0m\u001b[0;34m\u001b[0m\u001b[0;34m\u001b[0m\u001b[0m\n\u001b[0;32m----> 3\u001b[0;31m \u001b[0mprint\u001b[0m\u001b[0;34m(\u001b[0m\u001b[0;34m'Accessing outside the list bounds causes an error: '\u001b[0m\u001b[0;34m,\u001b[0m \u001b[0mmy_list2\u001b[0m\u001b[0;34m[\u001b[0m\u001b[0;36m4\u001b[0m\u001b[0;34m]\u001b[0m\u001b[0;34m)\u001b[0m\u001b[0;34m\u001b[0m\u001b[0;34m\u001b[0m\u001b[0m\n\u001b[0m",
            "\u001b[0;31mIndexError\u001b[0m: list index out of range"
          ]
        }
      ]
    },
    {
      "cell_type": "markdown",
      "metadata": {
        "id": "QERKNfvMJ7ru"
      },
      "source": [
        "\r\n",
        "We can see the number of elements in a list by calling the len() function."
      ]
    },
    {
      "cell_type": "code",
      "metadata": {
        "colab": {
          "base_uri": "https://localhost:8080/"
        },
        "id": "APoTbK2BJ88P",
        "outputId": "d6be387c-8f90-4bf3-817b-4fd6847388a7"
      },
      "source": [
        "print(len(my_list))"
      ],
      "execution_count": null,
      "outputs": [
        {
          "output_type": "stream",
          "text": [
            "3\n"
          ],
          "name": "stdout"
        }
      ]
    },
    {
      "cell_type": "code",
      "metadata": {
        "colab": {
          "base_uri": "https://localhost:8080/"
        },
        "id": "Y6YTBRSiKYdu",
        "outputId": "ae39cdd6-f217-4285-d45f-d46c38dff7db"
      },
      "source": [
        "# mi ejemplo\r\n",
        "print(len(my_list2))"
      ],
      "execution_count": null,
      "outputs": [
        {
          "output_type": "stream",
          "text": [
            "4\n"
          ],
          "name": "stdout"
        }
      ]
    },
    {
      "cell_type": "markdown",
      "metadata": {
        "id": "gpIr2wwB-Xo4"
      },
      "source": [
        "\r\n",
        "We can update and change a list by accessing an index and assigning new value."
      ]
    },
    {
      "cell_type": "code",
      "metadata": {
        "colab": {
          "base_uri": "https://localhost:8080/"
        },
        "id": "j4dcR64N-YVh",
        "outputId": "5d35ab72-be0d-4ccf-9de6-d08afdc8a92e"
      },
      "source": [
        "print(my_list)\r\n",
        "my_list[0] = 42\r\n",
        "print(my_list)"
      ],
      "execution_count": null,
      "outputs": [
        {
          "output_type": "stream",
          "text": [
            "[25, 2, 3]\n",
            "[42, 2, 3]\n"
          ],
          "name": "stdout"
        }
      ]
    },
    {
      "cell_type": "code",
      "metadata": {
        "colab": {
          "base_uri": "https://localhost:8080/"
        },
        "id": "YYg5pJM4_CJY",
        "outputId": "93df3ea3-a5a5-4fb4-ff1b-247a0ddd3aa6"
      },
      "source": [
        "# mi ejemplo\r\n",
        "print(my_list2)\r\n",
        "my_list2[0] = 25\r\n",
        "print(my_list2)"
      ],
      "execution_count": null,
      "outputs": [
        {
          "output_type": "stream",
          "text": [
            "[4, 5, 6, 7]\n",
            "[25, 5, 6, 7]\n"
          ],
          "name": "stdout"
        }
      ]
    },
    {
      "cell_type": "markdown",
      "metadata": {
        "id": "FErMPwuI_rMg"
      },
      "source": [
        "This is fundamentally different from how strings are handled. A list is mutable, meaning that you can change a list's elements without changing the list itself. Some data types, like strings, are immutable, meaning you cannot change them at all. Once a string or other immutable data type has been created, it cannot be directly modified without creating an entirely new object."
      ]
    },
    {
      "cell_type": "code",
      "metadata": {
        "colab": {
          "base_uri": "https://localhost:8080/",
          "height": 180
        },
        "id": "HxknI-jg_s5Z",
        "outputId": "886cae93-2288-4178-f653-6ae65ceddecc"
      },
      "source": [
        "my_string = \"Strings never change\"\r\n",
        "my_string[0] = 'Z'\r\n",
        "#Muestra el error al intentar modificar una cadena"
      ],
      "execution_count": null,
      "outputs": [
        {
          "output_type": "error",
          "ename": "TypeError",
          "evalue": "ignored",
          "traceback": [
            "\u001b[0;31m---------------------------------------------------------------------------\u001b[0m",
            "\u001b[0;31mTypeError\u001b[0m                                 Traceback (most recent call last)",
            "\u001b[0;32m<ipython-input-22-85065ecd61ab>\u001b[0m in \u001b[0;36m<module>\u001b[0;34m()\u001b[0m\n\u001b[1;32m      1\u001b[0m \u001b[0mmy_string\u001b[0m \u001b[0;34m=\u001b[0m \u001b[0;34m\"Strings never change\"\u001b[0m\u001b[0;34m\u001b[0m\u001b[0;34m\u001b[0m\u001b[0m\n\u001b[0;32m----> 2\u001b[0;31m \u001b[0mmy_string\u001b[0m\u001b[0;34m[\u001b[0m\u001b[0;36m0\u001b[0m\u001b[0;34m]\u001b[0m \u001b[0;34m=\u001b[0m \u001b[0;34m'Z'\u001b[0m\u001b[0;34m\u001b[0m\u001b[0;34m\u001b[0m\u001b[0m\n\u001b[0m",
            "\u001b[0;31mTypeError\u001b[0m: 'str' object does not support item assignment"
          ]
        }
      ]
    },
    {
      "cell_type": "markdown",
      "metadata": {
        "id": "rhRQtGolADRP"
      },
      "source": [
        "\r\n",
        "As we stated before, a list can contain any data type. Thus, lists can also contain strings."
      ]
    },
    {
      "cell_type": "code",
      "metadata": {
        "colab": {
          "base_uri": "https://localhost:8080/"
        },
        "id": "INUlWofwAEPV",
        "outputId": "aaa19c59-6c83-4b0a-ae7f-bdfd0647146f"
      },
      "source": [
        "my_list_2 = ['one', 'two', 'three']\r\n",
        "print(my_list_2)"
      ],
      "execution_count": null,
      "outputs": [
        {
          "output_type": "stream",
          "text": [
            "['one', 'two', 'three']\n"
          ],
          "name": "stdout"
        }
      ]
    },
    {
      "cell_type": "code",
      "metadata": {
        "colab": {
          "base_uri": "https://localhost:8080/"
        },
        "id": "fJQGZ1jpAckE",
        "outputId": "b1365ddb-32bf-4973-94e8-59e7d2403271"
      },
      "source": [
        "# mi ejemplo\r\n",
        "my_list2_2 = ['uno', 'dos', 'tres']\r\n",
        "print(my_list2_2)"
      ],
      "execution_count": null,
      "outputs": [
        {
          "output_type": "stream",
          "text": [
            "['uno', 'dos', 'tres']\n"
          ],
          "name": "stdout"
        }
      ]
    },
    {
      "cell_type": "markdown",
      "metadata": {
        "id": "HZ_8FXkDAWbL"
      },
      "source": [
        "\r\n",
        "Lists can also contain multiple different data types at once!"
      ]
    },
    {
      "cell_type": "code",
      "metadata": {
        "id": "YJI5zoyVAXRC"
      },
      "source": [
        "my_list_3 = [True, 'False', 42]"
      ],
      "execution_count": null,
      "outputs": []
    },
    {
      "cell_type": "code",
      "metadata": {
        "colab": {
          "base_uri": "https://localhost:8080/"
        },
        "id": "R62R7joDAuOd",
        "outputId": "ad509037-d38d-4274-f83e-22b0ae0e2c16"
      },
      "source": [
        "# mi ejemplo\r\n",
        "my_list3_3 = [53.0,30, 'cadena', False]\r\n",
        "print(my_list3_3)"
      ],
      "execution_count": null,
      "outputs": [
        {
          "output_type": "stream",
          "text": [
            "[53.0, 30, 'cadena', False]\n"
          ],
          "name": "stdout"
        }
      ]
    },
    {
      "cell_type": "markdown",
      "metadata": {
        "id": "N7NvzjLyBQQc"
      },
      "source": [
        "If you want to put two lists together, they can be combined with a + symbol."
      ]
    },
    {
      "cell_type": "code",
      "metadata": {
        "colab": {
          "base_uri": "https://localhost:8080/"
        },
        "id": "h00h-yd_BSbi",
        "outputId": "f8e732cc-a80d-4809-c8ab-8e7ec817bf6e"
      },
      "source": [
        "my_list_4 = my_list + my_list_2 + my_list_3\r\n",
        "print(my_list_4)"
      ],
      "execution_count": null,
      "outputs": [
        {
          "output_type": "stream",
          "text": [
            "[42, 2, 3, 'one', 'two', 'three', True, 'False', 42]\n"
          ],
          "name": "stdout"
        }
      ]
    },
    {
      "cell_type": "code",
      "metadata": {
        "colab": {
          "base_uri": "https://localhost:8080/"
        },
        "id": "_N9VAlFRBbrD",
        "outputId": "633779a4-e3af-4cfd-a943-24f468a89704"
      },
      "source": [
        "# mi ejemplo\r\n",
        "my_list4_4 = my_list2 + my_list2_2 + my_list3_3\r\n",
        "print(my_list4_4)"
      ],
      "execution_count": null,
      "outputs": [
        {
          "output_type": "stream",
          "text": [
            "[25, 5, 6, 7, 'uno', 'dos', 'tres', 53.0, 30, 'cadena', False]\n"
          ],
          "name": "stdout"
        }
      ]
    },
    {
      "cell_type": "markdown",
      "metadata": {
        "id": "eevUtkrpBlma"
      },
      "source": [
        "In addition to accessing individual elements of a list, we can access groups of elements through slicing."
      ]
    },
    {
      "cell_type": "code",
      "metadata": {
        "id": "5Q_STCvdBnzU"
      },
      "source": [
        "my_list = ['friends', 'romans', 'countrymen', 'lend', 'me', 'your', 'ears']"
      ],
      "execution_count": 3,
      "outputs": []
    },
    {
      "cell_type": "code",
      "metadata": {
        "id": "AXa_4Y5eCL_V"
      },
      "source": [
        "# mi ejemplo\r\n",
        "my_list1 = ['holi', 'holiwis', 'hi', 'hello', 'uwu', 'unu']"
      ],
      "execution_count": 4,
      "outputs": []
    },
    {
      "cell_type": "markdown",
      "metadata": {
        "id": "GUgqs-rUCAGk"
      },
      "source": [
        "######**Slicing**\r\n",
        "We use the colon (:) to slice lists."
      ]
    },
    {
      "cell_type": "code",
      "metadata": {
        "colab": {
          "base_uri": "https://localhost:8080/"
        },
        "id": "_6Ct68q_CHbW",
        "outputId": "b78a5159-dbe5-42c3-99de-b72ef5fefc81"
      },
      "source": [
        "print(my_list[2:4])"
      ],
      "execution_count": 5,
      "outputs": [
        {
          "output_type": "stream",
          "text": [
            "['countrymen', 'lend']\n"
          ],
          "name": "stdout"
        }
      ]
    },
    {
      "cell_type": "code",
      "metadata": {
        "colab": {
          "base_uri": "https://localhost:8080/"
        },
        "id": "xG1hfTMmC0dK",
        "outputId": "584e5ae1-f5a0-420d-b52c-02a321b30b18"
      },
      "source": [
        "# mi ejemplo\r\n",
        "print(my_list1[4:6])"
      ],
      "execution_count": 6,
      "outputs": [
        {
          "output_type": "stream",
          "text": [
            "['uwu', 'unu']\n"
          ],
          "name": "stdout"
        }
      ]
    },
    {
      "cell_type": "markdown",
      "metadata": {
        "id": "oSLhUBG7EHiO"
      },
      "source": [
        "Using : we can select a group of elements in the list starting from the first element indicated and going up to (but not including) the last element indicated.\r\n",
        "\r\n",
        "We can also select everything after a certain point"
      ]
    },
    {
      "cell_type": "code",
      "metadata": {
        "colab": {
          "base_uri": "https://localhost:8080/"
        },
        "id": "534sR7kfFO4W",
        "outputId": "d5f50431-5bf6-4594-a17f-479330f55264"
      },
      "source": [
        "print(my_list[1:])"
      ],
      "execution_count": 7,
      "outputs": [
        {
          "output_type": "stream",
          "text": [
            "['romans', 'countrymen', 'lend', 'me', 'your', 'ears']\n"
          ],
          "name": "stdout"
        }
      ]
    },
    {
      "cell_type": "code",
      "metadata": {
        "colab": {
          "base_uri": "https://localhost:8080/"
        },
        "id": "KAxv3ZgfFThh",
        "outputId": "d0941e0c-e6da-4146-c849-7e539e16452c"
      },
      "source": [
        "#mi ejemplo\r\n",
        "print(my_list1[3:])"
      ],
      "execution_count": 8,
      "outputs": [
        {
          "output_type": "stream",
          "text": [
            "['hello', 'uwu', 'unu']\n"
          ],
          "name": "stdout"
        }
      ]
    },
    {
      "cell_type": "markdown",
      "metadata": {
        "id": "-GObxLzkGUOh"
      },
      "source": [
        "\r\n",
        "And everything before a certain point"
      ]
    },
    {
      "cell_type": "code",
      "metadata": {
        "colab": {
          "base_uri": "https://localhost:8080/"
        },
        "id": "IWRtzpOeGVHm",
        "outputId": "c8f5169d-d20e-45e6-f15d-7c8af01e5be3"
      },
      "source": [
        "print(my_list[:4])"
      ],
      "execution_count": 9,
      "outputs": [
        {
          "output_type": "stream",
          "text": [
            "['friends', 'romans', 'countrymen', 'lend']\n"
          ],
          "name": "stdout"
        }
      ]
    },
    {
      "cell_type": "code",
      "metadata": {
        "colab": {
          "base_uri": "https://localhost:8080/"
        },
        "id": "-9y06na3Gh9T",
        "outputId": "80d9cb9a-2e35-4dcc-8918-67777c3ad2b2"
      },
      "source": [
        "#mi ejemplo\r\n",
        "print(my_list[:3])"
      ],
      "execution_count": 10,
      "outputs": [
        {
          "output_type": "stream",
          "text": [
            "['friends', 'romans', 'countrymen']\n"
          ],
          "name": "stdout"
        }
      ]
    },
    {
      "cell_type": "markdown",
      "metadata": {
        "id": "Se0JTcVqGrIk"
      },
      "source": [
        "Using negative numbers will count from the end of the indices instead of from the beginning. For example, an index of -1 indicates the last element of the list."
      ]
    },
    {
      "cell_type": "code",
      "metadata": {
        "colab": {
          "base_uri": "https://localhost:8080/"
        },
        "id": "T0Futy7_Gr2C",
        "outputId": "a4abfb33-c92f-4f1a-91a7-ff6d56980e92"
      },
      "source": [
        "print(my_list[-1])"
      ],
      "execution_count": 11,
      "outputs": [
        {
          "output_type": "stream",
          "text": [
            "ears\n"
          ],
          "name": "stdout"
        }
      ]
    },
    {
      "cell_type": "code",
      "metadata": {
        "colab": {
          "base_uri": "https://localhost:8080/"
        },
        "id": "fHyxUwPMG0Gr",
        "outputId": "41a9a547-e35d-4deb-dbd1-eab163b307bf"
      },
      "source": [
        "#mi ejemplo\r\n",
        "print(my_list1[-2])"
      ],
      "execution_count": 12,
      "outputs": [
        {
          "output_type": "stream",
          "text": [
            "uwu\n"
          ],
          "name": "stdout"
        }
      ]
    },
    {
      "cell_type": "markdown",
      "metadata": {
        "id": "Ohtl0vJXHE6m"
      },
      "source": [
        "\r\n",
        "You can also add a third component to slicing. Instead of simply indicating the first and final parts of your slice, you can specify the step size that you want to take. So instead of taking every single element, you can take every other element."
      ]
    },
    {
      "cell_type": "code",
      "metadata": {
        "colab": {
          "base_uri": "https://localhost:8080/"
        },
        "id": "T9_STkK8HN3Z",
        "outputId": "d55c9ce7-ed6e-45c6-c041-09373b4645d2"
      },
      "source": [
        "print(my_list[0:7:2])"
      ],
      "execution_count": 13,
      "outputs": [
        {
          "output_type": "stream",
          "text": [
            "['friends', 'countrymen', 'me', 'ears']\n"
          ],
          "name": "stdout"
        }
      ]
    },
    {
      "cell_type": "code",
      "metadata": {
        "colab": {
          "base_uri": "https://localhost:8080/"
        },
        "id": "on1JG7YtHa_c",
        "outputId": "4fa32d92-083d-41a2-e535-c434c9ff85fd"
      },
      "source": [
        "#miejemplo\r\n",
        "print(my_list1[0:6:3])"
      ],
      "execution_count": 14,
      "outputs": [
        {
          "output_type": "stream",
          "text": [
            "['holi', 'hello']\n"
          ],
          "name": "stdout"
        }
      ]
    },
    {
      "cell_type": "markdown",
      "metadata": {
        "id": "j3M2DLjZHviq"
      },
      "source": [
        "\r\n",
        "Here we have selected the entire list (because 0:7 will yield elements 0 through 6) and we have selected a step size of 2. So this will spit out element 0 , element 2, element 4, and so on through the list element selected. We can skip indicated the beginning and end of our slice, only indicating the step, if we like."
      ]
    },
    {
      "cell_type": "code",
      "metadata": {
        "colab": {
          "base_uri": "https://localhost:8080/"
        },
        "id": "5XjeDnRvIJY5",
        "outputId": "de3fa3c6-2f05-4e8e-ed95-c47d3a071745"
      },
      "source": [
        "print(my_list[::2])"
      ],
      "execution_count": 15,
      "outputs": [
        {
          "output_type": "stream",
          "text": [
            "['friends', 'countrymen', 'me', 'ears']\n"
          ],
          "name": "stdout"
        }
      ]
    },
    {
      "cell_type": "code",
      "metadata": {
        "colab": {
          "base_uri": "https://localhost:8080/"
        },
        "id": "tHhZTZodIPCS",
        "outputId": "aaa35b17-17d8-4e3b-ff54-a876196fc687"
      },
      "source": [
        "#mi ejemplo\r\n",
        "print(my_list1[::3])"
      ],
      "execution_count": 16,
      "outputs": [
        {
          "output_type": "stream",
          "text": [
            "['holi', 'hello']\n"
          ],
          "name": "stdout"
        }
      ]
    },
    {
      "cell_type": "markdown",
      "metadata": {
        "id": "uTq9h8drIXnQ"
      },
      "source": [
        "\r\n",
        "Lists implictly select the beginning and end of the list when not otherwise specified."
      ]
    },
    {
      "cell_type": "code",
      "metadata": {
        "colab": {
          "base_uri": "https://localhost:8080/"
        },
        "id": "oXDjzA5RIYU3",
        "outputId": "7b0a7088-05b4-4f55-f4e3-d4e28dab6825"
      },
      "source": [
        "print(my_list[:])"
      ],
      "execution_count": 17,
      "outputs": [
        {
          "output_type": "stream",
          "text": [
            "['friends', 'romans', 'countrymen', 'lend', 'me', 'your', 'ears']\n"
          ],
          "name": "stdout"
        }
      ]
    },
    {
      "cell_type": "code",
      "metadata": {
        "colab": {
          "base_uri": "https://localhost:8080/"
        },
        "id": "fUeBaXmtIziv",
        "outputId": "7f73bc84-280d-453c-bed5-26dbf0b97d43"
      },
      "source": [
        "#miejemplo\r\n",
        "print(my_list1[:])"
      ],
      "execution_count": 18,
      "outputs": [
        {
          "output_type": "stream",
          "text": [
            "['holi', 'holiwis', 'hi', 'hello', 'uwu', 'unu']\n"
          ],
          "name": "stdout"
        }
      ]
    },
    {
      "cell_type": "markdown",
      "metadata": {
        "id": "sUBTCPbTJcLg"
      },
      "source": [
        "\r\n",
        "With a negative step size we can even reverse the list!"
      ]
    },
    {
      "cell_type": "code",
      "metadata": {
        "colab": {
          "base_uri": "https://localhost:8080/"
        },
        "id": "yx3Vin4CJdIN",
        "outputId": "5f283a76-3160-42be-95d8-e1741670e6e3"
      },
      "source": [
        "print(my_list[::-1])"
      ],
      "execution_count": 19,
      "outputs": [
        {
          "output_type": "stream",
          "text": [
            "['ears', 'your', 'me', 'lend', 'countrymen', 'romans', 'friends']\n"
          ],
          "name": "stdout"
        }
      ]
    },
    {
      "cell_type": "code",
      "metadata": {
        "colab": {
          "base_uri": "https://localhost:8080/"
        },
        "id": "_ORgXis9JhDJ",
        "outputId": "09e9fd45-9452-40b1-ce3d-e5719b96719d"
      },
      "source": [
        "#miejemplo\r\n",
        "print(my_list1[::-1])"
      ],
      "execution_count": 20,
      "outputs": [
        {
          "output_type": "stream",
          "text": [
            "['unu', 'uwu', 'hello', 'hi', 'holiwis', 'holi']\n"
          ],
          "name": "stdout"
        }
      ]
    },
    {
      "cell_type": "markdown",
      "metadata": {
        "id": "0BVpQHgxJzxX"
      },
      "source": [
        "\r\n",
        "Python does not have native matrices, but with lists we can produce a working fascimile. Other packages, such as numpy, add matrices as a separate data type, but in base Python the best way to create a matrix is to use a list of lists.\r\n",
        "\r\n",
        "We can also use built-in functions to generate lists. In particular we will look at range() (because we will be using it later!). Range can take several different inputs and will return a list."
      ]
    },
    {
      "cell_type": "code",
      "metadata": {
        "colab": {
          "base_uri": "https://localhost:8080/"
        },
        "id": "2ira1Hq9J0fA",
        "outputId": "78f669b8-88ea-48ae-b2c5-6b77865a152b"
      },
      "source": [
        "b = 10\r\n",
        "my_list = range(b)\r\n",
        "print(my_list)"
      ],
      "execution_count": 21,
      "outputs": [
        {
          "output_type": "stream",
          "text": [
            "range(0, 10)\n"
          ],
          "name": "stdout"
        }
      ]
    },
    {
      "cell_type": "markdown",
      "metadata": {
        "id": "Y5hjq62JKPZt"
      },
      "source": [
        "Similar to our list-slicing methods from before, we can define both a start and an end for our range. This will return a list that is includes the start and excludes the end, just like a slice."
      ]
    },
    {
      "cell_type": "code",
      "metadata": {
        "colab": {
          "base_uri": "https://localhost:8080/"
        },
        "id": "DVpbWdTGKQMZ",
        "outputId": "0af52b02-e065-4692-87f7-96c510c66d44"
      },
      "source": [
        "a = 0\r\n",
        "b = 10\r\n",
        "my_list = range(a, b)\r\n",
        "print(my_list)"
      ],
      "execution_count": 22,
      "outputs": [
        {
          "output_type": "stream",
          "text": [
            "range(0, 10)\n"
          ],
          "name": "stdout"
        }
      ]
    },
    {
      "cell_type": "markdown",
      "metadata": {
        "id": "mVweQd6CMCJ7"
      },
      "source": [
        "\r\n",
        "We can also specify a step size. This again has the same behavior as a slice."
      ]
    },
    {
      "cell_type": "code",
      "metadata": {
        "colab": {
          "base_uri": "https://localhost:8080/"
        },
        "id": "wEdy-FGTrYic",
        "outputId": "0b002e2c-6ddd-435f-ff96-bab8a713483c"
      },
      "source": [
        "a = 0\r\n",
        "b = 10\r\n",
        "step = 2\r\n",
        "my_list = range(a, b, step)\r\n",
        "print(my_list)"
      ],
      "execution_count": 23,
      "outputs": [
        {
          "output_type": "stream",
          "text": [
            "range(0, 10, 2)\n"
          ],
          "name": "stdout"
        }
      ]
    },
    {
      "cell_type": "markdown",
      "metadata": {
        "id": "c196i7OJ5ujs"
      },
      "source": [
        "###**Tuples**\r\n",
        "A tuple is a data type similar to a list in that it can hold different kinds of data types. The key difference here is that a tuple is immutable. We define a tuple by separating the elements we want to include by commas. It is conventional to surround a tuple with parentheses."
      ]
    },
    {
      "cell_type": "code",
      "metadata": {
        "colab": {
          "base_uri": "https://localhost:8080/"
        },
        "id": "RRDx3J-K6SQy",
        "outputId": "2f84cb4a-fff0-4b97-ce81-fa9609f1b14b"
      },
      "source": [
        "my_tuple = 'I', 'have', 30, 'cats'\r\n",
        "print(my_tuple)"
      ],
      "execution_count": 1,
      "outputs": [
        {
          "output_type": "stream",
          "text": [
            "('I', 'have', 30, 'cats')\n"
          ],
          "name": "stdout"
        }
      ]
    },
    {
      "cell_type": "code",
      "metadata": {
        "colab": {
          "base_uri": "https://localhost:8080/"
        },
        "id": "Avk-7Pz_7c5k",
        "outputId": "5f32d244-5d11-4cf9-97af-bd9794a74ee3"
      },
      "source": [
        "#mi ejemplo\r\n",
        "my_tuple1 = 'yo', 'tengo', False, 25.0, 'gatos'\r\n",
        "print(my_tuple1)"
      ],
      "execution_count": 5,
      "outputs": [
        {
          "output_type": "stream",
          "text": [
            "('yo', 'tengo', False, 25.0, 'gatos')\n"
          ],
          "name": "stdout"
        }
      ]
    },
    {
      "cell_type": "markdown",
      "metadata": {
        "id": "glyM9BSC78yx"
      },
      "source": [
        "As mentioned before, tuples are immutable. You can't change any part of them without defining a new tuple."
      ]
    },
    {
      "cell_type": "code",
      "metadata": {
        "colab": {
          "base_uri": "https://localhost:8080/",
          "height": 163
        },
        "id": "aEsVbK0579ea",
        "outputId": "38bee23c-1cc8-4f08-e810-44df5d65dbc1"
      },
      "source": [
        "my_tuple[3] = 'dogs' # Attempts to change the 'cats' value stored in the the tuple to 'dogs'"
      ],
      "execution_count": 6,
      "outputs": [
        {
          "output_type": "error",
          "ename": "TypeError",
          "evalue": "ignored",
          "traceback": [
            "\u001b[0;31m---------------------------------------------------------------------------\u001b[0m",
            "\u001b[0;31mTypeError\u001b[0m                                 Traceback (most recent call last)",
            "\u001b[0;32m<ipython-input-6-c821a6bdb1a6>\u001b[0m in \u001b[0;36m<module>\u001b[0;34m()\u001b[0m\n\u001b[0;32m----> 1\u001b[0;31m \u001b[0mmy_tuple\u001b[0m\u001b[0;34m[\u001b[0m\u001b[0;36m3\u001b[0m\u001b[0;34m]\u001b[0m \u001b[0;34m=\u001b[0m \u001b[0;34m'dogs'\u001b[0m \u001b[0;31m# Attempts to change the 'cats' value stored in the the tuple to 'dogs'\u001b[0m\u001b[0;34m\u001b[0m\u001b[0;34m\u001b[0m\u001b[0m\n\u001b[0m",
            "\u001b[0;31mTypeError\u001b[0m: 'tuple' object does not support item assignment"
          ]
        }
      ]
    },
    {
      "cell_type": "code",
      "metadata": {
        "colab": {
          "base_uri": "https://localhost:8080/",
          "height": 163
        },
        "id": "wMnxkRvb8nRA",
        "outputId": "d4a406ea-7d56-4ff9-83f0-fc74b33f94c9"
      },
      "source": [
        "#miejemplo\r\n",
        "my_tuple[0] = 'perros'"
      ],
      "execution_count": 7,
      "outputs": [
        {
          "output_type": "error",
          "ename": "TypeError",
          "evalue": "ignored",
          "traceback": [
            "\u001b[0;31m---------------------------------------------------------------------------\u001b[0m",
            "\u001b[0;31mTypeError\u001b[0m                                 Traceback (most recent call last)",
            "\u001b[0;32m<ipython-input-7-6384ec8bf1f3>\u001b[0m in \u001b[0;36m<module>\u001b[0;34m()\u001b[0m\n\u001b[0;32m----> 1\u001b[0;31m \u001b[0mmy_tuple\u001b[0m\u001b[0;34m[\u001b[0m\u001b[0;36m0\u001b[0m\u001b[0;34m]\u001b[0m \u001b[0;34m=\u001b[0m \u001b[0;34m'perros'\u001b[0m\u001b[0;34m\u001b[0m\u001b[0;34m\u001b[0m\u001b[0m\n\u001b[0m",
            "\u001b[0;31mTypeError\u001b[0m: 'tuple' object does not support item assignment"
          ]
        }
      ]
    },
    {
      "cell_type": "markdown",
      "metadata": {
        "id": "84RRiP1S8wsQ"
      },
      "source": [
        "\r\n",
        "You can slice tuples the same way that you slice lists!"
      ]
    },
    {
      "cell_type": "code",
      "metadata": {
        "colab": {
          "base_uri": "https://localhost:8080/"
        },
        "id": "9YtgVtki8zAL",
        "outputId": "a2a4b5ef-6cd5-4f7c-c9be-6687eb62325a"
      },
      "source": [
        "print(my_tuple[1:3])"
      ],
      "execution_count": 8,
      "outputs": [
        {
          "output_type": "stream",
          "text": [
            "('have', 30)\n"
          ],
          "name": "stdout"
        }
      ]
    },
    {
      "cell_type": "code",
      "metadata": {
        "colab": {
          "base_uri": "https://localhost:8080/"
        },
        "id": "0ESSi4pk9455",
        "outputId": "ae5128a9-a7ab-407c-9717-eb657f0c245c"
      },
      "source": [
        "#mi ejemplo\r\n",
        "print(my_tuple1[0:2])"
      ],
      "execution_count": 9,
      "outputs": [
        {
          "output_type": "stream",
          "text": [
            "('yo', 'tengo')\n"
          ],
          "name": "stdout"
        }
      ]
    },
    {
      "cell_type": "markdown",
      "metadata": {
        "id": "8SBXRpST-AK6"
      },
      "source": [
        "And concatenate them the way that you would with strings!"
      ]
    },
    {
      "cell_type": "code",
      "metadata": {
        "colab": {
          "base_uri": "https://localhost:8080/"
        },
        "id": "hh-R24mI-Bb7",
        "outputId": "ac7685e9-0b89-4b9c-ce78-c592609bf52b"
      },
      "source": [
        "my_other_tuple = ('make', 'that', 50)\r\n",
        "print(my_tuple + my_other_tuple)"
      ],
      "execution_count": 10,
      "outputs": [
        {
          "output_type": "stream",
          "text": [
            "('I', 'have', 30, 'cats', 'make', 'that', 50)\n"
          ],
          "name": "stdout"
        }
      ]
    },
    {
      "cell_type": "code",
      "metadata": {
        "colab": {
          "base_uri": "https://localhost:8080/"
        },
        "id": "RdnE1yvE-HVH",
        "outputId": "4ef81e1c-d6ad-4ef7-f15e-a72a7e17a591"
      },
      "source": [
        "#mi ejemplo\r\n",
        "my_other_tuple1 = ('holi', 'holiwis',30.0, True)\r\n",
        "print(my_tuple1 + my_other_tuple1)"
      ],
      "execution_count": 11,
      "outputs": [
        {
          "output_type": "stream",
          "text": [
            "('yo', 'tengo', False, 25.0, 'gatos', 'holi', 'holiwis', 30.0, True)\n"
          ],
          "name": "stdout"
        }
      ]
    },
    {
      "cell_type": "markdown",
      "metadata": {
        "id": "J5sc90Nc-TXk"
      },
      "source": [
        "\r\n",
        "We can 'pack' values together, creating a tuple (as above), or we can 'unpack' values from a tuple, taking them out."
      ]
    },
    {
      "cell_type": "code",
      "metadata": {
        "colab": {
          "base_uri": "https://localhost:8080/"
        },
        "id": "xa_pOF5C-W7h",
        "outputId": "3935eb94-3854-4a4d-fccf-5a37b9e97533"
      },
      "source": [
        "str_1, str_2, int_1 = my_other_tuple\r\n",
        "print(str_1, str_2, int_1)"
      ],
      "execution_count": 12,
      "outputs": [
        {
          "output_type": "stream",
          "text": [
            "make that 50\n"
          ],
          "name": "stdout"
        }
      ]
    },
    {
      "cell_type": "code",
      "metadata": {
        "colab": {
          "base_uri": "https://localhost:8080/"
        },
        "id": "UP8yVhX5-tK6",
        "outputId": "2162cb14-bf9f-4e48-db99-8b691cac7af5"
      },
      "source": [
        "#mi ejemplo\r\n",
        "str_11, str_21, float_1, boolean_1 = my_other_tuple1\r\n",
        "print(str_11, str_21, float_1, boolean_1)"
      ],
      "execution_count": 15,
      "outputs": [
        {
          "output_type": "stream",
          "text": [
            "holi holiwis 30.0 True\n"
          ],
          "name": "stdout"
        }
      ]
    },
    {
      "cell_type": "markdown",
      "metadata": {
        "id": "2WbykP4-_woN"
      },
      "source": [
        "###**Sets**\r\n",
        "A set is a collection of unordered, unique elements. It works almost exactly as you would expect a normal set of things in mathematics to work and is defined using braces ({})."
      ]
    },
    {
      "cell_type": "code",
      "metadata": {
        "colab": {
          "base_uri": "https://localhost:8080/"
        },
        "id": "BPR3m7npAIzZ",
        "outputId": "77c22ce5-dfda-4122-f299-da0279f4fee9"
      },
      "source": [
        "things_i_like = {'dogs', 7, 'the number 4', 4, 4, 4, 42, 'lizards', 'man I just LOVE the number 4'}\r\n",
        "print(things_i_like, type(things_i_like))"
      ],
      "execution_count": 16,
      "outputs": [
        {
          "output_type": "stream",
          "text": [
            "{'lizards', 4, 7, 42, 'man I just LOVE the number 4', 'the number 4', 'dogs'} <class 'set'>\n"
          ],
          "name": "stdout"
        }
      ]
    },
    {
      "cell_type": "code",
      "metadata": {
        "colab": {
          "base_uri": "https://localhost:8080/"
        },
        "id": "TZPPYH53BeE8",
        "outputId": "b3cfc104-bdb6-42da-e8f4-e8acb5723b99"
      },
      "source": [
        "#mi ejemplo\r\n",
        "conjunto = {'cadenas', 43.0, False, True, 5, 5, 8, False,  False, 8}\r\n",
        "print(conjunto, type(conjunto))"
      ],
      "execution_count": 18,
      "outputs": [
        {
          "output_type": "stream",
          "text": [
            "{False, True, 5, 8, 43.0, 'cadenas'} <class 'set'>\n"
          ],
          "name": "stdout"
        }
      ]
    },
    {
      "cell_type": "markdown",
      "metadata": {
        "id": "Kx688jXcCee7"
      },
      "source": [
        "Note how any extra instances of the same item are removed in the final set. We can also create a set from a list, using the set() function."
      ]
    },
    {
      "cell_type": "code",
      "metadata": {
        "colab": {
          "base_uri": "https://localhost:8080/"
        },
        "id": "EYRncahNCfZ0",
        "outputId": "15d2d77a-1e21-424b-a56a-6f905de67c2a"
      },
      "source": [
        "animal_list = ['cats', 'dogs', 'dogs', 'dogs', 'lizards', 'sponges', 'cows', 'bats', 'sponges']\r\n",
        "animal_set = set(animal_list)\r\n",
        "print(animal_set) # Removes all extra instances from the list"
      ],
      "execution_count": 19,
      "outputs": [
        {
          "output_type": "stream",
          "text": [
            "{'lizards', 'bats', 'cats', 'cows', 'dogs', 'sponges'}\n"
          ],
          "name": "stdout"
        }
      ]
    },
    {
      "cell_type": "code",
      "metadata": {
        "colab": {
          "base_uri": "https://localhost:8080/"
        },
        "id": "_a2RvAoWD77W",
        "outputId": "2b710e33-dfba-4c18-9cee-0dd20dcd7efa"
      },
      "source": [
        "#mi ejemplo\r\n",
        "char_list = ['c', 'a', 'a', 's', 'd', 'z', 'f', 'b', 'b', 'b','z']\r\n",
        "char_set = set(char_list)\r\n",
        "print(char_set) # Removes all extra instances from the list"
      ],
      "execution_count": 20,
      "outputs": [
        {
          "output_type": "stream",
          "text": [
            "{'a', 'c', 'd', 'f', 'b', 's', 'z'}\n"
          ],
          "name": "stdout"
        }
      ]
    },
    {
      "cell_type": "markdown",
      "metadata": {
        "id": "n2LbK30-Ffdl"
      },
      "source": [
        "\r\n",
        "Calling len() on a set will tell you how many elements are in it."
      ]
    },
    {
      "cell_type": "code",
      "metadata": {
        "colab": {
          "base_uri": "https://localhost:8080/"
        },
        "id": "9Dv2DkhvFkF6",
        "outputId": "2fbc81d9-1c2b-45e4-847a-7739ecd949ad"
      },
      "source": [
        "print(len(animal_set))"
      ],
      "execution_count": 21,
      "outputs": [
        {
          "output_type": "stream",
          "text": [
            "6\n"
          ],
          "name": "stdout"
        }
      ]
    },
    {
      "cell_type": "code",
      "metadata": {
        "colab": {
          "base_uri": "https://localhost:8080/"
        },
        "id": "5J7Ow7doFp4X",
        "outputId": "572bdbca-f7ee-4758-b91a-fc990a38a16b"
      },
      "source": [
        "#mi ejemplo\r\n",
        "print(len(char_set))"
      ],
      "execution_count": 22,
      "outputs": [
        {
          "output_type": "stream",
          "text": [
            "7\n"
          ],
          "name": "stdout"
        }
      ]
    },
    {
      "cell_type": "markdown",
      "metadata": {
        "id": "yo081RM7Gb5Z"
      },
      "source": [
        "\r\n",
        "Because a set is unordered, we can't access individual elements using an index. We can, however, easily check for membership (to see if something is contained in a set) and take the unions and intersections of sets by using the built-in set functions."
      ]
    },
    {
      "cell_type": "code",
      "metadata": {
        "colab": {
          "base_uri": "https://localhost:8080/"
        },
        "id": "-KyDER2BVppr",
        "outputId": "2ebb5f09-b71c-4f69-b031-019318abe0f7"
      },
      "source": [
        "'cats' in animal_set # Here we check for membership using the `in` keyword."
      ],
      "execution_count": 23,
      "outputs": [
        {
          "output_type": "execute_result",
          "data": {
            "text/plain": [
              "True"
            ]
          },
          "metadata": {
            "tags": []
          },
          "execution_count": 23
        }
      ]
    },
    {
      "cell_type": "code",
      "metadata": {
        "colab": {
          "base_uri": "https://localhost:8080/"
        },
        "id": "Xde5OA1sV1nK",
        "outputId": "5afdf1c4-47f1-42b9-bb17-95e1f1175857"
      },
      "source": [
        "#mi ejemplo\r\n",
        "'o' in char_set"
      ],
      "execution_count": 25,
      "outputs": [
        {
          "output_type": "execute_result",
          "data": {
            "text/plain": [
              "False"
            ]
          },
          "metadata": {
            "tags": []
          },
          "execution_count": 25
        }
      ]
    },
    {
      "cell_type": "markdown",
      "metadata": {
        "id": "PzMu-oHHV9s7"
      },
      "source": [
        "Here we checked to see whether the string 'cats' was contained within our animal_set and it returned True, telling us that it is indeed in our set.\r\n",
        "\r\n",
        "We can connect sets by using typical mathematical set operators, namely |, for union, and &, for intersection. Using | or & will return exactly what you would expect if you are familiar with sets in mathematics."
      ]
    },
    {
      "cell_type": "code",
      "metadata": {
        "colab": {
          "base_uri": "https://localhost:8080/"
        },
        "id": "eWFCO_yxWzO8",
        "outputId": "05f277d0-a353-4a00-e35c-61b9b38cee0b"
      },
      "source": [
        "print(animal_set | things_i_like) # You can also write things_i_like | animal_set with no difference"
      ],
      "execution_count": 26,
      "outputs": [
        {
          "output_type": "stream",
          "text": [
            "{'lizards', 'bats', 4, 7, 42, 'cats', 'cows', 'man I just LOVE the number 4', 'the number 4', 'dogs', 'sponges'}\n"
          ],
          "name": "stdout"
        }
      ]
    },
    {
      "cell_type": "code",
      "metadata": {
        "colab": {
          "base_uri": "https://localhost:8080/"
        },
        "id": "py4A7nRyXKT0",
        "outputId": "08bdaa1a-4866-4591-9c16-a9083e910a9b"
      },
      "source": [
        "#mi ejemplo\r\n",
        "print(conjunto|char_set)"
      ],
      "execution_count": 27,
      "outputs": [
        {
          "output_type": "stream",
          "text": [
            "{False, True, 'a', 'c', 'd', 5, 'f', 'b', 8, 43.0, 's', 'z', 'cadenas'}\n"
          ],
          "name": "stdout"
        }
      ]
    },
    {
      "cell_type": "markdown",
      "metadata": {
        "id": "woPFloMIYI7K"
      },
      "source": [
        "Pairing two sets together with | combines the sets, removing any repetitions to make every set element unique."
      ]
    },
    {
      "cell_type": "code",
      "metadata": {
        "colab": {
          "base_uri": "https://localhost:8080/"
        },
        "id": "YXi3F3MUYJ62",
        "outputId": "c1ca5b5a-371b-47bf-f730-be96e2d9fe72"
      },
      "source": [
        "print(animal_set & things_i_like) # You can also write things_i_like & animal_set with no difference"
      ],
      "execution_count": 28,
      "outputs": [
        {
          "output_type": "stream",
          "text": [
            "{'lizards', 'dogs'}\n"
          ],
          "name": "stdout"
        }
      ]
    },
    {
      "cell_type": "code",
      "metadata": {
        "colab": {
          "base_uri": "https://localhost:8080/"
        },
        "id": "MdHtobiXZAxg",
        "outputId": "e51a0d92-e8e7-4a6d-99d5-e3f6bc5228e1"
      },
      "source": [
        "#mi ejemplo\r\n",
        "print(conjunto&char_set)"
      ],
      "execution_count": 29,
      "outputs": [
        {
          "output_type": "stream",
          "text": [
            "set()\n"
          ],
          "name": "stdout"
        }
      ]
    },
    {
      "cell_type": "markdown",
      "metadata": {
        "id": "SIRWdqvQZFj8"
      },
      "source": [
        "Pairing two sets together with & will calculate the intersection of both sets, returning a set that only contains what they have in common.\r\n",
        "\r\n",
        "If you are interested in learning more about the built-in functions for sets, feel free to check out the documentation."
      ]
    },
    {
      "cell_type": "markdown",
      "metadata": {
        "id": "TVuHKoHea53O"
      },
      "source": [
        "###**Dictionaries**\r\n",
        "Another essential data structure in Python is the dictionary. Dictionaries are defined with a combination of curly braces ({}) and colons (:). The braces define the beginning and end of a dictionary and the colons indicate key-value pairs. A dictionary is essentially a set of key-value pairs. The key of any entry must be an immutable data type. This makes both strings and tuples candidates. Keys can be both added and deleted.\r\n",
        "\r\n",
        "In the following example, we have a dictionary composed of key-value pairs where the key is a genre of fiction (string) and the value is a list of books (list) within that genre. Since a collection is still considered a single entity, we can use one to collect multiple variables or values into one key-value pair."
      ]
    },
    {
      "cell_type": "code",
      "metadata": {
        "id": "GEGvrM4tcepO"
      },
      "source": [
        "my_dict = {\"High Fantasy\": [\"Wheel of Time\", \"Lord of the Rings\"], \r\n",
        "           \"Sci-fi\": [\"Book of the New Sun\", \"Neuromancer\", \"Snow Crash\"],\r\n",
        "           \"Weird Fiction\": [\"At the Mountains of Madness\", \"The House on the Borderland\"]}"
      ],
      "execution_count": 32,
      "outputs": []
    },
    {
      "cell_type": "code",
      "metadata": {
        "id": "fFN10yKJdLQp"
      },
      "source": [
        "#mi ejemplo\r\n",
        "my_dict2 = {\"saludos\":[\"hola\", \"holliwis\", \"queobas\"], \r\n",
        "            \"despedidas\":[\"bye bye\", \"chaito\",\"hasta la vista beybi\"]}"
      ],
      "execution_count": 30,
      "outputs": []
    },
    {
      "cell_type": "markdown",
      "metadata": {
        "id": "YCUyzOHYeWJr"
      },
      "source": [
        "\r\n",
        "After defining a dictionary, we can access any individual value by indicating its key in brackets."
      ]
    },
    {
      "cell_type": "code",
      "metadata": {
        "colab": {
          "base_uri": "https://localhost:8080/"
        },
        "id": "_5hgyNSkeWy4",
        "outputId": "e494e0ea-0d71-4524-cee4-12b9b2ac9666"
      },
      "source": [
        "print(my_dict[\"Sci-fi\"])"
      ],
      "execution_count": 33,
      "outputs": [
        {
          "output_type": "stream",
          "text": [
            "['Book of the New Sun', 'Neuromancer', 'Snow Crash']\n"
          ],
          "name": "stdout"
        }
      ]
    },
    {
      "cell_type": "code",
      "metadata": {
        "colab": {
          "base_uri": "https://localhost:8080/"
        },
        "id": "BEdI_lGVegof",
        "outputId": "6fd5802f-c7e2-4fdf-ac21-6b1104b08a50"
      },
      "source": [
        "#mi ejemplo\r\n",
        "print(my_dict2[\"despedidas\"])"
      ],
      "execution_count": 34,
      "outputs": [
        {
          "output_type": "stream",
          "text": [
            "['bye bye', 'chaito', 'hasta la vista beybi']\n"
          ],
          "name": "stdout"
        }
      ]
    },
    {
      "cell_type": "markdown",
      "metadata": {
        "id": "vxdEuKX3htP_"
      },
      "source": [
        "\r\n",
        "We can also change the value associated with a given key"
      ]
    },
    {
      "cell_type": "code",
      "metadata": {
        "colab": {
          "base_uri": "https://localhost:8080/"
        },
        "id": "U4RWAVyVhuKB",
        "outputId": "1f8de2cf-4163-4fd3-f8d5-1c012c6b94ca"
      },
      "source": [
        "my_dict[\"Sci-fi\"] = \"I can't read\"\r\n",
        "print(my_dict[\"Sci-fi\"])"
      ],
      "execution_count": 35,
      "outputs": [
        {
          "output_type": "stream",
          "text": [
            "I can't read\n"
          ],
          "name": "stdout"
        }
      ]
    },
    {
      "cell_type": "code",
      "metadata": {
        "colab": {
          "base_uri": "https://localhost:8080/"
        },
        "id": "sh-KiZETiukh",
        "outputId": "ee3486af-d627-492e-f988-45dcdd856fd6"
      },
      "source": [
        "#mi ejemplo\r\n",
        "my_dict2[\"saludos\"] = \"hello\"\r\n",
        "print(my_dict2[\"saludos\"])"
      ],
      "execution_count": 37,
      "outputs": [
        {
          "output_type": "stream",
          "text": [
            "hello\n"
          ],
          "name": "stdout"
        }
      ]
    },
    {
      "cell_type": "markdown",
      "metadata": {
        "id": "JMW7ayoEjaZF"
      },
      "source": [
        "\r\n",
        "Adding a new key-value pair is as simple as defining it."
      ]
    },
    {
      "cell_type": "code",
      "metadata": {
        "colab": {
          "base_uri": "https://localhost:8080/"
        },
        "id": "1cOYbHqnja-S",
        "outputId": "ee12000c-4b54-4e19-e7f1-b125af77f10f"
      },
      "source": [
        "my_dict[\"Historical Fiction\"] = [\"Pillars of the Earth\"]\r\n",
        "print(my_dict[\"Historical Fiction\"])"
      ],
      "execution_count": 38,
      "outputs": [
        {
          "output_type": "stream",
          "text": [
            "['Pillars of the Earth']\n"
          ],
          "name": "stdout"
        }
      ]
    },
    {
      "cell_type": "code",
      "metadata": {
        "colab": {
          "base_uri": "https://localhost:8080/"
        },
        "id": "iVWNLKv1jhmF",
        "outputId": "93b911ba-f71f-45bc-9d12-ff9144411f38"
      },
      "source": [
        "#mi ejemplo\r\n",
        "print(my_dict)"
      ],
      "execution_count": 39,
      "outputs": [
        {
          "output_type": "stream",
          "text": [
            "{'High Fantasy': ['Wheel of Time', 'Lord of the Rings'], 'Sci-fi': \"I can't read\", 'Weird Fiction': ['At the Mountains of Madness', 'The House on the Borderland'], 'Historical Fiction': ['Pillars of the Earth']}\n"
          ],
          "name": "stdout"
        }
      ]
    },
    {
      "cell_type": "code",
      "metadata": {
        "colab": {
          "base_uri": "https://localhost:8080/"
        },
        "id": "-bIYai9Zj0xG",
        "outputId": "17722824-b5e7-412a-8020-2d54af7d8368"
      },
      "source": [
        "my_dict2[\"frase\"]=[\"ok\"]\r\n",
        "print(my_dict2[\"frase\"])"
      ],
      "execution_count": 41,
      "outputs": [
        {
          "output_type": "stream",
          "text": [
            "['ok']\n"
          ],
          "name": "stdout"
        }
      ]
    },
    {
      "cell_type": "code",
      "metadata": {
        "colab": {
          "base_uri": "https://localhost:8080/"
        },
        "id": "FX_O7ZbXkLP5",
        "outputId": "a7f2f7cd-da39-4ecb-f585-61c0b35e153e"
      },
      "source": [
        "#mi ejemplo\r\n",
        "print(my_dict2)"
      ],
      "execution_count": 42,
      "outputs": [
        {
          "output_type": "stream",
          "text": [
            "{'saludos': 'hello', 'despedidas': ['bye bye', 'chaito', 'hasta la vista beybi'], 'frase': ['ok']}\n"
          ],
          "name": "stdout"
        }
      ]
    },
    {
      "cell_type": "markdown",
      "metadata": {
        "id": "YJjxkKCElAbr"
      },
      "source": [
        "##**String Shenanigans**\r\n",
        "We already know that strings are generally used for text. We can used built-in operations to combine, split, and format strings easily, depending on our needs.\r\n",
        "\r\n",
        "The + symbol indicates concatenation in string language. It will combine two strings into a longer string."
      ]
    },
    {
      "cell_type": "code",
      "metadata": {
        "colab": {
          "base_uri": "https://localhost:8080/"
        },
        "id": "iCoCiGRylNKw",
        "outputId": "6e771778-1d8d-404c-d26f-8a114f3d8272"
      },
      "source": [
        "first_string = '\"Beware the Jabberwock, my son! /The jaws that bite, the claws that catch! /'\r\n",
        "second_string = 'Beware the Jubjub bird, and shun /The frumious Bandersnatch!\"/'\r\n",
        "third_string = first_string + second_string\r\n",
        "print(third_string)"
      ],
      "execution_count": 43,
      "outputs": [
        {
          "output_type": "stream",
          "text": [
            "\"Beware the Jabberwock, my son! /The jaws that bite, the claws that catch! /Beware the Jubjub bird, and shun /The frumious Bandersnatch!\"/\n"
          ],
          "name": "stdout"
        }
      ]
    },
    {
      "cell_type": "code",
      "metadata": {
        "colab": {
          "base_uri": "https://localhost:8080/"
        },
        "id": "MzAwkwpslUbW",
        "outputId": "f8b16f51-ec54-4b9a-e908-0e3e481c3f2a"
      },
      "source": [
        "#mi ejemplo\r\n",
        "f_string = 'prueba de union de'\r\n",
        "s_string = 'cadenas en python'\r\n",
        "t_string = f_string + s_string\r\n",
        "print(t_string)"
      ],
      "execution_count": 44,
      "outputs": [
        {
          "output_type": "stream",
          "text": [
            "prueba de union decadenas en python\n"
          ],
          "name": "stdout"
        }
      ]
    },
    {
      "cell_type": "markdown",
      "metadata": {
        "id": "wZeGkBOzmcEQ"
      },
      "source": [
        "Strings are also indexed much in the same way that lists are."
      ]
    },
    {
      "cell_type": "code",
      "metadata": {
        "colab": {
          "base_uri": "https://localhost:8080/"
        },
        "id": "1CwWa6lumfoy",
        "outputId": "6cf1a1c4-22b8-4cae-9685-08f2cff6dd67"
      },
      "source": [
        "my_string = 'Supercalifragilisticexpialidocious'\r\n",
        "print('The first letter is: ', my_string[0]) # Uppercase S\r\n",
        "print('The last letter is: ', my_string[-1]) # lowercase s\r\n",
        "print('The second to last letter is: ', my_string[-2]) # lowercase u\r\n",
        "print('The first five characters are: ', my_string[0:5]) # Remember: slicing doesn't include the final element!\r\n",
        "print('Reverse it!: ', my_string[::-1])"
      ],
      "execution_count": 45,
      "outputs": [
        {
          "output_type": "stream",
          "text": [
            "The first letter is:  S\n",
            "The last letter is:  s\n",
            "The second to last letter is:  u\n",
            "The first five characters are:  Super\n",
            "Reverse it!:  suoicodilaipxecitsiligarfilacrepuS\n"
          ],
          "name": "stdout"
        }
      ]
    },
    {
      "cell_type": "code",
      "metadata": {
        "colab": {
          "base_uri": "https://localhost:8080/"
        },
        "id": "K0mkiiD9oEzI",
        "outputId": "768f17ae-6045-4143-d15b-4ed2622773f8"
      },
      "source": [
        "#mi ejmplo\r\n",
        "my_string2 = 'Esternocleidomastoideo'\r\n",
        "print('The first letter is: ', my_string2[0]) \r\n",
        "print('The last letter is: ', my_string2[-1]) \r\n",
        "print('The second to last letter is: ', my_string2[-2]) \r\n",
        "print('The first seven characters are: ', my_string2[0:7]) \r\n",
        "print('Reverse it!: ', my_string2[::-1])"
      ],
      "execution_count": 51,
      "outputs": [
        {
          "output_type": "stream",
          "text": [
            "The first letter is:  E\n",
            "The last letter is:  o\n",
            "The second to last letter is:  e\n",
            "The first seven characters are:  Esterno\n",
            "Reverse it!:  oediotsamodielconretsE\n"
          ],
          "name": "stdout"
        }
      ]
    },
    {
      "cell_type": "markdown",
      "metadata": {
        "id": "JPZzjk-3phAt"
      },
      "source": [
        "\r\n",
        "Built-in objects and classes often have special functions associated with them that are called methods. We access these methods by using a period ('.'). We will cover objects and their associated methods more in another lecture!\r\n",
        "\r\n",
        "Using string methods we can count instances of a character or group of characters."
      ]
    },
    {
      "cell_type": "code",
      "metadata": {
        "colab": {
          "base_uri": "https://localhost:8080/"
        },
        "id": "FkCUUmBjphvH",
        "outputId": "7fdf70e8-d6ec-426d-e0e6-813c22d6be22"
      },
      "source": [
        "print('Count of the letter i in Supercalifragilisticexpialidocious: ', my_string.count('i'))\r\n",
        "print('Count of \"li\" in the same word: ', my_string.count('li'))"
      ],
      "execution_count": 52,
      "outputs": [
        {
          "output_type": "stream",
          "text": [
            "Count of the letter i in Supercalifragilisticexpialidocious:  7\n",
            "Count of \"li\" in the same word:  3\n"
          ],
          "name": "stdout"
        }
      ]
    },
    {
      "cell_type": "code",
      "metadata": {
        "colab": {
          "base_uri": "https://localhost:8080/"
        },
        "id": "wSGJeFx4qp3-",
        "outputId": "eb8c85cf-6d65-4e6e-838d-3f8bcb5d8677"
      },
      "source": [
        "#miejemplo\r\n",
        "print('Count of the letter i in Esternocleidomastoideo: ', my_string2.count('o'))\r\n",
        "print('Count of \"no\" in the same word: ', my_string2.count('no'))"
      ],
      "execution_count": 54,
      "outputs": [
        {
          "output_type": "stream",
          "text": [
            "Count of the letter i in Esternocleidomastoideo:  4\n",
            "Count of \"no\" in the same word:  1\n"
          ],
          "name": "stdout"
        }
      ]
    },
    {
      "cell_type": "markdown",
      "metadata": {
        "id": "LPCb4rT0ro1i"
      },
      "source": [
        "\r\n",
        "We can also find the first instance of a character or group of characters in a string."
      ]
    },
    {
      "cell_type": "code",
      "metadata": {
        "colab": {
          "base_uri": "https://localhost:8080/"
        },
        "id": "cyy2QkMlrqNz",
        "outputId": "b1664d37-ea60-43b7-ac03-6a071edcf643"
      },
      "source": [
        "print('The first time i appears is at index: ', my_string.find('i'))"
      ],
      "execution_count": 55,
      "outputs": [
        {
          "output_type": "stream",
          "text": [
            "The first time i appears is at index:  8\n"
          ],
          "name": "stdout"
        }
      ]
    },
    {
      "cell_type": "code",
      "metadata": {
        "colab": {
          "base_uri": "https://localhost:8080/"
        },
        "id": "ZBSauQz3sPa3",
        "outputId": "7f43117c-686c-4eda-e4d7-7657d3f861ae"
      },
      "source": [
        "#miejemplo\r\n",
        "print('The first time i appears is at index: ', my_string2.find('m'))"
      ],
      "execution_count": 56,
      "outputs": [
        {
          "output_type": "stream",
          "text": [
            "The first time i appears is at index:  13\n"
          ],
          "name": "stdout"
        }
      ]
    },
    {
      "cell_type": "markdown",
      "metadata": {
        "id": "se4y6rS9sr8L"
      },
      "source": [
        "\r\n",
        "As well as replace characters in a string."
      ]
    },
    {
      "cell_type": "code",
      "metadata": {
        "colab": {
          "base_uri": "https://localhost:8080/"
        },
        "id": "rHvl8hevswmE",
        "outputId": "cb74b672-ed35-4cbf-ff2a-cb52ec4fd824"
      },
      "source": [
        "print(\"All i's are now a's: \", my_string.replace('i', 'a'))"
      ],
      "execution_count": 57,
      "outputs": [
        {
          "output_type": "stream",
          "text": [
            "All i's are now a's:  Supercalafragalastacexpaaladocaous\n"
          ],
          "name": "stdout"
        }
      ]
    },
    {
      "cell_type": "code",
      "metadata": {
        "colab": {
          "base_uri": "https://localhost:8080/"
        },
        "id": "fMnbmeeOs5Bv",
        "outputId": "07c17fdd-4408-4e41-9fe4-0d7efe455649"
      },
      "source": [
        "#miejemplo\r\n",
        "print(\"All o's are now u's: \", my_string2.replace('o', 'u'))"
      ],
      "execution_count": 58,
      "outputs": [
        {
          "output_type": "stream",
          "text": [
            "All o's are now u's:  Esternucleidumastuideu\n"
          ],
          "name": "stdout"
        }
      ]
    },
    {
      "cell_type": "code",
      "metadata": {
        "colab": {
          "base_uri": "https://localhost:8080/"
        },
        "id": "joFxVjoItEcl",
        "outputId": "479b5750-0a3d-4ed5-d96b-1da73607a950"
      },
      "source": [
        "print(\"It's raining cats and dogs\".replace('dogs', 'more cats'))"
      ],
      "execution_count": 59,
      "outputs": [
        {
          "output_type": "stream",
          "text": [
            "It's raining cats and more cats\n"
          ],
          "name": "stdout"
        }
      ]
    },
    {
      "cell_type": "code",
      "metadata": {
        "colab": {
          "base_uri": "https://localhost:8080/"
        },
        "id": "-0jbejYitdkR",
        "outputId": "65abef01-d7eb-4bcb-e813-f33abb18ce0f"
      },
      "source": [
        "#miejemplo\r\n",
        "print(\"Se pelearon los unos y los otros\".replace('otros', 'ceros'))"
      ],
      "execution_count": 60,
      "outputs": [
        {
          "output_type": "stream",
          "text": [
            "Se pelearon los unos y los ceros\n"
          ],
          "name": "stdout"
        }
      ]
    },
    {
      "cell_type": "markdown",
      "metadata": {
        "id": "pGmnhkUaudhs"
      },
      "source": [
        "\r\n",
        "There are also some methods that are unique to strings. The function upper() will convert all characters in a string to uppercase, while lower() will convert all characters in a string to lowercase!"
      ]
    },
    {
      "cell_type": "code",
      "metadata": {
        "colab": {
          "base_uri": "https://localhost:8080/"
        },
        "id": "DulQtCcSvlo-",
        "outputId": "2785f16b-fdaf-4c24-8664-15a8c45fa2a7"
      },
      "source": [
        "my_string = \"I can't hear you\"\r\n",
        "print(my_string.upper())\r\n",
        "my_string = \"I said HELLO\"\r\n",
        "print(my_string.lower())"
      ],
      "execution_count": 61,
      "outputs": [
        {
          "output_type": "stream",
          "text": [
            "I CAN'T HEAR YOU\n",
            "i said hello\n"
          ],
          "name": "stdout"
        }
      ]
    },
    {
      "cell_type": "code",
      "metadata": {
        "colab": {
          "base_uri": "https://localhost:8080/"
        },
        "id": "-yaTFv3vvy1w",
        "outputId": "36bf673b-cbf5-433d-bad0-8fd33399d960"
      },
      "source": [
        "#miejemplo\r\n",
        "my_string2 = \"Gritar en internet\"\r\n",
        "print(my_string2.upper())\r\n",
        "my_string2 = \"hablar normal en internet\"\r\n",
        "print(my_string2.lower())"
      ],
      "execution_count": 63,
      "outputs": [
        {
          "output_type": "stream",
          "text": [
            "GRITAR EN INTERNET\n",
            "hablar normal en internet\n"
          ],
          "name": "stdout"
        }
      ]
    },
    {
      "cell_type": "markdown",
      "metadata": {
        "id": "nj1RAoVrwp65"
      },
      "source": [
        "###**String Formatting**\r\n",
        "Using the format() method we can add in variable values and generally format our strings."
      ]
    },
    {
      "cell_type": "code",
      "metadata": {
        "colab": {
          "base_uri": "https://localhost:8080/"
        },
        "id": "S5HbvGsOxCkz",
        "outputId": "c4354879-61d8-4ade-edcd-d178640db434"
      },
      "source": [
        "my_string = \"{0} {1}\".format('Marco', 'Polo')\r\n",
        "print(my_string)"
      ],
      "execution_count": 64,
      "outputs": [
        {
          "output_type": "stream",
          "text": [
            "Marco Polo\n"
          ],
          "name": "stdout"
        }
      ]
    },
    {
      "cell_type": "code",
      "metadata": {
        "colab": {
          "base_uri": "https://localhost:8080/"
        },
        "id": "RqT5tMs5zWSy",
        "outputId": "fe97e2f1-4c76-457c-ee72-b464bc91aa2d"
      },
      "source": [
        "my_string = \"{1} {0}\".format('Marco', 'Polo')\r\n",
        "print(my_string)"
      ],
      "execution_count": 65,
      "outputs": [
        {
          "output_type": "stream",
          "text": [
            "Polo Marco\n"
          ],
          "name": "stdout"
        }
      ]
    },
    {
      "cell_type": "code",
      "metadata": {
        "colab": {
          "base_uri": "https://localhost:8080/"
        },
        "id": "BZxD0X3ZzlmA",
        "outputId": "7c2852db-2a31-43bf-a858-e328b17af216"
      },
      "source": [
        "#miejemplo\r\n",
        "my_string2 = \"{0} {2} {1}\".format('Primero', 'Segundo', 'Tercero')\r\n",
        "print(my_string2)"
      ],
      "execution_count": 1,
      "outputs": [
        {
          "output_type": "stream",
          "text": [
            "Primero Tercero Segundo\n"
          ],
          "name": "stdout"
        }
      ]
    },
    {
      "cell_type": "markdown",
      "metadata": {
        "id": "iJowWA8z3a0W"
      },
      "source": [
        "We use braces ({}) to indicate parts of the string that will be filled in later and we use the arguments of the format() function to provide the values to substitute. The numbers within the braces indicate the index of the value in the format() arguments.\r\n",
        "\r\n",
        "See the format() documentation for additional examples.\r\n",
        "\r\n",
        "If you need some quick and dirty formatting, you can instead use the % symbol, called the string formatting operator."
      ]
    },
    {
      "cell_type": "code",
      "metadata": {
        "colab": {
          "base_uri": "https://localhost:8080/"
        },
        "id": "2bvQJKbq3cMW",
        "outputId": "9040657f-6f90-4ebc-c6dd-be069faab2f5"
      },
      "source": [
        "print('insert %s here' % 'value')"
      ],
      "execution_count": 2,
      "outputs": [
        {
          "output_type": "stream",
          "text": [
            "insert value here\n"
          ],
          "name": "stdout"
        }
      ]
    },
    {
      "cell_type": "code",
      "metadata": {
        "colab": {
          "base_uri": "https://localhost:8080/"
        },
        "id": "MyfqAcrn4TOj",
        "outputId": "2b73279b-8c9b-42de-ae86-e31889297a75"
      },
      "source": [
        "#miejemplo\r\n",
        "print('prueba %s de insercion' % 'insercion1')"
      ],
      "execution_count": 8,
      "outputs": [
        {
          "output_type": "stream",
          "text": [
            "prueba insercion1 de insercion\n"
          ],
          "name": "stdout"
        }
      ]
    },
    {
      "cell_type": "markdown",
      "metadata": {
        "id": "8xLeP2IVTCSW"
      },
      "source": [
        "The % symbol basically cues Python to create a placeholder. Whatever character follows the % (in the string) indicates what sort of type the value put into the placeholder will have. This character is called a conversion type. Once the string has been closed, we need another % that will be followed by the values to insert. In the case of one value, you can just put it there. If you are inserting more than one value, they must be enclosed in a tuple."
      ]
    },
    {
      "cell_type": "code",
      "metadata": {
        "colab": {
          "base_uri": "https://localhost:8080/"
        },
        "id": "suf5QlOkTU2N",
        "outputId": "6b9dc97b-ca60-4982-e0b4-77c66019a1d2"
      },
      "source": [
        "print('There are %s cats in my %s' % (13, 'apartment'))"
      ],
      "execution_count": 9,
      "outputs": [
        {
          "output_type": "stream",
          "text": [
            "There are 13 cats in my apartment\n"
          ],
          "name": "stdout"
        }
      ]
    },
    {
      "cell_type": "code",
      "metadata": {
        "colab": {
          "base_uri": "https://localhost:8080/"
        },
        "id": "FD4BJHc0TX8K",
        "outputId": "4e72fc0c-414f-4af1-ef6d-adfd32cdd529"
      },
      "source": [
        "#miejemplo\r\n",
        "print('Prueba de insercion multiple %s, en varias %s pocisiones, %s del texto' % ('insercion1','insercion2','insercion3'))"
      ],
      "execution_count": 10,
      "outputs": [
        {
          "output_type": "stream",
          "text": [
            "Prueba de insercion multiple insercion1, en varias insercion2 pocisiones, insercion3 del texto\n"
          ],
          "name": "stdout"
        }
      ]
    },
    {
      "cell_type": "markdown",
      "metadata": {
        "id": "stNypZR8T4uj"
      },
      "source": [
        "##**Logical Operators**\r\n",
        "####**Basic Logic**\r\n",
        "Logical operators deal with boolean values, as we briefly covered before. If you recall, a bool takes on one of two values, True or False (or $1$ or $0$). The basic logical statements that we can make are defined using the built-in comparators. These are == (equal), != (not equal), < (less than), > (greater than), <= (less than or equal to), and >= (greater than or equal to)."
      ]
    },
    {
      "cell_type": "code",
      "metadata": {
        "colab": {
          "base_uri": "https://localhost:8080/"
        },
        "id": "c1XoqmHOUE46",
        "outputId": "a5e8fe51-40b1-44c7-884f-258dc19a8b7f"
      },
      "source": [
        "print(5 == 5)"
      ],
      "execution_count": 11,
      "outputs": [
        {
          "output_type": "stream",
          "text": [
            "True\n"
          ],
          "name": "stdout"
        }
      ]
    },
    {
      "cell_type": "code",
      "metadata": {
        "colab": {
          "base_uri": "https://localhost:8080/"
        },
        "id": "EcZvCVTwUIyd",
        "outputId": "c885aa81-1508-4af2-b4cf-17f8093abde9"
      },
      "source": [
        "print(5 > 5)"
      ],
      "execution_count": 12,
      "outputs": [
        {
          "output_type": "stream",
          "text": [
            "False\n"
          ],
          "name": "stdout"
        }
      ]
    },
    {
      "cell_type": "code",
      "metadata": {
        "colab": {
          "base_uri": "https://localhost:8080/"
        },
        "id": "UHEBfhVjUM9e",
        "outputId": "ef07ff34-4d28-4546-fef6-0b3ab3f23a7d"
      },
      "source": [
        "#miejemplo\r\n",
        "print(5 != 9)"
      ],
      "execution_count": 13,
      "outputs": [
        {
          "output_type": "stream",
          "text": [
            "True\n"
          ],
          "name": "stdout"
        }
      ]
    },
    {
      "cell_type": "code",
      "metadata": {
        "colab": {
          "base_uri": "https://localhost:8080/"
        },
        "id": "u1zyUlpSUfe3",
        "outputId": "8ed0daa5-ad8a-4649-d2b6-d162ff80a09d"
      },
      "source": [
        "#miejemplo\r\n",
        "print(4 <= 12)"
      ],
      "execution_count": 14,
      "outputs": [
        {
          "output_type": "stream",
          "text": [
            "True\n"
          ],
          "name": "stdout"
        }
      ]
    },
    {
      "cell_type": "markdown",
      "metadata": {
        "id": "kDEbdI0BUnu4"
      },
      "source": [
        "These comparators also work in conjunction with variables."
      ]
    },
    {
      "cell_type": "code",
      "metadata": {
        "colab": {
          "base_uri": "https://localhost:8080/"
        },
        "id": "FbhvkowxUo0Z",
        "outputId": "8f8edfd7-afbb-4b1f-d054-8daab5494283"
      },
      "source": [
        "m = 2\r\n",
        "n = 23\r\n",
        "print(m < n)"
      ],
      "execution_count": 15,
      "outputs": [
        {
          "output_type": "stream",
          "text": [
            "True\n"
          ],
          "name": "stdout"
        }
      ]
    },
    {
      "cell_type": "code",
      "metadata": {
        "colab": {
          "base_uri": "https://localhost:8080/"
        },
        "id": "_-fWoHutU2BE",
        "outputId": "c2d65067-f90c-462d-874e-5aa043400d8f"
      },
      "source": [
        "#miejemplo\r\n",
        "z = 8\r\n",
        "y = 60\r\n",
        "print(z != y)"
      ],
      "execution_count": 16,
      "outputs": [
        {
          "output_type": "stream",
          "text": [
            "True\n"
          ],
          "name": "stdout"
        }
      ]
    },
    {
      "cell_type": "markdown",
      "metadata": {
        "id": "jAEL9bh2U-sR"
      },
      "source": [
        "\r\n",
        "We can string these comparators together to make more complex logical statements using the logical operators or, and, and not."
      ]
    },
    {
      "cell_type": "code",
      "metadata": {
        "colab": {
          "base_uri": "https://localhost:8080/"
        },
        "id": "KR58zM7yVMVK",
        "outputId": "1fea9b9f-968e-44a5-b339-8a1d67c68618"
      },
      "source": [
        "statement_1 = 10 > 2\r\n",
        "statement_2 = 4 <= 6\r\n",
        "print(\"Statement 1 truth value: {0}\".format(statement_1))\r\n",
        "print(\"Statement 2 truth value: {0}\".format(statement_2))\r\n",
        "print(\"Statement 1 and Statement 2: {0}\".format(statement_1 and statement_2))"
      ],
      "execution_count": 17,
      "outputs": [
        {
          "output_type": "stream",
          "text": [
            "Statement 1 truth value: True\n",
            "Statement 2 truth value: True\n",
            "Statement 1 and Statement 2: True\n"
          ],
          "name": "stdout"
        }
      ]
    },
    {
      "cell_type": "code",
      "metadata": {
        "colab": {
          "base_uri": "https://localhost:8080/"
        },
        "id": "QgSVEpjrVVkp",
        "outputId": "82e06193-93d0-472c-c442-85f7979a529a"
      },
      "source": [
        "#miejemplo\r\n",
        "statement_1 = 5<=4\r\n",
        "statement_2 = 10>5\r\n",
        "print(\"Statement 1 truth value: {0}\".format(statement_1))\r\n",
        "print(\"Statement 2 truth value: {0}\".format(statement_2))\r\n",
        "print(\"Statement 1 and Statement 2: {0}\".format(not statement_1 and statement_2 or not statement_1))"
      ],
      "execution_count": 18,
      "outputs": [
        {
          "output_type": "stream",
          "text": [
            "Statement 1 truth value: False\n",
            "Statement 2 truth value: True\n",
            "Statement 1 and Statement 2: True\n"
          ],
          "name": "stdout"
        }
      ]
    },
    {
      "cell_type": "markdown",
      "metadata": {
        "id": "vPw99V8nWFEe"
      },
      "source": [
        "The or operator performs a logical or calculation. This is an inclusive or, so if either component paired together by or is True, the whole statement will be True. The and statement only outputs True if all components that are anded together are True. Otherwise it will output False. The not statement simply inverts the truth value of whichever statement follows it. So a True statement will be evaluated as False when a not is placed in front of it. Similarly, a False statement will become True when a not is in front of it.\r\n",
        "\r\n",
        "Say that we have two logical statements, or assertions, $P$ and $Q$. The truth table for the basic logical operators is as follows:\r\n",
        "\r\n",
        "|P | Q\t| not P\t| P and Q\t| P or Q |\r\n",
        "|:---:|:---:|:---:|:---:|:---:|\r\n",
        "|True|\tTrue|\tFalse|\tTrue|\tTrue|\r\n",
        "|False|\tTrue|\tTrue|\tFalse|\tTrue|\r\n",
        "|True|\tFalse\t|False|\tFalse\t|True|\r\n",
        "|False|\tFalse|\tTrue|\tFalse|\tFalse|\r\n",
        "\r\n",
        "We can string multiple logical statements together using the logical operators."
      ]
    },
    {
      "cell_type": "code",
      "metadata": {
        "colab": {
          "base_uri": "https://localhost:8080/"
        },
        "id": "eij8o5riWJUt",
        "outputId": "c280b8e1-26f2-43b8-d3f4-c32cf1514d37"
      },
      "source": [
        "print(((2 < 3) and (3 > 0)) or ((5 > 6) and not (4 < 2)))"
      ],
      "execution_count": 19,
      "outputs": [
        {
          "output_type": "stream",
          "text": [
            "True\n"
          ],
          "name": "stdout"
        }
      ]
    },
    {
      "cell_type": "code",
      "metadata": {
        "colab": {
          "base_uri": "https://localhost:8080/"
        },
        "id": "z17WBww2YBXM",
        "outputId": "4baa4ae7-4110-4504-c7cb-24d3d9d3bff0"
      },
      "source": [
        "#miejemplo\r\n",
        "print(((5>10) or not (8 != 10)) and ( not (7 >= 25) or (85 <= 63) and (23<3)))"
      ],
      "execution_count": 21,
      "outputs": [
        {
          "output_type": "stream",
          "text": [
            "False\n"
          ],
          "name": "stdout"
        }
      ]
    },
    {
      "cell_type": "markdown",
      "metadata": {
        "id": "4r4scUbLYriL"
      },
      "source": [
        "Logical statements can be as simple or complex as we like, depending on what we need to express. Evaluating the above logical statement step by step we see that we are evaluating (True and True) or (False and not False). This becomes True or (False and True), subsequently becoming True or False, ultimately being evaluated as True."
      ]
    },
    {
      "cell_type": "markdown",
      "metadata": {
        "id": "la206GIGZCu6"
      },
      "source": [
        "#####**Truthiness**\r\n",
        "Data types in Python have a fun characteristic called truthiness. What this means is that most built-in types will evaluate as either True or False when a boolean value is needed (such as with an if-statement). As a general rule, containers like strings, tuples, dictionaries, lists, and sets, will return True if they contain anything at all and False if they contain nothing."
      ]
    },
    {
      "cell_type": "code",
      "metadata": {
        "colab": {
          "base_uri": "https://localhost:8080/"
        },
        "id": "88BtgoXWZzG0",
        "outputId": "1c4a87a0-dc56-44b4-b6c6-966de5258175"
      },
      "source": [
        "# Similar to how float() and int() work, bool() forces a value to be considered a boolean!\r\n",
        "print(bool(''))"
      ],
      "execution_count": 22,
      "outputs": [
        {
          "output_type": "stream",
          "text": [
            "False\n"
          ],
          "name": "stdout"
        }
      ]
    },
    {
      "cell_type": "code",
      "metadata": {
        "colab": {
          "base_uri": "https://localhost:8080/"
        },
        "id": "AthHNF3NZ4XK",
        "outputId": "87093319-4fdc-4fe5-c5e7-17098b9b4ef2"
      },
      "source": [
        "print(bool('I have character!'))"
      ],
      "execution_count": 23,
      "outputs": [
        {
          "output_type": "stream",
          "text": [
            "True\n"
          ],
          "name": "stdout"
        }
      ]
    },
    {
      "cell_type": "code",
      "metadata": {
        "colab": {
          "base_uri": "https://localhost:8080/"
        },
        "id": "6d2BhF_rZ7iO",
        "outputId": "03a98d2f-fd4d-413c-9c2e-517e3a1f2973"
      },
      "source": [
        "print(bool([]))"
      ],
      "execution_count": 24,
      "outputs": [
        {
          "output_type": "stream",
          "text": [
            "False\n"
          ],
          "name": "stdout"
        }
      ]
    },
    {
      "cell_type": "code",
      "metadata": {
        "colab": {
          "base_uri": "https://localhost:8080/"
        },
        "id": "lWpIdY-RZ-Lx",
        "outputId": "6009b8f2-69b3-4a0c-9d04-b2750f0be415"
      },
      "source": [
        "print(bool([1, 2, 3]))"
      ],
      "execution_count": 25,
      "outputs": [
        {
          "output_type": "stream",
          "text": [
            "True\n"
          ],
          "name": "stdout"
        }
      ]
    },
    {
      "cell_type": "code",
      "metadata": {
        "colab": {
          "base_uri": "https://localhost:8080/"
        },
        "id": "LicpczDRaQS7",
        "outputId": "801aae39-65d3-4824-d00e-c6223b0ff5a5"
      },
      "source": [
        "#miejemplo\r\n",
        "print(bool(45))\r\n",
        "print(bool(0))\r\n",
        "print(bool(()))\r\n",
        "print(bool((25,40)))\r\n",
        "print(bool({\"saludos\":[\"hola\", \"holliwis\", \"queobas\"]}))"
      ],
      "execution_count": 27,
      "outputs": [
        {
          "output_type": "stream",
          "text": [
            "True\n",
            "False\n",
            "False\n",
            "True\n",
            "True\n"
          ],
          "name": "stdout"
        }
      ]
    },
    {
      "cell_type": "markdown",
      "metadata": {
        "id": "5PFbycvebAXm"
      },
      "source": [
        "And so on, for the other collections and containers. None also evaluates as False. The number 1 is equivalent to True and the number 0 is equivalent to False as well, in a boolean context."
      ]
    },
    {
      "cell_type": "markdown",
      "metadata": {
        "id": "CpWC37zRbSNr"
      },
      "source": [
        "####**If-statements**\r\n",
        "We can create segments of code that only execute if a set of conditions is met. We use if-statements in conjunction with logical statements in order to create branches in our code.\r\n",
        "\r\n",
        "An if block gets entered when the condition is considered to be True. If condition is evaluated as False, the if block will simply be skipped unless there is an else block to accompany it. Conditions are made using either logical operators or by using the truthiness of values in Python. An if-statement is defined with a colon and a block of indented text."
      ]
    },
    {
      "cell_type": "code",
      "metadata": {
        "colab": {
          "base_uri": "https://localhost:8080/"
        },
        "id": "wIiyIZVTbaNz",
        "outputId": "82ebfb5e-3954-4664-99ad-27fec8c2b05a"
      },
      "source": [
        "# This is the basic format of an if statement. This is a vacuous example. \r\n",
        "# The string \"Condition\" will always evaluated as True because it is a\r\n",
        "# non-empty string. he purpose of this code is to show the formatting of\r\n",
        "# an if-statement.\r\n",
        "if \"Condition\": \r\n",
        "    # This block of code will execute because the string is non-empty\r\n",
        "    # Everything on these indented lines\r\n",
        "    print(True)\r\n",
        "else:\r\n",
        "    # So if the condition that we examined with if is in fact False\r\n",
        "    # This block of code will execute INSTEAD of the first block of code\r\n",
        "    # Everything on these indented lines\r\n",
        "    print(False)\r\n",
        "# The else block here will never execute because \"Condition\" is a non-empty string."
      ],
      "execution_count": 29,
      "outputs": [
        {
          "output_type": "stream",
          "text": [
            "True\n"
          ],
          "name": "stdout"
        }
      ]
    },
    {
      "cell_type": "code",
      "metadata": {
        "id": "NpD_cOZlbmkn"
      },
      "source": [
        "i = 4\r\n",
        "if i == 5:\r\n",
        "    print('The variable i has a value of 5')"
      ],
      "execution_count": 32,
      "outputs": []
    },
    {
      "cell_type": "code",
      "metadata": {
        "colab": {
          "base_uri": "https://localhost:8080/"
        },
        "id": "G2BDM5WUbrgi",
        "outputId": "113bb4d9-3a21-44fa-8cbd-1b8db38da55b"
      },
      "source": [
        "#miejemplo\r\n",
        "i = 5.0\r\n",
        "if i == 5:\r\n",
        "    print('The variable i has a value of 5')"
      ],
      "execution_count": 34,
      "outputs": [
        {
          "output_type": "stream",
          "text": [
            "The variable i has a value of 5\n"
          ],
          "name": "stdout"
        }
      ]
    },
    {
      "cell_type": "markdown",
      "metadata": {
        "id": "fMI5wFlKb25I"
      },
      "source": [
        "Because in this example i = 4 and the if-statement is only looking for whether i is equal to 5, the print statement will never be executed. We can add in an else statement to create a contingency block of code in case the condition in the if-statement is not evaluated as True."
      ]
    },
    {
      "cell_type": "code",
      "metadata": {
        "colab": {
          "base_uri": "https://localhost:8080/"
        },
        "id": "KfTJJd_gcAXG",
        "outputId": "57ba59cf-661d-4e8b-8e7b-b011710f0f71"
      },
      "source": [
        "i = 4\r\n",
        "if i == 5:\r\n",
        "    print(\"All lines in this indented block are part of this block\")\r\n",
        "    print('The variable i has a value of 5')\r\n",
        "else:\r\n",
        "    print(\"All lines in this indented block are part of this block\")\r\n",
        "    print('The variable i is not equal to 5')"
      ],
      "execution_count": 36,
      "outputs": [
        {
          "output_type": "stream",
          "text": [
            "All lines in this indented block are part of this block\n",
            "The variable i is not equal to 5\n"
          ],
          "name": "stdout"
        }
      ]
    },
    {
      "cell_type": "code",
      "metadata": {
        "colab": {
          "base_uri": "https://localhost:8080/"
        },
        "id": "WrsF-y4JcRcG",
        "outputId": "1599ba04-9be7-4d27-8ebb-5ae6bc4172ca"
      },
      "source": [
        "#miejemplo\r\n",
        "i = 6.0\r\n",
        "if i == 6:\r\n",
        "    print(\"a python NO le importa si escribo primero 6 como un float\")\r\n",
        "else:\r\n",
        "    print(\"a python SI le importa si escribo primero 6 como un float\")"
      ],
      "execution_count": 37,
      "outputs": [
        {
          "output_type": "stream",
          "text": [
            "a python NO le importa si escribo primero 6 como un float\n"
          ],
          "name": "stdout"
        }
      ]
    },
    {
      "cell_type": "markdown",
      "metadata": {
        "id": "bd7PgiO1cpqS"
      },
      "source": [
        "We can implement other branches off of the same if-statement by using elif, an abbreviation of \"else if\". We can include as many elifs as we like until we have exhausted all the logical branches of a condition."
      ]
    },
    {
      "cell_type": "code",
      "metadata": {
        "colab": {
          "base_uri": "https://localhost:8080/"
        },
        "id": "1whaoGtJcy2Z",
        "outputId": "aa31e0c1-fe73-40a3-eaac-2931f9c4cb6b"
      },
      "source": [
        "i = 1\r\n",
        "if i == 1:\r\n",
        "    print('The variable i has a value of 1')\r\n",
        "elif i == 2:\r\n",
        "    print('The variable i has a value of 2')\r\n",
        "elif i == 3:\r\n",
        "    print('The variable i has a value of 3')\r\n",
        "else:\r\n",
        "    print(\"I don't care what i is\")"
      ],
      "execution_count": 38,
      "outputs": [
        {
          "output_type": "stream",
          "text": [
            "The variable i has a value of 1\n"
          ],
          "name": "stdout"
        }
      ]
    },
    {
      "cell_type": "code",
      "metadata": {
        "colab": {
          "base_uri": "https://localhost:8080/"
        },
        "id": "MHpsvgCgc6_P",
        "outputId": "3c9e9cf1-20ac-40bf-c28a-a5697314d5b1"
      },
      "source": [
        "#miejemplo\r\n",
        "saludo = 'hola'\r\n",
        "if saludo == 'holi':\r\n",
        "    print('saludo informal 1')\r\n",
        "elif saludo == 'holiwis':\r\n",
        "    print('saludo informal 2')\r\n",
        "elif saludo == 'hola':\r\n",
        "    print('saludo formal')\r\n",
        "else:\r\n",
        "    print(\"no aplica\")"
      ],
      "execution_count": 40,
      "outputs": [
        {
          "output_type": "stream",
          "text": [
            "saludo formal\n"
          ],
          "name": "stdout"
        }
      ]
    },
    {
      "cell_type": "markdown",
      "metadata": {
        "id": "ctHdR_fBdbwC"
      },
      "source": [
        "You can also nest if-statements within if-statements to check for further conditions."
      ]
    },
    {
      "cell_type": "code",
      "metadata": {
        "colab": {
          "base_uri": "https://localhost:8080/"
        },
        "id": "7P_m_7Fudj1k",
        "outputId": "5812d433-e0ba-47a2-993e-c89d0d3da987"
      },
      "source": [
        "i = 10\r\n",
        "if i % 2 == 0:\r\n",
        "    if i % 3 == 0:\r\n",
        "        print('i is divisible by both 2 and 3! Wow!')\r\n",
        "    elif i % 5 == 0:\r\n",
        "        print('i is divisible by both 2 and 5! Wow!')\r\n",
        "    else:\r\n",
        "        print('i is divisible by 2, but not 3 or 5. Meh.')\r\n",
        "else:\r\n",
        "    print('I guess that i is an odd number. Boring.')"
      ],
      "execution_count": 41,
      "outputs": [
        {
          "output_type": "stream",
          "text": [
            "i is divisible by both 2 and 5! Wow!\n"
          ],
          "name": "stdout"
        }
      ]
    },
    {
      "cell_type": "code",
      "metadata": {
        "colab": {
          "base_uri": "https://localhost:8080/"
        },
        "id": "NkeFB7GPdyAr",
        "outputId": "0c4bdb5f-1b2d-4ef6-f592-eaa7ac131dbc"
      },
      "source": [
        "#miejemplo\r\n",
        "saludo = 'holiwis'\r\n",
        "if saludo=='holi' or saludo=='holiwis':\r\n",
        "    if saludo=='holi':\r\n",
        "        print('el saludo es holi')\r\n",
        "    elif saludo=='holiwis':\r\n",
        "        print('el saludo es holiwis')\r\n",
        "else:\r\n",
        "    print('el saludo no es holi ni holiwis')"
      ],
      "execution_count": 42,
      "outputs": [
        {
          "output_type": "stream",
          "text": [
            "el saludo es holiwis\n"
          ],
          "name": "stdout"
        }
      ]
    },
    {
      "cell_type": "markdown",
      "metadata": {
        "id": "zCqL9glKecyy"
      },
      "source": [
        "Remember that we can group multiple conditions together by using the logical operators!"
      ]
    },
    {
      "cell_type": "code",
      "metadata": {
        "colab": {
          "base_uri": "https://localhost:8080/"
        },
        "id": "SI-1oj81edut",
        "outputId": "f099b21f-c899-4a7c-a732-16fe6ce3d48d"
      },
      "source": [
        "i = 5\r\n",
        "j = 12\r\n",
        "if i < 10 and j > 11:\r\n",
        "    print('{0} is less than 10 and {1} is greater than 11! How novel and interesting!'.format(i, j))"
      ],
      "execution_count": 43,
      "outputs": [
        {
          "output_type": "stream",
          "text": [
            "5 is less than 10 and 12 is greater than 11! How novel and interesting!\n"
          ],
          "name": "stdout"
        }
      ]
    },
    {
      "cell_type": "code",
      "metadata": {
        "colab": {
          "base_uri": "https://localhost:8080/"
        },
        "id": "Pzxz8SHierct",
        "outputId": "5cfbe570-c217-4613-f90c-5d5b3be5c48b"
      },
      "source": [
        "#miejemplo\r\n",
        "x = 10\r\n",
        "y = 20\r\n",
        "if 15 > x and 15 < y:\r\n",
        "    print('15 es mayor a {0} y es menor a {1}'.format(x,y))"
      ],
      "execution_count": 44,
      "outputs": [
        {
          "output_type": "stream",
          "text": [
            "15 es mayor a 10 y es menor a 20\n"
          ],
          "name": "stdout"
        }
      ]
    },
    {
      "cell_type": "markdown",
      "metadata": {
        "id": "2Iatw9cCfUN6"
      },
      "source": [
        "You can use the logical comparators to compare strings!"
      ]
    },
    {
      "cell_type": "code",
      "metadata": {
        "colab": {
          "base_uri": "https://localhost:8080/"
        },
        "id": "qpDk8n40fVSp",
        "outputId": "52cf8f2c-4c0a-4346-c4e4-4e46027ec2d3"
      },
      "source": [
        "my_string = \"Carthago delenda est\"\r\n",
        "if my_string == \"Carthago delenda est\":\r\n",
        "    print('And so it was! For the glory of Rome!')\r\n",
        "else:\r\n",
        "    print('War elephants are TERRIFYING. I am staying home.')"
      ],
      "execution_count": 45,
      "outputs": [
        {
          "output_type": "stream",
          "text": [
            "And so it was! For the glory of Rome!\n"
          ],
          "name": "stdout"
        }
      ]
    },
    {
      "cell_type": "code",
      "metadata": {
        "colab": {
          "base_uri": "https://localhost:8080/"
        },
        "id": "FwgzXMn3ftRG",
        "outputId": "64802971-7298-45bd-ea27-8c351a835acf"
      },
      "source": [
        "#miejemplo\r\n",
        "ciudad = 'bogota'\r\n",
        "if ciudad == 'bogota':\r\n",
        "    print('estás en la nevera')\r\n",
        "else:\r\n",
        "    print('no estás en la nevera')"
      ],
      "execution_count": 46,
      "outputs": [
        {
          "output_type": "stream",
          "text": [
            "estás en la nevera\n"
          ],
          "name": "stdout"
        }
      ]
    },
    {
      "cell_type": "markdown",
      "metadata": {
        "id": "N0TomfLhgHod"
      },
      "source": [
        "As with other data types, == will check for whether the two things on either side of it have the same value. In this case, we compare whether the value of the strings are the same. Using > or < or any of the other comparators is not quite so intuitive, however, so we will stay from using comparators with strings in this lecture. Comparators will examine the lexicographical order of the strings, which might be a bit more in-depth than you might like.\r\n",
        "\r\n",
        "Some built-in functions return a boolean value, so they can be used as conditions in an if-statement. User-defined functions can also be constructed so that they return a boolean value. This will be covered later with function definition!\r\n",
        "\r\n",
        "The in keyword is generally used to check membership of a value within another value. We can check memebership in the context of an if-statement and use it to output a truth value."
      ]
    },
    {
      "cell_type": "code",
      "metadata": {
        "id": "Cv_qO6UIgdDV"
      },
      "source": [
        "if 'a' in my_string or 'e' in my_string:\r\n",
        "    print('Those are my favorite vowels!')"
      ],
      "execution_count": null,
      "outputs": []
    },
    {
      "cell_type": "code",
      "metadata": {
        "colab": {
          "base_uri": "https://localhost:8080/"
        },
        "id": "rgw77J6Mgh1u",
        "outputId": "3e9e4d5a-c46c-4d33-e26c-ee9ba7226772"
      },
      "source": [
        "#miejemplo\r\n",
        "ciudad = 'bogota'\r\n",
        "if 'e' in ciudad or 'o' in ciudad:\r\n",
        "    print(\"bogota tiene 'e' u 'o' en su nombre\")"
      ],
      "execution_count": 48,
      "outputs": [
        {
          "output_type": "stream",
          "text": [
            "bogota tiene 'e' u 'o' en su nombre\n"
          ],
          "name": "stdout"
        }
      ]
    },
    {
      "cell_type": "markdown",
      "metadata": {
        "id": "58BfUUGehFzh"
      },
      "source": [
        "##**Loop Structures**\r\n",
        "Loop structures are one of the most important parts of programming. The for loop and the while loop provide a way to repeatedly run a block of code repeatedly. A while loop will iterate until a certain condition has been met. If at any point after an iteration that condition is no longer satisfied, the loop terminates. A for loop will iterate over a sequence of values and terminate when the sequence has ended. You can instead include conditions within the for loop to decide whether it should terminate early or you could simply let it run its course."
      ]
    },
    {
      "cell_type": "code",
      "metadata": {
        "colab": {
          "base_uri": "https://localhost:8080/"
        },
        "id": "-yuNTA47hJ8x",
        "outputId": "fb472c5e-0152-4a82-91b3-6269e1e4d997"
      },
      "source": [
        "i = 5\r\n",
        "while i > 0: # We can write this as 'while i:' because 0 is False!\r\n",
        "    i -= 1\r\n",
        "    print('I am looping! {0} more to go!'.format(i))"
      ],
      "execution_count": 49,
      "outputs": [
        {
          "output_type": "stream",
          "text": [
            "I am looping! 4 more to go!\n",
            "I am looping! 3 more to go!\n",
            "I am looping! 2 more to go!\n",
            "I am looping! 1 more to go!\n",
            "I am looping! 0 more to go!\n"
          ],
          "name": "stdout"
        }
      ]
    },
    {
      "cell_type": "code",
      "metadata": {
        "colab": {
          "base_uri": "https://localhost:8080/"
        },
        "id": "ZGuOGo8XCo-c",
        "outputId": "778bc029-3fe3-4665-e707-d0a586b56780"
      },
      "source": [
        "#miejemplo\r\n",
        "condicion = True\r\n",
        "i = 5\r\n",
        "print('mientras las condicion sea verdadera el while seguira')\r\n",
        "while condicion: # We can write this as 'while i:' because 0 is False!\r\n",
        "    i = i - 1\r\n",
        "    print('ejecutando este codigo')\r\n",
        "    if i==0:\r\n",
        "      condicion = False"
      ],
      "execution_count": 8,
      "outputs": [
        {
          "output_type": "stream",
          "text": [
            "mientras las condicion sea verdadera el while seguira\n",
            "ejecutando este codigo\n",
            "ejecutando este codigo\n",
            "ejecutando este codigo\n",
            "ejecutando este codigo\n",
            "ejecutando este codigo\n"
          ],
          "name": "stdout"
        }
      ]
    },
    {
      "cell_type": "markdown",
      "metadata": {
        "id": "Iw4yh-L6FB_V"
      },
      "source": [
        "With **while loops** we need to make sure that something actually changes from iteration to iteration so that that the loop actually terminates. In this case, we use the shorthand i -= 1 (short for i = i - 1) so that the value of i gets smaller with each iteration. Eventually i will be reduced to 0, rendering the condition False and exiting the loop.\r\n",
        "\r\n",
        "A **for loop** iterates a set number of times, determined when you state the entry into the loop. In this case we are iterating over the list returned from range(). The for loop selects a value from the list, in order, and temporarily assigns the value of i to it so that operations can be performed with the value."
      ]
    },
    {
      "cell_type": "code",
      "metadata": {
        "colab": {
          "base_uri": "https://localhost:8080/"
        },
        "id": "yPopfS7SFje5",
        "outputId": "b8064e44-d8cf-4237-8bfa-c3bb382b6a3e"
      },
      "source": [
        "for i in range(5):\r\n",
        "    print('I am looping! I have looped {0} times!'.format(i + 1))"
      ],
      "execution_count": 10,
      "outputs": [
        {
          "output_type": "stream",
          "text": [
            "I am looping! I have looped 1 times!\n",
            "I am looping! I have looped 2 times!\n",
            "I am looping! I have looped 3 times!\n",
            "I am looping! I have looped 4 times!\n",
            "I am looping! I have looped 5 times!\n"
          ],
          "name": "stdout"
        }
      ]
    },
    {
      "cell_type": "code",
      "metadata": {
        "colab": {
          "base_uri": "https://localhost:8080/"
        },
        "id": "y-zHW6fgFxbP",
        "outputId": "21c21b65-068b-4797-9f75-80ff2954122f"
      },
      "source": [
        "#miejemplo\r\n",
        "print('En este caso for se repetirá')\r\n",
        "for i in range(3):\r\n",
        "    print('este bloque de codigo')\r\n",
        "print('un numero determinado de veces')"
      ],
      "execution_count": 17,
      "outputs": [
        {
          "output_type": "stream",
          "text": [
            "En este caso for se repetirá\n",
            "este bloque de codigo\n",
            "este bloque de codigo\n",
            "este bloque de codigo\n",
            "un numero determinado de veces\n"
          ],
          "name": "stdout"
        }
      ]
    },
    {
      "cell_type": "markdown",
      "metadata": {
        "id": "CFYrv5P0Hvg9"
      },
      "source": [
        "Note that in this for loop we use the in keyword. Use of the in keyword is not limited to checking for membership as in the if-statement example. You can iterate over any collection with a for loop by using the in keyword.\r\n",
        "\r\n",
        "In this next example, we will iterate over a set because we want to check for containment and add to a new set."
      ]
    },
    {
      "cell_type": "code",
      "metadata": {
        "colab": {
          "base_uri": "https://localhost:8080/"
        },
        "id": "_2J0WQViIINf",
        "outputId": "a4231b5a-0b6c-4ece-a419-53a74e91f389"
      },
      "source": [
        "my_list = {'cats', 'dogs', 'lizards', 'cows', 'bats', 'sponges', 'humans'} # Lists all the animals in the world\r\n",
        "mammal_list = {'cats', 'dogs', 'cows', 'bats', 'humans'} # Lists all the mammals in the world\r\n",
        "my_new_list = set()\r\n",
        "for animal in my_list:\r\n",
        "    if animal in mammal_list:\r\n",
        "        # This adds any animal that is both in my_list and mammal_list to my_new_list\r\n",
        "        my_new_list.add(animal)\r\n",
        "        \r\n",
        "print(my_new_list)"
      ],
      "execution_count": 21,
      "outputs": [
        {
          "output_type": "stream",
          "text": [
            "{'cats', 'humans', 'dogs', 'bats', 'cows'}\n"
          ],
          "name": "stdout"
        }
      ]
    },
    {
      "cell_type": "code",
      "metadata": {
        "colab": {
          "base_uri": "https://localhost:8080/"
        },
        "id": "WFwLqu6aIT3p",
        "outputId": "1c6a7e93-9e84-4651-f200-d7ba5999469c"
      },
      "source": [
        "#miejemplo\r\n",
        "my_list1 = {'elemento1', 'elemento2', 'elemento3', 'elemento4', 'elemento5', 'elemento6'} # Lists all the animals in the world\r\n",
        "my_second_list = {'elemento1', 'elemento5', 'elemento4'} # Lists all the mammals in the world\r\n",
        "my_new_list1 = set()\r\n",
        "for iterardor in my_list1:\r\n",
        "    if iterardor in my_second_list:\r\n",
        "        # This adds any animal that is both in my_list and mammal_list to my_new_list\r\n",
        "        my_new_list1.add(iterardor)\r\n",
        "        \r\n",
        "print(my_new_list1)"
      ],
      "execution_count": 23,
      "outputs": [
        {
          "output_type": "stream",
          "text": [
            "{'elemento5', 'elemento1', 'elemento4'}\n"
          ],
          "name": "stdout"
        }
      ]
    },
    {
      "cell_type": "markdown",
      "metadata": {
        "id": "CN9DYxAWJp0i"
      },
      "source": [
        "There are two statements that are very helpful in dealing with both for and while loops. These are break and continue. If break is encountered at any point while a loop is executing, the loop will immediately end."
      ]
    },
    {
      "cell_type": "code",
      "metadata": {
        "colab": {
          "base_uri": "https://localhost:8080/"
        },
        "id": "t-xnmZIqLXAt",
        "outputId": "3e0aea1f-51df-408c-e093-3becab8d65b1"
      },
      "source": [
        "i = 10\r\n",
        "while True:\r\n",
        "    if i == 14:\r\n",
        "        break\r\n",
        "    i += 1 # This is shorthand for i = i + 1. It increments i with each iteration.\r\n",
        "    print(i)"
      ],
      "execution_count": 24,
      "outputs": [
        {
          "output_type": "stream",
          "text": [
            "11\n",
            "12\n",
            "13\n",
            "14\n"
          ],
          "name": "stdout"
        }
      ]
    },
    {
      "cell_type": "code",
      "metadata": {
        "colab": {
          "base_uri": "https://localhost:8080/"
        },
        "id": "QQoQSSJdNUat",
        "outputId": "4836ae9f-8e6c-4691-c3d1-02d1465115fa"
      },
      "source": [
        "for i in range(5):\r\n",
        "    if i == 2:\r\n",
        "        break\r\n",
        "    print(i)"
      ],
      "execution_count": 28,
      "outputs": [
        {
          "output_type": "stream",
          "text": [
            "0\n",
            "1\n"
          ],
          "name": "stdout"
        }
      ]
    },
    {
      "cell_type": "code",
      "metadata": {
        "colab": {
          "base_uri": "https://localhost:8080/"
        },
        "id": "NjTsE8AML68k",
        "outputId": "2c9ba70a-1360-4746-c9f4-fd935e387b2b"
      },
      "source": [
        "#miejemplo\r\n",
        "iterador = 0\r\n",
        "print('el while seguirá repitiendose indefinidamente ya que su condicion es verdadera')\r\n",
        "while True:\r\n",
        "    if iterador == 3:\r\n",
        "      print('pero cuando llega a este break, para')\r\n",
        "      break\r\n",
        "    iterador += 1 # This is shorthand for i = i + 1. It increments i with each iteration.\r\n",
        "    print('mientras no se ejecute el break, continua')"
      ],
      "execution_count": 27,
      "outputs": [
        {
          "output_type": "stream",
          "text": [
            "el while seguirá repitiendose indefinidamente ya que su condicion es verdadera\n",
            "mientras no se ejecute el break, continua\n",
            "mientras no se ejecute el break, continua\n",
            "mientras no se ejecute el break, continua\n",
            "pero cuando llega a este break, para\n"
          ],
          "name": "stdout"
        }
      ]
    },
    {
      "cell_type": "markdown",
      "metadata": {
        "id": "xsa7Bp_9NKcE"
      },
      "source": [
        "The continue statement will tell the loop to immediately end this iteration and continue onto the next iteration of the loop."
      ]
    },
    {
      "cell_type": "code",
      "metadata": {
        "colab": {
          "base_uri": "https://localhost:8080/"
        },
        "id": "CEycjP13NeqA",
        "outputId": "d40721e5-024f-41de-bfda-90e03f9e9dc0"
      },
      "source": [
        "i = 0\r\n",
        "while i < 5:\r\n",
        "    i += 1\r\n",
        "    if i == 3:\r\n",
        "        continue\r\n",
        "    print(i)"
      ],
      "execution_count": 29,
      "outputs": [
        {
          "output_type": "stream",
          "text": [
            "1\n",
            "2\n",
            "4\n",
            "5\n"
          ],
          "name": "stdout"
        }
      ]
    },
    {
      "cell_type": "code",
      "metadata": {
        "colab": {
          "base_uri": "https://localhost:8080/"
        },
        "id": "UG4j4T2kNthx",
        "outputId": "b09be272-3f0c-48dd-9669-b6fcec89c90e"
      },
      "source": [
        "#miejemplo\r\n",
        "iterador = 0\r\n",
        "print('se iterara en orden el while')\r\n",
        "while iterador < 5:\r\n",
        "  iterador += 1\r\n",
        "  if iterador == 3:\r\n",
        "    continue\r\n",
        "  print('contando: {0}'.format(iterador))\r\n",
        "print('pero como se nota en el continue se corta ese paso')"
      ],
      "execution_count": 33,
      "outputs": [
        {
          "output_type": "stream",
          "text": [
            "se iterara en orden el while\n",
            "contando: 1\n",
            "contando: 2\n",
            "contando: 4\n",
            "contando: 5\n",
            "pero como se nota en el continue se corta ese paso\n"
          ],
          "name": "stdout"
        }
      ]
    },
    {
      "cell_type": "markdown",
      "metadata": {
        "id": "ZchVrWFjPAU3"
      },
      "source": [
        "This loop skips printing the number $3$ because of the continue statement that executes when we enter the if-statement. The code never sees the command to print the number $3$ because it has already moved to the next iteration. The break and continue statements are further tools to help you control the flow of your loops and, as a result, your code.\r\n",
        "\r\n",
        "The variable that we use to iterate over a loop will retain its value when the loop exits. Similarly, any variables defined within the context of the loop will continue to exist outside of it."
      ]
    },
    {
      "cell_type": "code",
      "metadata": {
        "colab": {
          "base_uri": "https://localhost:8080/"
        },
        "id": "dEXeK_sePbyy",
        "outputId": "38cef6d0-6fcc-4a8a-d64a-ffe6e98510eb"
      },
      "source": [
        "for i in range(5):\r\n",
        "    loop_string = 'I transcend the loop!'\r\n",
        "    print('I am eternal! I am {0} and I exist everywhere!'.format(i))\r\n",
        "\r\n",
        "print('I persist! My value is {0}'.format(i))\r\n",
        "print(loop_string)"
      ],
      "execution_count": 37,
      "outputs": [
        {
          "output_type": "stream",
          "text": [
            "I am eternal! I am 0 and I exist everywhere!\n",
            "I am eternal! I am 1 and I exist everywhere!\n",
            "I am eternal! I am 2 and I exist everywhere!\n",
            "I am eternal! I am 3 and I exist everywhere!\n",
            "I am eternal! I am 4 and I exist everywhere!\n",
            "I persist! My value is 4\n",
            "I transcend the loop!\n"
          ],
          "name": "stdout"
        }
      ]
    },
    {
      "cell_type": "code",
      "metadata": {
        "colab": {
          "base_uri": "https://localhost:8080/"
        },
        "id": "LeLYry_KQAFt",
        "outputId": "d1329def-dabb-4505-ae08-c33b772e13a9"
      },
      "source": [
        "#miejemplo\r\n",
        "for iterador in range(3):\r\n",
        "    variable = 'variable creada en un loop'\r\n",
        "    print('y el iterador, igual a {0}, que fue creado para iterar en el for'.format(iterador))\r\n",
        "\r\n",
        "print('el iterador queda con este valor: {0}'.format(iterador))\r\n",
        "print('y se puede usar para operar como iterador + iterador = {0}'.format(iterador + iterador))\r\n",
        "print(variable)"
      ],
      "execution_count": 42,
      "outputs": [
        {
          "output_type": "stream",
          "text": [
            "y el iterador, igual a 0, que fue creado para iterar en el for\n",
            "y el iterador, igual a 1, que fue creado para iterar en el for\n",
            "y el iterador, igual a 2, que fue creado para iterar en el for\n",
            "el iterador queda con este valor: 2\n",
            "y se puede usar para operar como iterador + iterador = 4\n",
            "variable creada en un loop\n"
          ],
          "name": "stdout"
        }
      ]
    },
    {
      "cell_type": "markdown",
      "metadata": {
        "id": "u7-UWiM0R27w"
      },
      "source": [
        "\r\n",
        "We can also iterate over a dictionary!"
      ]
    },
    {
      "cell_type": "code",
      "metadata": {
        "id": "qxNRv1pQSUt7"
      },
      "source": [
        "my_dict = {'firstname' : 'Inigo', 'lastname' : 'Montoya', 'nemesis' : 'Rugen'}"
      ],
      "execution_count": 43,
      "outputs": []
    },
    {
      "cell_type": "code",
      "metadata": {
        "colab": {
          "base_uri": "https://localhost:8080/"
        },
        "id": "1GAL9jKOSaTU",
        "outputId": "1422cd64-da8e-49fc-b80c-cdf582e7e637"
      },
      "source": [
        "for key in my_dict:\r\n",
        "    print(key)"
      ],
      "execution_count": 44,
      "outputs": [
        {
          "output_type": "stream",
          "text": [
            "firstname\n",
            "lastname\n",
            "nemesis\n"
          ],
          "name": "stdout"
        }
      ]
    },
    {
      "cell_type": "code",
      "metadata": {
        "colab": {
          "base_uri": "https://localhost:8080/"
        },
        "id": "jbSO64Y6THEU",
        "outputId": "6664756b-f780-43ca-8685-fcac970e5c38"
      },
      "source": [
        "#miejemplo\r\n",
        "my_dict2 = {'key1' : 'valor1', 'key2' : 'valor2', 'key3' : 'valor3'}\r\n",
        "for iterador in my_dict2:\r\n",
        "  print('se ingresa en cada uno de las keys del diccionario: {0}'.format(iterador))"
      ],
      "execution_count": 45,
      "outputs": [
        {
          "output_type": "stream",
          "text": [
            "se ingresa en cada uno de las keys del diccionario: key1\n",
            "se ingresa en cada uno de las keys del diccionario: key2\n",
            "se ingresa en cada uno de las keys del diccionario: key3\n"
          ],
          "name": "stdout"
        }
      ]
    },
    {
      "cell_type": "markdown",
      "metadata": {
        "id": "CIdt4g4RTySt"
      },
      "source": [
        "\r\n",
        "If we just iterate over a dictionary without doing anything else, we will only get the keys. We can either use the keys to get the values, like so:"
      ]
    },
    {
      "cell_type": "code",
      "metadata": {
        "colab": {
          "base_uri": "https://localhost:8080/"
        },
        "id": "-IwQ8gPxT7OL",
        "outputId": "5aa262ac-1b84-4a20-942b-dc96f00a5219"
      },
      "source": [
        "for key in my_dict:\r\n",
        "    print(my_dict[key])"
      ],
      "execution_count": 46,
      "outputs": [
        {
          "output_type": "stream",
          "text": [
            "Inigo\n",
            "Montoya\n",
            "Rugen\n"
          ],
          "name": "stdout"
        }
      ]
    },
    {
      "cell_type": "code",
      "metadata": {
        "colab": {
          "base_uri": "https://localhost:8080/"
        },
        "id": "3C_p6H7VUGH5",
        "outputId": "a0f17dde-db32-4f3d-f750-7f2207c965a8"
      },
      "source": [
        "#miejemplo\r\n",
        "my_dict2 = {'key1' : 'valor1', 'key2' : 'valor2', 'key3' : 'valor3'}\r\n",
        "for iterador in my_dict2:\r\n",
        "  print('tambien se puede ingresar a los valores de las llaves del diccionario: {0}'.format(my_dict2[iterador]))"
      ],
      "execution_count": 47,
      "outputs": [
        {
          "output_type": "stream",
          "text": [
            "tambien se puede ingresar a los valores de las llaves del diccionario: valor1\n",
            "tambien se puede ingresar a los valores de las llaves del diccionario: valor2\n",
            "tambien se puede ingresar a los valores de las llaves del diccionario: valor3\n"
          ],
          "name": "stdout"
        }
      ]
    },
    {
      "cell_type": "markdown",
      "metadata": {
        "id": "4O8caSidUTs6"
      },
      "source": [
        "\r\n",
        "Or we can use the items() function to get both key and value at the same time."
      ]
    },
    {
      "cell_type": "code",
      "metadata": {
        "colab": {
          "base_uri": "https://localhost:8080/"
        },
        "id": "WQkMETKtUVCH",
        "outputId": "6351206e-ff2e-421c-cc2d-ccc38fd61d22"
      },
      "source": [
        "for key, value in my_dict.items():\r\n",
        "    print(key, ':', value)"
      ],
      "execution_count": 48,
      "outputs": [
        {
          "output_type": "stream",
          "text": [
            "firstname : Inigo\n",
            "lastname : Montoya\n",
            "nemesis : Rugen\n"
          ],
          "name": "stdout"
        }
      ]
    },
    {
      "cell_type": "code",
      "metadata": {
        "colab": {
          "base_uri": "https://localhost:8080/"
        },
        "id": "ieP8L8dsUeA9",
        "outputId": "7a529bc7-56b0-411d-9e5d-a069840e2388"
      },
      "source": [
        "#miejemplo\r\n",
        "my_dict2 = {'key1' : 'valor1', 'key2' : 'valor2', 'key3' : 'valor3'}\r\n",
        "print('se puede ingresar a clave:valor al tiempo ')\r\n",
        "for clave, valor in my_dict2.items():\r\n",
        "  print(clave, ':', valor)"
      ],
      "execution_count": 49,
      "outputs": [
        {
          "output_type": "stream",
          "text": [
            "se puede ingresar a clave:valor al tiempo \n",
            "key1 : valor1\n",
            "key2 : valor2\n",
            "key3 : valor3\n"
          ],
          "name": "stdout"
        }
      ]
    },
    {
      "cell_type": "markdown",
      "metadata": {
        "id": "lLcltvhPVLq-"
      },
      "source": [
        "\r\n",
        "The items() function creates a tuple of each key-value pair and the for loop unpacks that tuple into key, value on each separate execution of the loop!"
      ]
    },
    {
      "cell_type": "markdown",
      "metadata": {
        "id": "wvThFECjVuyf"
      },
      "source": [
        "##**Functions**\r\n",
        "A function is a reusable block of code that you can call repeatedly to make calculations, output data, or really do anything that you want. This is one of the key aspects of using a programming language. To add to the built-in functions in Python, you can define your own!"
      ]
    },
    {
      "cell_type": "code",
      "metadata": {
        "colab": {
          "base_uri": "https://localhost:8080/"
        },
        "id": "uY-hxO8bVzKT",
        "outputId": "1b0c60cd-bb90-4f54-81a6-3682f02a233a"
      },
      "source": [
        "def hello_world():\r\n",
        "    \"\"\" Prints Hello, world! \"\"\"\r\n",
        "    print('Hello, world!')\r\n",
        "\r\n",
        "hello_world()"
      ],
      "execution_count": 50,
      "outputs": [
        {
          "output_type": "stream",
          "text": [
            "Hello, world!\n"
          ],
          "name": "stdout"
        }
      ]
    },
    {
      "cell_type": "code",
      "metadata": {
        "colab": {
          "base_uri": "https://localhost:8080/"
        },
        "id": "TLpjQdF0WTg6",
        "outputId": "0fa7f27e-2ee2-49c1-fb73-6d12e58010a3"
      },
      "source": [
        "for i in range(5):\r\n",
        "    hello_world()"
      ],
      "execution_count": 52,
      "outputs": [
        {
          "output_type": "stream",
          "text": [
            "Hello, world!\n",
            "Hello, world!\n",
            "Hello, world!\n",
            "Hello, world!\n",
            "Hello, world!\n"
          ],
          "name": "stdout"
        }
      ]
    },
    {
      "cell_type": "code",
      "metadata": {
        "colab": {
          "base_uri": "https://localhost:8080/"
        },
        "id": "qgFp0kKtWDxY",
        "outputId": "e801705e-d986-4ca0-cfe0-a82db49667ca"
      },
      "source": [
        "#miejemplo\r\n",
        "def saludo():\r\n",
        "  print('Que obas prro!')\r\n",
        "saludo()"
      ],
      "execution_count": 51,
      "outputs": [
        {
          "output_type": "stream",
          "text": [
            "Que obas prro!\n"
          ],
          "name": "stdout"
        }
      ]
    },
    {
      "cell_type": "code",
      "metadata": {
        "colab": {
          "base_uri": "https://localhost:8080/"
        },
        "id": "1gJCgdgLWtF9",
        "outputId": "1b951c7d-3760-4d45-ca4a-ba21faaa86f7"
      },
      "source": [
        "print('saludar a 3 personas con una unica funcion')\r\n",
        "for i in range(3):\r\n",
        "    saludo()"
      ],
      "execution_count": 53,
      "outputs": [
        {
          "output_type": "stream",
          "text": [
            "saludar a 3 personas con una unica funcion\n",
            "Que obas prro!\n",
            "Que obas prro!\n",
            "Que obas prro!\n"
          ],
          "name": "stdout"
        }
      ]
    },
    {
      "cell_type": "markdown",
      "metadata": {
        "id": "xIAvUeU3XEjq"
      },
      "source": [
        "Functions are defined with def, a function name, a list of parameters, and a colon. Everything indented below the colon will be included in the definition of the function.\r\n",
        "\r\n",
        "We can have our functions do anything that you can do with a normal block of code. For example, our hello_world() function prints a string every time it is called. If we want to keep a value that a function calculates, we can define the function so that it will return the value we want. This is a very important feature of functions, as any variable defined purely within a function will not exist outside of it."
      ]
    },
    {
      "cell_type": "code",
      "metadata": {
        "colab": {
          "base_uri": "https://localhost:8080/",
          "height": 197
        },
        "id": "gS6UxX7TYyFt",
        "outputId": "51d3ae8e-54dd-45e0-91f1-230d4747b7b2"
      },
      "source": [
        "def see_the_scope():\r\n",
        "    in_function_string = \"I'm stuck in here!\"\r\n",
        "\r\n",
        "see_the_scope()\r\n",
        "print(in_function_string)"
      ],
      "execution_count": 54,
      "outputs": [
        {
          "output_type": "error",
          "ename": "NameError",
          "evalue": "ignored",
          "traceback": [
            "\u001b[0;31m---------------------------------------------------------------------------\u001b[0m",
            "\u001b[0;31mNameError\u001b[0m                                 Traceback (most recent call last)",
            "\u001b[0;32m<ipython-input-54-fb168f245f67>\u001b[0m in \u001b[0;36m<module>\u001b[0;34m()\u001b[0m\n\u001b[1;32m      3\u001b[0m \u001b[0;34m\u001b[0m\u001b[0m\n\u001b[1;32m      4\u001b[0m \u001b[0msee_the_scope\u001b[0m\u001b[0;34m(\u001b[0m\u001b[0;34m)\u001b[0m\u001b[0;34m\u001b[0m\u001b[0;34m\u001b[0m\u001b[0m\n\u001b[0;32m----> 5\u001b[0;31m \u001b[0mprint\u001b[0m\u001b[0;34m(\u001b[0m\u001b[0min_function_string\u001b[0m\u001b[0;34m)\u001b[0m\u001b[0;34m\u001b[0m\u001b[0;34m\u001b[0m\u001b[0m\n\u001b[0m",
            "\u001b[0;31mNameError\u001b[0m: name 'in_function_string' is not defined"
          ]
        }
      ]
    },
    {
      "cell_type": "code",
      "metadata": {
        "colab": {
          "base_uri": "https://localhost:8080/",
          "height": 214
        },
        "id": "FA3VoFJeZYG0",
        "outputId": "07b6c698-b0f1-452e-c720-93939834ad99"
      },
      "source": [
        "#miejemplo\r\n",
        "def funcion_cualquiera():\r\n",
        "    variable_creada_en_funcion = \"variable temporal para la funcion\"\r\n",
        "\r\n",
        "funcion_cualquiera()\r\n",
        "print('aunque se declare la funcion, dado que no se asigno a una variable, python mostrará error')\r\n",
        "print(variable_creada_en_funcion)"
      ],
      "execution_count": 56,
      "outputs": [
        {
          "output_type": "stream",
          "text": [
            "aunque se declare la funcion, dado que no se asigno a una variable, python mostrará error\n"
          ],
          "name": "stdout"
        },
        {
          "output_type": "error",
          "ename": "NameError",
          "evalue": "ignored",
          "traceback": [
            "\u001b[0;31m---------------------------------------------------------------------------\u001b[0m",
            "\u001b[0;31mNameError\u001b[0m                                 Traceback (most recent call last)",
            "\u001b[0;32m<ipython-input-56-f8e587409a51>\u001b[0m in \u001b[0;36m<module>\u001b[0;34m()\u001b[0m\n\u001b[1;32m      5\u001b[0m \u001b[0mfuncion_cualquiera\u001b[0m\u001b[0;34m(\u001b[0m\u001b[0;34m)\u001b[0m\u001b[0;34m\u001b[0m\u001b[0;34m\u001b[0m\u001b[0m\n\u001b[1;32m      6\u001b[0m \u001b[0mprint\u001b[0m\u001b[0;34m(\u001b[0m\u001b[0;34m'aunque se declare la funcion, dado que no se asigno a una variable, python mostrará error'\u001b[0m\u001b[0;34m)\u001b[0m\u001b[0;34m\u001b[0m\u001b[0;34m\u001b[0m\u001b[0m\n\u001b[0;32m----> 7\u001b[0;31m \u001b[0mprint\u001b[0m\u001b[0;34m(\u001b[0m\u001b[0mvariable_creada_en_funcion\u001b[0m\u001b[0;34m)\u001b[0m\u001b[0;34m\u001b[0m\u001b[0;34m\u001b[0m\u001b[0m\n\u001b[0m",
            "\u001b[0;31mNameError\u001b[0m: name 'variable_creada_en_funcion' is not defined"
          ]
        }
      ]
    },
    {
      "cell_type": "markdown",
      "metadata": {
        "id": "nShDTY6fdNsL"
      },
      "source": [
        "The scope of a variable is the part of a block of code where that variable is tied to a particular value. Functions in Python have an enclosed scope, making it so that variables defined within them can only be accessed directly within them. If we pass those values to a return statement we can get them out of the function. This makes it so that the function call returns values so that you can store them in variables that have a greater scope.\r\n",
        "\r\n",
        "In this case specifically, including a return statement allows us to keep the string value that we define in the function."
      ]
    },
    {
      "cell_type": "code",
      "metadata": {
        "colab": {
          "base_uri": "https://localhost:8080/"
        },
        "id": "8bQMYUhkdyBZ",
        "outputId": "0249be69-d0f8-4ab1-cce0-24f36745bdf8"
      },
      "source": [
        "def free_the_scope():\r\n",
        "    in_function_string = \"Anything you can do I can do better!\"\r\n",
        "    return in_function_string\r\n",
        "my_string = free_the_scope()\r\n",
        "print(my_string)"
      ],
      "execution_count": 57,
      "outputs": [
        {
          "output_type": "stream",
          "text": [
            "Anything you can do I can do better!\n"
          ],
          "name": "stdout"
        }
      ]
    },
    {
      "cell_type": "code",
      "metadata": {
        "colab": {
          "base_uri": "https://localhost:8080/"
        },
        "id": "6AEoaVfiePEW",
        "outputId": "91b166d1-417d-4001-c771-0367010016d0"
      },
      "source": [
        "#miejemplo\r\n",
        "def funcion_cualquiera2():\r\n",
        "    variable_creada_en_funcion = \"variable creada en una funcion\"\r\n",
        "    return variable_creada_en_funcion\r\n",
        "cadena_que_permite_sacar_el_valor = funcion_cualquiera2()\r\n",
        "print('valor de:' , cadena_que_permite_sacar_el_valor)"
      ],
      "execution_count": 59,
      "outputs": [
        {
          "output_type": "stream",
          "text": [
            "valor de: variable creada en una funcion\n"
          ],
          "name": "stdout"
        }
      ]
    },
    {
      "cell_type": "markdown",
      "metadata": {
        "id": "hA_R8lU8fzjY"
      },
      "source": [
        "Just as we can get values out of a function, we can also put values into a function. We do this by defining our function with parameters."
      ]
    },
    {
      "cell_type": "code",
      "metadata": {
        "colab": {
          "base_uri": "https://localhost:8080/"
        },
        "id": "QitS64xshIsp",
        "outputId": "6d51b995-4d57-4a64-b2b2-8e494178ed61"
      },
      "source": [
        "def multiply_by_five(x):\r\n",
        "    \"\"\" Multiplies an input number by 5 \"\"\"\r\n",
        "    return x * 5\r\n",
        "n = 4\r\n",
        "print(n)\r\n",
        "print(multiply_by_five(n))"
      ],
      "execution_count": 60,
      "outputs": [
        {
          "output_type": "stream",
          "text": [
            "4\n",
            "20\n"
          ],
          "name": "stdout"
        }
      ]
    },
    {
      "cell_type": "code",
      "metadata": {
        "colab": {
          "base_uri": "https://localhost:8080/"
        },
        "id": "wleWZ8KUhQJe",
        "outputId": "dde66c04-25b4-4d2f-9c4b-0192d09b6bb9"
      },
      "source": [
        "#miejemplo\r\n",
        "def multiplo_de_dos(y):\r\n",
        "    return(not bool(y%2))\r\n",
        "numero = 11\r\n",
        "print(numero, 'es multiplo de 2:', multiplo_de_dos(numero))"
      ],
      "execution_count": 64,
      "outputs": [
        {
          "output_type": "stream",
          "text": [
            "11 es multiplo de 2: False\n"
          ],
          "name": "stdout"
        }
      ]
    },
    {
      "cell_type": "markdown",
      "metadata": {
        "id": "9xKu6eDyiPHa"
      },
      "source": [
        "In this example we only had one parameter for our function, x. We can easily add more parameters, separating everything with a comma."
      ]
    },
    {
      "cell_type": "code",
      "metadata": {
        "id": "CN2hss8WiW6s"
      },
      "source": [
        "def calculate_area(length, width):\r\n",
        "    \"\"\" Calculates the area of a rectangle \"\"\"\r\n",
        "    return length * width"
      ],
      "execution_count": 66,
      "outputs": []
    },
    {
      "cell_type": "code",
      "metadata": {
        "colab": {
          "base_uri": "https://localhost:8080/"
        },
        "id": "xhXWECTYicqL",
        "outputId": "1c076ea9-9c5f-4ce4-c43b-e6ed069f41ed"
      },
      "source": [
        "l = 5\r\n",
        "w = 10\r\n",
        "print('Area: ', calculate_area(l, w))\r\n",
        "print('Length: ', l)\r\n",
        "print('Width: ', w)"
      ],
      "execution_count": 67,
      "outputs": [
        {
          "output_type": "stream",
          "text": [
            "Area:  50\n",
            "Length:  5\n",
            "Width:  10\n"
          ],
          "name": "stdout"
        }
      ]
    },
    {
      "cell_type": "code",
      "metadata": {
        "id": "WI-Y3mq2in6V"
      },
      "source": [
        "def calculate_volume(length, width, depth):\r\n",
        "    \"\"\" Calculates the volume of a rectangular prism \"\"\"\r\n",
        "    return length * width * depth"
      ],
      "execution_count": null,
      "outputs": []
    },
    {
      "cell_type": "code",
      "metadata": {
        "colab": {
          "base_uri": "https://localhost:8080/"
        },
        "id": "-3r10l6AisRJ",
        "outputId": "b02648f7-52b5-43c8-bd2e-b8e6eee06b04"
      },
      "source": [
        "#miejemplo\r\n",
        "def potencia(numero, pot):\r\n",
        "  x = numero\r\n",
        "  i = pot\r\n",
        "  for i in range(pot-1):\r\n",
        "    x = x * numero\r\n",
        "  return x\r\n",
        "\r\n",
        "print(potencia(3,5))"
      ],
      "execution_count": 79,
      "outputs": [
        {
          "output_type": "stream",
          "text": [
            "243\n"
          ],
          "name": "stdout"
        }
      ]
    },
    {
      "cell_type": "markdown",
      "metadata": {
        "id": "ZCFY3-r-irUo"
      },
      "source": [
        "If we want to, we can define a function so that it takes an arbitrary number of parameters. We tell Python that we want this by using an asterisk (*)."
      ]
    },
    {
      "cell_type": "code",
      "metadata": {
        "id": "-KCTZ_LfkLRQ"
      },
      "source": [
        "def sum_values(*args):\r\n",
        "    sum_val = 0\r\n",
        "    for i in args:\r\n",
        "        sum_val += i\r\n",
        "    return sum_val"
      ],
      "execution_count": 81,
      "outputs": []
    },
    {
      "cell_type": "code",
      "metadata": {
        "colab": {
          "base_uri": "https://localhost:8080/"
        },
        "id": "LaW7dA4EkaLm",
        "outputId": "16bb2d0b-e4d5-41b3-c6a7-d75053fb8bca"
      },
      "source": [
        "print(sum_values(1, 2, 3))\r\n",
        "print(sum_values(10, 20, 30, 40, 50))\r\n",
        "print(sum_values(4, 2, 5, 1, 10, 249, 25, 24, 13, 6, 4))"
      ],
      "execution_count": 82,
      "outputs": [
        {
          "output_type": "stream",
          "text": [
            "6\n",
            "150\n",
            "343\n"
          ],
          "name": "stdout"
        }
      ]
    },
    {
      "cell_type": "code",
      "metadata": {
        "colab": {
          "base_uri": "https://localhost:8080/"
        },
        "id": "y9AIiEeDkoQy",
        "outputId": "71f1c8ac-973c-44b8-edaf-a72aae944065"
      },
      "source": [
        "#miejemplo\r\n",
        "def juntando_cadenas(*args):\r\n",
        "  cadena=''\r\n",
        "  for i in args:\r\n",
        "    cadena = cadena + i\r\n",
        "  return cadena\r\n",
        "\r\n",
        "print(juntando_cadenas('hola ', 'a todos ', 'como están?'))"
      ],
      "execution_count": 84,
      "outputs": [
        {
          "output_type": "stream",
          "text": [
            "hola a todos como están?\n"
          ],
          "name": "stdout"
        }
      ]
    },
    {
      "cell_type": "markdown",
      "metadata": {
        "id": "ZIP8f9aDlW6B"
      },
      "source": [
        "The time to use *args as a parameter for your function is when you do not know how many values may be passed to it, as in the case of our sum function. The asterisk in this case is the syntax that tells Python that you are going to pass an arbitrary number of parameters into your function. These parameters are stored in the form of a tuple."
      ]
    },
    {
      "cell_type": "code",
      "metadata": {
        "colab": {
          "base_uri": "https://localhost:8080/"
        },
        "id": "My1VifmslYAV",
        "outputId": "b6791ad0-2097-44e0-c97f-83f335c71611"
      },
      "source": [
        "def test_args(*args):\r\n",
        "    print(type(args))\r\n",
        "\r\n",
        "test_args(1, 2, 3, 4, 5, 6)"
      ],
      "execution_count": 85,
      "outputs": [
        {
          "output_type": "stream",
          "text": [
            "<class 'tuple'>\n"
          ],
          "name": "stdout"
        }
      ]
    },
    {
      "cell_type": "code",
      "metadata": {
        "colab": {
          "base_uri": "https://localhost:8080/"
        },
        "id": "TFSipxvSlkOO",
        "outputId": "ead861b6-39c0-488b-f9ee-805d07de748a"
      },
      "source": [
        "def test_args(*args):\r\n",
        "    print(type(args))\r\n",
        "\r\n",
        "test_args(1, False, 3, 4.0, True, 'holi') #no importa el tipo devuelte tupla"
      ],
      "execution_count": 88,
      "outputs": [
        {
          "output_type": "stream",
          "text": [
            "<class 'tuple'>\n"
          ],
          "name": "stdout"
        }
      ]
    },
    {
      "cell_type": "markdown",
      "metadata": {
        "id": "xfwgGrVblxR3"
      },
      "source": [
        "We can put as many elements into the args tuple as we want to when we call the function. However, because args is a tuple, we cannot modify it after it has been created.\r\n",
        "\r\n",
        "The args name of the variable is purely by convention. You could just as easily name your parameter *vars or *things. You can treat the args tuple like you would any other tuple, easily accessing arg's values and iterating over it, as in the above sum_values(*args) function.\r\n",
        "\r\n",
        "Our functions can return any data type. This makes it easy for us to create functions that check for conditions that we might want to monitor.\r\n",
        "\r\n",
        "Here we define a function that returns a boolean value. We can easily use this in conjunction with if-statements and other situations that require a boolean."
      ]
    },
    {
      "cell_type": "code",
      "metadata": {
        "id": "nCzeEFMrmJG0"
      },
      "source": [
        "def has_a_vowel(word):\r\n",
        "    \"\"\" \r\n",
        "    Checks to see whether a word contains a vowel \r\n",
        "    If it doesn't contain a conventional vowel, it\r\n",
        "    will check for the presence of 'y' or 'w'. Does\r\n",
        "    not check to see whether those are in the word\r\n",
        "    in a vowel context.\r\n",
        "    \"\"\"\r\n",
        "    vowel_list = ['a', 'e', 'i', 'o', 'u']\r\n",
        "    \r\n",
        "    for vowel in vowel_list:\r\n",
        "        if vowel in word:\r\n",
        "            return True\r\n",
        "    # If there is a vowel in the word, the function returns, preventing anything after this loop from running\r\n",
        "    return False"
      ],
      "execution_count": 90,
      "outputs": []
    },
    {
      "cell_type": "code",
      "metadata": {
        "colab": {
          "base_uri": "https://localhost:8080/"
        },
        "id": "vjUyKjKPmSzu",
        "outputId": "cee8bc98-b3d9-4063-dc25-22419b836482"
      },
      "source": [
        "my_word = 'catnapping'\r\n",
        "if has_a_vowel(my_word):\r\n",
        "    print('How surprising, an english word contains a vowel.')\r\n",
        "else:\r\n",
        "    print('This is actually surprising.')"
      ],
      "execution_count": 91,
      "outputs": [
        {
          "output_type": "stream",
          "text": [
            "How surprising, an english word contains a vowel.\n"
          ],
          "name": "stdout"
        }
      ]
    },
    {
      "cell_type": "code",
      "metadata": {
        "colab": {
          "base_uri": "https://localhost:8080/"
        },
        "id": "fncrYfr6m9AH",
        "outputId": "8debfc07-8cc2-41d2-a8c3-f8f4cdb6aa54"
      },
      "source": [
        "#miejemplo\r\n",
        "def multiplo_de_tres(x):\r\n",
        "    return(not bool(x%3))\r\n",
        "numero = 15\r\n",
        "if multiplo_de_tres(numero):\r\n",
        "  print(numero, 'es multiplo de 3')\r\n",
        "else:\r\n",
        "  print(numero, 'no es multiplo de 3')"
      ],
      "execution_count": 94,
      "outputs": [
        {
          "output_type": "stream",
          "text": [
            "15 es multiplo de 3\n"
          ],
          "name": "stdout"
        }
      ]
    },
    {
      "cell_type": "code",
      "metadata": {
        "id": "GoLiPo4QmUhh"
      },
      "source": [
        "def point_maker(x, y):\r\n",
        "    \"\"\" Groups x and y values into a point, technically a tuple \"\"\"\r\n",
        "    return x, y"
      ],
      "execution_count": 98,
      "outputs": []
    },
    {
      "cell_type": "markdown",
      "metadata": {
        "id": "4psKMwuGn891"
      },
      "source": [
        "\r\n",
        "This above function returns an ordered pair of the input parameters, stored as a tuple."
      ]
    },
    {
      "cell_type": "code",
      "metadata": {
        "colab": {
          "base_uri": "https://localhost:8080/"
        },
        "id": "Nz6aQWHGn9mD",
        "outputId": "421ab500-e7cf-4462-c861-3a402a0368f5"
      },
      "source": [
        "a = point_maker(0, 10)\r\n",
        "b = point_maker(5, 3)\r\n",
        "def calculate_slope(point_a, point_b):\r\n",
        "    \"\"\" Calculates the linear slope between two points \"\"\"\r\n",
        "    return (point_b[1] - point_a[1])/(point_b[0] - point_a[0])\r\n",
        "print(\"The slope between a and b is {0}\".format(calculate_slope(a, b)))"
      ],
      "execution_count": 100,
      "outputs": [
        {
          "output_type": "stream",
          "text": [
            "The slope between a and b is -1.4\n"
          ],
          "name": "stdout"
        }
      ]
    },
    {
      "cell_type": "markdown",
      "metadata": {
        "id": "dYgBgqPXoBSn"
      },
      "source": [
        "\r\n",
        "And that one calculates the slope between two points!"
      ]
    },
    {
      "cell_type": "code",
      "metadata": {
        "colab": {
          "base_uri": "https://localhost:8080/"
        },
        "id": "OPTsy4XvoDcq",
        "outputId": "ec3ee023-3321-4f39-da60-649770708e93"
      },
      "source": [
        "print(\"The slope-intercept form of the line between a and b, using point a, is: y - {0} = {2}(x - {1})\".format(a[1], a[0], calculate_slope(a, b)))"
      ],
      "execution_count": 101,
      "outputs": [
        {
          "output_type": "stream",
          "text": [
            "The slope-intercept form of the line between a and b, using point a, is: y - 10 = -1.4(x - 0)\n"
          ],
          "name": "stdout"
        }
      ]
    },
    {
      "cell_type": "markdown",
      "metadata": {
        "id": "tptBHDF_oXTS"
      },
      "source": [
        "With the proper syntax, you can define functions to do whatever calculations you want. This makes them an indispensible part of programming in any language."
      ]
    },
    {
      "cell_type": "code",
      "metadata": {
        "id": "5QDk7Kr-uTsP"
      },
      "source": [
        "import math"
      ],
      "execution_count": 102,
      "outputs": []
    },
    {
      "cell_type": "code",
      "metadata": {
        "colab": {
          "base_uri": "https://localhost:8080/"
        },
        "id": "m0iIxtkyq3Uu",
        "outputId": "cd85f94e-c81d-4f24-8db7-e89dd7c19b1d"
      },
      "source": [
        "#miejemplo\r\n",
        "def constantes_de_cuadratica(a, b, c):\r\n",
        "    return a, b, c\r\n",
        "\r\n",
        "# se ponen las constantes en una variable, tupla, que representa la cuadrática\r\n",
        "cuadratica = constantes_de_cuadratica(-2, 5, 10)\r\n",
        "\r\n",
        "def solucion_cuadratica(cuadratica):\r\n",
        "  x1 = (-cuadratica[1] + math.sqrt(cuadratica[1]*cuadratica[1] -4 *cuadratica[0]*cuadratica[2] ))/(2*cuadratica[0])\r\n",
        "  x2 = (-cuadratica[1] - math.sqrt(cuadratica[1]*cuadratica[1] -4 *cuadratica[0]*cuadratica[2] ))/(2*cuadratica[0])\r\n",
        "  return x1, x2\r\n",
        "\r\n",
        "soluciones = solucion_cuadratica(cuadratica)\r\n",
        "\r\n",
        "print('la solucion de la ecuacion cuadratica {0}x^2 + {1}x + {2}'.format(cuadratica[0],cuadratica[1],cuadratica[2]) )\r\n",
        "print('es: x1 = {0} y x2 = {1}'.format(soluciones[0], soluciones[1]))"
      ],
      "execution_count": 104,
      "outputs": [
        {
          "output_type": "stream",
          "text": [
            "la solucion de la ecuacion cuadratica -2x^2 + 5x + 10\n",
            "es: x1 = -1.3117376914898995 y x2 = 3.8117376914898995\n"
          ],
          "name": "stdout"
        }
      ]
    },
    {
      "cell_type": "markdown",
      "metadata": {
        "id": "VqCcIAUeoc7b"
      },
      "source": [
        "#**Next Steps**\r\n",
        "This was a lot of material and there is still even more to cover! Make sure you play around with the cells in each notebook to accustom yourself to the syntax featured here and to figure out any limitations. If you want to delve even deeper into the material, the documentation for Python is all available online. We are in the process of developing a second part to this Python tutorial, designed to provide you with even more programming knowledge, so keep an eye on the Quantopian Lectures Page and the forums for any new lectures.\r\n",
        "\r\n",
        "This presentation is for informational purposes only and does not constitute an offer to sell, a solicitation to buy, or a recommendation for any security; nor does it constitute an offer to provide investment advisory or other services by Quantopian, Inc. (\"Quantopian\"). Nothing contained herein constitutes investment advice or offers any opinion with respect to the suitability of any security, and any views expressed herein should not be taken as advice to buy, sell, or hold any security or as an endorsement of any security or company. In preparing the information contained herein, Quantopian, Inc. has not taken into account the investment needs, objectives, and financial circumstances of any particular investor. Any views expressed and data illustrated herein were prepared based upon information, believed to be reliable, available to Quantopian, Inc. at the time of publication. Quantopian makes no guarantees as to their accuracy or completeness. All information is subject to change and may quickly become unreliable for various reasons, including changes in market conditions or economic circumstances."
      ]
    }
  ]
}