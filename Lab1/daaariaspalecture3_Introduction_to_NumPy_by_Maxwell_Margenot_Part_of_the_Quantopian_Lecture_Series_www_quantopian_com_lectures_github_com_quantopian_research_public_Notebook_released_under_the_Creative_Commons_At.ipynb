{
  "nbformat": 4,
  "nbformat_minor": 0,
  "metadata": {
    "colab": {
      "name": "daaariaspalecture3 Introduction to NumPy by Maxwell Margenot  Part of the Quantopian Lecture Series:  www.quantopian.com/lectures github.com/quantopian/research_public Notebook released under the Creative Commons Attribution 4.0 License.  NumPy is an in.ipynb",
      "provenance": [],
      "collapsed_sections": [],
      "toc_visible": true
    },
    "kernelspec": {
      "name": "python3",
      "display_name": "Python 3"
    },
    "language_info": {
      "name": "python"
    }
  },
  "cells": [
    {
      "cell_type": "markdown",
      "metadata": {
        "id": "HNVznZt_MNYA"
      },
      "source": [
        "#**Introduction to NumPy**\n",
        "by Maxwell Margenot\n",
        "\n",
        "Part of the Quantopian Lecture Series:\n",
        "\n",
        "+ www.quantopian.com/lectures\n",
        "+ github.com/quantopian/research_public\n",
        "\n",
        "Notebook released under the Creative Commons Attribution 4.0 License.\n",
        "\n",
        "NumPy is an incredibly powerful package in Python that is ubiquitous throughout the Quantopian platform. It has strong integration with Pandas, another tool we will be covering in the lecture series. NumPy adds support for multi-dimensional arrays and mathematical functions that allow you to easily perform linear algebra calculations. This lecture will be a collection of linear algebra examples computed using NumPy."
      ]
    },
    {
      "cell_type": "code",
      "metadata": {
        "id": "nISOImcWMs0C"
      },
      "source": [
        "import numpy as np\n",
        "import matplotlib.pyplot as plt"
      ],
      "execution_count": 1,
      "outputs": []
    },
    {
      "cell_type": "markdown",
      "metadata": {
        "id": "WbZ2B5F0Mxdw"
      },
      "source": [
        "##**Basic NumPy arrays**\n",
        "The most basic way that we could make use of NumPy in finance is calculating the mean return of a portfolio. Say that we have a list containing the historical return of several stocks."
      ]
    },
    {
      "cell_type": "code",
      "metadata": {
        "id": "o3glYwI5M8sI"
      },
      "source": [
        "stock_list = [3.5, 5, 2, 8, 4.2]"
      ],
      "execution_count": 2,
      "outputs": []
    },
    {
      "cell_type": "code",
      "metadata": {
        "id": "dBhbx9n6NTkc"
      },
      "source": [
        "#miejemplo\n",
        "lista_ejemplo = [22, 33, 22.5, 25, 15.3, 29.2]"
      ],
      "execution_count": 6,
      "outputs": []
    },
    {
      "cell_type": "markdown",
      "metadata": {
        "id": "QFan5ikWNFZY"
      },
      "source": [
        "\n",
        "We can make an array by calling a function on the list:"
      ]
    },
    {
      "cell_type": "code",
      "metadata": {
        "colab": {
          "base_uri": "https://localhost:8080/"
        },
        "id": "Bd0wS1QjNLxf",
        "outputId": "88c4582d-1492-4f35-8eb5-d1ca7a28850e"
      },
      "source": [
        "returns = np.array(stock_list)\n",
        "print(returns, type(returns))"
      ],
      "execution_count": 3,
      "outputs": [
        {
          "output_type": "stream",
          "text": [
            "[3.5 5.  2.  8.  4.2] <class 'numpy.ndarray'>\n"
          ],
          "name": "stdout"
        }
      ]
    },
    {
      "cell_type": "code",
      "metadata": {
        "colab": {
          "base_uri": "https://localhost:8080/"
        },
        "id": "6ACnmd87NiGF",
        "outputId": "a9637f6f-0749-473b-ab57-0ac1ea053add"
      },
      "source": [
        "#miejemplo\n",
        "retorno = np.array(lista_ejemplo)\n",
        "print(retorno, type(retorno))"
      ],
      "execution_count": 9,
      "outputs": [
        {
          "output_type": "stream",
          "text": [
            "[22.  33.  22.5 25.  15.3 29.2] <class 'numpy.ndarray'>\n"
          ],
          "name": "stdout"
        }
      ]
    },
    {
      "cell_type": "markdown",
      "metadata": {
        "id": "fPMAmYHld71k"
      },
      "source": [
        "You'll notice that the type of our array is 'ndarray', not just 'array'. This is because NumPy arrays can be created with multiple dimensions. If we pass np.array() a list of lists, it will create a 2-dimensional array. If we pass a list of lists of lists, it will create a 3-dimensional array, and so on and so forth."
      ]
    },
    {
      "cell_type": "code",
      "metadata": {
        "colab": {
          "base_uri": "https://localhost:8080/"
        },
        "id": "aFWBCSS1eUFr",
        "outputId": "8d6e23e3-dc11-4b2a-81e4-2893575ec7a0"
      },
      "source": [
        "A = np.array([[1, 2], [3, 4]])\n",
        "print(A, type(A))"
      ],
      "execution_count": 10,
      "outputs": [
        {
          "output_type": "stream",
          "text": [
            "[[1 2]\n",
            " [3 4]] <class 'numpy.ndarray'>\n"
          ],
          "name": "stdout"
        }
      ]
    },
    {
      "cell_type": "code",
      "metadata": {
        "colab": {
          "base_uri": "https://localhost:8080/"
        },
        "id": "rGrOoHzUeaLZ",
        "outputId": "276d340a-926e-4e3f-eb3a-637fc7bbfcdc"
      },
      "source": [
        "#mi ejemplo\n",
        "A1 = np.array([[5, 4], [8, 10],[3,9]])\n",
        "print(A1, type(A1))"
      ],
      "execution_count": 11,
      "outputs": [
        {
          "output_type": "stream",
          "text": [
            "[[ 5  4]\n",
            " [ 8 10]\n",
            " [ 3  9]] <class 'numpy.ndarray'>\n"
          ],
          "name": "stdout"
        }
      ]
    },
    {
      "cell_type": "markdown",
      "metadata": {
        "id": "L_lhbeYzeubt"
      },
      "source": [
        "\n",
        "We can access the dimensions of an array by looking at its shape member variable."
      ]
    },
    {
      "cell_type": "code",
      "metadata": {
        "colab": {
          "base_uri": "https://localhost:8080/"
        },
        "id": "_uaPYPHZe3gy",
        "outputId": "19aa0995-b02e-47a3-9006-a30f69ee1607"
      },
      "source": [
        "print(A.shape)"
      ],
      "execution_count": 12,
      "outputs": [
        {
          "output_type": "stream",
          "text": [
            "(2, 2)\n"
          ],
          "name": "stdout"
        }
      ]
    },
    {
      "cell_type": "code",
      "metadata": {
        "colab": {
          "base_uri": "https://localhost:8080/"
        },
        "id": "m61mtVbRe9L1",
        "outputId": "8eec9cfb-ad95-4a04-d34f-fb6ce625cc3f"
      },
      "source": [
        "#mi ejemplo\n",
        "print(A1.shape)"
      ],
      "execution_count": 13,
      "outputs": [
        {
          "output_type": "stream",
          "text": [
            "(3, 2)\n"
          ],
          "name": "stdout"
        }
      ]
    },
    {
      "cell_type": "markdown",
      "metadata": {
        "id": "JJtSktFSfGwC"
      },
      "source": [
        "Arrays are indexed in much the same way as lists in Python. Elements of a list begin indexing from $0$ and end at $n - 1$, where $n$ is the length of the array."
      ]
    },
    {
      "cell_type": "code",
      "metadata": {
        "colab": {
          "base_uri": "https://localhost:8080/"
        },
        "id": "BbjGoLWBfjSG",
        "outputId": "57cceb04-17e2-44fc-f1a9-951714e55337"
      },
      "source": [
        "print(returns[0], returns[len(returns) - 1])"
      ],
      "execution_count": 14,
      "outputs": [
        {
          "output_type": "stream",
          "text": [
            "3.5 4.2\n"
          ],
          "name": "stdout"
        }
      ]
    },
    {
      "cell_type": "code",
      "metadata": {
        "colab": {
          "base_uri": "https://localhost:8080/"
        },
        "id": "cNSwnm7zfqPR",
        "outputId": "0333aa31-39dd-4e8e-b510-eca00c57f92a"
      },
      "source": [
        "#mi ejemplo\n",
        "print(retorno[2], retorno[len(retorno) - 5])"
      ],
      "execution_count": 15,
      "outputs": [
        {
          "output_type": "stream",
          "text": [
            "22.5 33.0\n"
          ],
          "name": "stdout"
        }
      ]
    },
    {
      "cell_type": "markdown",
      "metadata": {
        "id": "O2mUSB3AgL44"
      },
      "source": [
        "We can take a slice of an array using a colon, just like in a list."
      ]
    },
    {
      "cell_type": "code",
      "metadata": {
        "colab": {
          "base_uri": "https://localhost:8080/"
        },
        "id": "_jL-9hB8gMhh",
        "outputId": "8a65468f-ddac-4eb1-8ff4-6bdd28870f9a"
      },
      "source": [
        "print(returns[1:3])"
      ],
      "execution_count": 16,
      "outputs": [
        {
          "output_type": "stream",
          "text": [
            "[5. 2.]\n"
          ],
          "name": "stdout"
        }
      ]
    },
    {
      "cell_type": "code",
      "metadata": {
        "colab": {
          "base_uri": "https://localhost:8080/"
        },
        "id": "eVCBBFMugQ4Y",
        "outputId": "8e6e8432-990c-4eda-c4ba-bc99d5059ce0"
      },
      "source": [
        "#mi ejemplo\n",
        "print(retorno[4:6])"
      ],
      "execution_count": 17,
      "outputs": [
        {
          "output_type": "stream",
          "text": [
            "[15.3 29.2]\n"
          ],
          "name": "stdout"
        }
      ]
    },
    {
      "cell_type": "markdown",
      "metadata": {
        "id": "P9xWQc9tgZES"
      },
      "source": [
        "A slice of an array, like in a list, will select a group of elements in the array starting from the first element indicated and going up to (but not including) the last element indicated.\n",
        "\n",
        "In the case of multidimensional arrays, many of the same conventions with slicing and indexing hold. We can access the first column of a 2-dimensional array like so:"
      ]
    },
    {
      "cell_type": "code",
      "metadata": {
        "colab": {
          "base_uri": "https://localhost:8080/"
        },
        "id": "oEIKCCHggu7r",
        "outputId": "75707600-864f-4c83-a5ad-8db85b18e40d"
      },
      "source": [
        "print(A[:, 0])"
      ],
      "execution_count": 18,
      "outputs": [
        {
          "output_type": "stream",
          "text": [
            "[1 3]\n"
          ],
          "name": "stdout"
        }
      ]
    },
    {
      "cell_type": "code",
      "metadata": {
        "colab": {
          "base_uri": "https://localhost:8080/"
        },
        "id": "n96QluJLg5dM",
        "outputId": "a429dfa8-873b-4d22-c1c6-659dd48a2999"
      },
      "source": [
        "#miejemplo\n",
        "print(A1[1:3, 1])"
      ],
      "execution_count": 19,
      "outputs": [
        {
          "output_type": "stream",
          "text": [
            "[10  9]\n"
          ],
          "name": "stdout"
        }
      ]
    },
    {
      "cell_type": "markdown",
      "metadata": {
        "id": "wt6GOum1hV9S"
      },
      "source": [
        "And the first row of a 2-dimensional array like so:"
      ]
    },
    {
      "cell_type": "code",
      "metadata": {
        "colab": {
          "base_uri": "https://localhost:8080/"
        },
        "id": "asKL3rRuhaDN",
        "outputId": "2a33a4e9-8f56-4217-ac32-3e8e9754a656"
      },
      "source": [
        "print(A[0, :])"
      ],
      "execution_count": 20,
      "outputs": [
        {
          "output_type": "stream",
          "text": [
            "[1 2]\n"
          ],
          "name": "stdout"
        }
      ]
    },
    {
      "cell_type": "code",
      "metadata": {
        "colab": {
          "base_uri": "https://localhost:8080/"
        },
        "id": "gWFUbq2liJks",
        "outputId": "5d33bf35-ed6d-4220-da2e-6fa692b122b7"
      },
      "source": [
        "#miejemplo\n",
        "print(A1[2, :])"
      ],
      "execution_count": 22,
      "outputs": [
        {
          "output_type": "stream",
          "text": [
            "[3 9]\n"
          ],
          "name": "stdout"
        }
      ]
    },
    {
      "cell_type": "markdown",
      "metadata": {
        "id": "WstMaIDTiipk"
      },
      "source": [
        "Notice that each slice of the array returns yet another array!"
      ]
    },
    {
      "cell_type": "code",
      "metadata": {
        "colab": {
          "base_uri": "https://localhost:8080/"
        },
        "id": "hF6X18VVipKH",
        "outputId": "29bdec1e-e2b1-4a9f-82d7-67d48d1190e7"
      },
      "source": [
        "print(type(A[0,:]))"
      ],
      "execution_count": 23,
      "outputs": [
        {
          "output_type": "stream",
          "text": [
            "<class 'numpy.ndarray'>\n"
          ],
          "name": "stdout"
        }
      ]
    },
    {
      "cell_type": "code",
      "metadata": {
        "colab": {
          "base_uri": "https://localhost:8080/"
        },
        "id": "HZ9I8inHisLR",
        "outputId": "e04404d4-2f92-4be7-8146-233e3729d0be"
      },
      "source": [
        "#miejemplo\n",
        "print(type(A1[2,:]))"
      ],
      "execution_count": 24,
      "outputs": [
        {
          "output_type": "stream",
          "text": [
            "<class 'numpy.ndarray'>\n"
          ],
          "name": "stdout"
        }
      ]
    },
    {
      "cell_type": "markdown",
      "metadata": {
        "id": "waH8zjVUizSj"
      },
      "source": [
        "Passing only one index to a 2-dimensional array will result in returning the row with the given index as well, providing us with another way to access individual rows."
      ]
    },
    {
      "cell_type": "code",
      "metadata": {
        "colab": {
          "base_uri": "https://localhost:8080/"
        },
        "id": "FH147418i_Aa",
        "outputId": "75918eb8-fdc4-465a-c745-953d01c6aed0"
      },
      "source": [
        "print(A[0])"
      ],
      "execution_count": 25,
      "outputs": [
        {
          "output_type": "stream",
          "text": [
            "[1 2]\n"
          ],
          "name": "stdout"
        }
      ]
    },
    {
      "cell_type": "code",
      "metadata": {
        "colab": {
          "base_uri": "https://localhost:8080/"
        },
        "id": "GYGcPsnrjBJr",
        "outputId": "b1b53401-a6de-4b79-9849-b93e2227ac21"
      },
      "source": [
        "#miejemplo\n",
        "print(A1[1])"
      ],
      "execution_count": 26,
      "outputs": [
        {
          "output_type": "stream",
          "text": [
            "[ 8 10]\n"
          ],
          "name": "stdout"
        }
      ]
    },
    {
      "cell_type": "markdown",
      "metadata": {
        "id": "qdgMJ3injK9j"
      },
      "source": [
        "Accessing the index of an individual element will return only the element."
      ]
    },
    {
      "cell_type": "code",
      "metadata": {
        "colab": {
          "base_uri": "https://localhost:8080/"
        },
        "id": "f5FV93MgjMvl",
        "outputId": "9ce6e087-1556-4e0c-c507-1b00ae6bcd12"
      },
      "source": [
        "print(A[1, 1])"
      ],
      "execution_count": 27,
      "outputs": [
        {
          "output_type": "stream",
          "text": [
            "4\n"
          ],
          "name": "stdout"
        }
      ]
    },
    {
      "cell_type": "code",
      "metadata": {
        "colab": {
          "base_uri": "https://localhost:8080/"
        },
        "id": "wl5netcujQrd",
        "outputId": "d4cb568e-3555-4ae6-e79e-74551332c82b"
      },
      "source": [
        "#miejemplo\n",
        "print(A1[2,1])"
      ],
      "execution_count": 30,
      "outputs": [
        {
          "output_type": "stream",
          "text": [
            "9\n"
          ],
          "name": "stdout"
        }
      ]
    },
    {
      "cell_type": "markdown",
      "metadata": {
        "id": "eBCFqqaAjf7g"
      },
      "source": [
        "####**Array functions**\n",
        "Functions built into NumPy can be easily called on arrays. Most functions are applied to an array element-wise (as scalar multiplication is). For example, if we call log() on an array, the logarithm will be taken of each element."
      ]
    },
    {
      "cell_type": "code",
      "metadata": {
        "colab": {
          "base_uri": "https://localhost:8080/"
        },
        "id": "b3EH7ledjtAw",
        "outputId": "a180e91c-025e-4b8d-d457-b45625d7e0b8"
      },
      "source": [
        "print(np.log(returns))"
      ],
      "execution_count": 31,
      "outputs": [
        {
          "output_type": "stream",
          "text": [
            "[1.25276297 1.60943791 0.69314718 2.07944154 1.43508453]\n"
          ],
          "name": "stdout"
        }
      ]
    },
    {
      "cell_type": "code",
      "metadata": {
        "colab": {
          "base_uri": "https://localhost:8080/"
        },
        "id": "dySsQXsAj88a",
        "outputId": "ab96e005-0345-4d83-a69e-41d498299667"
      },
      "source": [
        "#miejemplo\n",
        "print(np.sqrt(retorno))"
      ],
      "execution_count": 33,
      "outputs": [
        {
          "output_type": "stream",
          "text": [
            "[4.69041576 5.74456265 4.74341649 5.         3.91152144 5.40370243]\n"
          ],
          "name": "stdout"
        }
      ]
    },
    {
      "cell_type": "markdown",
      "metadata": {
        "id": "zVbsA43rkJTF"
      },
      "source": [
        "Some functions return a single value. This is because they treat the array as a collection (similar to a list), performing the designated function. For example, the mean() function will do exactly what you expect, calculating the mean of an array."
      ]
    },
    {
      "cell_type": "code",
      "metadata": {
        "colab": {
          "base_uri": "https://localhost:8080/"
        },
        "id": "y1E-KNDAkX6l",
        "outputId": "59b6a794-497f-45ef-bc21-3a6b7a02f868"
      },
      "source": [
        "print(np.mean(returns))"
      ],
      "execution_count": 34,
      "outputs": [
        {
          "output_type": "stream",
          "text": [
            "4.54\n"
          ],
          "name": "stdout"
        }
      ]
    },
    {
      "cell_type": "code",
      "metadata": {
        "colab": {
          "base_uri": "https://localhost:8080/"
        },
        "id": "_lrmfCdIkbtl",
        "outputId": "2f48e7a8-1707-46fd-c509-bf48fc3d65f8"
      },
      "source": [
        "#miejemplo\n",
        "print(np.mean(retorno))"
      ],
      "execution_count": 35,
      "outputs": [
        {
          "output_type": "stream",
          "text": [
            "24.5\n"
          ],
          "name": "stdout"
        }
      ]
    },
    {
      "cell_type": "markdown",
      "metadata": {
        "id": "bOImXNTCkpEJ"
      },
      "source": [
        "Or the max() function will return the maximum element of an array."
      ]
    },
    {
      "cell_type": "code",
      "metadata": {
        "colab": {
          "base_uri": "https://localhost:8080/"
        },
        "id": "ViPTI0LVkqDs",
        "outputId": "ca548ec9-c886-4701-e023-f353fb2fbb44"
      },
      "source": [
        "print(np.max(returns))"
      ],
      "execution_count": 36,
      "outputs": [
        {
          "output_type": "stream",
          "text": [
            "8.0\n"
          ],
          "name": "stdout"
        }
      ]
    },
    {
      "cell_type": "code",
      "metadata": {
        "colab": {
          "base_uri": "https://localhost:8080/"
        },
        "id": "es-g3CXQkt3f",
        "outputId": "f747e8ff-8fb4-4dd3-a540-564256bc1263"
      },
      "source": [
        "#miejemplo\n",
        "print(np.min(retorno))"
      ],
      "execution_count": 37,
      "outputs": [
        {
          "output_type": "stream",
          "text": [
            "15.3\n"
          ],
          "name": "stdout"
        }
      ]
    },
    {
      "cell_type": "markdown",
      "metadata": {
        "id": "akI_SZgXk015"
      },
      "source": [
        "For further reading on the universal functions in NumPy, check out the documentation."
      ]
    },
    {
      "cell_type": "markdown",
      "metadata": {
        "id": "Kt6WW5oclGYI"
      },
      "source": [
        "###**Return to the returns**\n",
        "Now let's modify our returns array with scalar values. If we add a scalar value to an array it will be added to every element of the array. If we multiply an array by a scalar value it will be multiplied against every element of the array. If we do both, both will happen!"
      ]
    },
    {
      "cell_type": "code",
      "metadata": {
        "colab": {
          "base_uri": "https://localhost:8080/"
        },
        "id": "1T4SidN8lJpM",
        "outputId": "7b316177-7387-4acf-de9c-bf7d8b9c385f"
      },
      "source": [
        "returns*2 + 5"
      ],
      "execution_count": 38,
      "outputs": [
        {
          "output_type": "execute_result",
          "data": {
            "text/plain": [
              "array([12. , 15. ,  9. , 21. , 13.4])"
            ]
          },
          "metadata": {
            "tags": []
          },
          "execution_count": 38
        }
      ]
    },
    {
      "cell_type": "code",
      "metadata": {
        "colab": {
          "base_uri": "https://localhost:8080/"
        },
        "id": "ZnZBDFpllNE-",
        "outputId": "efc462a6-8a1a-4bd1-d807-b35b534171a0"
      },
      "source": [
        "#mi ejemplo\n",
        "retorno/2 - 3"
      ],
      "execution_count": 39,
      "outputs": [
        {
          "output_type": "execute_result",
          "data": {
            "text/plain": [
              "array([ 8.  , 13.5 ,  8.25,  9.5 ,  4.65, 11.6 ])"
            ]
          },
          "metadata": {
            "tags": []
          },
          "execution_count": 39
        }
      ]
    },
    {
      "cell_type": "markdown",
      "metadata": {
        "id": "IMqE_-1WlaDT"
      },
      "source": [
        "NumPy also has functions specifically built to operate on arrays. Let's take the mean and standard deviation of this group of returns."
      ]
    },
    {
      "cell_type": "code",
      "metadata": {
        "colab": {
          "base_uri": "https://localhost:8080/"
        },
        "id": "MTz59xf-m26l",
        "outputId": "fc95d2f8-471c-4c9e-adac-529086e0bc39"
      },
      "source": [
        "print(\"Mean: \", np.mean(returns), \"Std Dev: \", np.std(returns))"
      ],
      "execution_count": 40,
      "outputs": [
        {
          "output_type": "stream",
          "text": [
            "Mean:  4.54 Std Dev:  1.9915822855207364\n"
          ],
          "name": "stdout"
        }
      ]
    },
    {
      "cell_type": "code",
      "metadata": {
        "colab": {
          "base_uri": "https://localhost:8080/"
        },
        "id": "asD6UG32m6w-",
        "outputId": "fd1316ec-b15d-4d01-d3f4-ef7c62fb7b23"
      },
      "source": [
        "#miejemplo\n",
        "print(\"Mean: \", np.mean(retorno), \"Std Dev: \", np.std(retorno))"
      ],
      "execution_count": 41,
      "outputs": [
        {
          "output_type": "stream",
          "text": [
            "Mean:  24.5 Std Dev:  5.619608527290847\n"
          ],
          "name": "stdout"
        }
      ]
    },
    {
      "cell_type": "markdown",
      "metadata": {
        "id": "Iq_BDeY-nBdY"
      },
      "source": [
        "\n",
        "Let's simulate a universe of stocks using NumPy's functions. First we need to create the arrays to hold the assets and returns that we will use to build a portfolio. This is because arrays are created with a fixed size. Their dimensions can't be changed without creating a new array."
      ]
    },
    {
      "cell_type": "code",
      "metadata": {
        "id": "zcDddpCWnW5W"
      },
      "source": [
        "N = 10\n",
        "assets = np.zeros((N, 100))\n",
        "returns = np.zeros((N, 100))"
      ],
      "execution_count": 42,
      "outputs": []
    },
    {
      "cell_type": "code",
      "metadata": {
        "id": "qEw6zLWdni74"
      },
      "source": [
        "#miejemplo\n",
        "M = 15\n",
        "activos = np.zeros((M, 80))\n",
        "retornos = np.zeros((M, 80))"
      ],
      "execution_count": 52,
      "outputs": []
    },
    {
      "cell_type": "markdown",
      "metadata": {
        "id": "QG68Zt3doaNa"
      },
      "source": [
        "This function, zeroes(), creates a NumPy array with the given dimensions that is entirely filled in with $0$. We can pass a single value or a tuple of as many dimensions as we like. Passing in the tuple (N, 100), will return a two-dimensional array with $N$ rows and $100$ columns. Our result is a $N \\times 100$ array.\n",
        "\n",
        "Now we will simulate a base asset. We want the universe of stocks to be correlated with each other so we will use this initial value to generate the others."
      ]
    },
    {
      "cell_type": "code",
      "metadata": {
        "id": "9H4tTnJAofxd"
      },
      "source": [
        "R_1 = np.random.normal(1.01, 0.03, 100)\n",
        "returns[0] = R_1\n",
        "assets[0] = np.cumprod(R_1)"
      ],
      "execution_count": 45,
      "outputs": []
    },
    {
      "cell_type": "code",
      "metadata": {
        "id": "_OVJglaOom2h"
      },
      "source": [
        "#miejemplo\n",
        "R_2 = np.random.normal(1.005, 0.01, 80)\n",
        "retornos[0] = R_2\n",
        "activos[0] = np.cumprod(R_2)"
      ],
      "execution_count": 54,
      "outputs": []
    },
    {
      "cell_type": "markdown",
      "metadata": {
        "id": "QRnOHPwCpBFb"
      },
      "source": [
        "The random module in NumPy is exceedingly useful. It contains methods for sampling from many different probability distributions, some of which are covered in the random variables lecture in the Quantopian lecture series. In this case we draw $N = 100$ random samples from a normal distribution with mean $1.01$ and standard deviation $0.03$. We treat these as the daily percentage returns of our asset and take the cumulative product of these samples to get the current price.\n",
        "\n",
        "The way we have generated our universe, the the individual $R_i$ vectors are each 1-dimensional arrays and the returns and assets variables contain 2-dimensional arrays. Above, we set the initial row of both returns and assets to be the first $R_i$ vector and the cumulative asset price based on those returns, respectively.\n",
        "\n",
        "We will now use this base asset to create a few other random assets that are correlated with it."
      ]
    },
    {
      "cell_type": "code",
      "metadata": {
        "id": "ttGqUEfeqmEy"
      },
      "source": [
        "# Generate assets that are correlated with R_1\n",
        "for i in range(1, N):\n",
        "    R_i = R_1 + np.random.normal(0.001, 0.02, 100)\n",
        "    returns[i] = R_i # Set each row of returns equal to the new R_i array\n",
        "    assets[i] = np.cumprod(R_i)\n",
        "    \n",
        "mean_returns = [(np.mean(R) - 1)*100 for R in returns]\n",
        "return_volatilities = [np.std(R) for R in returns]"
      ],
      "execution_count": 48,
      "outputs": []
    },
    {
      "cell_type": "code",
      "metadata": {
        "id": "7T1eriqUrBNh"
      },
      "source": [
        "#miejemplo\n",
        "for i in range(1, M):\n",
        "    R_i1 = R_2 + np.random.normal(0.0001, 0.02, 80)\n",
        "    retornos[i] = R_i1 \n",
        "    activos[i] = np.cumprod(R_i1)\n",
        "    \n",
        "mean_retornos = [(np.mean(R) - 1)*100 for R in retornos]\n",
        "retornos_volatilities = [np.std(R) for R in retornos]"
      ],
      "execution_count": 55,
      "outputs": []
    },
    {
      "cell_type": "markdown",
      "metadata": {
        "id": "8T92QSdcr4Or"
      },
      "source": [
        "Here we generate the remaining $N - 1$ securities that we want in our universe by adding random noise to $R_1$. This ensures that our $N - 1$ other assets will be correlated with the base asset because they have some underlying information that is shared.\n",
        "\n",
        "Let's plot what the mean return of each asset looks like:"
      ]
    },
    {
      "cell_type": "code",
      "metadata": {
        "colab": {
          "base_uri": "https://localhost:8080/",
          "height": 295
        },
        "id": "GLWk3ovgsJWg",
        "outputId": "fb9a1355-771e-44e1-fa20-8e8bca7283c6"
      },
      "source": [
        "plt.bar(np.arange(len(mean_returns)), mean_returns)\n",
        "plt.xlabel('Stock')\n",
        "plt.ylabel('Returns')\n",
        "plt.title('Returns for {0} Random Assets'.format(N));"
      ],
      "execution_count": 56,
      "outputs": [
        {
          "output_type": "display_data",
          "data": {
            "image/png": "[encoded data removed]",
            "text/plain": [
              "<Figure size 432x288 with 1 Axes>"
            ]
          },
          "metadata": {
            "tags": [],
            "needs_background": "light"
          }
        }
      ]
    },
    {
      "cell_type": "code",
      "metadata": {
        "colab": {
          "base_uri": "https://localhost:8080/",
          "height": 295
        },
        "id": "HNDlRztSsmlO",
        "outputId": "254676d9-d0cc-4573-fa84-3611a99c104a"
      },
      "source": [
        "#miejemplo\n",
        "plt.bar(np.arange(len(mean_retornos)), mean_retornos)\n",
        "plt.xlabel('Stock')\n",
        "plt.ylabel('Returns')\n",
        "plt.title('Returns for {0} Random Assets'.format(M));"
      ],
      "execution_count": 57,
      "outputs": [
        {
          "output_type": "display_data",
          "data": {
            "image/png": "[encoded data removed]",
            "text/plain": [
              "<Figure size 432x288 with 1 Axes>"
            ]
          },
          "metadata": {
            "tags": [],
            "needs_background": "light"
          }
        }
      ]
    },
    {
      "cell_type": "markdown",
      "metadata": {
        "id": "7UGkKhdwtOtB"
      },
      "source": [
        "###**Calculating Expected Return**\n",
        "So we have a universe of stocks. Great! Now let's put them together in a portfolio and calculate its expected return and risk.\n",
        "\n",
        "We will start off by generating $N$ random weights for each asset in our portfolio."
      ]
    },
    {
      "cell_type": "code",
      "metadata": {
        "id": "J6sGCGpPthD2"
      },
      "source": [
        "weights = np.random.uniform(0, 1, N)\n",
        "weights = weights/np.sum(weights)"
      ],
      "execution_count": 58,
      "outputs": []
    },
    {
      "cell_type": "code",
      "metadata": {
        "id": "E3aENBYitnpe"
      },
      "source": [
        "#miejemplo\n",
        "pesos = np.random.uniform(0, 1, M)\n",
        "pesos = pesos/np.sum(pesos)"
      ],
      "execution_count": 60,
      "outputs": []
    },
    {
      "cell_type": "markdown",
      "metadata": {
        "id": "i17LWCmGt0GD"
      },
      "source": [
        "We have to rescale the weights so that they all add up to $1$. We do this by scaling the weights vector by the sum total of all the weights. This step ensures that we will be using $100\\%$ of the portfolio's cash.\n",
        "\n",
        "To calculate the mean return of the portfolio, we have to scale each asset's return by its designated weight. We can pull each element of each array and multiply them individually, but it's quicker to use NumPy's linear algebra methods. The function that we want is dot(). This will calculate the dot product between two arrays for us. So if $v = \\left[ 1, 2, 3 \\right]$ and $w = \\left[4, 5, 6 \\right]$, then:\n",
        "\n",
        "$$ v \\cdot w = 1 \\times 4 + 2 \\times 5 + 3 \\times 6 $$\n",
        "For a one-dimensional vector, the dot product will multiply each element pointwise and add all the products together! In our case, we have a vector of weights, $\\omega = \\left[ \\omega_1, \\omega_2, \\dots \\omega_N\\right]$ and a vector of returns, $\\mu = \\left[ \\mu_1, \\mu_2, \\dots, \\mu_N\\right]$. If we take the dot product of these two we will get:\n",
        "\n",
        "$$ \\omega \\cdot \\mu = \\omega_1\\mu_1 + \\omega_2\\mu_2 + \\dots + \\omega_N\\mu_N = \\mu_P $$\n",
        "This yields the sum of all the asset returns scaled by their respective weights. This the the portfolio's overall expected return!"
      ]
    },
    {
      "cell_type": "code",
      "metadata": {
        "colab": {
          "base_uri": "https://localhost:8080/"
        },
        "id": "_k-qYP_Qt2HA",
        "outputId": "ea72a63b-d2c3-4d23-87a5-681dacf34d64"
      },
      "source": [
        "p_returns = np.dot(weights, mean_returns)\n",
        "print(\"Expected return of the portfolio: \", p_returns)"
      ],
      "execution_count": 61,
      "outputs": [
        {
          "output_type": "stream",
          "text": [
            "Expected return of the portfolio:  1.5230138409371603\n"
          ],
          "name": "stdout"
        }
      ]
    },
    {
      "cell_type": "code",
      "metadata": {
        "colab": {
          "base_uri": "https://localhost:8080/"
        },
        "id": "VNBSML5zu8Kb",
        "outputId": "a51102eb-53a7-4727-b5dd-b2ae5d124947"
      },
      "source": [
        "#miejemplo\n",
        "p_retornos = np.dot(pesos, mean_retornos)\n",
        "print(\"Expected return of the portfolio: \", p_retornos)"
      ],
      "execution_count": 62,
      "outputs": [
        {
          "output_type": "stream",
          "text": [
            "Expected return of the portfolio:  0.5538981163371799\n"
          ],
          "name": "stdout"
        }
      ]
    },
    {
      "cell_type": "markdown",
      "metadata": {
        "id": "g8M6Gfo8vOKN"
      },
      "source": [
        "Calculating the mean return is fairly intuitive and does not require too much explanation of linear algebra. However, calculating the variance of our portfolio requires a bit more background."
      ]
    },
    {
      "cell_type": "markdown",
      "metadata": {
        "id": "qJyK26zCvRAV"
      },
      "source": [
        "####**Beware of NaN values**\n",
        "Most of the time, all of these calculations will work without an issue. However, when working with real data we run the risk of having nan values in our arrays. This is NumPy's way of saying that the data there is missing or doesn't exist. These nan values can lead to errors in mathematical calculations so it is important to be aware of whether your array contains nan values and to know how to drop them."
      ]
    },
    {
      "cell_type": "code",
      "metadata": {
        "colab": {
          "base_uri": "https://localhost:8080/"
        },
        "id": "m0PkJz3vvw7a",
        "outputId": "10323b4b-a3fe-4708-9a7b-1182f0f6adfe"
      },
      "source": [
        "v = np.array([1, 2, np.nan, 4, 5])\n",
        "print(v)"
      ],
      "execution_count": 63,
      "outputs": [
        {
          "output_type": "stream",
          "text": [
            "[ 1.  2. nan  4.  5.]\n"
          ],
          "name": "stdout"
        }
      ]
    },
    {
      "cell_type": "code",
      "metadata": {
        "colab": {
          "base_uri": "https://localhost:8080/"
        },
        "id": "2z4G-uUbv0oG",
        "outputId": "d22c4673-3f97-4bbb-c601-5899afd20810"
      },
      "source": [
        "#miejemplo\n",
        "w = np.array([5, 6, np.nan, 8, 9, np.nan, 11])\n",
        "print(w)"
      ],
      "execution_count": 73,
      "outputs": [
        {
          "output_type": "stream",
          "text": [
            "[ 5.  6. nan  8.  9. nan 11.]\n"
          ],
          "name": "stdout"
        }
      ]
    },
    {
      "cell_type": "markdown",
      "metadata": {
        "id": "LOYOO5-kwGk9"
      },
      "source": [
        "Let's see what happens when we try to take the mean of this array."
      ]
    },
    {
      "cell_type": "code",
      "metadata": {
        "colab": {
          "base_uri": "https://localhost:8080/"
        },
        "id": "44P6-VzqwHqI",
        "outputId": "5cca4e1a-6e45-478f-971b-f70ab85e4f1b"
      },
      "source": [
        "print(np.mean(v))"
      ],
      "execution_count": 67,
      "outputs": [
        {
          "output_type": "stream",
          "text": [
            "nan\n"
          ],
          "name": "stdout"
        }
      ]
    },
    {
      "cell_type": "code",
      "metadata": {
        "colab": {
          "base_uri": "https://localhost:8080/"
        },
        "id": "TaTvy8TDwMpV",
        "outputId": "d3f21079-ec4b-44f3-a5fe-a4936c463b3e"
      },
      "source": [
        "#miejemplo\n",
        "print(np.mean(w))"
      ],
      "execution_count": 74,
      "outputs": [
        {
          "output_type": "stream",
          "text": [
            "nan\n"
          ],
          "name": "stdout"
        }
      ]
    },
    {
      "cell_type": "markdown",
      "metadata": {
        "id": "VhwbZfzPwTSt"
      },
      "source": [
        "Clearly, nan values can have a large impact on our calculations. Fortunately, we can check for nan values with the isnan() function."
      ]
    },
    {
      "cell_type": "code",
      "metadata": {
        "colab": {
          "base_uri": "https://localhost:8080/"
        },
        "id": "le_oIDjrw0pj",
        "outputId": "f3c955e2-6a3c-448d-e532-9ec445f48ccf"
      },
      "source": [
        "np.isnan(v)"
      ],
      "execution_count": 69,
      "outputs": [
        {
          "output_type": "execute_result",
          "data": {
            "text/plain": [
              "array([False, False,  True, False, False])"
            ]
          },
          "metadata": {
            "tags": []
          },
          "execution_count": 69
        }
      ]
    },
    {
      "cell_type": "code",
      "metadata": {
        "colab": {
          "base_uri": "https://localhost:8080/"
        },
        "id": "Vh9xHYeWw4R4",
        "outputId": "f7b55b20-b913-4519-bf59-09df8beac7bd"
      },
      "source": [
        "#miejemplo\n",
        "np.isnan(w)"
      ],
      "execution_count": 75,
      "outputs": [
        {
          "output_type": "execute_result",
          "data": {
            "text/plain": [
              "array([False, False,  True, False, False,  True, False])"
            ]
          },
          "metadata": {
            "tags": []
          },
          "execution_count": 75
        }
      ]
    },
    {
      "cell_type": "markdown",
      "metadata": {
        "id": "I7IvMcxLw-a0"
      },
      "source": [
        "\n",
        "Calling isnan() on an array will call the function on each value of the array, returning a value of True if the element is nan and False if the element is valid. Now, knowing whether your array contains nan values is all well and good, but how do we remove nans? Handily enough, NumPy arrays can be indexed by boolean values (True or False). If we use a boolean array to index an array, we will remove all values of the array that register as False under the condition. We use the isnan() function in create a boolean array, assigning a True value to everything that is not nan and a False to the nans and we use that to index the same array."
      ]
    },
    {
      "cell_type": "code",
      "metadata": {
        "colab": {
          "base_uri": "https://localhost:8080/"
        },
        "id": "EE3GH-LJxkns",
        "outputId": "f618d228-ce63-4c19-9ba5-d84dee17d5fc"
      },
      "source": [
        "ix = ~np.isnan(v) # the ~ indicates a logical not, inverting the bools\n",
        "print(v[ix]) # We can also just write v = v[~np.isnan(v)]"
      ],
      "execution_count": 71,
      "outputs": [
        {
          "output_type": "stream",
          "text": [
            "[1. 2. 4. 5.]\n"
          ],
          "name": "stdout"
        }
      ]
    },
    {
      "cell_type": "code",
      "metadata": {
        "colab": {
          "base_uri": "https://localhost:8080/"
        },
        "id": "F46_MExyyUqW",
        "outputId": "6ef82351-05ae-44d0-d788-def722c9e516"
      },
      "source": [
        "print(np.mean(v[ix]))"
      ],
      "execution_count": 77,
      "outputs": [
        {
          "output_type": "stream",
          "text": [
            "3.0\n"
          ],
          "name": "stdout"
        }
      ]
    },
    {
      "cell_type": "code",
      "metadata": {
        "colab": {
          "base_uri": "https://localhost:8080/"
        },
        "id": "KZkeggq3x2Z5",
        "outputId": "3251e4f0-3042-4a19-ae23-4889f7bb765f"
      },
      "source": [
        "#miejemplo\n",
        "print(w[~np.isnan(w)]) # We can also just write v = v[~np.isnan(v)]"
      ],
      "execution_count": 76,
      "outputs": [
        {
          "output_type": "stream",
          "text": [
            "[ 5.  6.  8.  9. 11.]\n"
          ],
          "name": "stdout"
        }
      ]
    },
    {
      "cell_type": "code",
      "metadata": {
        "colab": {
          "base_uri": "https://localhost:8080/"
        },
        "id": "8CdIgeSqyXvJ",
        "outputId": "209b2576-0bc0-44ff-eb39-22ffb38ffe95"
      },
      "source": [
        "#miejemplo\n",
        "print(np.mean(w[~np.isnan(w)]))"
      ],
      "execution_count": 78,
      "outputs": [
        {
          "output_type": "stream",
          "text": [
            "7.8\n"
          ],
          "name": "stdout"
        }
      ]
    },
    {
      "cell_type": "markdown",
      "metadata": {
        "id": "3fSxZHmjyodF"
      },
      "source": [
        "The nanmean() function simply calculates the mean of the array as if there were no nan values at all! There are a few more of these functions, so feel free to read more about them in the documentation. These indeterminate values are more an issue with data than linear algebra itself so it is helpful that there are ways to handle them."
      ]
    },
    {
      "cell_type": "code",
      "metadata": {
        "colab": {
          "base_uri": "https://localhost:8080/"
        },
        "id": "QiQfvpXyy_zp",
        "outputId": "4769561f-e353-4eb0-c9ba-0e8bdd4783fc"
      },
      "source": [
        "#miejemplo\n",
        "print(np.nanmean(w))"
      ],
      "execution_count": 79,
      "outputs": [
        {
          "output_type": "stream",
          "text": [
            "7.8\n"
          ],
          "name": "stdout"
        }
      ]
    },
    {
      "cell_type": "markdown",
      "metadata": {
        "id": "BZNQePr3zHGU"
      },
      "source": [
        "###**Conclusion**\n",
        "Linear algebra is pervasive in finance and in general. For example, the calculation of optimal weights according to modern portfolio theory is done using linear algebra techniques. The arrays and functions in NumPy allow us to handle these calculations in an intuitive way. For a quick intro to linear algebra and how to use NumPy to do more significant matrix calculations, proceed to the next section."
      ]
    },
    {
      "cell_type": "markdown",
      "metadata": {
        "id": "oGWk1WNc0Gng"
      },
      "source": [
        "##**A brief foray into linear algebra**\n",
        "Let's start with a basic overview of some linear algebra. Linear algebra comes down to the multiplication and composition of scalar and matrix values. A scalar value is just a real number that we multiply against an array. When we scale a matrix or array using a scalar, we multiply each individual element of that matrix or array by the scalar.\n",
        "\n",
        "A matrix is a collection of values, typically represented by an $m \\times n$ grid, where $m$ is the number of rows and $n$ is the number of columns. The edge lengths $m$ and $n$ do not necessarily have to be different. If we have $m = n$, we call this a square matrix. A particularly interesting case of a matrix is when $m = 1$ or $n = 1$. In this case we have a special case of a matrix that we call a vector. While there is a matrix object in NumPy we will be doing everything using NumPy arrays because they can have dimensions greater than $2$. For the purpose of this section, we will be using matrix and array interchangeably.\n",
        "\n",
        "We can express the matrix equation as:\n",
        "\n",
        "$$ y = A\\cdot x $$\n",
        "Where $A$ is an $m \\times n$ matrix, $y$ is a $m \\times 1$ vector, and $x$ is a $n \\times 1$ vector. On the right-hand side of the equation we are multiplying a matrix by a vector. This requires a little bit more clarification, lest we think that we can go about multiplying any matrices by any other matrices."
      ]
    },
    {
      "cell_type": "markdown",
      "metadata": {
        "id": "Tw6uWUC10Zi0"
      },
      "source": [
        "####**Matrix multiplication**\n",
        "With matrix multiplication, the order in which the matrices are multiplied matters. Multiplying a matrix on the left side by another matrix may be just fine, but multiplying on the right may be undefined."
      ]
    },
    {
      "cell_type": "code",
      "metadata": {
        "id": "JwzSTtsB1W27"
      },
      "source": [
        "A = np.array([\n",
        "        [1, 2, 3, 12, 6],\n",
        "        [4, 5, 6, 15, 20],\n",
        "        [7, 8, 9, 10, 10]        \n",
        "    ])\n",
        "B = np.array([\n",
        "        [4, 4, 2],\n",
        "        [2, 3, 1],\n",
        "        [6, 5, 8],\n",
        "        [9, 9, 9]\n",
        "    ])"
      ],
      "execution_count": 80,
      "outputs": []
    },
    {
      "cell_type": "code",
      "metadata": {
        "id": "v0YV49vK2OHl"
      },
      "source": [
        "#miejemplo\n",
        "A1  = np.array([\n",
        "                [1,2],\n",
        "                [5, 9]\n",
        "      ])\n",
        "B1 = np.array([\n",
        "               [1,2,3,4],\n",
        "               [5,6,7,8]\n",
        "])"
      ],
      "execution_count": 81,
      "outputs": []
    },
    {
      "cell_type": "markdown",
      "metadata": {
        "id": "umQCy8Ny3B-2"
      },
      "source": [
        "\n",
        "Notice that the above-defined matrices, $A$ and $B$, have different dimensions. $A$ is $3 \\times 5$ and $B$ is $4 \\times 3$. The general rule of what can and cannot be multiplied in which order is based on the dimensions of the matrices. Specifically, the number of columns in the matrix on the left must be equal to the number of rows in the matrix on the right. In super informal terms, let's say that we have an $m \\times n$ matrix and a $p \\times q$ matrix. If we multiply the first by the second on the right, we get the following:\n",
        "\n",
        "$$ (m \\times n) \\cdot (p \\times q) = (m \\times q) $$\n",
        "So the resultant product has the same number of rows as the left matrix and the same number of columns as the right matrix. This limitation of matrix multiplication with regards to dimensions is important to keep track of when writing code. To demonstrate this, we use the dot() function to multiply our matrices below:"
      ]
    },
    {
      "cell_type": "code",
      "metadata": {
        "colab": {
          "base_uri": "https://localhost:8080/",
          "height": 197
        },
        "id": "kTM6GoXf3C6f",
        "outputId": "75b5011f-ec53-45d3-bcc1-42cc4b9c7779"
      },
      "source": [
        "print(np.dot(A, B))"
      ],
      "execution_count": 82,
      "outputs": [
        {
          "output_type": "error",
          "ename": "ValueError",
          "evalue": "ignored",
          "traceback": [
            "\u001b[0;31m---------------------------------------------------------------------------\u001b[0m",
            "\u001b[0;31mValueError\u001b[0m                                Traceback (most recent call last)",
            "\u001b[0;32m<ipython-input-82-c4010e250c2c>\u001b[0m in \u001b[0;36m<module>\u001b[0;34m()\u001b[0m\n\u001b[0;32m----> 1\u001b[0;31m \u001b[0mprint\u001b[0m\u001b[0;34m(\u001b[0m\u001b[0mnp\u001b[0m\u001b[0;34m.\u001b[0m\u001b[0mdot\u001b[0m\u001b[0;34m(\u001b[0m\u001b[0mA\u001b[0m\u001b[0;34m,\u001b[0m \u001b[0mB\u001b[0m\u001b[0;34m)\u001b[0m\u001b[0;34m)\u001b[0m\u001b[0;34m\u001b[0m\u001b[0;34m\u001b[0m\u001b[0m\n\u001b[0m",
            "\u001b[0;32m<__array_function__ internals>\u001b[0m in \u001b[0;36mdot\u001b[0;34m(*args, **kwargs)\u001b[0m\n",
            "\u001b[0;31mValueError\u001b[0m: shapes (3,5) and (4,3) not aligned: 5 (dim 1) != 4 (dim 0)"
          ]
        }
      ]
    },
    {
      "cell_type": "code",
      "metadata": {
        "colab": {
          "base_uri": "https://localhost:8080/",
          "height": 214
        },
        "id": "GBsMS-nr3K94",
        "outputId": "af3117de-b171-46b4-eddf-464a38529a3a"
      },
      "source": [
        "#miejemplo\n",
        "print(np.dot(B1,A1))"
      ],
      "execution_count": 83,
      "outputs": [
        {
          "output_type": "error",
          "ename": "ValueError",
          "evalue": "ignored",
          "traceback": [
            "\u001b[0;31m---------------------------------------------------------------------------\u001b[0m",
            "\u001b[0;31mValueError\u001b[0m                                Traceback (most recent call last)",
            "\u001b[0;32m<ipython-input-83-69fa4135564c>\u001b[0m in \u001b[0;36m<module>\u001b[0;34m()\u001b[0m\n\u001b[1;32m      1\u001b[0m \u001b[0;31m#miejemplo\u001b[0m\u001b[0;34m\u001b[0m\u001b[0;34m\u001b[0m\u001b[0;34m\u001b[0m\u001b[0m\n\u001b[0;32m----> 2\u001b[0;31m \u001b[0mprint\u001b[0m\u001b[0;34m(\u001b[0m\u001b[0mnp\u001b[0m\u001b[0;34m.\u001b[0m\u001b[0mdot\u001b[0m\u001b[0;34m(\u001b[0m\u001b[0mB1\u001b[0m\u001b[0;34m,\u001b[0m\u001b[0mA1\u001b[0m\u001b[0;34m)\u001b[0m\u001b[0;34m)\u001b[0m\u001b[0;34m\u001b[0m\u001b[0;34m\u001b[0m\u001b[0m\n\u001b[0m",
            "\u001b[0;32m<__array_function__ internals>\u001b[0m in \u001b[0;36mdot\u001b[0;34m(*args, **kwargs)\u001b[0m\n",
            "\u001b[0;31mValueError\u001b[0m: shapes (2,4) and (2,2) not aligned: 4 (dim 1) != 2 (dim 0)"
          ]
        }
      ]
    },
    {
      "cell_type": "markdown",
      "metadata": {
        "id": "e-FY821L3TcZ"
      },
      "source": [
        "These results make sense in accordance with our rule. Multiplying a $3 \\times 5$ matrix on the right by a $4 \\times 3$ matrix results in an error while multiplying a $4 \\times 3$ matrix on the right by a $3 \\times 5$ matrix results in a $4 \\times 5$ matrix."
      ]
    },
    {
      "cell_type": "code",
      "metadata": {
        "colab": {
          "base_uri": "https://localhost:8080/"
        },
        "id": "xu6-gRst3byX",
        "outputId": "7b1d9899-a37d-45c8-a860-e401bf845009"
      },
      "source": [
        "print(np.dot(B, A))"
      ],
      "execution_count": 84,
      "outputs": [
        {
          "output_type": "stream",
          "text": [
            "[[ 34  44  54 128 124]\n",
            " [ 21  27  33  79  82]\n",
            " [ 82 101 120 227 216]\n",
            " [108 135 162 333 324]]\n"
          ],
          "name": "stdout"
        }
      ]
    },
    {
      "cell_type": "code",
      "metadata": {
        "colab": {
          "base_uri": "https://localhost:8080/"
        },
        "id": "mEG-SAnD3eAn",
        "outputId": "78b4910a-18ee-4e24-ec26-9d2ba89b079d"
      },
      "source": [
        "#miejemplo\n",
        "print(np.dot(A1,B1))"
      ],
      "execution_count": 85,
      "outputs": [
        {
          "output_type": "stream",
          "text": [
            "[[11 14 17 20]\n",
            " [50 64 78 92]]\n"
          ],
          "name": "stdout"
        }
      ]
    },
    {
      "cell_type": "markdown",
      "metadata": {
        "id": "9GNYwBTN35M4"
      },
      "source": [
        "Portfolio Variance\n",
        "Let's return to our portfolio example from before. We calculated the expected return of the portfolio, but how do we calculate the variance? We start by trying to evaluate the portfolio as a sum of each individual asset, scaled by it's weight.\n",
        "\n",
        "$$ VAR[P] = VAR[\\omega_1 S_1 + \\omega_2 S_2 + \\cdots + \\omega_N S_N] $$\n",
        "Where $S_0, \\cdots, S_N$ are the assets contained within our universe. If all of our assets were independent of each other, we could simply evaluate this as\n",
        "\n",
        "$$ VAR[P] = VAR[\\omega_1 S_1] + VAR[\\omega_2 S_2] + \\cdots + VAR[\\omega_N S_N] = \\omega_1^2\\sigma_1^2 + \\omega_2^2\\sigma_2^2 + \\cdots + \\omega_N^2\\sigma_N^2 $$\n",
        "However, all of our assets depend on each other by their construction. They are all in some way related to our base asset and therefore each other. We thus have to calculate the variance of the portfolio by including the individual pairwise covariances of each asset. Our formula for the variance of the portfolio:\n",
        "\n",
        "$$ VAR[P] = \\sigma_P^2 = \\sum_i \\omega_i^2\\sigma_i^2 + \\sum_i\\sum_{i\\neq j} \\omega_i\\omega_j\\sigma_i\\sigma_j\\rho_{i, j}, \\ i, j \\in \\lbrace 1, 2, \\cdots, N \\rbrace $$\n",
        "Where $\\rho_{i,j}$ is the correlation between $S_i$ and $S_j$, $\\rho_{i, j} = \\frac{COV[S_i, S_j]}{\\sigma_i\\sigma_j}$. This seems exceedingly complicated, but we can easily handle all of this using NumPy arrays. First, we calculate the covariance matrix that relates all the individual stocks in our universe."
      ]
    },
    {
      "cell_type": "code",
      "metadata": {
        "colab": {
          "base_uri": "https://localhost:8080/"
        },
        "id": "t28k75Nt3_az",
        "outputId": "e587aaf1-b156-46e6-bd9d-13889fc6705b"
      },
      "source": [
        "cov_mat = np.cov(returns)\n",
        "print(cov_mat)"
      ],
      "execution_count": 86,
      "outputs": [
        {
          "output_type": "stream",
          "text": [
            "[[0.00105177 0.00097263 0.00111177 0.00109527 0.00096669 0.00102281\n",
            "  0.0010792  0.00116361 0.00107702 0.00098773]\n",
            " [0.00097263 0.00123887 0.0010219  0.00096551 0.00086733 0.0009237\n",
            "  0.00104228 0.00101645 0.00096969 0.00086997]\n",
            " [0.00111177 0.0010219  0.00162767 0.00116102 0.00099516 0.00106001\n",
            "  0.00119663 0.00121443 0.00113411 0.00107683]\n",
            " [0.00109527 0.00096551 0.00116102 0.00153527 0.00094358 0.0010781\n",
            "  0.00111293 0.00123065 0.00116785 0.00107001]\n",
            " [0.00096669 0.00086733 0.00099516 0.00094358 0.00130297 0.00088721\n",
            "  0.00101284 0.00103146 0.0009732  0.00086111]\n",
            " [0.00102281 0.0009237  0.00106001 0.0010781  0.00088721 0.00130117\n",
            "  0.00105688 0.00121013 0.00103166 0.00096917]\n",
            " [0.0010792  0.00104228 0.00119663 0.00111293 0.00101284 0.00105688\n",
            "  0.00136626 0.00114152 0.00113041 0.00099796]\n",
            " [0.00116361 0.00101645 0.00121443 0.00123065 0.00103146 0.00121013\n",
            "  0.00114152 0.00174255 0.00120067 0.00109243]\n",
            " [0.00107702 0.00096969 0.00113411 0.00116785 0.0009732  0.00103166\n",
            "  0.00113041 0.00120067 0.00151061 0.00097633]\n",
            " [0.00098773 0.00086997 0.00107683 0.00107001 0.00086111 0.00096917\n",
            "  0.00099796 0.00109243 0.00097633 0.00133237]]\n"
          ],
          "name": "stdout"
        }
      ]
    },
    {
      "cell_type": "code",
      "metadata": {
        "colab": {
          "base_uri": "https://localhost:8080/"
        },
        "id": "sLecFoNm4PGH",
        "outputId": "69d93546-4346-4191-9ec0-d87823fcea19"
      },
      "source": [
        "#miejemplo\n",
        "cov_mat1 = np.cov(retornos)\n",
        "print(cov_mat1)"
      ],
      "execution_count": 87,
      "outputs": [
        {
          "output_type": "stream",
          "text": [
            "[[ 1.12606899e-04  1.32509014e-04  1.23158695e-04  1.13774716e-04\n",
            "   1.44874570e-04  1.52564644e-04  1.47355119e-04  1.25728108e-04\n",
            "   1.21594885e-04  6.41667915e-05  1.20967300e-04  1.06984663e-04\n",
            "   1.06369407e-04  9.33639941e-05  9.61278847e-05]\n",
            " [ 1.32509014e-04  4.77618176e-04  1.36335294e-04  1.28434355e-04\n",
            "   2.09393548e-04  1.28394044e-04  2.01078928e-04  1.34825156e-04\n",
            "   6.78038640e-05  8.51460335e-05  1.18364076e-04  1.28201547e-04\n",
            "   1.57841076e-04  1.18470430e-04  1.26454158e-04]\n",
            " [ 1.23158695e-04  1.36335294e-04  5.11077058e-04  9.16525858e-05\n",
            "   1.05753705e-04  1.57598477e-04  1.47681188e-04  9.16116234e-05\n",
            "   6.67676204e-05  1.15714945e-04  1.49314726e-04  1.51599902e-04\n",
            "   4.16294857e-05  4.63752259e-05  7.47782512e-05]\n",
            " [ 1.13774716e-04  1.28434355e-04  9.16525858e-05  4.26356276e-04\n",
            "   1.75633108e-04  2.02036786e-04  1.43325624e-04  1.27043258e-04\n",
            "   1.34395587e-04  8.59011567e-05  1.17870586e-04  5.00559208e-05\n",
            "   6.11323272e-05  1.63942600e-04  1.44401856e-04]\n",
            " [ 1.44874570e-04  2.09393548e-04  1.05753705e-04  1.75633108e-04\n",
            "   5.06054699e-04  1.27152663e-04  1.67355869e-04  1.42540849e-04\n",
            "   2.75509973e-04  3.38067978e-05  1.96224888e-04  1.72044903e-04\n",
            "   1.14990965e-04  1.20164409e-04  1.07470229e-04]\n",
            " [ 1.52564644e-04  1.28394044e-04  1.57598477e-04  2.02036786e-04\n",
            "   1.27152663e-04  5.89451911e-04  2.00564861e-04  1.24241926e-04\n",
            "   1.19716435e-04  8.42862671e-05  2.38603980e-04  9.64728432e-05\n",
            "   1.23709969e-04  2.01190166e-04  1.77766538e-04]\n",
            " [ 1.47355119e-04  2.01078928e-04  1.47681188e-04  1.43325624e-04\n",
            "   1.67355869e-04  2.00564861e-04  4.53956907e-04  1.68093179e-04\n",
            "   1.69020182e-04  1.20976595e-04  1.42664932e-04  1.33828370e-04\n",
            "   1.85422257e-04  6.59177114e-05  1.65542781e-04]\n",
            " [ 1.25728108e-04  1.34825156e-04  9.16116234e-05  1.27043258e-04\n",
            "   1.42540849e-04  1.24241926e-04  1.68093179e-04  4.46060007e-04\n",
            "   9.73090131e-05  5.52790029e-05  1.78458157e-04  8.97617511e-05\n",
            "   1.26531532e-04  4.85751076e-05  8.43074717e-05]\n",
            " [ 1.21594885e-04  6.78038640e-05  6.67676204e-05  1.34395587e-04\n",
            "   2.75509973e-04  1.19716435e-04  1.69020182e-04  9.73090131e-05\n",
            "   4.92734335e-04  1.52935814e-04  1.82727775e-04  9.26739815e-05\n",
            "   1.28524016e-04  1.17118002e-04  9.72715390e-05]\n",
            " [ 6.41667915e-05  8.51460335e-05  1.15714945e-04  8.59011567e-05\n",
            "   3.38067978e-05  8.42862671e-05  1.20976595e-04  5.52790029e-05\n",
            "   1.52935814e-04  3.70958330e-04  7.90134718e-05 -2.30900000e-05\n",
            "   8.40431546e-05  5.19570883e-05 -3.34510407e-06]\n",
            " [ 1.20967300e-04  1.18364076e-04  1.49314726e-04  1.17870586e-04\n",
            "   1.96224888e-04  2.38603980e-04  1.42664932e-04  1.78458157e-04\n",
            "   1.82727775e-04  7.90134718e-05  4.63075284e-04  4.90751618e-05\n",
            "   7.18838408e-05  1.25578849e-04  2.33650559e-05]\n",
            " [ 1.06984663e-04  1.28201547e-04  1.51599902e-04  5.00559208e-05\n",
            "   1.72044903e-04  9.64728432e-05  1.33828370e-04  8.97617511e-05\n",
            "   9.26739815e-05 -2.30900000e-05  4.90751618e-05  4.82450266e-04\n",
            "   4.28530561e-05  7.83502560e-05  1.29300817e-04]\n",
            " [ 1.06369407e-04  1.57841076e-04  4.16294857e-05  6.11323272e-05\n",
            "   1.14990965e-04  1.23709969e-04  1.85422257e-04  1.26531532e-04\n",
            "   1.28524016e-04  8.40431546e-05  7.18838408e-05  4.28530561e-05\n",
            "   5.06486722e-04  4.40803609e-05  2.00155809e-05]\n",
            " [ 9.33639941e-05  1.18470430e-04  4.63752259e-05  1.63942600e-04\n",
            "   1.20164409e-04  2.01190166e-04  6.59177114e-05  4.85751076e-05\n",
            "   1.17118002e-04  5.19570883e-05  1.25578849e-04  7.83502560e-05\n",
            "   4.40803609e-05  5.97483907e-04  7.62443190e-05]\n",
            " [ 9.61278847e-05  1.26454158e-04  7.47782512e-05  1.44401856e-04\n",
            "   1.07470229e-04  1.77766538e-04  1.65542781e-04  8.43074717e-05\n",
            "   9.72715390e-05 -3.34510407e-06  2.33650559e-05  1.29300817e-04\n",
            "   2.00155809e-05  7.62443190e-05  4.52904892e-04]]\n"
          ],
          "name": "stdout"
        }
      ]
    },
    {
      "cell_type": "markdown",
      "metadata": {
        "id": "QzZW22ju4t3b"
      },
      "source": [
        "This array is not formatted particularly nicely, but a covariance matrix is a very important concept. The covariance matrix is of the form:\n",
        "\n",
        "$$ \\left[\\begin{matrix}\n",
        "VAR[S_1] &amp; COV[S_1, S_2] &amp; \\cdots &amp; COV[S_1, S_N] \\\\\n",
        "COV[S_2, S_1] &amp; VAR[S_2] &amp; \\cdots &amp; COV[S_2, S_N] \\\\\n",
        "\\vdots &amp; \\vdots &amp; \\ddots &amp; \\vdots \\\\\n",
        "COV[S_N, S_1] &amp; COV[S_N, S_2] &amp; \\cdots &amp; VAR[S_N]\n",
        "\\end{matrix}\\right] $$\n",
        "So each diagonal entry is the variance of that asset at that index and each off-diagonal holds the covariance of two assets indexed by the column and row number. What is important is that once we have the covariance matrix we are able to do some very quick linear algebra to calculate the variance of the overall portfolio. We can represent the variance of the portfolio in array form as:\n",
        "\n",
        "$$ \\sigma_p^2 = \\omega \\ C \\ \\omega^\\intercal$$\n",
        "Where $C$ is the covariance matrix of all the assets and $\\omega$ is the array containing the weights of each individual asset. The superscript $\\intercal$ on the second $\\omega$ listed above denotes the transpose of $\\omega$. For a reference on the evaluation of the variance of a portfolio as a matrix equation, please see the Wikipedia article on modern portfolio theory.\n",
        "\n",
        "The transpose of an array is what you get when you switch the rows and columns of an array. This has the effect of reflecting an array across what you might imagine as a diagonal. For example, take our array $A$ from before:"
      ]
    },
    {
      "cell_type": "code",
      "metadata": {
        "colab": {
          "base_uri": "https://localhost:8080/"
        },
        "id": "MGqalm_J4vZN",
        "outputId": "47985c00-e4a1-4fc8-d928-6c3d2a43a5b8"
      },
      "source": [
        "print(A)"
      ],
      "execution_count": 88,
      "outputs": [
        {
          "output_type": "stream",
          "text": [
            "[[ 1  2  3 12  6]\n",
            " [ 4  5  6 15 20]\n",
            " [ 7  8  9 10 10]]\n"
          ],
          "name": "stdout"
        }
      ]
    },
    {
      "cell_type": "code",
      "metadata": {
        "colab": {
          "base_uri": "https://localhost:8080/"
        },
        "id": "vck18M9m40P4",
        "outputId": "cf346660-d3e2-4eda-f409-01d7948eb57b"
      },
      "source": [
        "#miejemplo\n",
        "print(A1)"
      ],
      "execution_count": 89,
      "outputs": [
        {
          "output_type": "stream",
          "text": [
            "[[1 2]\n",
            " [5 9]]\n"
          ],
          "name": "stdout"
        }
      ]
    },
    {
      "cell_type": "markdown",
      "metadata": {
        "id": "9QnWt8eJ48SM"
      },
      "source": [
        "The transpose looks like a mirror image of the same array."
      ]
    },
    {
      "cell_type": "code",
      "metadata": {
        "colab": {
          "base_uri": "https://localhost:8080/"
        },
        "id": "LKR2jtDj49H2",
        "outputId": "bddafab8-627e-4bee-a9ab-f92cf6483fe6"
      },
      "source": [
        "print(np.transpose(A))"
      ],
      "execution_count": 90,
      "outputs": [
        {
          "output_type": "stream",
          "text": [
            "[[ 1  4  7]\n",
            " [ 2  5  8]\n",
            " [ 3  6  9]\n",
            " [12 15 10]\n",
            " [ 6 20 10]]\n"
          ],
          "name": "stdout"
        }
      ]
    },
    {
      "cell_type": "code",
      "metadata": {
        "colab": {
          "base_uri": "https://localhost:8080/"
        },
        "id": "gZ5-LG4K5BqM",
        "outputId": "8a58db1b-12c4-4ca4-a60e-4fb75718c6a5"
      },
      "source": [
        "#miejemplo\n",
        "print(np.transpose(A1))"
      ],
      "execution_count": 91,
      "outputs": [
        {
          "output_type": "stream",
          "text": [
            "[[1 5]\n",
            " [2 9]]\n"
          ],
          "name": "stdout"
        }
      ]
    },
    {
      "cell_type": "markdown",
      "metadata": {
        "id": "SIR0zrFR5Ld6"
      },
      "source": [
        "\n",
        "But $\\omega$ here is a 1-dimensional array, a vector! It makes perfect to take the transpose of $A$, a $3 \\times 5$ array, as the output will be a $5 \\times 3$ array, but a 1-dimensional array is not quite as intuitive. A typical 1-dimensional array can be thought of as a $1 \\times n$ horizontal vector. Thus, taking the tranpose of this array essentially means changing it into a $n \\times 1$ vertical vector. This makes sense because 1-dimensional arrays are still arrays and any multiplication done between 1-dimensional and higher dimensional arrays must keep in line with our dimensionality issue of matrix multiplication.\n",
        "\n",
        "To make a long story short, we think of $\\omega$ as $1 \\times N$ since we have $N$ securities. This makes it so that $\\omega^\\intercal$ is $N \\times 1$. Again, our covariance matrix is $N \\times N$. So the overall multiplication works out like so, in informal terms:\n",
        "\n",
        "$$ \\text{Dimensions}(\\sigma_p^2) = \\text{Dimensions}(\\omega C \\omega^\\intercal) = (1 \\times N)\\cdot (N \\times N)\\cdot (N \\times 1) = (1 \\times 1)$$\n",
        "Multiplying the covariance matrix on the left by the plain horizontal vector and on the right by that vector's transpose results in the calculation of a single scalar ($1 \\times 1$) value, our portfolio's variance.\n",
        "\n",
        "So knowing this, let's proceed and calculate the portfolio variance! We can easily calculate the product of these arrays by using dot() for matrix multiplication, though this time we have to do it twice."
      ]
    },
    {
      "cell_type": "code",
      "metadata": {
        "colab": {
          "base_uri": "https://localhost:8080/"
        },
        "id": "iXET6LFH5WoT",
        "outputId": "fb6034e0-c2a5-4139-fa64-f35ad2290b79"
      },
      "source": [
        "# Calculating the portfolio volatility\n",
        "var_p = np.dot(np.dot(weights, cov_mat), weights.T)\n",
        "vol_p = np.sqrt(var_p)\n",
        "print(\"Portfolio volatility: \", vol_p)"
      ],
      "execution_count": 92,
      "outputs": [
        {
          "output_type": "stream",
          "text": [
            "Portfolio volatility:  0.03350564760352257\n"
          ],
          "name": "stdout"
        }
      ]
    },
    {
      "cell_type": "code",
      "metadata": {
        "colab": {
          "base_uri": "https://localhost:8080/"
        },
        "id": "qbUPtSN-5gh9",
        "outputId": "c9c701eb-26c7-4e56-f410-83f934797f49"
      },
      "source": [
        "#miejemplo\n",
        "var_p1 = np.dot(np.dot(pesos, cov_mat1), pesos.T)\n",
        "vol_p1 = np.sqrt(var_p1)\n",
        "print(\"Portfolio volatility: \", vol_p1)"
      ],
      "execution_count": 93,
      "outputs": [
        {
          "output_type": "stream",
          "text": [
            "Portfolio volatility:  0.011302025754182665\n"
          ],
          "name": "stdout"
        }
      ]
    },
    {
      "cell_type": "markdown",
      "metadata": {
        "id": "_U4jHuJN6fyh"
      },
      "source": [
        "To confirm this calculation, let's simply evaluate the volatility of the portfolio using only NumPy functions."
      ]
    },
    {
      "cell_type": "code",
      "metadata": {
        "colab": {
          "base_uri": "https://localhost:8080/"
        },
        "id": "SSI5gtOk6jOK",
        "outputId": "e16f9c0c-82fc-482e-c0c5-0b1821776e1f"
      },
      "source": [
        "# Confirming calculation\n",
        "vol_p_alt = np.sqrt(np.var(np.dot(weights, returns), ddof=1))\n",
        "print(\"Portfolio volatility: \", vol_p_alt)"
      ],
      "execution_count": 94,
      "outputs": [
        {
          "output_type": "stream",
          "text": [
            "Portfolio volatility:  0.03350564760352256\n"
          ],
          "name": "stdout"
        }
      ]
    },
    {
      "cell_type": "code",
      "metadata": {
        "colab": {
          "base_uri": "https://localhost:8080/"
        },
        "id": "Zh0N1nzg6pqu",
        "outputId": "207587d5-2196-4826-b5fe-7fb330adfa97"
      },
      "source": [
        "#miejemplo\n",
        "vol_p_alt1 = np.sqrt(np.var(np.dot(pesos, retornos), ddof=1))\n",
        "print(\"Portfolio volatility: \", vol_p_alt1)"
      ],
      "execution_count": 95,
      "outputs": [
        {
          "output_type": "stream",
          "text": [
            "Portfolio volatility:  0.01130202575418266\n"
          ],
          "name": "stdout"
        }
      ]
    },
    {
      "cell_type": "markdown",
      "metadata": {
        "id": "celHRNI962PN"
      },
      "source": [
        "The ddof parameter is a simple integer input that tells the function the number of degrees of freedom to take into account. This is a more statistical concept, but what this tells us that our matrix calculation is correct!\n",
        "\n",
        "A lot of this might not make sense at first glance. It helps to go back and forth between the theory and the code representations until you have a better grasp of the mathematics involved. It is definitely not necessary to be an expert on linear algebra and on matrix operations, but linear algebra can help to streamline the process of working with large amounts of data. For further reading on NumPy, check out the documentation.\n",
        "\n",
        "This presentation is for informational purposes only and does not constitute an offer to sell, a solicitation to buy, or a recommendation for any security; nor does it constitute an offer to provide investment advisory or other services by Quantopian, Inc. (\"Quantopian\"). Nothing contained herein constitutes investment advice or offers any opinion with respect to the suitability of any security, and any views expressed herein should not be taken as advice to buy, sell, or hold any security or as an endorsement of any security or company. In preparing the information contained herein, Quantopian, Inc. has not taken into account the investment needs, objectives, and financial circumstances of any particular investor. Any views expressed and data illustrated herein were prepared based upon information, believed to be reliable, available to Quantopian, Inc. at the time of publication. Quantopian makes no guarantees as to their accuracy or completeness. All information is subject to change and may quickly become unreliable for various reasons, including changes in market conditions or economic circumstances."
      ]
    }
  ]
}