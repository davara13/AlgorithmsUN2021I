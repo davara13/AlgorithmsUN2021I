{
  "nbformat": 4,
  "nbformat_minor": 0,
  "metadata": {
    "colab": {
      "name": "daaariaspacognitiveclassaapplieddatadciencewithpython.ipynb",
      "provenance": [],
      "collapsed_sections": []
    },
    "kernelspec": {
      "name": "python3",
      "display_name": "Python 3"
    },
    "language_info": {
      "name": "python"
    }
  },
  "cells": [
    {
      "cell_type": "markdown",
      "metadata": {
        "id": "jC5mq3IVnO2y"
      },
      "source": [
        "#CERTIFICADOS DE CURSOS COGNITIVE CLASS\n",
        "\n",
        "* [Data Analysis with Python](https://courses.cognitiveclass.ai/certificates/e1ee76fc93ad4c3797ec9dbb058c28dc)\n",
        "* [Python 101 for Data Science](https://courses.cognitiveclass.ai/certificates/b030d81825e647d1a0fc149294a3e72b)\n",
        "* [Data Visualization with Python](https://courses.cognitiveclass.ai/certificates/1b6c14b6aac048eaae151f956ad2469f)"
      ]
    }
  ]
}