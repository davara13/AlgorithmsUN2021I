{
  "nbformat": 4,
  "nbformat_minor": 0,
  "metadata": {
    "colab": {
      "name": "daaariaspaArithmeticSeriesPowerSeriesPowerSums.ipynb",
      "provenance": [],
      "collapsed_sections": []
    },
    "kernelspec": {
      "name": "python3",
      "display_name": "Python 3"
    }
  },
  "cells": [
    {
      "cell_type": "markdown",
      "metadata": {
        "id": "r4rXWI4gCN5B"
      },
      "source": [
        "# Arithmetic Series\n",
        "\n",
        "## Modified from Arithmetic Series -  [Wolfram MathWorld](https://mathworld.wolfram.com/ArithmeticSeries.html)\n",
        "\n",
        "\n",
        "An arithmetic sequence $\\{a_k\\}$ for $k=1, 2, ..., $ in which each term is computed from the previous one by adding (or subtracting) a constant $d$. \n",
        "\n",
        "\\begin{align*}\n",
        "a_1 & \\\\\n",
        "a_2 &\\ \\ =\\ \\ a_1 + d  \\\\\n",
        "a_3 &\\ \\ =\\ \\ a_2 + d \\ \\ =\\ \\ a_1 + 2d   \\\\\n",
        "a_4 &\\ \\ =\\ \\ a_3 + d \\ \\ =\\ \\ a_2 + 2d \\ \\ =\\ \\ a_1 + 3d  \\\\\n",
        "\\vdots\\\\\n",
        "a_k &\\ \\ =\\ \\ a_{(k-1)}+d \\ =\\  a_{(k-2)}+2d \\ =\\  \\ldots \\ =\\  \\ a_1+(k-1)d\n",
        "\\end{align*}\n",
        "\n",
        "Therefore, for $k>=1$,\n",
        "\n",
        "$$ a_k = a_1 + (k-1)d$$\n",
        "\n",
        "With $a_1$ and $d$ given.\n",
        "\n",
        "<br /> \n",
        "\n",
        "The sequence of the partial sum of the first $n$ terms of a sequence is called a series, in the case of an arithemetic sequence the series is called an arithmetic series.\n",
        "\n",
        "If  $a_1= 1$ and $d=1$ we have, the simplest arithmnetic sequence,  the natural numbers sequence $\\{a_k = k \\}$ for  $k=1, 2, ..., $  i.e. the seuqnece\n",
        "$$1, 2, ...,$$\n",
        "The  corresponmding series is \n",
        "$$ \n",
        "S_n = 1 + 2+ \\ldots + (n-1)+ n = \\sum_{k=1}^n k\n",
        "$$\n",
        "can be calculated as a function of $n$.\n",
        "\n",
        "Assume that we allign one $S_{n-1}$ with a second  $S_{n-1}$ that have the terms adden reverse order and you add term to term, we have\n",
        "\\begin{array}{llclclclclc}\n",
        "  S_{n-1} &=& 1 &+& 2 &+& \\ldots &+& (n-2) &+& (n-1) \\\\\n",
        "  S_{n-1} &=& (n-1)  &+& (n-2)  &+& \\ldots   &+& 2   &+& 1 \\\\\n",
        "   \\hline \\\\\n",
        "   2S_{n-1} &=& n  &+& n  &+& \\ldots   &+& n   &+& n \\\\\n",
        "\\end{array}\n",
        "so\n",
        "$$  2S_{n-1} = (n-1)n $$\n",
        "then\n",
        "$$  S_{n-1} = \\frac{1}{2} (n-1)n$$\n",
        "therefore \n",
        "$$  S_{n} = \\frac{1}{2} n(n+1)$$\n",
        "\n",
        "\n",
        "\\begin{align*}\n",
        "S_n &= \\sum_{k=1}^n a_k\t\\\\\n",
        "    &= \\sum_{k=1}^n[a_1+(k-1)d]\t\t\\\\\n",
        "    &= na_1 + d \\sum_{k=1}^n(k-1)\t\\\\\n",
        "    &= na_1 + d \\sum_{k=0}^{n-1} k\t\\\\\n",
        "    &= na_1 + d \\sum_{k=1}^{n-1} k\t\\\\\n",
        "    &= na_1 +  \\frac{1}{2} d(n-1)n\\\\\n",
        "\\end{align*}\n",
        "so \n",
        "$$ S_n =  \\frac{1}{2} n[2 a_1 +d(n-1)].$$\n",
        "\n",
        "Note, however, that\n",
        "$$a_1+a_n=a_1+[a_1+d(n-1)]=2a_1+d(n-1),$$ \t\n",
        "so\n",
        "$$S_n = \\frac{1}{2}n(a_1+a_n),$$\n",
        "\n",
        "\n",
        "or $n$ times the arithmetic mean of the first and last terms! This is the trick Gauss used as a schoolboy to solve the problem of summing the integers from $1$ to $100$ given as busy-work by his teacher. While his classmates toiled away doing the addition longhand, Gauss wrote a single number, the correct answer\n",
        "\n",
        "$$\\frac{1}{2}(100)(1+100)=50·101=5050$$ \t\n",
        "on his slate (Burton 1989, pp. 80-81; Hoffman 1998, p. 207). When the answers were examined, Gauss's proved to be the only correct one.\n",
        "\n",
        "<br /> \n",
        "\n",
        "If  the sequence starts at index $0$, $\\{a_k\\}$ for $ k=0, 1, 2, ..., $ we have\n",
        "\n",
        "\\begin{align*}\n",
        "a_0 & \\\\\n",
        "a_1 &\\ \\ =\\ \\ a_0 + d  \\\\\n",
        "a_2 &\\ \\ =\\ \\ a_1 + d \\ \\ =\\ \\ a_0 + 2d   \\\\\n",
        "a_3 &\\ \\ =\\ \\ a_2 + d \\ \\ =\\ \\ a_1 + 2d \\ \\ =\\ \\ a_0 + 3d  \\\\\n",
        "\\vdots\\\\\n",
        "a_k &\\ \\ =\\ \\ a_{(k-1)}+d \\ =\\  a_{(k-2)}+2d \\ =\\  \\ldots \\ = \\  \\ a_1+(k-1)d \\ \\ =\\ \\ a_0+kd\n",
        "\\end{align*}\n",
        "\n",
        "<br /> \n",
        "for given   $a_0$ and $d$.\n",
        "\n",
        "In this case the sum of the first $n$ terms  of  the arithemnetic sequence  is then given by\n",
        "\\begin{align*}\n",
        "S_n &= \\sum_{k=0}^{n-1} a_k\t\\\\\n",
        "    &= \\sum_{k=0}^{n-1}[a_0+kd]\t\t\\\\\n",
        "    &= n a_0 + d \\sum_{k=0}^{n-1} k\t\\\\\n",
        "    &= n a_0 + d \\sum_{k=1}^{n-1} k\t\\\\\n",
        "    &= n a_0+  \\frac{1}{2} d(n-1)n \\\\\n",
        "\\end{align*}\n",
        "so \n",
        "$$ S_n =  \\frac{1}{2} n[2 a_0 + d(n-1)].$$\n",
        "<br /> \n",
        "\n"
      ]
    },
    {
      "cell_type": "markdown",
      "metadata": {
        "id": "GfBh-QHRcods"
      },
      "source": [
        "### Code\n",
        "####  The simplest arithmetic sequence and series\n",
        "\n",
        "The simplest arithmnetic sequence is \n",
        "\n",
        "\n",
        "$$S_n = 1, 2, ...,$$"
      ]
    },
    {
      "cell_type": "markdown",
      "metadata": {
        "id": "n36eWqEXiktl"
      },
      "source": [
        "The following code plots the first $n = 15$ terms of the simplest arithmnetic sequence \n",
        "$$\\{a_n = n\\} \\text{ for } n =1,2,\\ldots  $$\n",
        "i.e\n",
        "$$\\{a_n = n\\} =1,2,\\ldots $$\n",
        "adn the corresponding terms of the simplest arithmnetic series \n",
        "$$  S_n = 1 + 2+ \\ldots + (n-1)+ n = \\sum_{k=1}^n =  \\frac{1}{2} n(n+1)$$\n"
      ]
    },
    {
      "cell_type": "markdown",
      "metadata": {
        "id": "_VyGiunIZknK"
      },
      "source": [
        "Plot"
      ]
    },
    {
      "cell_type": "code",
      "metadata": {
        "colab": {
          "base_uri": "https://localhost:8080/",
          "height": 282
        },
        "id": "gx3Q4uo-ONCi",
        "outputId": "eac3b2e8-d1ae-4e56-e0e9-05c2635606c2"
      },
      "source": [
        "import matplotlib.pyplot as plt\n",
        "\n",
        "n = 15\n",
        "S_n = 0\n",
        "Serie_S_n=[]\n",
        "Sequence_a_n =[]\n",
        "for i in range(1,n+1):\n",
        "  S_n = S_n + i\n",
        "  Serie_S_n.append(S_n)\n",
        "  Sequence_a_n.append(i)\n",
        " \n",
        "plt.plot(Serie_S_n, color='black',label='Serie_S_n')\n",
        "plt.plot(Sequence_a_n, color='red',label='Sequence_a_n')\n",
        "plt.legend()\n",
        "\n",
        "\n"
      ],
      "execution_count": null,
      "outputs": [
        {
          "output_type": "execute_result",
          "data": {
            "text/plain": [
              "<matplotlib.legend.Legend at 0x7fcf5efdb190>"
            ]
          },
          "metadata": {
            "tags": []
          },
          "execution_count": 24
        },
        {
          "output_type": "display_data",
          "data": {
            "image/png": "[encoded data removed]",
            "text/plain": [
              "<Figure size 432x288 with 1 Axes>"
            ]
          },
          "metadata": {
            "tags": [],
            "needs_background": "light"
          }
        }
      ]
    },
    {
      "cell_type": "markdown",
      "metadata": {
        "id": "0ybfJdHxZGvW"
      },
      "source": [
        "The following code computes the  $n=10000000$  term of the airthmetic series\n",
        "$$  S_n = 1 + 2+ \\ldots + (n-1)+ n = \\sum_{k=1}^n =  \\frac{1}{2} n(n+1)$$"
      ]
    },
    {
      "cell_type": "code",
      "metadata": {
        "colab": {
          "base_uri": "https://localhost:8080/"
        },
        "id": "99xYHDQycnol",
        "outputId": "f5c1399a-1428-4f9e-8a63-02254447ee60"
      },
      "source": [
        "n = 10000000\n",
        "S_n = 0\n",
        "for i in range(1,n+1):  # range(n+1) goes form 1 to n\n",
        "  S_n = S_n + i \n",
        "print(S_n)"
      ],
      "execution_count": null,
      "outputs": [
        {
          "output_type": "stream",
          "text": [
            "50000005000000\n"
          ],
          "name": "stdout"
        }
      ]
    },
    {
      "cell_type": "code",
      "metadata": {
        "colab": {
          "base_uri": "https://localhost:8080/"
        },
        "id": "RGCSuDGHeFwH",
        "outputId": "a813baea-83ca-44c5-dea0-619f19bb435a"
      },
      "source": [
        "(1/2)*n*(n+1)"
      ],
      "execution_count": null,
      "outputs": [
        {
          "output_type": "execute_result",
          "data": {
            "text/plain": [
              "50000005000000.0"
            ]
          },
          "metadata": {
            "tags": []
          },
          "execution_count": 3
        }
      ]
    },
    {
      "cell_type": "markdown",
      "metadata": {
        "id": "bg8zxAhcecpk"
      },
      "source": [
        "The following code computes the $n=10000000$ term of the airthmetic series \n",
        "$$ S_n  = \\sum_{k=1}^n a_k$$\n",
        "\n",
        "<br /> \n",
        "for the airthmetic sequence $a_k = 10 + 3 (k-1) $ for $k=1,2,\\ldots$\n",
        "\n",
        "<br /> \n",
        "$$ 10,13,16,19,21,\\ldots$$\n"
      ]
    },
    {
      "cell_type": "markdown",
      "metadata": {
        "id": "hg3ixQ3bZiVh"
      },
      "source": [
        "Plot"
      ]
    },
    {
      "cell_type": "code",
      "metadata": {
        "colab": {
          "base_uri": "https://localhost:8080/"
        },
        "id": "w8FP1XqSgnie",
        "outputId": "deebe6b5-bb5c-42ff-cd1e-66552bf8ee4e"
      },
      "source": [
        "n = 10000000\n",
        "a = 10\n",
        "d = 3\n",
        "S_n = 0\n",
        "for i in range(1,n+1):  # range(n+19 goes form 1 to n\n",
        "  S_n = S_n + a + d * (i-1) \n",
        "print(S_n)"
      ],
      "execution_count": null,
      "outputs": [
        {
          "output_type": "stream",
          "text": [
            "150000085000000\n"
          ],
          "name": "stdout"
        }
      ]
    },
    {
      "cell_type": "code",
      "metadata": {
        "colab": {
          "base_uri": "https://localhost:8080/"
        },
        "id": "g_38RfB_hgg2",
        "outputId": "d84efd2f-5271-4bb6-e6a3-9292c4f29a3e"
      },
      "source": [
        "n*(2*a +d*(n-1))/2"
      ],
      "execution_count": null,
      "outputs": [
        {
          "output_type": "execute_result",
          "data": {
            "text/plain": [
              "150000085000000.0"
            ]
          },
          "metadata": {
            "tags": []
          },
          "execution_count": 5
        }
      ]
    },
    {
      "cell_type": "markdown",
      "metadata": {
        "id": "r9qzONSlZq2q"
      },
      "source": [
        "## Your own example of arithmetic series "
      ]
    },
    {
      "cell_type": "code",
      "metadata": {
        "id": "sJ1yhp4lNVw9"
      },
      "source": [
        "def SumArit_1(a_1,a_n,n):\n",
        "  return int(0.5*(a_1+a_n)*n)\n",
        "\n",
        "def SumArit_2(a_k):\n",
        "  l = len(a_k)\n",
        "  return int(0.5*(a_k[l-1]+a_k[0])*l)"
      ],
      "execution_count": 11,
      "outputs": []
    },
    {
      "cell_type": "markdown",
      "metadata": {
        "id": "VAVma985RsDy"
      },
      "source": [
        "###**Ejemplos**\n",
        "1. Para la secuencia $\\{a_k\\} = \\{3,5,7,...,401\\}$  con $n$ términos, calcular $S_n$:\n",
        "$$n = \\frac{401-3}{2} + 1 = 200$$\n",
        "$$S_n = \\frac{1}{2}n(401+3) = 40400$$ \n",
        "\n",
        "Comprobemos que la función da el mismo resultado:\n",
        "\n"
      ]
    },
    {
      "cell_type": "code",
      "metadata": {
        "colab": {
          "base_uri": "https://localhost:8080/"
        },
        "id": "PiQFsiIDSGK0",
        "outputId": "82d57278-dde4-43a1-de06-1ccddf52aafa"
      },
      "source": [
        "#primero usaremos la primera version\n",
        "%%time\n",
        "print(SumArit_1(3,401,200))"
      ],
      "execution_count": 12,
      "outputs": [
        {
          "output_type": "stream",
          "text": [
            "40400\n",
            "CPU times: user 234 µs, sys: 0 ns, total: 234 µs\n",
            "Wall time: 182 µs\n"
          ],
          "name": "stdout"
        }
      ]
    },
    {
      "cell_type": "code",
      "metadata": {
        "id": "elNtlpiLSGzf"
      },
      "source": [
        "#Segunda función\n",
        "#para esto es necesario crear a_k\n",
        "a_k = [3]\n",
        "while (a_k[len(a_k)-1] != 401):\n",
        "  a_k.append(a_k[len(a_k)-1]+2)"
      ],
      "execution_count": 15,
      "outputs": []
    },
    {
      "cell_type": "code",
      "metadata": {
        "colab": {
          "base_uri": "https://localhost:8080/"
        },
        "id": "eZ8FEbl_3vYb",
        "outputId": "d77fc341-880c-4a6e-b140-02945b1df97d"
      },
      "source": [
        "%%time\n",
        "#luego lanzamos la función\n",
        "print(SumArit_2(a_k))"
      ],
      "execution_count": 14,
      "outputs": [
        {
          "output_type": "stream",
          "text": [
            "40400\n",
            "CPU times: user 85 µs, sys: 13 µs, total: 98 µs\n",
            "Wall time: 104 µs\n"
          ],
          "name": "stdout"
        }
      ]
    },
    {
      "cell_type": "markdown",
      "metadata": {
        "id": "JlX2hb9ZSNzX"
      },
      "source": [
        "2. Para la secuencia aritmética $\\{a_k\\} = \\{10,-1,-12,...,-10.979\\}$  con $n$ términos, calcular $S_n$:\n",
        "$$n = \\frac{-10.979-10}{-11} + 1 = 1000$$\n",
        "$$S_n = \\frac{1}{2}n(-10979+10) = -5484500$$ \n",
        "\n",
        "Comprobemos que la función da el mismo resultado:"
      ]
    },
    {
      "cell_type": "code",
      "metadata": {
        "colab": {
          "base_uri": "https://localhost:8080/"
        },
        "id": "mBIigExKSQQy",
        "outputId": "1e942884-b763-499a-f877-3a689428b67c"
      },
      "source": [
        "#con la primera version\n",
        "%%time\n",
        "print(SumArit_1(10,-10979,1000))"
      ],
      "execution_count": 16,
      "outputs": [
        {
          "output_type": "stream",
          "text": [
            "-5484500\n",
            "CPU times: user 87 µs, sys: 0 ns, total: 87 µs\n",
            "Wall time: 93.7 µs\n"
          ],
          "name": "stdout"
        }
      ]
    },
    {
      "cell_type": "code",
      "metadata": {
        "id": "h1AIhfmgSTFl"
      },
      "source": [
        "#Segunda función\n",
        "#para esto es necesario crear a_k\n",
        "a_k2 = [10]\n",
        "while (a_k2[len(a_k2)-1] != -10979):\n",
        "  a_k2.append(a_k2[len(a_k2)-1]-11)"
      ],
      "execution_count": 17,
      "outputs": []
    },
    {
      "cell_type": "code",
      "metadata": {
        "colab": {
          "base_uri": "https://localhost:8080/"
        },
        "id": "dwO4yLrd39Jv",
        "outputId": "8788f627-ea8d-4d8b-c2af-638c0e708857"
      },
      "source": [
        "%%time\n",
        "#luego lanzamos la función\n",
        "print(SumArit_2(a_k2))"
      ],
      "execution_count": 20,
      "outputs": [
        {
          "output_type": "stream",
          "text": [
            "-5484500\n",
            "CPU times: user 666 µs, sys: 983 µs, total: 1.65 ms\n",
            "Wall time: 1.67 ms\n"
          ],
          "name": "stdout"
        }
      ]
    },
    {
      "cell_type": "markdown",
      "metadata": {
        "id": "AKWJ1F7hac8T"
      },
      "source": [
        "# Geometric Series\n",
        "\n",
        "## Modified from Arithmetic Series -  [Wolfram MathWorld](https://mathworld.wolfram.com/GeometricSeries.html)\n"
      ]
    },
    {
      "cell_type": "markdown",
      "metadata": {
        "id": "W5zx_-nR81GI"
      },
      "source": [
        "An geometric series is the sum of a sequence $\\{a_k\\}$ for $k=1, 2, ..., $ in which each term is computed from the previous one by adding (or subtracting) a constant $d$. \n",
        "\n",
        "\\begin{align*}\n",
        "a_0 &\\ \\ =\\ \\ r^0 \\ \\ =\\ \\ 1\\\\\n",
        "a_1 &\\ \\ =\\ \\ a_0 *  r \\ \\ =\\ \\  r\\\\\n",
        "a_2 &\\ \\ =\\ \\ a_1 * r\\ \\ =\\ \\ a_0 * r^2  \\ \\ =\\ \\ r^2 \\\\\n",
        "a_3 &\\ \\ =\\ \\ a_2 * r \\ \\ =\\ \\ a_0 * r^3 \\ \\ =\\ \\  r^3  \\\\\n",
        "a_4 &\\ \\ =\\ \\ a_3 * r\\ \\  =\\ \\ a_0 * r^4 \\ \\  =\\ \\ r^4  \\\\\n",
        "\\vdots\\\\\n",
        "a_k &\\ \\ =\\ \\ a_{(k-1)}* r \\ =\\   a_0 * r^k \\ \\  =\\ \\  r^k\n",
        "\\end{align*}\n",
        "\n",
        "The sum of the first $n$ terms  of  the geometric sequence (called an geometric serie)  is then given by\n",
        "$$\n",
        "\\begin{array}{ll}\n",
        "S_n &=  1 + r + r^2 + \\cdots + r^{n-1} +r^n \\\\\n",
        " &=  (1 + r + r^2 + \\cdots + r^{n-1} ) +r^n \\\\\n",
        " &= S_{n-1}  +r^n \n",
        "\\end{array}\n",
        "$$\n",
        "\n",
        "$$\n",
        "\\begin{array}{ll}\n",
        "S_n &=  1 + r + r^2 + \\cdots + r^{n-1} +r^n \\\\\n",
        " &=  1 + (r + r^2 + \\cdots + r^{n-1}  +r^n)  \\\\\n",
        " &=   1 + r (1 +  r  + r^2 + \\cdots + r^{n-1} )  \\\\\n",
        "  &=   1 + r   S_{n-1} \n",
        "\\end{array}\n",
        "$$\n",
        "\n",
        "Then\n",
        "$$\n",
        " S_{n-1}  +r^n =   1 + r   S_{n-1} \n",
        "$$\n",
        "\n",
        "Therefore\n",
        "$$\n",
        " S_{n-1} (1 -r)   +r^n =   1 - r^n \n",
        "$$\n",
        "\n",
        "$$\n",
        " S_{n-1}   =   \\frac{1 - r^n }{1 -r}\n",
        "$$\n",
        "\n",
        "$$\n",
        " S_{n}   =   \\frac{1 - r^{n+1} }{1 -r}  = \\frac{ r^{n+1} - 1}{r -1}\n",
        "$$\n"
      ]
    },
    {
      "cell_type": "markdown",
      "metadata": {
        "id": "CDUYfT8k8crr"
      },
      "source": [
        "## Nodes in Complete Binary Tree with $L=0,1,2,\\cdots , L-1$ levels \n",
        "\n",
        "![](https://raw.githubusercontent.com/gjhernandezp/algorithms/master/Lab7/ComBinTree.png)\n",
        "\n",
        "In a complete binary tree you have in ecah level $k =0,1,2,\\cdots $  $ 2^k $\n",
        "\n",
        "$$\n",
        "\\begin{array}{ll}\n",
        "\\text {Level } 0 \\rightarrow 2^0 = 1 \\text { node (root)} \\\\\n",
        "\\text {Level } 1 \\rightarrow 2^1 = 2 \\text { nodes} \\\\\n",
        "\\text {Level } 2 \\rightarrow 2^2 = 4 \\text { nodes} \\\\\n",
        "\\text {Level } 3 \\rightarrow 2^3 = 8 \\text { nodes} \\\\\n",
        "\\vdots\\\\\n",
        "\\text {Level } k \\rightarrow 2^k  \\text { nodes} \\\\\n",
        "\\end{array}\n",
        "$$\n",
        "\n",
        "nodes, with $l = 0,1,2, ... $ the level\n",
        "\n",
        "Total number of the complte tree with $L=0,1,2,\\cdots , L-1$ levels\n",
        "\n",
        "$$ \n",
        "2^0 + 2^1 + 2^2 + \\cdots +2^{L-1}  = 1 + 2 + 4 + \\cdots +2^{L-1} = \\sum_{k=0}^{L-1} 2^k = \\frac{ 2^{L} - 1}{2 -1} = 2^{L} - 1\n",
        "$$"
      ]
    },
    {
      "cell_type": "markdown",
      "metadata": {
        "id": "YiWlrhLZNMX9"
      },
      "source": [
        "### Code"
      ]
    },
    {
      "cell_type": "code",
      "metadata": {
        "id": "YvMkYU8UNOll",
        "colab": {
          "base_uri": "https://localhost:8080/"
        },
        "outputId": "d0012dc0-451f-4d9b-9190-81dca1a61fa1"
      },
      "source": [
        "def levels(L):\n",
        "  S_n = 1\n",
        "  for i in  range(1,L):\n",
        "    S_n = S_n + 2**i\n",
        "  return S_n\n",
        "\n",
        "print(levels(5))"
      ],
      "execution_count": null,
      "outputs": [
        {
          "output_type": "stream",
          "text": [
            "31\n"
          ],
          "name": "stdout"
        }
      ]
    },
    {
      "cell_type": "code",
      "metadata": {
        "id": "BFUvZMfsVMeM"
      },
      "source": [
        "def levels2(L):\n",
        "  return (2**L-1)"
      ],
      "execution_count": null,
      "outputs": []
    },
    {
      "cell_type": "code",
      "metadata": {
        "colab": {
          "base_uri": "https://localhost:8080/"
        },
        "id": "AJW8HHT2VY8p",
        "outputId": "f04104fb-ce10-4b4d-d6ab-ac23528b3db7"
      },
      "source": [
        "levels2(5)"
      ],
      "execution_count": null,
      "outputs": [
        {
          "output_type": "execute_result",
          "data": {
            "text/plain": [
              "31"
            ]
          },
          "metadata": {
            "tags": []
          },
          "execution_count": 21
        }
      ]
    },
    {
      "cell_type": "markdown",
      "metadata": {
        "id": "Dd3RWDwJe2xD"
      },
      "source": [
        "## Zenon Arrow\n",
        "\n",
        "![](https://raw.githubusercontent.com/gjhernandezp/algorithms/master/Lab7/zeno-paradox-arrow.png)\n",
        "\n",
        "https://leseditionsdeschavonnes.com/2018/10/15/the-paradox-of-achilles-and-the-tortoise/\n",
        "\n",
        "\n",
        "\n",
        "$$ \n",
        "\\lim_{n\\rightarrow \\infty} \\left\\{\\left(\\frac{1}{2}\\right)^0 + \\left(\\frac{1}{2}\\right)^1 +\\left(\\frac{1}{2}\\right)^2 + \\cdots +\\left(\\frac{1}{2}\\right)^{n} \\right\\} = \\lim_{n\\rightarrow \\infty} \\left\\{ 1 +\\frac{1}{2} + \\frac{1}{4} + \\frac{1}{8} + \\cdots +\\frac{1}{2^{n}}\\right\\}  = \\lim_{n\\rightarrow \\infty} \\sum_{k=0}^{n} \\left(\\frac{1}{2}\\right)^k = \\lim_{n\\rightarrow \\infty} \\frac{ 1- \\left(\\frac{1}{2}\\right)^n  }{1 - \\left(\\frac{1}{2}\\right) } = \\frac{ 1}{1 - \\left(\\frac{1}{2}\\right)} = 2\n",
        "$$"
      ]
    },
    {
      "cell_type": "markdown",
      "metadata": {
        "id": "R-J4EekBNPkd"
      },
      "source": [
        "### Code"
      ]
    },
    {
      "cell_type": "code",
      "metadata": {
        "id": "8xdBovY3NEW_"
      },
      "source": [
        "def SerGeo1(r,n):\n",
        "  S_n = 1\n",
        "  for i in range(1,n):\n",
        "    S_n = S_n + r**i\n",
        "  return S_n"
      ],
      "execution_count": 22,
      "outputs": []
    },
    {
      "cell_type": "code",
      "metadata": {
        "colab": {
          "base_uri": "https://localhost:8080/"
        },
        "id": "ZQU2At1uV9hO",
        "outputId": "56b2626a-edc3-4f87-f364-41af49d4be1e"
      },
      "source": [
        "%%time\n",
        "print(SerGeo1(0.5,10000))"
      ],
      "execution_count": 23,
      "outputs": [
        {
          "output_type": "stream",
          "text": [
            "2.0\n",
            "CPU times: user 4.87 ms, sys: 97 µs, total: 4.97 ms\n",
            "Wall time: 11.2 ms\n"
          ],
          "name": "stdout"
        }
      ]
    },
    {
      "cell_type": "code",
      "metadata": {
        "colab": {
          "base_uri": "https://localhost:8080/"
        },
        "id": "IMPzbtZW4Q1t",
        "outputId": "467475d6-7518-42f1-fce1-de23ff9ac2f2"
      },
      "source": [
        "%%time\n",
        "#a partir de la formula\n",
        "print(1/(1-0.5))"
      ],
      "execution_count": 25,
      "outputs": [
        {
          "output_type": "stream",
          "text": [
            "2.0\n",
            "CPU times: user 81 µs, sys: 10 µs, total: 91 µs\n",
            "Wall time: 97 µs\n"
          ],
          "name": "stdout"
        }
      ]
    },
    {
      "cell_type": "markdown",
      "metadata": {
        "id": "tfs3CEARwraa"
      },
      "source": [
        "A continuación, se crea la función para calcular las series geometricas que se usarán en los ejemplos. La funcion **SerGeo** recibe:\n",
        "* $a$  como la constante\n",
        "* $r$ como la razón común\n",
        "* $n$ como el término hasta el cual se quiere sumar\n",
        "\n"
      ]
    },
    {
      "cell_type": "code",
      "metadata": {
        "id": "STYdq8lBw1ba"
      },
      "source": [
        "def SerGeo(a,r,n):\n",
        "  S_n = a\n",
        "  if n == 1:\n",
        "    return S_n\n",
        "  else:\n",
        "    return a*r**(n-1)\n"
      ],
      "execution_count": 1,
      "outputs": []
    },
    {
      "cell_type": "markdown",
      "metadata": {
        "id": "JAio5fJ8w6kO"
      },
      "source": [
        "###**Ejemplos**\n",
        "1. Para la secuencia geométrica de forma $3,15,75,375,...$ podemos obtener la fórmula, para la serie parcial:\n",
        "$$S_n = 3\\cdot 5^{n-1}$$\n",
        "\n",
        "Dado que $r = a_{k+1}/a_k $, en este caso tenemos $r = \\frac{15}{3} = 5$\n",
        "\n",
        "Entonces para $n=6$ se tiene\n",
        "$$S_6 = 3\\cdot 5^{6-1} = 3 \\cdot 5^5 = 9375$$\n",
        "Ahora lo verificamos con la función"
      ]
    },
    {
      "cell_type": "code",
      "metadata": {
        "colab": {
          "base_uri": "https://localhost:8080/"
        },
        "id": "gDFL3S8ow9d0",
        "outputId": "2250f665-761a-4e7b-94df-4e21334b8a76"
      },
      "source": [
        "%%time\n",
        "print(SerGeo(3,5,6))"
      ],
      "execution_count": 26,
      "outputs": [
        {
          "output_type": "stream",
          "text": [
            "9375\n",
            "CPU times: user 102 µs, sys: 13 µs, total: 115 µs\n",
            "Wall time: 121 µs\n"
          ],
          "name": "stdout"
        }
      ]
    },
    {
      "cell_type": "markdown",
      "metadata": {
        "id": "AJO4QOjxxFKy"
      },
      "source": [
        "Podemos obtener imprimir para observar los primero 10 términos de la sucesión geometrica anterior"
      ]
    },
    {
      "cell_type": "code",
      "metadata": {
        "colab": {
          "base_uri": "https://localhost:8080/"
        },
        "id": "hAumuumLxIc5",
        "outputId": "c8645aff-2597-4141-d3ed-3f48bbd069c0"
      },
      "source": [
        "for i in range(1,11):\n",
        "  print(\"S_{0} = {1}\".format(i,SerGeo(3,5,i)))"
      ],
      "execution_count": 3,
      "outputs": [
        {
          "output_type": "stream",
          "text": [
            "S_1 = 3\n",
            "S_2 = 15\n",
            "S_3 = 75\n",
            "S_4 = 375\n",
            "S_5 = 1875\n",
            "S_6 = 9375\n",
            "S_7 = 46875\n",
            "S_8 = 234375\n",
            "S_9 = 1171875\n",
            "S_10 = 5859375\n"
          ],
          "name": "stdout"
        }
      ]
    },
    {
      "cell_type": "markdown",
      "metadata": {
        "id": "5LUT3K4pxOMF"
      },
      "source": [
        "2. Para la secuencia geométrica de forma $-1.5,6,-24,96,...$ podemos obtener la fórmula, para la serie parcial:\n",
        "$$S_n = -1.5\\cdot (-4)^{n-1}$$\n",
        "entonces para $n=10$ se tiene\n",
        "$$S_6 = -1.5\\cdot (-4)^{10-1} = 393216$$\n",
        "Ahora lo verificamos con la función"
      ]
    },
    {
      "cell_type": "code",
      "metadata": {
        "colab": {
          "base_uri": "https://localhost:8080/"
        },
        "id": "N0qwoiMHxI95",
        "outputId": "102651f2-06ee-43f6-d0dc-68a981eb3a3d"
      },
      "source": [
        "print(SerGeo(-1.5,-4,10))"
      ],
      "execution_count": 4,
      "outputs": [
        {
          "output_type": "stream",
          "text": [
            "393216.0\n"
          ],
          "name": "stdout"
        }
      ]
    },
    {
      "cell_type": "markdown",
      "metadata": {
        "id": "0THBXEGfxSEn"
      },
      "source": [
        "Podemos obtener imprimir para observar los primero 10 términos de la sucesión geometrica anterior"
      ]
    },
    {
      "cell_type": "code",
      "metadata": {
        "colab": {
          "base_uri": "https://localhost:8080/"
        },
        "id": "n-D_EqBuxUs7",
        "outputId": "236c1d96-97b6-4f3d-daaf-127eb66bd3b7"
      },
      "source": [
        "for i in range(1,11):\n",
        "  print(\"S_{0} = {1}\".format(i,SerGeo(-1.5,-4,i)))"
      ],
      "execution_count": 5,
      "outputs": [
        {
          "output_type": "stream",
          "text": [
            "S_1 = -1.5\n",
            "S_2 = 6.0\n",
            "S_3 = -24.0\n",
            "S_4 = 96.0\n",
            "S_5 = -384.0\n",
            "S_6 = 1536.0\n",
            "S_7 = -6144.0\n",
            "S_8 = 24576.0\n",
            "S_9 = -98304.0\n",
            "S_10 = 393216.0\n"
          ],
          "name": "stdout"
        }
      ]
    },
    {
      "cell_type": "markdown",
      "metadata": {
        "id": "wemBt0wfxdAF"
      },
      "source": [
        "3. Un ejemplo interesante seria probar la convergencia de las series infinitas, para un ejemplo en el cual podamos utilizar una de las formulas presentadas, en este caso esta:\n",
        "$$S_n \\equiv \\sum_{k=0}^{\\infty}r^k = \\frac{1}{1-r}$$ \n",
        "En este caso la constante $a=0$ y escogeremos un $|r| < 1$ como lo requiere la fórmula. Para este ejemplo usaremos $r = 0.1$. Según la fórmula con el codigo deberiamos obtener un resultado parecido a este:\n",
        "$$S_n = \\sum_{k=0}^{\\infty}0.1^k = \\frac{1}{1-0.1} \\simeq 1.111111...$$ \n",
        "usando un $n$ suficientemente grande, deberíamos obtener un resultado parecido, en este caso vamos a usar $n = 10000$"
      ]
    },
    {
      "cell_type": "code",
      "metadata": {
        "colab": {
          "base_uri": "https://localhost:8080/"
        },
        "id": "FiBp7-ohxk_D",
        "outputId": "671022cd-48ab-49de-de3a-b66071b6f114"
      },
      "source": [
        "print(SerGeo1(0.1,10000))"
      ],
      "execution_count": 9,
      "outputs": [
        {
          "output_type": "stream",
          "text": [
            "1.1111111111111112\n"
          ],
          "name": "stdout"
        }
      ]
    },
    {
      "cell_type": "markdown",
      "metadata": {
        "id": "dh2ntBeoNQlN"
      },
      "source": [
        "# Power Sums \n",
        "\n",
        "*   https://mathworld.wolfram.com/PowerSum.html\n",
        "*   https://www.researchgate.net/publication/331933608_The_Powers_Sums_Bernoulli_Numbers_Bernoulli_Polynomials_Rethinked\n",
        "*   https://en.wikipedia.org/wiki/Sums_of_powers\n",
        "\n"
      ]
    },
    {
      "cell_type": "markdown",
      "metadata": {
        "id": "GuaDqd4b5uPG"
      },
      "source": [
        "##Definición:\n",
        "Una serie de potencias es una serie de la forma general:\n",
        "$$\\sum_{n=0}^{\\infty}a_n(x-x_0)^n = a_0+a_1(x+x_0)+a_2(x+x_0)^2+a_3(x+x_0)^3+\\cdots$$\n",
        "(Llamada una serie de potencias centradas en $x_0$)\n",
        "\n",
        "donde $x$  es una variable,  $x_0$ es una constante real, y $a_n$ son constantes llamadas coeficientes de la serie.\n",
        "\n",
        "En $x_0=0$ , la representación de la serie de potencias resulta en:\n",
        "$$\\sum_{n=0}^{\\infty}a_nx^n = a_0+a_1x+a_2x^2+a_3x^3+\\cdots$$\n",
        "\n",
        "\n",
        "##Ejemplo\n",
        "\n",
        "Podemos expresar $e^x$ en serie de potencias como:\n",
        "$$e^x = \\sum_{n=0}^{\\infty}\\frac{x^n}{n!}=1+ x +\\frac{x^2}{2!}+\\frac{x^3}{3!} +\\frac{x^4}{4!}+ \\cdots$$\n",
        "\n",
        "Que converge en todo $R$\n",
        "\n",
        "Para $e^2 \\approx 7,3890560989 $ podemos probar esto en código:\n",
        "\n",
        "##Code\n"
      ]
    },
    {
      "cell_type": "code",
      "metadata": {
        "id": "N-QPZvHC-okW"
      },
      "source": [
        "import math\n",
        "\n",
        "def e_x(x):\n",
        "  S_n = 0\n",
        "  #para esta función se pondrán 10000 pasos como aproximación de infinito\n",
        "  for i in range(10000):\n",
        "    S_n = S_n + x**i/math.factorial(i)\n",
        "  return S_n"
      ],
      "execution_count": 29,
      "outputs": []
    },
    {
      "cell_type": "code",
      "metadata": {
        "colab": {
          "base_uri": "https://localhost:8080/"
        },
        "id": "SP53u72YAaK7",
        "outputId": "53bd7cd4-57fd-4636-8a43-d2be0d987592"
      },
      "source": [
        "%%time\n",
        "e_x(2)"
      ],
      "execution_count": 30,
      "outputs": [
        {
          "output_type": "stream",
          "text": [
            "CPU times: user 20.3 ms, sys: 0 ns, total: 20.3 ms\n",
            "Wall time: 20.9 ms\n"
          ],
          "name": "stdout"
        },
        {
          "output_type": "execute_result",
          "data": {
            "text/plain": [
              "7.389056098930649"
            ]
          },
          "metadata": {
            "tags": []
          },
          "execution_count": 30
        }
      ]
    },
    {
      "cell_type": "markdown",
      "metadata": {
        "id": "lFIYnwD-BQmT"
      },
      "source": [
        "##Ejemplo\n",
        "\n",
        "Se puede expresar $sin(x)$ como serie de potencias así:\n",
        "$$sin(x) = \\sum_{n=0}^{\\infty}(-1)^n\\frac{x^{2n+1}}{(2n+1)!}=x -\\frac{x^3}{3!}+\\frac{x^5}{5!} -\\frac{x^7}{7!}+ \\cdots$$\n",
        "\n",
        "##Code"
      ]
    },
    {
      "cell_type": "code",
      "metadata": {
        "id": "SMYJ8qqBAcNr"
      },
      "source": [
        "def sin_x(x):\n",
        "  S_n = 0\n",
        "  #para esta función se pondrán 10000 pasos como aproximación de infinito\n",
        "  for i in range(1000):\n",
        "    S_n = S_n + (((-1)**i)/math.factorial(2*i+1))*x**(2*i+1)\n",
        "  return S_n"
      ],
      "execution_count": 47,
      "outputs": []
    },
    {
      "cell_type": "markdown",
      "metadata": {
        "id": "t5_gTQ7DDqNU"
      },
      "source": [
        "Podemos verla a partir de algunos resultados conocidos como los valores de los angulos notables:\n",
        "* $sin(\\pi/6) = 1/2$\n",
        "* $sin(\\pi/4) = \\sqrt{2}/2 \\approx 0,70710678118$ \n",
        "* $sin(\\pi/3) = \\sqrt{3}/2 \\approx 0,86602540378$\n"
      ]
    },
    {
      "cell_type": "code",
      "metadata": {
        "colab": {
          "base_uri": "https://localhost:8080/"
        },
        "id": "MtpDGertDl0_",
        "outputId": "da799f12-5797-41e6-c35c-cd1f441ce911"
      },
      "source": [
        "%%time\n",
        "x = math.pi/6\n",
        "print(sin_x(x))"
      ],
      "execution_count": 53,
      "outputs": [
        {
          "output_type": "stream",
          "text": [
            "0.49999999999999994\n",
            "CPU times: user 59.7 ms, sys: 38 µs, total: 59.7 ms\n",
            "Wall time: 61 ms\n"
          ],
          "name": "stdout"
        }
      ]
    },
    {
      "cell_type": "code",
      "metadata": {
        "colab": {
          "base_uri": "https://localhost:8080/"
        },
        "id": "6RXEs8TjFURV",
        "outputId": "1718cc0f-ff4c-4c54-c58f-152b47798492"
      },
      "source": [
        "%%time\n",
        "x = math.pi/4\n",
        "print(sin_x(x))"
      ],
      "execution_count": 54,
      "outputs": [
        {
          "output_type": "stream",
          "text": [
            "0.7071067811865475\n",
            "CPU times: user 66.6 ms, sys: 922 µs, total: 67.5 ms\n",
            "Wall time: 68.2 ms\n"
          ],
          "name": "stdout"
        }
      ]
    },
    {
      "cell_type": "code",
      "metadata": {
        "colab": {
          "base_uri": "https://localhost:8080/"
        },
        "id": "K7RzYRg2GbVQ",
        "outputId": "c65fc423-2436-4b74-caf6-eefbaef97a8c"
      },
      "source": [
        "%%time\n",
        "x = math.pi/3\n",
        "print(sin_x(x))"
      ],
      "execution_count": 55,
      "outputs": [
        {
          "output_type": "stream",
          "text": [
            "0.8660254037844386\n",
            "CPU times: user 63.1 ms, sys: 0 ns, total: 63.1 ms\n",
            "Wall time: 66 ms\n"
          ],
          "name": "stdout"
        }
      ]
    }
  ]
}